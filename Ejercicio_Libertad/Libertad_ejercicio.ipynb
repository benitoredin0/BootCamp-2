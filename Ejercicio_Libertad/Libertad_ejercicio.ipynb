{
  "cells": [
    {
      "cell_type": "markdown",
      "id": "9bbcc5bc",
      "metadata": {
        "id": "9bbcc5bc"
      },
      "source": [
        "# EJERCICIO LIBERTAD DE PRENSA\n",
        "\n",
        "![](https://cnnespanol.cnn.com/wp-content/uploads/2018/01/libertad-prensa.jpeg?quality=100&strip=info)\n",
        "\n",
        "Comparar el grado de libertad de prensa del que gozan los periodistas y los medios en 180 países o territorios: ése es el objetivo de la Clasificación Mundial de la Libertad de Prensa. Este análisis se basa en la definición de la libertad de prensa elaborada por RSF y su panel de expertos, en el marco de la revisión metodológica de 2022:\n",
        "\n",
        "\n",
        "\n",
        "**La libertad de prensa es la posibilidad efectiva para los periodistas, como individuos y como colectivo, de seleccionar, producir y difundir informaciones, en aras del interés general, independientemente de las interferencias políticas, económicas, legales y sociales, y sin menoscabo para su seguridad física y mental.**\n",
        "\n",
        "Para saber mas sobre la metodologia de medicion: https://rsf.org/es/clasificacion\n",
        "\n",
        "Link del dataset: https://raw.githubusercontent.com/riverofacundo/cursos/main/libertad_prensa.csv\n",
        "\n",
        "Columnas del dataset:\n",
        "\n",
        "- ``codigo_iso``: Código ISO del país\n",
        "- ``pais``: País\n",
        "- ``anio``: Año del resultado\n",
        "- ``indice``: Puntaje Índice Libertad de Prensa (menor puntaje = mayor libertad de prensa)\n",
        "- ``ranking``: Ranking Libertad de Prensa"
      ]
    },
    {
      "cell_type": "markdown",
      "id": "cc23fb7d",
      "metadata": {
        "id": "cc23fb7d"
      },
      "source": [
        "📰 Importar Pandas"
      ]
    },
    {
      "cell_type": "code",
      "execution_count": 13,
      "id": "481f3437",
      "metadata": {
        "id": "481f3437"
      },
      "outputs": [],
      "source": [
        "import pandas as pd\n"
      ]
    },
    {
      "cell_type": "markdown",
      "id": "8b928733",
      "metadata": {
        "id": "8b928733"
      },
      "source": [
        "📰 Leer el .csv"
      ]
    },
    {
      "cell_type": "code",
      "execution_count": 14,
      "id": "196c676a",
      "metadata": {
        "id": "196c676a"
      },
      "outputs": [],
      "source": [
        "import pandas as pd\n",
        "\n",
        "df = pd.read_csv('https://raw.githubusercontent.com/riverofacundo/cursos/main/libertad_prensa.csv')\n"
      ]
    },
    {
      "cell_type": "markdown",
      "id": "86f5b9db",
      "metadata": {
        "id": "86f5b9db"
      },
      "source": [
        "📰 Imprimir los primeros 5 registros del dataframe"
      ]
    },
    {
      "cell_type": "code",
      "execution_count": 15,
      "id": "64a35234",
      "metadata": {
        "colab": {
          "base_uri": "https://localhost:8080/"
        },
        "id": "64a35234",
        "outputId": "b09a07cb-4456-41f8-a1dd-75434db4dc9e"
      },
      "outputs": [
        {
          "output_type": "stream",
          "name": "stdout",
          "text": [
            "  codigo_iso         pais  anio  indice  ranking\n",
            "0        AFG  Afghanistán  2001   35.50     59.0\n",
            "1        AFG  Afghanistán  2002   40.17     78.0\n",
            "2        AFG  Afghanistán  2003   28.25     49.0\n",
            "3        AFG  Afghanistán  2004   39.17     62.0\n",
            "4        AFG  Afghanistán  2005   44.25     67.0\n"
          ]
        }
      ],
      "source": [
        "print(df.head())\n"
      ]
    },
    {
      "cell_type": "markdown",
      "id": "d957da5b",
      "metadata": {
        "id": "d957da5b"
      },
      "source": [
        "📰 Solo vamos a utilizar lo valores del 2017 para arriba (incluyendo 2017)"
      ]
    },
    {
      "cell_type": "code",
      "execution_count": 16,
      "id": "5ae9a830",
      "metadata": {
        "id": "5ae9a830"
      },
      "outputs": [],
      "source": [
        "df = df[df['anio'] >= 2017]\n"
      ]
    },
    {
      "cell_type": "code",
      "execution_count": 17,
      "id": "bf9821f7",
      "metadata": {
        "colab": {
          "base_uri": "https://localhost:8080/"
        },
        "id": "bf9821f7",
        "outputId": "0e3a4f3d-c9bd-45bc-aeb2-2b47fb237531"
      },
      "outputs": [
        {
          "output_type": "stream",
          "name": "stdout",
          "text": [
            "     codigo_iso         pais  anio  indice  ranking\n",
            "14          AFG  Afghanistán  2017   39.46    120.0\n",
            "15          AFG  Afghanistán  2018   37.28    118.0\n",
            "16          AFG  Afghanistán  2019   36.55    121.0\n",
            "31          AGO       Angola  2017   40.42    125.0\n",
            "32          AGO       Angola  2018   38.35    121.0\n",
            "...         ...          ...   ...     ...      ...\n",
            "3041        ZMB       Zambia  2018   35.36    113.0\n",
            "3042        ZMB       Zambia  2019   36.38    119.0\n",
            "3057        ZWE     Zimbabue  2017   41.44    128.0\n",
            "3058        ZWE     Zimbabue  2018   40.53    126.0\n",
            "3059        ZWE     Zimbabue  2019   42.23    127.0\n",
            "\n",
            "[540 rows x 5 columns]\n"
          ]
        }
      ],
      "source": [
        "print(df)\n"
      ]
    },
    {
      "cell_type": "markdown",
      "id": "edad6c31",
      "metadata": {
        "id": "edad6c31"
      },
      "source": [
        "📰 Imprimir la cantidad de filas y columnas del df"
      ]
    },
    {
      "cell_type": "code",
      "execution_count": 18,
      "id": "078439da",
      "metadata": {
        "colab": {
          "base_uri": "https://localhost:8080/"
        },
        "id": "078439da",
        "outputId": "e330a80c-5bfb-46fd-c845-e99705ce7137"
      },
      "outputs": [
        {
          "output_type": "stream",
          "name": "stdout",
          "text": [
            "Filas: 540\n",
            "Columnas: 5\n"
          ]
        }
      ],
      "source": [
        "print(\"Filas:\", df.shape[0])\n",
        "print(\"Columnas:\", df.shape[1])\n"
      ]
    },
    {
      "cell_type": "markdown",
      "id": "7921a384",
      "metadata": {
        "id": "7921a384"
      },
      "source": [
        "📰 Utiliza un metodo perteneciente a los df para imprimir las columnas, la cantidad de no-nulos de cada una y el tipo de dato"
      ]
    },
    {
      "cell_type": "code",
      "execution_count": 19,
      "id": "748f5919",
      "metadata": {
        "colab": {
          "base_uri": "https://localhost:8080/"
        },
        "id": "748f5919",
        "outputId": "cda69981-2cfc-4c08-fe7b-fd4e4463a9c3"
      },
      "outputs": [
        {
          "output_type": "stream",
          "name": "stdout",
          "text": [
            "<class 'pandas.core.frame.DataFrame'>\n",
            "Index: 540 entries, 14 to 3059\n",
            "Data columns (total 5 columns):\n",
            " #   Column      Non-Null Count  Dtype  \n",
            "---  ------      --------------  -----  \n",
            " 0   codigo_iso  540 non-null    object \n",
            " 1   pais        540 non-null    object \n",
            " 2   anio        540 non-null    int64  \n",
            " 3   indice      531 non-null    float64\n",
            " 4   ranking     530 non-null    float64\n",
            "dtypes: float64(2), int64(1), object(2)\n",
            "memory usage: 25.3+ KB\n",
            "None\n"
          ]
        }
      ],
      "source": [
        "print(df.info())\n"
      ]
    },
    {
      "cell_type": "markdown",
      "id": "b3a8cfbb",
      "metadata": {
        "id": "b3a8cfbb"
      },
      "source": [
        "📰 Utiliza un metodo perteneciente a los df para imprimir informacion estadistica del df.\n",
        "\n",
        "Tiendo en cuenta esta clasificacion:\n",
        "\n",
        "| Puntaje | Situación      |\n",
        "|---------|----------------|\n",
        "| 0-15    | Buena          |\n",
        "| 15-30   | Mas bien buena |\n",
        "| 30-45   | Problematica   |\n",
        "| 45-60   | Dificil        |\n",
        "| 60-100  | Muy grave      |\n",
        "\n",
        "- ¿Como es la dispersion?\n",
        "- ¿En que situación se encuentra el promedio del mundo?\n",
        "- El 25% de los paises se encuentra en que tipo de situación?\n",
        "- Que puntaje tiene el peor pais?\n"
      ]
    },
    {
      "cell_type": "code",
      "execution_count": 20,
      "id": "6476b691",
      "metadata": {
        "colab": {
          "base_uri": "https://localhost:8080/"
        },
        "id": "6476b691",
        "outputId": "c6377a15-9181-4d49-f86e-09508d73dd6a"
      },
      "outputs": [
        {
          "output_type": "stream",
          "name": "stdout",
          "text": [
            "count    531.000000\n",
            "mean      35.085782\n",
            "std       16.323416\n",
            "min        7.600000\n",
            "25%       24.935000\n",
            "50%       30.950000\n",
            "75%       43.280000\n",
            "max       88.870000\n",
            "Name: indice, dtype: float64\n",
            "La dispersion es: 16.32341624844847\n",
            "El promedio del mundo es: 35.08578154425612\n",
            "El 25% de los paises se encuentra en la situacion: 24.935000000000002\n",
            "El peor pais tiene un puntaje de: 88.87\n"
          ]
        }
      ],
      "source": [
        "print(df['indice'].describe())\n",
        "\n",
        "print(\"La dispersion es:\", df['indice'].std())\n",
        "\n",
        "print(\"El promedio del mundo es:\", df['indice'].mean())\n",
        "\n",
        "print(\"El 25% de los paises se encuentra en la situacion:\", df['indice'].quantile(0.25))\n",
        "\n",
        "print(\"El peor pais tiene un puntaje de:\", df['indice'].max())\n"
      ]
    },
    {
      "cell_type": "markdown",
      "id": "0f385e4d",
      "metadata": {
        "id": "0f385e4d"
      },
      "source": [
        "⚠️¿Hay nulos en el df?⚠️\n",
        "\n",
        "Si los hay reemplazar, probá estas formas de tratarlos, al final quedate con la que te parezca mejor o si te parecen todas malas elegi la menos peor y **justifica tu elección**.(Imaginate que estos datos seran utilizados para generar un informe de la ONU)\n",
        "\n",
        "- Borrar las filas que contienen nulos\n",
        "- Reemplazar los nulos por la media\n",
        "- Reemplazar los nulos por la mediana\n"
      ]
    },
    {
      "cell_type": "code",
      "execution_count": null,
      "id": "7bd8a1a4",
      "metadata": {
        "id": "7bd8a1a4"
      },
      "outputs": [],
      "source": []
    },
    {
      "cell_type": "markdown",
      "id": "fc297f2a",
      "metadata": {
        "id": "fc297f2a"
      },
      "source": [
        "📰 Imprimir solo las filas que contengan nulo en alguna columna"
      ]
    },
    {
      "cell_type": "code",
      "execution_count": 21,
      "id": "00e2c5db",
      "metadata": {
        "colab": {
          "base_uri": "https://localhost:8080/"
        },
        "id": "00e2c5db",
        "outputId": "9b09c5d5-c74e-4983-d5bb-ebcf3d2413bd"
      },
      "outputs": [
        {
          "output_type": "stream",
          "name": "stdout",
          "text": [
            "     codigo_iso               pais  anio  indice  ranking\n",
            "133         ATG  Antigua y Barbuda  2017     NaN      NaN\n",
            "134         ATG  Antigua y Barbuda  2018     NaN      NaN\n",
            "135         ATG  Antigua y Barbuda  2019     NaN      NaN\n",
            "254         BFA       Burkina Faso  2019   24.53      NaN\n",
            "1119        GRD            Granada  2017     NaN      NaN\n",
            "1120        GRD            Granada  2018     NaN      NaN\n",
            "1121        GRD            Granada  2019     NaN      NaN\n",
            "1527        KSV             Kosovo  2017     NaN      NaN\n",
            "1528        KSV             Kosovo  2018     NaN      NaN\n",
            "1529        KSV             Kosovo  2019     NaN      NaN\n"
          ]
        }
      ],
      "source": [
        "print(df[df.isnull().any(axis=1)])"
      ]
    },
    {
      "cell_type": "markdown",
      "id": "2a32158a",
      "metadata": {
        "id": "2a32158a"
      },
      "source": [
        "📰 Reemplazo por la media"
      ]
    },
    {
      "cell_type": "code",
      "execution_count": 22,
      "id": "987f3854",
      "metadata": {
        "id": "987f3854"
      },
      "outputs": [],
      "source": [
        "df['indice'].fillna(df['indice'].mean(), inplace=True)"
      ]
    },
    {
      "cell_type": "markdown",
      "id": "82e11695",
      "metadata": {
        "id": "82e11695"
      },
      "source": [
        "📰 Elimino las filas"
      ]
    },
    {
      "cell_type": "code",
      "execution_count": 23,
      "id": "2670c237",
      "metadata": {
        "id": "2670c237"
      },
      "outputs": [],
      "source": [
        "df = df.dropna()"
      ]
    },
    {
      "cell_type": "markdown",
      "id": "6c72b07a",
      "metadata": {
        "id": "6c72b07a"
      },
      "source": [
        "⚠️A partir de ahora trabajaremos con el df sin nulos⚠️"
      ]
    },
    {
      "cell_type": "markdown",
      "id": "799ef105",
      "metadata": {
        "id": "799ef105"
      },
      "source": [
        "📰 Ordenar el df en orden descendente tomando como referencia el Indice, ¿cual es el peor país del dataset (en cuestion de libertad de prensa)? Mostrar esta informacion de forma linda con un print"
      ]
    },
    {
      "cell_type": "code",
      "execution_count": 24,
      "id": "38b5f940",
      "metadata": {
        "colab": {
          "base_uri": "https://localhost:8080/"
        },
        "id": "38b5f940",
        "outputId": "dbac04b7-b934-403a-eec1-7040b66fdabd"
      },
      "outputs": [
        {
          "output_type": "stream",
          "name": "stdout",
          "text": [
            "El peor país del dataset en cuestión de libertad de prensa es: Corea del Norte\n"
          ]
        }
      ],
      "source": [
        "worst_country = df.sort_values(by='indice', ascending=False).iloc[0]\n",
        "print('El peor país del dataset en cuestión de libertad de prensa es:', worst_country['pais'])"
      ]
    },
    {
      "cell_type": "markdown",
      "id": "62241d04",
      "metadata": {
        "id": "62241d04"
      },
      "source": [
        "📰 Ordenar el df en orden ascendente tomando como referencia el Indice, ¿cual es el mejor país del dataset (en cuestion de libertad de prensa)? Mostrar esta informacion de forma linda con un print"
      ]
    },
    {
      "cell_type": "code",
      "execution_count": 25,
      "id": "34d948f9",
      "metadata": {
        "colab": {
          "base_uri": "https://localhost:8080/"
        },
        "id": "34d948f9",
        "outputId": "c0cca8b9-ada2-4d5f-e3dc-8ca7d8faec40"
      },
      "outputs": [
        {
          "output_type": "stream",
          "name": "stdout",
          "text": [
            "El mejor país del dataset en cuestión de libertad de prensa es: Noruega\n"
          ]
        }
      ],
      "source": [
        "best_country = df.sort_values(by='indice', ascending=True).iloc[0]\n",
        "print('El mejor país del dataset en cuestión de libertad de prensa es:', best_country['pais'])\n"
      ]
    },
    {
      "cell_type": "markdown",
      "id": "34896ce8",
      "metadata": {
        "id": "34896ce8"
      },
      "source": [
        "📰 El dataset ordenado de forma ascendente guardarlo en una variable y resetearle el indice, a partir de ahora se utilizara esta nueva variable para los siguientes puntos"
      ]
    },
    {
      "cell_type": "code",
      "execution_count": 26,
      "id": "5dc1f659",
      "metadata": {
        "id": "5dc1f659"
      },
      "outputs": [],
      "source": [
        "df_sorted = df.sort_values(by='indice', ascending=True)\n",
        "df_sorted = df_sorted.reset_index(drop=True)"
      ]
    },
    {
      "cell_type": "markdown",
      "id": "29a1f809",
      "metadata": {
        "id": "29a1f809"
      },
      "source": [
        "📰 **Enriquecimiento de datos**: para hacer un analisis por continente necesitamos una nueva columna que para cada registro asigne el continente de ese pais. Para esto leemos un nuevo dataset que contiene la informacion de la region y continente de cada pais."
      ]
    },
    {
      "cell_type": "code",
      "source": [
        "import pandas as pd\n",
        "\n",
        "df_continentes = pd.read_csv('./TablaContinentes.csv', sep = ';', encoding= 'utf-8')"
      ],
      "metadata": {
        "id": "74k4gl0jBlEP"
      },
      "id": "74k4gl0jBlEP",
      "execution_count": 36,
      "outputs": []
    },
    {
      "cell_type": "markdown",
      "id": "a14fb6d5",
      "metadata": {
        "id": "a14fb6d5"
      },
      "source": [
        "📰 \"Mergeamos\" ambos dataset por el codigo_iso"
      ]
    },
    {
      "cell_type": "code",
      "execution_count": 45,
      "id": "0a5f7837",
      "metadata": {
        "id": "0a5f7837"
      },
      "outputs": [],
      "source": [
        "import pandas as pd\n",
        "df_merged = pd.merge(df_sorted, df_continentes, on='codigo_iso', how='left')"
      ]
    },
    {
      "cell_type": "markdown",
      "id": "06982759",
      "metadata": {
        "id": "06982759"
      },
      "source": [
        "📰 Vemos si hay algun nulo, esto quiere decir que algunos \"cruces no se pudieron realizar\""
      ]
    },
    {
      "cell_type": "code",
      "execution_count": 44,
      "id": "c8637c44",
      "metadata": {
        "colab": {
          "base_uri": "https://localhost:8080/",
          "height": 424
        },
        "id": "c8637c44",
        "outputId": "d78b502f-0f7c-4598-94ee-edf1cc5e010a"
      },
      "outputs": [
        {
          "data": {
            "application/vnd.google.colaboratory.intrinsic+json": {
              "repr_error": "Out of range float values are not JSON compliant: nan",
              "type": "dataframe"
            },
            "text/html": [
              "\n",
              "  <div id=\"df-c7430874-c87f-4340-8382-5b312607e0ae\" class=\"colab-df-container\">\n",
              "    <div>\n",
              "<style scoped>\n",
              "    .dataframe tbody tr th:only-of-type {\n",
              "        vertical-align: middle;\n",
              "    }\n",
              "\n",
              "    .dataframe tbody tr th {\n",
              "        vertical-align: top;\n",
              "    }\n",
              "\n",
              "    .dataframe thead th {\n",
              "        text-align: right;\n",
              "    }\n",
              "</style>\n",
              "<table border=\"1\" class=\"dataframe\">\n",
              "  <thead>\n",
              "    <tr style=\"text-align: right;\">\n",
              "      <th></th>\n",
              "      <th>codigo_iso</th>\n",
              "      <th>pais_x</th>\n",
              "      <th>anio</th>\n",
              "      <th>indice</th>\n",
              "      <th>ranking</th>\n",
              "      <th>No</th>\n",
              "      <th>pais_y</th>\n",
              "      <th>M49 Code</th>\n",
              "      <th>Region</th>\n",
              "      <th>Region 2</th>\n",
              "      <th>Continente</th>\n",
              "    </tr>\n",
              "  </thead>\n",
              "  <tbody>\n",
              "    <tr>\n",
              "      <th>0</th>\n",
              "      <td>NOR</td>\n",
              "      <td>Noruega</td>\n",
              "      <td>2017</td>\n",
              "      <td>7.60</td>\n",
              "      <td>1.0</td>\n",
              "      <td>166.0</td>\n",
              "      <td>Norway</td>\n",
              "      <td>578.0</td>\n",
              "      <td>Northern Europe</td>\n",
              "      <td>NaN</td>\n",
              "      <td>Europe</td>\n",
              "    </tr>\n",
              "    <tr>\n",
              "      <th>1</th>\n",
              "      <td>NOR</td>\n",
              "      <td>Noruega</td>\n",
              "      <td>2018</td>\n",
              "      <td>7.63</td>\n",
              "      <td>1.0</td>\n",
              "      <td>166.0</td>\n",
              "      <td>Norway</td>\n",
              "      <td>578.0</td>\n",
              "      <td>Northern Europe</td>\n",
              "      <td>NaN</td>\n",
              "      <td>Europe</td>\n",
              "    </tr>\n",
              "    <tr>\n",
              "      <th>2</th>\n",
              "      <td>NOR</td>\n",
              "      <td>Noruega</td>\n",
              "      <td>2019</td>\n",
              "      <td>7.82</td>\n",
              "      <td>1.0</td>\n",
              "      <td>166.0</td>\n",
              "      <td>Norway</td>\n",
              "      <td>578.0</td>\n",
              "      <td>Northern Europe</td>\n",
              "      <td>NaN</td>\n",
              "      <td>Europe</td>\n",
              "    </tr>\n",
              "    <tr>\n",
              "      <th>3</th>\n",
              "      <td>FIN</td>\n",
              "      <td>Finlandia</td>\n",
              "      <td>2019</td>\n",
              "      <td>7.90</td>\n",
              "      <td>2.0</td>\n",
              "      <td>80.0</td>\n",
              "      <td>Finland</td>\n",
              "      <td>246.0</td>\n",
              "      <td>Northern Europe</td>\n",
              "      <td>NaN</td>\n",
              "      <td>Europe</td>\n",
              "    </tr>\n",
              "    <tr>\n",
              "      <th>4</th>\n",
              "      <td>SWE</td>\n",
              "      <td>Suecia</td>\n",
              "      <td>2017</td>\n",
              "      <td>8.27</td>\n",
              "      <td>2.0</td>\n",
              "      <td>217.0</td>\n",
              "      <td>Sweden</td>\n",
              "      <td>752.0</td>\n",
              "      <td>Northern Europe</td>\n",
              "      <td>NaN</td>\n",
              "      <td>Europe</td>\n",
              "    </tr>\n",
              "    <tr>\n",
              "      <th>...</th>\n",
              "      <td>...</td>\n",
              "      <td>...</td>\n",
              "      <td>...</td>\n",
              "      <td>...</td>\n",
              "      <td>...</td>\n",
              "      <td>...</td>\n",
              "      <td>...</td>\n",
              "      <td>...</td>\n",
              "      <td>...</td>\n",
              "      <td>...</td>\n",
              "      <td>...</td>\n",
              "    </tr>\n",
              "    <tr>\n",
              "      <th>523</th>\n",
              "      <td>TKM</td>\n",
              "      <td>Turkmenistan</td>\n",
              "      <td>2017</td>\n",
              "      <td>84.19</td>\n",
              "      <td>178.0</td>\n",
              "      <td>229.0</td>\n",
              "      <td>Turkmenistan</td>\n",
              "      <td>795.0</td>\n",
              "      <td>Central Asia</td>\n",
              "      <td>NaN</td>\n",
              "      <td>Asia</td>\n",
              "    </tr>\n",
              "    <tr>\n",
              "      <th>524</th>\n",
              "      <td>TKM</td>\n",
              "      <td>Turkmenistan</td>\n",
              "      <td>2018</td>\n",
              "      <td>84.20</td>\n",
              "      <td>178.0</td>\n",
              "      <td>229.0</td>\n",
              "      <td>Turkmenistan</td>\n",
              "      <td>795.0</td>\n",
              "      <td>Central Asia</td>\n",
              "      <td>NaN</td>\n",
              "      <td>Asia</td>\n",
              "    </tr>\n",
              "    <tr>\n",
              "      <th>527</th>\n",
              "      <td>PRK</td>\n",
              "      <td>Corea del Norte</td>\n",
              "      <td>2017</td>\n",
              "      <td>84.98</td>\n",
              "      <td>180.0</td>\n",
              "      <td>63.0</td>\n",
              "      <td>Democratic People's Republic of Korea</td>\n",
              "      <td>408.0</td>\n",
              "      <td>Eastern Asia</td>\n",
              "      <td>NaN</td>\n",
              "      <td>Asia</td>\n",
              "    </tr>\n",
              "    <tr>\n",
              "      <th>528</th>\n",
              "      <td>TKM</td>\n",
              "      <td>Turkmenistan</td>\n",
              "      <td>2019</td>\n",
              "      <td>85.44</td>\n",
              "      <td>180.0</td>\n",
              "      <td>229.0</td>\n",
              "      <td>Turkmenistan</td>\n",
              "      <td>795.0</td>\n",
              "      <td>Central Asia</td>\n",
              "      <td>NaN</td>\n",
              "      <td>Asia</td>\n",
              "    </tr>\n",
              "    <tr>\n",
              "      <th>529</th>\n",
              "      <td>PRK</td>\n",
              "      <td>Corea del Norte</td>\n",
              "      <td>2018</td>\n",
              "      <td>88.87</td>\n",
              "      <td>180.0</td>\n",
              "      <td>63.0</td>\n",
              "      <td>Democratic People's Republic of Korea</td>\n",
              "      <td>408.0</td>\n",
              "      <td>Eastern Asia</td>\n",
              "      <td>NaN</td>\n",
              "      <td>Asia</td>\n",
              "    </tr>\n",
              "  </tbody>\n",
              "</table>\n",
              "<p>315 rows × 11 columns</p>\n",
              "</div>\n",
              "    <div class=\"colab-df-buttons\">\n",
              "\n",
              "  <div class=\"colab-df-container\">\n",
              "    <button class=\"colab-df-convert\" onclick=\"convertToInteractive('df-c7430874-c87f-4340-8382-5b312607e0ae')\"\n",
              "            title=\"Convert this dataframe to an interactive table.\"\n",
              "            style=\"display:none;\">\n",
              "\n",
              "  <svg xmlns=\"http://www.w3.org/2000/svg\" height=\"24px\" viewBox=\"0 -960 960 960\">\n",
              "    <path d=\"M120-120v-720h720v720H120Zm60-500h600v-160H180v160Zm220 220h160v-160H400v160Zm0 220h160v-160H400v160ZM180-400h160v-160H180v160Zm440 0h160v-160H620v160ZM180-180h160v-160H180v160Zm440 0h160v-160H620v160Z\"/>\n",
              "  </svg>\n",
              "    </button>\n",
              "\n",
              "  <style>\n",
              "    .colab-df-container {\n",
              "      display:flex;\n",
              "      gap: 12px;\n",
              "    }\n",
              "\n",
              "    .colab-df-convert {\n",
              "      background-color: #E8F0FE;\n",
              "      border: none;\n",
              "      border-radius: 50%;\n",
              "      cursor: pointer;\n",
              "      display: none;\n",
              "      fill: #1967D2;\n",
              "      height: 32px;\n",
              "      padding: 0 0 0 0;\n",
              "      width: 32px;\n",
              "    }\n",
              "\n",
              "    .colab-df-convert:hover {\n",
              "      background-color: #E2EBFA;\n",
              "      box-shadow: 0px 1px 2px rgba(60, 64, 67, 0.3), 0px 1px 3px 1px rgba(60, 64, 67, 0.15);\n",
              "      fill: #174EA6;\n",
              "    }\n",
              "\n",
              "    .colab-df-buttons div {\n",
              "      margin-bottom: 4px;\n",
              "    }\n",
              "\n",
              "    [theme=dark] .colab-df-convert {\n",
              "      background-color: #3B4455;\n",
              "      fill: #D2E3FC;\n",
              "    }\n",
              "\n",
              "    [theme=dark] .colab-df-convert:hover {\n",
              "      background-color: #434B5C;\n",
              "      box-shadow: 0px 1px 3px 1px rgba(0, 0, 0, 0.15);\n",
              "      filter: drop-shadow(0px 1px 2px rgba(0, 0, 0, 0.3));\n",
              "      fill: #FFFFFF;\n",
              "    }\n",
              "  </style>\n",
              "\n",
              "    <script>\n",
              "      const buttonEl =\n",
              "        document.querySelector('#df-c7430874-c87f-4340-8382-5b312607e0ae button.colab-df-convert');\n",
              "      buttonEl.style.display =\n",
              "        google.colab.kernel.accessAllowed ? 'block' : 'none';\n",
              "\n",
              "      async function convertToInteractive(key) {\n",
              "        const element = document.querySelector('#df-c7430874-c87f-4340-8382-5b312607e0ae');\n",
              "        const dataTable =\n",
              "          await google.colab.kernel.invokeFunction('convertToInteractive',\n",
              "                                                    [key], {});\n",
              "        if (!dataTable) return;\n",
              "\n",
              "        const docLinkHtml = 'Like what you see? Visit the ' +\n",
              "          '<a target=\"_blank\" href=https://colab.research.google.com/notebooks/data_table.ipynb>data table notebook</a>'\n",
              "          + ' to learn more about interactive tables.';\n",
              "        element.innerHTML = '';\n",
              "        dataTable['output_type'] = 'display_data';\n",
              "        await google.colab.output.renderOutput(dataTable, element);\n",
              "        const docLink = document.createElement('div');\n",
              "        docLink.innerHTML = docLinkHtml;\n",
              "        element.appendChild(docLink);\n",
              "      }\n",
              "    </script>\n",
              "  </div>\n",
              "\n",
              "\n",
              "<div id=\"df-055c7072-464a-4075-bbf5-1917d1954948\">\n",
              "  <button class=\"colab-df-quickchart\" onclick=\"quickchart('df-055c7072-464a-4075-bbf5-1917d1954948')\"\n",
              "            title=\"Suggest charts\"\n",
              "            style=\"display:none;\">\n",
              "\n",
              "<svg xmlns=\"http://www.w3.org/2000/svg\" height=\"24px\"viewBox=\"0 0 24 24\"\n",
              "     width=\"24px\">\n",
              "    <g>\n",
              "        <path d=\"M19 3H5c-1.1 0-2 .9-2 2v14c0 1.1.9 2 2 2h14c1.1 0 2-.9 2-2V5c0-1.1-.9-2-2-2zM9 17H7v-7h2v7zm4 0h-2V7h2v10zm4 0h-2v-4h2v4z\"/>\n",
              "    </g>\n",
              "</svg>\n",
              "  </button>\n",
              "\n",
              "<style>\n",
              "  .colab-df-quickchart {\n",
              "      --bg-color: #E8F0FE;\n",
              "      --fill-color: #1967D2;\n",
              "      --hover-bg-color: #E2EBFA;\n",
              "      --hover-fill-color: #174EA6;\n",
              "      --disabled-fill-color: #AAA;\n",
              "      --disabled-bg-color: #DDD;\n",
              "  }\n",
              "\n",
              "  [theme=dark] .colab-df-quickchart {\n",
              "      --bg-color: #3B4455;\n",
              "      --fill-color: #D2E3FC;\n",
              "      --hover-bg-color: #434B5C;\n",
              "      --hover-fill-color: #FFFFFF;\n",
              "      --disabled-bg-color: #3B4455;\n",
              "      --disabled-fill-color: #666;\n",
              "  }\n",
              "\n",
              "  .colab-df-quickchart {\n",
              "    background-color: var(--bg-color);\n",
              "    border: none;\n",
              "    border-radius: 50%;\n",
              "    cursor: pointer;\n",
              "    display: none;\n",
              "    fill: var(--fill-color);\n",
              "    height: 32px;\n",
              "    padding: 0;\n",
              "    width: 32px;\n",
              "  }\n",
              "\n",
              "  .colab-df-quickchart:hover {\n",
              "    background-color: var(--hover-bg-color);\n",
              "    box-shadow: 0 1px 2px rgba(60, 64, 67, 0.3), 0 1px 3px 1px rgba(60, 64, 67, 0.15);\n",
              "    fill: var(--button-hover-fill-color);\n",
              "  }\n",
              "\n",
              "  .colab-df-quickchart-complete:disabled,\n",
              "  .colab-df-quickchart-complete:disabled:hover {\n",
              "    background-color: var(--disabled-bg-color);\n",
              "    fill: var(--disabled-fill-color);\n",
              "    box-shadow: none;\n",
              "  }\n",
              "\n",
              "  .colab-df-spinner {\n",
              "    border: 2px solid var(--fill-color);\n",
              "    border-color: transparent;\n",
              "    border-bottom-color: var(--fill-color);\n",
              "    animation:\n",
              "      spin 1s steps(1) infinite;\n",
              "  }\n",
              "\n",
              "  @keyframes spin {\n",
              "    0% {\n",
              "      border-color: transparent;\n",
              "      border-bottom-color: var(--fill-color);\n",
              "      border-left-color: var(--fill-color);\n",
              "    }\n",
              "    20% {\n",
              "      border-color: transparent;\n",
              "      border-left-color: var(--fill-color);\n",
              "      border-top-color: var(--fill-color);\n",
              "    }\n",
              "    30% {\n",
              "      border-color: transparent;\n",
              "      border-left-color: var(--fill-color);\n",
              "      border-top-color: var(--fill-color);\n",
              "      border-right-color: var(--fill-color);\n",
              "    }\n",
              "    40% {\n",
              "      border-color: transparent;\n",
              "      border-right-color: var(--fill-color);\n",
              "      border-top-color: var(--fill-color);\n",
              "    }\n",
              "    60% {\n",
              "      border-color: transparent;\n",
              "      border-right-color: var(--fill-color);\n",
              "    }\n",
              "    80% {\n",
              "      border-color: transparent;\n",
              "      border-right-color: var(--fill-color);\n",
              "      border-bottom-color: var(--fill-color);\n",
              "    }\n",
              "    90% {\n",
              "      border-color: transparent;\n",
              "      border-bottom-color: var(--fill-color);\n",
              "    }\n",
              "  }\n",
              "</style>\n",
              "\n",
              "  <script>\n",
              "    async function quickchart(key) {\n",
              "      const quickchartButtonEl =\n",
              "        document.querySelector('#' + key + ' button');\n",
              "      quickchartButtonEl.disabled = true;  // To prevent multiple clicks.\n",
              "      quickchartButtonEl.classList.add('colab-df-spinner');\n",
              "      try {\n",
              "        const charts = await google.colab.kernel.invokeFunction(\n",
              "            'suggestCharts', [key], {});\n",
              "      } catch (error) {\n",
              "        console.error('Error during call to suggestCharts:', error);\n",
              "      }\n",
              "      quickchartButtonEl.classList.remove('colab-df-spinner');\n",
              "      quickchartButtonEl.classList.add('colab-df-quickchart-complete');\n",
              "    }\n",
              "    (() => {\n",
              "      let quickchartButtonEl =\n",
              "        document.querySelector('#df-055c7072-464a-4075-bbf5-1917d1954948 button');\n",
              "      quickchartButtonEl.style.display =\n",
              "        google.colab.kernel.accessAllowed ? 'block' : 'none';\n",
              "    })();\n",
              "  </script>\n",
              "</div>\n",
              "\n",
              "    </div>\n",
              "  </div>\n"
            ],
            "text/plain": [
              "    codigo_iso           pais_x  anio  indice  ranking     No  \\\n",
              "0          NOR          Noruega  2017    7.60      1.0  166.0   \n",
              "1          NOR          Noruega  2018    7.63      1.0  166.0   \n",
              "2          NOR          Noruega  2019    7.82      1.0  166.0   \n",
              "3          FIN        Finlandia  2019    7.90      2.0   80.0   \n",
              "4          SWE           Suecia  2017    8.27      2.0  217.0   \n",
              "..         ...              ...   ...     ...      ...    ...   \n",
              "523        TKM     Turkmenistan  2017   84.19    178.0  229.0   \n",
              "524        TKM     Turkmenistan  2018   84.20    178.0  229.0   \n",
              "527        PRK  Corea del Norte  2017   84.98    180.0   63.0   \n",
              "528        TKM     Turkmenistan  2019   85.44    180.0  229.0   \n",
              "529        PRK  Corea del Norte  2018   88.87    180.0   63.0   \n",
              "\n",
              "                                    pais_y  M49 Code           Region  \\\n",
              "0                                   Norway     578.0  Northern Europe   \n",
              "1                                   Norway     578.0  Northern Europe   \n",
              "2                                   Norway     578.0  Northern Europe   \n",
              "3                                  Finland     246.0  Northern Europe   \n",
              "4                                   Sweden     752.0  Northern Europe   \n",
              "..                                     ...       ...              ...   \n",
              "523                           Turkmenistan     795.0     Central Asia   \n",
              "524                           Turkmenistan     795.0     Central Asia   \n",
              "527  Democratic People's Republic of Korea     408.0     Eastern Asia   \n",
              "528                           Turkmenistan     795.0     Central Asia   \n",
              "529  Democratic People's Republic of Korea     408.0     Eastern Asia   \n",
              "\n",
              "    Region 2 Continente  \n",
              "0        NaN     Europe  \n",
              "1        NaN     Europe  \n",
              "2        NaN     Europe  \n",
              "3        NaN     Europe  \n",
              "4        NaN     Europe  \n",
              "..       ...        ...  \n",
              "523      NaN       Asia  \n",
              "524      NaN       Asia  \n",
              "527      NaN       Asia  \n",
              "528      NaN       Asia  \n",
              "529      NaN       Asia  \n",
              "\n",
              "[315 rows x 11 columns]"
            ]
          },
          "execution_count": 44,
          "metadata": {},
          "output_type": "execute_result"
        }
      ],
      "source": [
        "df_merged[df_merged.isnull().any(axis=1)]"
      ]
    },
    {
      "cell_type": "code",
      "execution_count": null,
      "id": "5bea895d",
      "metadata": {
        "id": "5bea895d"
      },
      "outputs": [],
      "source": []
    },
    {
      "cell_type": "code",
      "execution_count": null,
      "id": "742a8c01",
      "metadata": {
        "id": "742a8c01"
      },
      "outputs": [],
      "source": []
    },
    {
      "cell_type": "code",
      "execution_count": null,
      "id": "1e1901d9",
      "metadata": {
        "id": "1e1901d9"
      },
      "outputs": [],
      "source": []
    },
    {
      "cell_type": "markdown",
      "id": "11b024cb",
      "metadata": {
        "id": "11b024cb"
      },
      "source": [
        "📰 Sacar la mediana del indice por Continente, cual es el peor continente en terminos de libertad de prensa?"
      ]
    },
    {
      "cell_type": "code",
      "source": [
        "import pandas as pd\n",
        "\n",
        "df_continentes = df_merged.groupby('Continente')['indice'].median().reset_index()\n",
        "\n",
        "df_continentes = df_continentes.sort_values(by='indice', ascending=True)\n",
        "\n",
        "worst_continent = df_continentes.iloc[-1]['Continente']\n",
        "\n",
        "print('El peor continente en términos de libertad de prensa es:', worst_continent)\n"
      ],
      "metadata": {
        "colab": {
          "base_uri": "https://localhost:8080/"
        },
        "id": "ncCJVptCtARb",
        "outputId": "b13f962c-9d51-4b51-e469-4e9c76b48ed4"
      },
      "id": "ncCJVptCtARb",
      "execution_count": 55,
      "outputs": [
        {
          "output_type": "stream",
          "name": "stdout",
          "text": [
            "El peor continente en términos de libertad de prensa es: Asia\n"
          ]
        }
      ]
    },
    {
      "cell_type": "markdown",
      "id": "8ea0295d",
      "metadata": {
        "id": "8ea0295d"
      },
      "source": [
        "📰 Sacar la mediana del indice por Region, cual es la peor region en terminos de libertad de prensa?"
      ]
    },
    {
      "cell_type": "code",
      "execution_count": 56,
      "id": "59ca2ab1",
      "metadata": {
        "colab": {
          "base_uri": "https://localhost:8080/"
        },
        "id": "59ca2ab1",
        "outputId": "33de0d83-706d-4608-fc41-782791dae16b"
      },
      "outputs": [
        {
          "output_type": "stream",
          "name": "stdout",
          "text": [
            "La peor región en términos de libertad de prensa es: Central Asia\n"
          ]
        }
      ],
      "source": [
        "df_regiones = df_merged.groupby('Region')['indice'].median().reset_index()\n",
        "\n",
        "df_regiones = df_regiones.sort_values(by='indice', ascending=True)\n",
        "\n",
        "worst_region = df_regiones.iloc[-1]['Region']\n",
        "\n",
        "print('La peor región en términos de libertad de prensa es:', worst_region)\n"
      ]
    },
    {
      "cell_type": "code",
      "execution_count": null,
      "id": "0796172e",
      "metadata": {
        "id": "0796172e"
      },
      "outputs": [],
      "source": []
    },
    {
      "cell_type": "markdown",
      "id": "a827781b",
      "metadata": {
        "id": "a827781b"
      },
      "source": [
        "📰  ¿Que paises constituyen la peor region?\n",
        "\n",
        "![](https://upload.wikimedia.org/wikipedia/commons/a/a3/Central_Asia.svg)"
      ]
    },
    {
      "cell_type": "code",
      "source": [
        "worst_region_countries = df_merged[df_merged['Region'] == worst_region]['pais_x']\n",
        "\n",
        "print('Los países que constituyen la peor región son:')\n",
        "print(worst_region_countries)"
      ],
      "metadata": {
        "colab": {
          "base_uri": "https://localhost:8080/"
        },
        "id": "hlx3M0vltkkf",
        "outputId": "a46e0796-fcdb-4a15-c276-e05d36b14772"
      },
      "id": "hlx3M0vltkkf",
      "execution_count": 58,
      "outputs": [
        {
          "output_type": "stream",
          "name": "stdout",
          "text": [
            "Los países que constituyen la peor región son:\n",
            "227      Kirguistán\n",
            "263      Kirguistán\n",
            "266      Kirguistán\n",
            "434      Tajikistan\n",
            "436      Tajikistan\n",
            "456      Kazakhstan\n",
            "461      Uzbekistan\n",
            "463      Kazakhstan\n",
            "464      Tajikistan\n",
            "467      Kazakhstan\n",
            "484      Uzbekistan\n",
            "499      Uzbekistan\n",
            "523    Turkmenistan\n",
            "524    Turkmenistan\n",
            "528    Turkmenistan\n",
            "Name: pais_x, dtype: object\n"
          ]
        }
      ]
    },
    {
      "cell_type": "markdown",
      "id": "ac2ccf21",
      "metadata": {
        "id": "ac2ccf21"
      },
      "source": [
        "📰 Hace algun grafico que muestre algun dato interesante"
      ]
    },
    {
      "cell_type": "code",
      "source": [
        "import matplotlib.pyplot as plt\n",
        "import seaborn as sns\n",
        "\n",
        "plt.scatter(df_sorted['anio'], df_sorted['indice'])\n",
        "plt.xlabel('Year')\n",
        "plt.ylabel('Index')\n",
        "plt.title('Freedom of the Press Index Over Time')\n",
        "plt.show()\n",
        "\n",
        "plt.bar(df_merged['Region'].value_counts().index, df_merged['Region'].value_counts().values)\n",
        "plt.xlabel('Region')\n",
        "plt.ylabel('Number of Countries')\n",
        "plt.title('Number of Countries in Each Region')\n",
        "plt.xticks(rotation=45)\n",
        "plt.show()\n",
        "\n"
      ],
      "metadata": {
        "colab": {
          "base_uri": "https://localhost:8080/",
          "height": 1000
        },
        "id": "1ZTzny1Ctv2F",
        "outputId": "bf340097-0cfe-4410-8d9b-c634143fcfa3"
      },
      "id": "1ZTzny1Ctv2F",
      "execution_count": 60,
      "outputs": [
        {
          "output_type": "display_data",
          "data": {
            "text/plain": [
              "<Figure size 640x480 with 1 Axes>"
            ],
            "image/png": "[encoded data removed]"
          },
          "metadata": {}
        },
        {
          "output_type": "display_data",
          "data": {
            "text/plain": [
              "<Figure size 640x480 with 1 Axes>"
            ],
            "image/png": "[encoded data removed]"
          },
          "metadata": {}
        }
      ]
    },
    {
      "cell_type": "markdown",
      "id": "8b8a9305",
      "metadata": {
        "id": "8b8a9305"
      },
      "source": [
        "📰 Filtrar américa del sur, analizar si en los ultimos años el indice de libertad de prensa mejoro o empeoro"
      ]
    },
    {
      "cell_type": "code",
      "execution_count": 65,
      "id": "3e659e18",
      "metadata": {
        "colab": {
          "base_uri": "https://localhost:8080/"
        },
        "id": "3e659e18",
        "outputId": "9830f5dd-e270-467a-87bd-034356e7ddf8"
      },
      "outputs": [
        {
          "output_type": "stream",
          "name": "stdout",
          "text": [
            "Diferencia en el índice de libertad de prensa en América del Sur:\n",
            "Empty DataFrame\n",
            "Columns: [anio, indice, diff]\n",
            "Index: []\n",
            "Tendencia general del índice: nan\n",
            "El índice de libertad de prensa en América del Sur ha empeorado en los últimos años.\n"
          ]
        }
      ],
      "source": [
        "df_south_america = df_merged[df_merged['Continente'] == 'América']\n",
        "\n",
        "df_south_america = df_south_america.sort_values(by='anio')\n",
        "\n",
        "df_south_america['diff'] = df_south_america['indice'].diff()\n",
        "\n",
        "print('Diferencia en el índice de libertad de prensa en América del Sur:')\n",
        "print(df_south_america[['anio', 'indice', 'diff']])\n",
        "\n",
        "trend = df_south_america['diff'].mean()\n",
        "\n",
        "print('Tendencia general del índice:', trend)\n",
        "\n",
        "if trend > 0:\n",
        "    print('El índice de libertad de prensa en América del Sur ha mejorado en los últimos años.')\n",
        "else:\n",
        "    print('El índice de libertad de prensa en América del Sur ha empeorado en los últimos años.')\n"
      ]
    },
    {
      "cell_type": "markdown",
      "id": "5649dd7e",
      "metadata": {
        "id": "5649dd7e"
      },
      "source": [
        "📰 Crear una nueva columna llamada ``situacion`` en funcion del indice del pais\n",
        "\n",
        "| Puntaje | Situación      |\n",
        "|---------|----------------|\n",
        "| 0-15    | Buena          |\n",
        "| 15-30   | Mas bien buena |\n",
        "| 30-45   | Problematica   |\n",
        "| 45-60   | Dificil        |\n",
        "| 60-100  | Muy grave      |\n"
      ]
    },
    {
      "cell_type": "code",
      "source": [
        "import pandas as pd\n",
        "df_sorted['situacion'] = pd.cut(df_sorted['indice'], bins=[0, 15, 30, 45, 60, 100], labels=['Buena', 'Mas bien buena', 'Problematica', 'Dificil', 'Muy grave'])\n",
        "print(df_sorted.head())\n"
      ],
      "metadata": {
        "colab": {
          "base_uri": "https://localhost:8080/"
        },
        "id": "iL1L2Dwxul-4",
        "outputId": "b459ed7e-4789-46a1-f6bd-d41a2f48f894"
      },
      "id": "iL1L2Dwxul-4",
      "execution_count": 69,
      "outputs": [
        {
          "output_type": "stream",
          "name": "stdout",
          "text": [
            "  codigo_iso       pais  anio  indice  ranking situacion\n",
            "0        NOR    Noruega  2017    7.60      1.0     Buena\n",
            "1        NOR    Noruega  2018    7.63      1.0     Buena\n",
            "2        NOR    Noruega  2019    7.82      1.0     Buena\n",
            "3        FIN  Finlandia  2019    7.90      2.0     Buena\n",
            "4        SWE     Suecia  2017    8.27      2.0     Buena\n"
          ]
        }
      ]
    },
    {
      "cell_type": "markdown",
      "id": "b82e9ce5",
      "metadata": {
        "id": "b82e9ce5"
      },
      "source": [
        "📰 Que region tiene la mayor cantidad de situaciones buenas o mas bien buenas?"
      ]
    },
    {
      "cell_type": "code",
      "execution_count": 70,
      "id": "02cdc8ce",
      "metadata": {
        "colab": {
          "base_uri": "https://localhost:8080/"
        },
        "id": "02cdc8ce",
        "outputId": "62ac1a86-2e43-4c9e-cf1e-fa234fd820f4"
      },
      "outputs": [
        {
          "output_type": "stream",
          "name": "stdout",
          "text": [
            "La región con la mayor cantidad de situaciones buenas o más bien buenas es: Western Europe\n"
          ]
        }
      ],
      "source": [
        "df_situacion = df_merged[df_merged['situacion'].isin(['Buena', 'Mas bien buena'])]\n",
        "df_situacion_por_region = df_situacion['Region'].value_counts().reset_index()\n",
        "\n",
        "df_situacion_por_region = df_situacion_por_region.sort_values(by='Region', ascending=False)\n",
        "\n",
        "best_region = df_situacion_por_region.iloc[0]['Region']\n",
        "\n",
        "print('La región con la mayor cantidad de situaciones buenas o más bien buenas es:', best_region)\n"
      ]
    },
    {
      "cell_type": "markdown",
      "id": "779e85e7",
      "metadata": {
        "id": "779e85e7"
      },
      "source": [
        "📰  Ejercicio libre: asi como vinimos haciendo hasta este punto, genera informacion interesante sobre estos datos (al menos 2 datos/graficos interesantes)"
      ]
    },
    {
      "cell_type": "code",
      "execution_count": null,
      "id": "662711f1",
      "metadata": {
        "id": "662711f1"
      },
      "outputs": [],
      "source": []
    }
  ],
  "metadata": {
    "kernelspec": {
      "display_name": "Python 3 (ipykernel)",
      "language": "python",
      "name": "python3"
    },
    "language_info": {
      "codemirror_mode": {
        "name": "ipython",
        "version": 3
      },
      "file_extension": ".py",
      "mimetype": "text/x-python",
      "name": "python",
      "nbconvert_exporter": "python",
      "pygments_lexer": "ipython3",
      "version": "3.11.9"
    },
    "colab": {
      "provenance": []
    }
  },
  "nbformat": 4,
  "nbformat_minor": 5
}