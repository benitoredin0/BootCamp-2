{
  "cells": [
    {
      "cell_type": "markdown",
      "metadata": {
        "id": "view-in-github",
        "colab_type": "text"
      },
      "source": [
        "<a href=\"https://colab.research.google.com/github/benitoredin0/BootCamp-2/blob/main/ejerciciosPython3.ipynb\" target=\"_parent\"><img src=\"https://colab.research.google.com/assets/colab-badge.svg\" alt=\"Open In Colab\"/></a>"
      ]
    },
    {
      "cell_type": "markdown",
      "id": "a5e8e1c1",
      "metadata": {
        "id": "a5e8e1c1"
      },
      "source": [
        "![](https://i.pinimg.com/originals/73/20/2a/73202af19e27fbfac7acddeb1763e789.jpg)\n",
        "\n",
        "\n",
        "### 1.1\n",
        "Escribir un script que pregunte el nombre del usuario, luego muestre por pantalla el siguiente mensaje:\n",
        "\n",
        "¡Hola ``nombre``!, tu nombre tiene ``cantidad_de_letras`` letras\n",
        "    \n",
        "    \n",
        "- ``nombre`` es el nombre que el usuario haya introducido.\n",
        "- ``cantidad_de_letras`` es la cantidad de letras que posee ``nombre``"
      ]
    },
    {
      "cell_type": "code",
      "execution_count": null,
      "id": "72913c06",
      "metadata": {
        "id": "72913c06",
        "outputId": "9ee4c8c2-c131-4088-e695-3f10bc1a1dcd",
        "colab": {
          "base_uri": "https://localhost:8080/"
        }
      },
      "outputs": [
        {
          "output_type": "stream",
          "name": "stdout",
          "text": [
            "¿Cuál es tu nombre? Santiago\n",
            "Su nombre tiene 8 letras\n"
          ]
        }
      ],
      "source": [
        "\n",
        "name = input(\"¿Cuál es tu nombre? \")\n",
        "cantidad_de_letras=len(name)\n",
        "print('Su nombre tiene',cantidad_de_letras,'letras')\n"
      ]
    },
    {
      "cell_type": "markdown",
      "id": "dc225348",
      "metadata": {
        "id": "dc225348"
      },
      "source": [
        "### 1.2\n",
        "Escribir un script que pregunte el nombre y apellido del usuario y después muestre el nombre completo del usuario tres veces:\n",
        "\n",
        "- una con todas las letras minúsculas\n",
        "- otra con todas las letras mayúsculas\n",
        "- otra solo con la primera letra del nombre y de los apellidos en mayúscula."
      ]
    },
    {
      "cell_type": "code",
      "execution_count": null,
      "id": "99d37f91",
      "metadata": {
        "id": "99d37f91",
        "outputId": "3464f34f-ca90-424a-e80f-929f08e97e2e",
        "colab": {
          "base_uri": "https://localhost:8080/"
        }
      },
      "outputs": [
        {
          "output_type": "stream",
          "name": "stdout",
          "text": [
            "Ingrese su nombre: Lionel\n",
            "Ingrese su apellido: Messi\n",
            "Su nombre y apellido es: lionel messi\n",
            "Su nombre y apellido es: LIONEL MESSI\n",
            "Su nombre y apellido es: Lionel Messi\n"
          ]
        }
      ],
      "source": [
        "name=input('Ingrese su nombre: ')\n",
        "lastname=(input('Ingrese su apellido: '))\n",
        "print('Su nombre y apellido es:',name.lower(),lastname.lower())\n",
        "print('Su nombre y apellido es:',name.upper(),lastname.upper())\n",
        "print('Su nombre y apellido es:',name.capitalize(),lastname.capitalize())\n"
      ]
    },
    {
      "cell_type": "code",
      "execution_count": null,
      "id": "87055f46",
      "metadata": {
        "id": "87055f46"
      },
      "outputs": [],
      "source": [
        "\n"
      ]
    },
    {
      "cell_type": "markdown",
      "id": "d66a4f32",
      "metadata": {
        "id": "d66a4f32"
      },
      "source": [
        "### 1.3\n",
        "Se tiene un dataset cuyos numeros telefonico siguen el siguiente formato: *prefijo-número-extension*\n",
        "\n",
        "Ejemplo: +34-913724710-56\n",
        "\n",
        "- Dado un numero telefonico, se pide mostrar en consola el siguiente mensaje:\n",
        "\n",
        "Su numero de telefono es: +34-913724710-56, Prefijo: 34, Numero: 913724710 y Extension: 56*\n",
        "\n",
        "**Ojo: no se vale contar caracteres, ya que la longitud tanto del prefijo, numero y extension podrian variar.**"
      ]
    },
    {
      "cell_type": "code",
      "execution_count": null,
      "id": "d4ea0aa7",
      "metadata": {
        "id": "d4ea0aa7",
        "outputId": "14a9aded-9c03-4ccd-bba5-669dcb14e194",
        "colab": {
          "base_uri": "https://localhost:8080/"
        }
      },
      "outputs": [
        {
          "output_type": "stream",
          "name": "stdout",
          "text": [
            "Ingrese su numero telefonico54-11442125-12\n",
            "Su numero de telefono es 54-11442125-12 ,Prefijo: 54 ,Numero: 11442125 y Extension: 12*\n"
          ]
        }
      ],
      "source": [
        "nro=input(\"Ingrese su numero telefonico: \")\n",
        "tel=nro.split(\"-\")\n",
        "print('Su numero de telefono es',nro,',Prefijo:',tel[0],',Numero:',tel[1],'y Extension:',tel[2]+'*')\n",
        "\n",
        "\n",
        "\n",
        "\n",
        "\n"
      ]
    },
    {
      "cell_type": "markdown",
      "id": "1c5f781e",
      "metadata": {
        "id": "1c5f781e"
      },
      "source": [
        "### 1.4\n",
        "Dada la siguiente lista de ``mails_viejos``, pasarla de forma automatizada a la de ``mails_nuevos``"
      ]
    },
    {
      "cell_type": "code",
      "execution_count": null,
      "id": "bd71b8d9",
      "metadata": {
        "id": "bd71b8d9",
        "outputId": "7e1f9d85-dc12-4e23-fef8-55c482a1c887",
        "colab": {
          "base_uri": "https://localhost:8080/"
        }
      },
      "outputs": [
        {
          "output_type": "stream",
          "name": "stdout",
          "text": [
            "[1, 2, 3, 4, 5]\n"
          ]
        }
      ],
      "source": [
        "mails_viejos=[1,2,3,4];mails_nuevos=[]\n",
        "a=len(mails_viejos)\n",
        "\n",
        "for i in range(a):\n",
        "  mails_nuevos.append(mails_viejos[i])\n",
        "\n",
        "\n",
        "mails_viejos.append(5) #Añade un valor a la lista mails_viejos\n",
        "\n",
        "#Automatización para mails viejos\n",
        "mails_nuevos.append(mails_viejos[-1])\n",
        "print(mails_nuevos)\n",
        "\n"
      ]
    },
    {
      "cell_type": "code",
      "execution_count": null,
      "id": "7cf38870",
      "metadata": {
        "id": "7cf38870"
      },
      "outputs": [],
      "source": []
    },
    {
      "cell_type": "markdown",
      "id": "1fe46a66",
      "metadata": {
        "id": "1fe46a66"
      },
      "source": [
        "### 1.5\n",
        "Escribir un script que pregunte al usuario por la contraseña e imprima por pantalla si la contraseña introducida por el usuario coincide con la guardada en la variable **sin tener en cuenta mayúsculas y minúsculas.**"
      ]
    },
    {
      "cell_type": "code",
      "execution_count": null,
      "id": "c55c38f7",
      "metadata": {
        "id": "c55c38f7",
        "outputId": "9789a069-896f-4a04-e35d-87410b9f6ad5",
        "colab": {
          "base_uri": "https://localhost:8080/"
        }
      },
      "outputs": [
        {
          "output_type": "stream",
          "name": "stdout",
          "text": [
            "Ingrese su contraseña:HOLA123\n",
            "Ha iniciado sesión exitosamente\n"
          ]
        }
      ],
      "source": [
        "password=\"HolA123\"\n",
        "if password.lower()==(input('Ingrese su contraseña:')).lower():\n",
        "  print('Ha iniciado sesión exitosamente')\n",
        "else: print('La contraseña es erronea')"
      ]
    },
    {
      "cell_type": "markdown",
      "id": "d9d0bf90",
      "metadata": {
        "id": "d9d0bf90"
      },
      "source": [
        "### 1.6\n",
        "Un Banco quiere etiquetar a sus clientes en funcion de su salario para poder saber si puede asignarle o no una tarjeta de crédito. Solo los clientes clase A y B pueden acceder a la tarjeta.\n",
        "\n",
        "| Salario              | Clasificación |\n",
        "|----------------------|---------------|\n",
        "| Menos de 20000       | D             |\n",
        "| Entre 20000 y 50000  | C             |\n",
        "| Entre 50000 y 100000 | B             |\n",
        "| Mas de 100000        | A             |\n",
        "\n",
        "Generar un Script que dado un salario ingresado devuelva que clasificacion tiene y si califica o no para la tarjeta"
      ]
    },
    {
      "cell_type": "code",
      "execution_count": null,
      "id": "8d65cdc5",
      "metadata": {
        "id": "8d65cdc5",
        "outputId": "a14e658c-8185-4b55-b718-9b30a6d4c086",
        "colab": {
          "base_uri": "https://localhost:8080/"
        }
      },
      "outputs": [
        {
          "output_type": "stream",
          "name": "stdout",
          "text": [
            "Ingrese su sueldo para saber si puede acceder a la tarjeta:5000\n",
            "No cumple con los requisitos para calificar para la tarjeta, su clase es D\n"
          ]
        }
      ],
      "source": [
        "\n",
        "sueldo=int(input('Ingrese su sueldo para saber si puede acceder a la tarjeta:'))\n",
        "aClass=sueldo>=100000;bClass=sueldo>=50000 and sueldo<100000;cClass=sueldo>=20000 and sueldo<50000;dClass=sueldo<20000\n",
        "if aClass: clase='A'\n",
        "if bClass: clase='B'\n",
        "if cClass: clase='C'\n",
        "if dClass: clase='D'\n",
        "\n",
        "if aClass or bClass:\n",
        "  print('Usted es clasificación',clase,'y califica para acceder a la tarjeta')\n",
        "else: print('No cumple con los requisitos para calificar para la tarjeta, su clase es',clase)"
      ]
    },
    {
      "cell_type": "markdown",
      "id": "252e680e",
      "metadata": {
        "id": "252e680e"
      },
      "source": [
        "### 1.7\n",
        "Mostrar en consola todos los numeros desde el 1 hasta el 1000 que sean capicua (1, 11,101,etc)"
      ]
    },
    {
      "cell_type": "code",
      "execution_count": null,
      "id": "188cd7f7",
      "metadata": {
        "id": "188cd7f7"
      },
      "outputs": [],
      "source": [
        "\n",
        "\n",
        "for i in range(1,1000):\n",
        "  a=str(i)\n",
        "  a2=a[::-1]\n",
        "  if a==a2: print(i)\n"
      ]
    },
    {
      "cell_type": "markdown",
      "id": "ed9775d9",
      "metadata": {
        "id": "ed9775d9"
      },
      "source": [
        "### 1.8\n",
        "Escribir un programa que pida al usuario un número entero y muestre por pantalla un triángulo rectángulo como el de más abajo, de altura el número introducido.\n",
        "\n",
        "1\n",
        "\n",
        "3 1\n",
        "\n",
        "5 3 1\n",
        "\n",
        "7 5 3 1\n",
        "\n",
        "9 7 5 3 1"
      ]
    },
    {
      "cell_type": "code",
      "source": [
        "\n",
        "altura = int(input(\"Ingresar la altura del triangulo: \"))\n",
        "\n",
        "for i in range(1, altura + 1):\n",
        "  c=1\n",
        "  for j in range(i, 0, -1):\n",
        "    print(c, end=\" \")\n",
        "    c+=2\n",
        "  c+=2\n",
        "  print()\n"
      ],
      "metadata": {
        "colab": {
          "base_uri": "https://localhost:8080/"
        },
        "id": "TtQ-Kcew-w4X",
        "outputId": "f9872be1-0458-479f-d6c2-5af9f831f0d3"
      },
      "id": "TtQ-Kcew-w4X",
      "execution_count": 45,
      "outputs": [
        {
          "output_type": "stream",
          "name": "stdout",
          "text": [
            "Ingresar la altura del triangulo: 6\n",
            "1 \n",
            "1 3 \n",
            "1 3 5 \n",
            "1 3 5 7 \n",
            "1 3 5 7 9 \n",
            "1 3 5 7 9 11 \n"
          ]
        }
      ]
    },
    {
      "cell_type": "markdown",
      "id": "afc536fd",
      "metadata": {
        "id": "afc536fd"
      },
      "source": [
        "### 1.9\n",
        "\n",
        "Escribir un script que dado un número entero positivo muestre la cuenta atrás desde ese número hasta cero separados por comas.\n"
      ]
    },
    {
      "cell_type": "code",
      "execution_count": null,
      "id": "d066b932",
      "metadata": {
        "id": "d066b932",
        "outputId": "aa99c49f-62dc-4fd3-9995-913f3bdf72ae",
        "colab": {
          "base_uri": "https://localhost:8080/"
        }
      },
      "outputs": [
        {
          "output_type": "stream",
          "name": "stdout",
          "text": [
            "Ingrese un número positivo: 54\n",
            "54, 53, 52, 51, 50, 49, 48, 47, 46, 45, 44, 43, 42, 41, 40, 39, 38, 37, 36, 35, 34, 33, 32, 31, 30, 29, 28, 27, 26, 25, 24, 23, 22, 21, 20, 19, 18, 17, 16, 15, 14, 13, 12, 11, 10, 9, 8, 7, 6, 5, 4, 3, 2, 1, 0\n"
          ]
        }
      ],
      "source": [
        "def cuenta_atras(numero):\n",
        "    num = list(range(numero, -1, -1))\n",
        "    print(\", \".join(map(str, num)))\n",
        "\n",
        "numero = int(input(\"Ingrese un número positivo: \"))\n",
        "\n",
        "if numero >= 0:\n",
        "    cuenta_atras(numero)\n",
        "else:\n",
        "    print(\"El número ingresado no es correcto.\")"
      ]
    },
    {
      "cell_type": "markdown",
      "id": "802a4a06",
      "metadata": {
        "id": "802a4a06"
      },
      "source": [
        "### 2.0\n",
        "\n",
        "Escribir un script que dado un número entero positivo muestre la cuenta atrás desde ese número hasta cero separados por comas.\n"
      ]
    },
    {
      "cell_type": "code",
      "execution_count": null,
      "id": "d8b47ee3",
      "metadata": {
        "id": "d8b47ee3"
      },
      "outputs": [],
      "source": [
        "def cuenta_atras(numero):\n",
        "    num = list(range(numero, -1, -1))\n",
        "    print(\", \".join(map(str, num)))\n",
        "\n",
        "numero = int(input(\"Ingrese un número positivo: \"))\n",
        "\n",
        "if numero >= 0:\n",
        "    cuenta_atras(numero)\n",
        "else:\n",
        "    print(\"El número ingresado no es correcto.\")"
      ]
    },
    {
      "cell_type": "markdown",
      "id": "5926f0b2",
      "metadata": {
        "id": "5926f0b2"
      },
      "source": [
        "### 2.2\n",
        "\n",
        "Escribir un programa que almacene las asignaturas de un curso (por ejemplo Matemáticas, Física, Química, Historia y Lengua) en una lista, pregunte al usuario la nota que ha sacado en cada asignatura y elimine de la lista las asignaturas aprobadas. Al final el programa debe mostrar por pantalla las asignaturas que el usuario tiene que repetir.\n"
      ]
    },
    {
      "cell_type": "code",
      "execution_count": null,
      "id": "2abf9e98",
      "metadata": {
        "id": "2abf9e98",
        "outputId": "30da45c3-61c4-4ea2-e3b2-4652e1011e66",
        "colab": {
          "base_uri": "https://localhost:8080/"
        }
      },
      "outputs": [
        {
          "output_type": "stream",
          "name": "stdout",
          "text": [
            "Ingrese su nota en Matemáticas: 7\n",
            "Ingrese su nota en Física: 5\n",
            "Ingrese su nota en Química: 7\n",
            "Ingrese su nota en Historia: 9\n",
            "Ingrese su nota en Lengua: 2\n",
            "Debe repeteir las siguientes asignaturas:\n",
            "Física\n",
            "Lengua\n"
          ]
        }
      ],
      "source": [
        "def main():\n",
        "    asignaturas = [\"Matemáticas\", \"Física\", \"Química\", \"Historia\", \"Lengua\"]\n",
        "    asignaturas_repetir = []\n",
        "\n",
        "    for asignatura in asignaturas:\n",
        "        nota = float(input(f\"Ingrese su nota en {asignatura}: \"))\n",
        "        if nota < 7:\n",
        "            asignaturas_repetir.append(asignatura)\n",
        "        if nota > 10:\n",
        "            print(\"Nota no válida\")\n",
        "\n",
        "    print(\"Debe repeteir las siguientes asignaturas:\")\n",
        "    for asignatura in asignaturas_repetir:\n",
        "        print(asignatura)\n",
        "\n",
        "if __name__ == \"__main__\":\n",
        "    main()\n",
        "\n",
        "\n",
        "\n"
      ]
    },
    {
      "cell_type": "markdown",
      "id": "54eded8d",
      "metadata": {
        "id": "54eded8d"
      },
      "source": [
        "### 2.3\n",
        "\n",
        "Escribir un programa que pida al usuario una palabra y muestre por pantalla el número de veces que contiene cada vocal.\n"
      ]
    },
    {
      "cell_type": "code",
      "execution_count": null,
      "id": "757e8b57",
      "metadata": {
        "id": "757e8b57",
        "outputId": "f25a9aae-421f-40fe-9e4b-6f37a13849c9",
        "colab": {
          "base_uri": "https://localhost:8080/"
        }
      },
      "outputs": [
        {
          "output_type": "stream",
          "name": "stdout",
          "text": [
            "Ingrese una palabra: hol\n",
            "['o']\n"
          ]
        }
      ],
      "source": [
        "def contVocal(word):\n",
        "  vocales=[]\n",
        "  for i in word:\n",
        "    if i.lower() in 'aeiou':\n",
        "      vocales.append(i)\n",
        "  return vocales\n",
        "\n",
        "word=input('Ingrese una palabra: ')\n",
        "#vocal = contVocal(word)\n",
        "\n",
        "\n",
        "print(contVocal(word))"
      ]
    },
    {
      "cell_type": "markdown",
      "id": "5277a66c",
      "metadata": {
        "id": "5277a66c"
      },
      "source": [
        "### 2.4\n",
        "Escribir un programa que guarde en un diccionario los precios de las frutas de la tabla, pregunte al usuario por una fruta, un número de kilos y muestre por pantalla el precio de ese número de kilos de fruta. Si la fruta no está en el diccionario debe mostrar un mensaje informando de ello.\n",
        "\n",
        "| Fruta   | Precio por Kg |\n",
        "|---------|---------------|\n",
        "| Banana  | 150           |\n",
        "| Manzana | 200           |\n",
        "| Pera    | 180           |\n",
        "| Naranja | 100           |"
      ]
    },
    {
      "cell_type": "code",
      "execution_count": null,
      "id": "d95f0e60",
      "metadata": {
        "id": "d95f0e60",
        "outputId": "69c92fa9-5aaf-4980-ec2a-131a3506af99",
        "colab": {
          "base_uri": "https://localhost:8080/"
        }
      },
      "outputs": [
        {
          "output_type": "stream",
          "name": "stdout",
          "text": [
            "Ingrese el nombre de la fruta: baNana\n",
            "Ingrese la cantidad de kilos: 2\n",
            "El precio de 2.0 kilos de Banana es: 300.0\n"
          ]
        }
      ],
      "source": [
        "preciosFrutas = {\n",
        "    'Banana': 150,\n",
        "    'Manzana': 200,\n",
        "    'Pera': 180,\n",
        "    'Naranja': 100\n",
        "}\n",
        "\n",
        "fruta = input(\"Ingrese el nombre de la fruta: \").capitalize()\n",
        "kilos = float(input(\"Ingrese la cantidad de kilos: \"))\n",
        "\n",
        "if fruta in preciosFrutas:\n",
        "    precioTotal = preciosFrutas[fruta] * kilos\n",
        "    print(\"El precio de\", kilos, \"kilos de\", fruta, \"es:\", precioTotal)\n",
        "else:\n",
        "    print(\"Lo siento, la fruta\", fruta, \"no está en la lista.\")"
      ]
    },
    {
      "cell_type": "markdown",
      "id": "6769d482",
      "metadata": {
        "id": "6769d482"
      },
      "source": [
        "### 2.5\n",
        "\n",
        "Escribir un programa que pregunte una fecha en formato dd/mm/aaaa y muestre por pantalla la misma fecha en formato dd de mes de aaaa donde mes es el nombre del mes."
      ]
    },
    {
      "cell_type": "code",
      "execution_count": null,
      "id": "d833a50e",
      "metadata": {
        "id": "d833a50e",
        "outputId": "e0ebf3b9-7172-4819-cbaf-3c2cb1230806",
        "colab": {
          "base_uri": "https://localhost:8080/"
        }
      },
      "outputs": [
        {
          "output_type": "stream",
          "name": "stdout",
          "text": [
            "Ingrese una fecha(dd/mm/aaaa):22/10/2003\n",
            "22 de octubre 2003\n"
          ]
        }
      ],
      "source": [
        "mes={ 1:'enero',2:'febrero',3:'marzo',4:'abril',5:'mayo',6:'junio',7:'julio',8:'agosto',9:'septiembre',10:'octubre',11:'noviembre',12:'diciembre'}\n",
        "fechaNum=input('Ingrese una fecha(dd/mm/aaaa):')\n",
        "fecha=fechaNum.split(\"/\")\n",
        "mesNum=int(fecha[1])\n",
        "print(fecha[0],'de',mes[mesNum],fecha[2])\n"
      ]
    },
    {
      "cell_type": "markdown",
      "id": "3d4b9189",
      "metadata": {
        "id": "3d4b9189"
      },
      "source": [
        "### 2.6\n",
        "\n",
        "Escribir una función que reciba una muestra de números en una lista y devuelva su promedio.\n"
      ]
    },
    {
      "cell_type": "code",
      "execution_count": null,
      "id": "47f8d7ed",
      "metadata": {
        "id": "47f8d7ed",
        "outputId": "64866340-4fb3-4ecd-dc78-dd6f30ec978c",
        "colab": {
          "base_uri": "https://localhost:8080/"
        }
      },
      "outputs": [
        {
          "output_type": "stream",
          "name": "stdout",
          "text": [
            "El promedio de la muestra es: 30.0\n"
          ]
        }
      ],
      "source": [
        "def calcularPromedio(muestra):\n",
        "    return sum(muestra) / len(muestra)\n",
        "\n",
        "muestra = [10, 20, 30, 40, 50]\n",
        "promedio = calcularPromedio(muestra)\n",
        "print(\"El promedio de la muestra es:\", promedio)"
      ]
    },
    {
      "cell_type": "markdown",
      "id": "2e484008",
      "metadata": {
        "id": "2e484008"
      },
      "source": [
        "### 2.7\n",
        "\n",
        "Escribir una funcion que tome un string como parametro y devuelva el string pero en orden inversor\n"
      ]
    },
    {
      "cell_type": "code",
      "execution_count": null,
      "id": "6c34cd01",
      "metadata": {
        "id": "6c34cd01",
        "outputId": "c7f64e2c-c554-47eb-c91b-58be1f1e433b",
        "colab": {
          "base_uri": "https://localhost:8080/"
        }
      },
      "outputs": [
        {
          "output_type": "stream",
          "name": "stdout",
          "text": [
            "Ingrese una palabra: Palabra\n",
            "arbalaP\n"
          ]
        }
      ],
      "source": [
        "def inverse(word):\n",
        "  word=word[::-1]\n",
        "  return word\n",
        "\n",
        "word=input('Ingrese una palabra: ')\n",
        "print(inverse(word))\n",
        "\n"
      ]
    },
    {
      "cell_type": "markdown",
      "id": "ae6c901f",
      "metadata": {
        "id": "ae6c901f"
      },
      "source": [
        "### 2.8\n",
        "Escribir una funcion que tome un string como parametro y devuelva la palabra mas larga en dicho string\n"
      ]
    },
    {
      "cell_type": "code",
      "execution_count": null,
      "id": "45c77612",
      "metadata": {
        "id": "45c77612",
        "outputId": "de9a7b9f-a2e6-49dc-80aa-5e883d0212ee",
        "colab": {
          "base_uri": "https://localhost:8080/"
        }
      },
      "outputs": [
        {
          "output_type": "stream",
          "name": "stdout",
          "text": [
            "Ingrese una oración:santiago benito lucas\n",
            "santiago\n"
          ]
        }
      ],
      "source": [
        "a=input(\"Ingrese una oración:\")\n",
        "a=a.split(\" \")\n",
        "palabra=a[0]\n",
        "\n",
        "for i in a:\n",
        "  if len(palabra)<len(i): palabra=i\n",
        "\n",
        "print(palabra)"
      ]
    },
    {
      "cell_type": "markdown",
      "id": "275d9cb9",
      "metadata": {
        "id": "275d9cb9"
      },
      "source": [
        "### 2.9\n",
        "Escribir una funcion que tome dos strings como parametros y sin importar mayusculas ni minusculas devuelva:\n",
        "- True: si son iguales\n",
        "- False: si son diferentes"
      ]
    },
    {
      "cell_type": "code",
      "execution_count": null,
      "id": "8376c025",
      "metadata": {
        "id": "8376c025",
        "outputId": "02a52fd1-e0f0-4b97-dddf-810e60302e51",
        "colab": {
          "base_uri": "https://localhost:8080/"
        }
      },
      "outputs": [
        {
          "name": "stdout",
          "output_type": "stream",
          "text": [
            "Ingrese la primer palabra: HolA\n",
            "Ingrese la segunda palabra: HOLA\n"
          ]
        },
        {
          "output_type": "execute_result",
          "data": {
            "text/plain": [
              "True"
            ]
          },
          "metadata": {},
          "execution_count": 150
        }
      ],
      "source": [
        "def comparador(word1,word2):\n",
        "  if word1.lower()==word2.lower():\n",
        "    return True\n",
        "  else: return False\n",
        "\n",
        "word1=input(\"Ingrese la primer palabra: \")\n",
        "word2=input(\"Ingrese la segunda palabra: \")\n",
        "\n",
        "comparador(word1,word2)"
      ]
    },
    {
      "cell_type": "markdown",
      "id": "6e2dc662",
      "metadata": {
        "id": "6e2dc662"
      },
      "source": [
        "### 3.0\n",
        "Escribir una funcion que dado una lista de numeros devuelva la multiplicacion de todos ellos\n"
      ]
    },
    {
      "cell_type": "code",
      "execution_count": null,
      "id": "78bfdcda",
      "metadata": {
        "id": "78bfdcda",
        "outputId": "76f84088-e993-4665-af81-a3c396495418",
        "colab": {
          "base_uri": "https://localhost:8080/"
        }
      },
      "outputs": [
        {
          "output_type": "stream",
          "name": "stdout",
          "text": [
            "El resultado es: 80\n"
          ]
        }
      ],
      "source": [
        "def multiplicarNumeros(lista):\n",
        "    resultado = 1\n",
        "    for numero in lista:\n",
        "        resultado *= numero\n",
        "    return resultado\n",
        "\n",
        "numeros = [1, 5, 8, 2]\n",
        "resultado = multiplicarNumeros(numeros)\n",
        "print(\"El resultado es:\", resultado)"
      ]
    },
    {
      "cell_type": "markdown",
      "id": "6585e0d5",
      "metadata": {
        "id": "6585e0d5"
      },
      "source": [
        "### 3.1\n",
        "Escribir un programa que reciba una cadena de caracteres y devuelva un diccionario con cada palabra que contiene y su frecuencia.\n"
      ]
    },
    {
      "cell_type": "code",
      "execution_count": null,
      "id": "2661b6a0",
      "metadata": {
        "id": "2661b6a0",
        "outputId": "e5cc59d2-086f-43f0-d826-e041925966d8",
        "colab": {
          "base_uri": "https://localhost:8080/"
        }
      },
      "outputs": [
        {
          "output_type": "stream",
          "name": "stdout",
          "text": [
            "Ingrese una cadena de caracteres: Hola buenas tardes\n",
            "{'a': 3, 'b': 1, 'c': 0, 'd': 1, 'e': 2, 'f': 0, 'g': 0, 'h': 0, 'i': 0, 'j': 0, 'k': 0, 'l': 1, 'm': 0, 'n': 1, 'o': 1, 'p': 0, 'q': 0, 'r': 1, 's': 2, 't': 1, 'u': 1, 'v': 0, 'w': 0, 'x': 0, 'y': 0, 'z': 0}\n"
          ]
        }
      ],
      "source": [
        "palabra= input(\"Ingrese una cadena de caracteres: \")\n",
        "letras={ 'a': 0, 'b': 0, 'c': 0, 'd': 0, 'e': 0, 'f': 0, 'g': 0, 'h': 0, 'i': 0, 'j': 0, 'k': 0, 'l': 0, 'm': 0, 'n': 0, 'o': 0, 'p': 0, 'q': 0, 'r': 0, 's': 0, 't': 0, 'u': 0, 'v': 0, 'w': 0, 'x': 0, 'y': 0, 'z': 0}\n",
        "for i in palabra:\n",
        "  if i in letras: letras[i]+=1\n",
        "print(letras)\n",
        "\n"
      ]
    },
    {
      "cell_type": "markdown",
      "id": "a8a520af",
      "metadata": {
        "id": "a8a520af"
      },
      "source": [
        "## Depuración de errores\n",
        "\n",
        "En cada ejercicio corré el codigo, analizá el error en consola y corregilo"
      ]
    },
    {
      "cell_type": "markdown",
      "id": "ba287984",
      "metadata": {
        "id": "ba287984"
      },
      "source": [
        "### 3.2"
      ]
    },
    {
      "cell_type": "code",
      "execution_count": null,
      "id": "6633235f",
      "metadata": {
        "id": "6633235f"
      },
      "outputs": [],
      "source": []
    },
    {
      "cell_type": "code",
      "execution_count": null,
      "id": "c27c9fe6",
      "metadata": {
        "id": "c27c9fe6"
      },
      "outputs": [],
      "source": []
    },
    {
      "cell_type": "markdown",
      "id": "3311f451",
      "metadata": {
        "id": "3311f451"
      },
      "source": [
        "### 3.3"
      ]
    },
    {
      "cell_type": "code",
      "execution_count": null,
      "id": "67458b41",
      "metadata": {
        "id": "67458b41"
      },
      "outputs": [],
      "source": []
    },
    {
      "cell_type": "code",
      "execution_count": null,
      "id": "bc85d2fd",
      "metadata": {
        "id": "bc85d2fd"
      },
      "outputs": [],
      "source": []
    },
    {
      "cell_type": "markdown",
      "id": "7ba7523c",
      "metadata": {
        "id": "7ba7523c"
      },
      "source": [
        "### 3.4"
      ]
    },
    {
      "cell_type": "code",
      "execution_count": null,
      "id": "7802da60",
      "metadata": {
        "id": "7802da60"
      },
      "outputs": [],
      "source": [
        "\n"
      ]
    },
    {
      "cell_type": "markdown",
      "id": "911a54a1",
      "metadata": {
        "id": "911a54a1"
      },
      "source": [
        "### 3.5\n"
      ]
    },
    {
      "cell_type": "code",
      "execution_count": null,
      "id": "62beb032",
      "metadata": {
        "id": "62beb032"
      },
      "outputs": [],
      "source": [
        "\n"
      ]
    }
  ],
  "metadata": {
    "kernelspec": {
      "display_name": "Python 3 (ipykernel)",
      "language": "python",
      "name": "python3"
    },
    "language_info": {
      "codemirror_mode": {
        "name": "ipython",
        "version": 3
      },
      "file_extension": ".py",
      "mimetype": "text/x-python",
      "name": "python",
      "nbconvert_exporter": "python",
      "pygments_lexer": "ipython3",
      "version": "3.11.9"
    },
    "colab": {
      "provenance": [],
      "include_colab_link": true
    }
  },
  "nbformat": 4,
  "nbformat_minor": 5
}