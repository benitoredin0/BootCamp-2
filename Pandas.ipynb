{
  "cells": [
    {
      "cell_type": "markdown",
      "metadata": {
        "id": "view-in-github",
        "colab_type": "text"
      },
      "source": [
        "<a href=\"https://colab.research.google.com/github/benitoredin0/BootCamp-2/blob/main/Pandas.ipynb\" target=\"_parent\"><img src=\"https://colab.research.google.com/assets/colab-badge.svg\" alt=\"Open In Colab\"/></a>"
      ]
    },
    {
      "cell_type": "markdown",
      "id": "b74e5a3e",
      "metadata": {
        "id": "b74e5a3e"
      },
      "source": [
        "<p style=\"text-align: center;\"> <font size=\"6\">💘🐼🙏🐼 PANDAS 🐼🙏🐼💘 </font> </p>"
      ]
    },
    {
      "cell_type": "markdown",
      "id": "d9cb160f",
      "metadata": {
        "id": "d9cb160f"
      },
      "source": [
        "\n",
        "![](https://img-9gag-fun.9cache.com/photo/a61Q85R_460s.jpg)\n",
        "\n"
      ]
    },
    {
      "cell_type": "markdown",
      "id": "bdf6577a-276b-4e26-b8bd-60a25f8fa536",
      "metadata": {
        "id": "bdf6577a-276b-4e26-b8bd-60a25f8fa536"
      },
      "source": [
        "https://pandas.pydata.org/docs/user_guide/index.html"
      ]
    },
    {
      "cell_type": "code",
      "execution_count": null,
      "id": "6d557ae0",
      "metadata": {
        "id": "6d557ae0"
      },
      "outputs": [],
      "source": [
        "#pip install pandas"
      ]
    },
    {
      "cell_type": "markdown",
      "id": "b7827e10",
      "metadata": {
        "id": "b7827e10"
      },
      "source": [
        "🐼 Para tener acceso a Pandas hay que importar el módulo pandas. Por convención, se importa con el nombre **pd**"
      ]
    },
    {
      "cell_type": "code",
      "execution_count": null,
      "id": "d303da1f",
      "metadata": {
        "id": "d303da1f"
      },
      "outputs": [],
      "source": [
        "import pandas as pd"
      ]
    },
    {
      "cell_type": "markdown",
      "id": "f7b6df45",
      "metadata": {
        "id": "f7b6df45"
      },
      "source": [
        "🐼 Crear un dataframe"
      ]
    },
    {
      "cell_type": "code",
      "execution_count": 18,
      "id": "8ed4a05d",
      "metadata": {
        "id": "8ed4a05d"
      },
      "outputs": [],
      "source": [
        "precio = [2000, 12300, 43245, 325423, 200]\n",
        "ncomuna = [2, 5, 3, 4, 5]\n",
        "ambientes = [2, 1, 4, 5, 6]"
      ]
    },
    {
      "cell_type": "code",
      "execution_count": 19,
      "id": "ea8b8880",
      "metadata": {
        "id": "ea8b8880"
      },
      "outputs": [],
      "source": [
        "tabla = {\n",
        "    \"precio\":precio,\n",
        "    \"ncomuna\":ncomuna,\n",
        "    \"ambientes\":ambientes\n",
        "        }"
      ]
    },
    {
      "cell_type": "code",
      "execution_count": 20,
      "id": "d8e730d8",
      "metadata": {
        "id": "d8e730d8",
        "outputId": "a289b807-9a42-4193-d380-c2e62bbb8d9b",
        "colab": {
          "base_uri": "https://localhost:8080/"
        }
      },
      "outputs": [
        {
          "output_type": "stream",
          "name": "stdout",
          "text": [
            "   precio  ncomuna  ambientes\n",
            "0    2000        2          2\n",
            "1   12300        5          1\n",
            "2   43245        3          4\n",
            "3  325423        4          5\n",
            "4     200        5          6\n"
          ]
        }
      ],
      "source": [
        "df = pd.DataFrame(tabla)\n",
        "print(df)"
      ]
    },
    {
      "cell_type": "markdown",
      "id": "b76566c5",
      "metadata": {
        "id": "b76566c5"
      },
      "source": [
        "🐼 Con la instruccion anterior creamos un objeto llamado ``DataFrame`` en la variable ``df``. Este es el **núcleo** de Pandas y vamos a explorar muchas de las cosas que se puede hacer a lo largo de las clases."
      ]
    },
    {
      "cell_type": "code",
      "execution_count": null,
      "id": "76cbbdba",
      "metadata": {
        "id": "76cbbdba"
      },
      "outputs": [],
      "source": []
    },
    {
      "cell_type": "code",
      "execution_count": null,
      "id": "caf30efb",
      "metadata": {
        "id": "caf30efb"
      },
      "outputs": [],
      "source": []
    },
    {
      "cell_type": "markdown",
      "id": "9c650e38",
      "metadata": {
        "id": "9c650e38"
      },
      "source": [
        "🐼 Entonces, un DataFrame es una tabla de datos, tiene columnas y filas. En este caso particular, cada fila o registro del dataframe pertenece a una propiedad, teniendo como informacion:\n",
        "\n",
        "- Su precio\n",
        "- El numero de comuna a la que pertenece\n",
        "- El numero de ambientes que posee.\n",
        "\n",
        "🐼 Podemos ver que hay algunas partes clave de la salida:\n",
        "\n",
        "- En el lado izquierdo en negrita está el índice. Estos pueden considerarse como números de fila y como todo indice identifica a su fila de forma unica (no se repiten). En este caso simplemente el indice es un incremental.\n",
        "- En la parte superior están los nombres de las columnas. Cuando queramos referirnos a una columna en particular en nuestro DataFrame, usaremos estos nombres.\n",
        "- A continuación, los datos reales se organizan en el centro de la tabla. En su mayoría, estos son datos que nos importan."
      ]
    },
    {
      "cell_type": "markdown",
      "id": "04f65830",
      "metadata": {
        "id": "04f65830"
      },
      "source": [
        "🐼 Podemos imprimir la cantidad de filas y columnas que tiene el DataFrame"
      ]
    },
    {
      "cell_type": "code",
      "execution_count": 21,
      "id": "a9cc6b18",
      "metadata": {
        "id": "a9cc6b18",
        "colab": {
          "base_uri": "https://localhost:8080/"
        },
        "outputId": "1afca1b9-93cf-49aa-a93e-dd867d1aa1b6"
      },
      "outputs": [
        {
          "output_type": "stream",
          "name": "stdout",
          "text": [
            "0      2000\n",
            "1     12300\n",
            "2     43245\n",
            "3    325423\n",
            "4       200\n",
            "Name: precio, dtype: int64\n"
          ]
        }
      ],
      "source": [
        "print(df.precio)"
      ]
    },
    {
      "cell_type": "markdown",
      "id": "5d7219be",
      "metadata": {
        "id": "5d7219be"
      },
      "source": [
        "Ponele voluntad..."
      ]
    },
    {
      "cell_type": "code",
      "execution_count": null,
      "id": "bceab7c0",
      "metadata": {
        "id": "bceab7c0"
      },
      "outputs": [],
      "source": []
    },
    {
      "cell_type": "markdown",
      "id": "5605d418",
      "metadata": {
        "id": "5605d418"
      },
      "source": [
        "🐼 Podemos imprimir el nombre de las columnas"
      ]
    },
    {
      "cell_type": "code",
      "execution_count": 9,
      "id": "a18a50ef",
      "metadata": {
        "id": "a18a50ef",
        "colab": {
          "base_uri": "https://localhost:8080/"
        },
        "outputId": "85e38a4e-365a-4b37-bb6c-d5655c4f9daf"
      },
      "outputs": [
        {
          "output_type": "execute_result",
          "data": {
            "text/plain": [
              "Index(['precio', 'ncomuna', 'ambientes'], dtype='object')"
            ]
          },
          "metadata": {},
          "execution_count": 9
        }
      ],
      "source": [
        "df.columns"
      ]
    },
    {
      "cell_type": "code",
      "execution_count": null,
      "id": "47fe4172",
      "metadata": {
        "id": "47fe4172"
      },
      "outputs": [],
      "source": []
    },
    {
      "cell_type": "markdown",
      "id": "4716bc56",
      "metadata": {
        "id": "4716bc56"
      },
      "source": [
        "🐼 Ejercicio: poner en mayusculas el nombre de todas las columnas"
      ]
    },
    {
      "cell_type": "code",
      "execution_count": 22,
      "id": "701b3761",
      "metadata": {
        "id": "701b3761",
        "colab": {
          "base_uri": "https://localhost:8080/"
        },
        "outputId": "c56aa47e-03b3-46ac-8a64-9cf59c0b13cf"
      },
      "outputs": [
        {
          "output_type": "execute_result",
          "data": {
            "text/plain": [
              "Index(['PRECIO', 'NCOMUNA', 'AMBIENTES'], dtype='object')"
            ]
          },
          "metadata": {},
          "execution_count": 22
        }
      ],
      "source": [
        "df.columns = df.columns.str.upper()\n",
        "df.columns"
      ]
    },
    {
      "cell_type": "markdown",
      "id": "97ff158d",
      "metadata": {
        "id": "97ff158d"
      },
      "source": [
        "Y si tenemos 300 columnas? se utiliza FOR:"
      ]
    },
    {
      "cell_type": "code",
      "execution_count": null,
      "id": "411b45d6",
      "metadata": {
        "id": "411b45d6"
      },
      "outputs": [],
      "source": []
    },
    {
      "cell_type": "code",
      "execution_count": null,
      "id": "0eddaabf",
      "metadata": {
        "id": "0eddaabf"
      },
      "outputs": [],
      "source": []
    },
    {
      "cell_type": "code",
      "execution_count": null,
      "id": "f03cbec4",
      "metadata": {
        "id": "f03cbec4"
      },
      "outputs": [],
      "source": []
    },
    {
      "cell_type": "code",
      "execution_count": null,
      "id": "baac68bc",
      "metadata": {
        "id": "baac68bc"
      },
      "outputs": [],
      "source": []
    },
    {
      "cell_type": "markdown",
      "id": "2376f768",
      "metadata": {
        "id": "2376f768"
      },
      "source": [
        "🐼 Ejercicio: Modificar el indice por esta lista los siguientes elementos: [10, 9, 8, 7, \"pepe\"]"
      ]
    },
    {
      "cell_type": "code",
      "execution_count": 23,
      "id": "835508ef",
      "metadata": {
        "id": "835508ef",
        "colab": {
          "base_uri": "https://localhost:8080/"
        },
        "outputId": "0dc71563-2d0a-4039-c22a-28ff14cf282f"
      },
      "outputs": [
        {
          "output_type": "stream",
          "name": "stdout",
          "text": [
            "      PRECIO  NCOMUNA  AMBIENTES\n",
            "10      2000        2          2\n",
            "9      12300        5          1\n",
            "8      43245        3          4\n",
            "7     325423        4          5\n",
            "pepe     200        5          6\n"
          ]
        }
      ],
      "source": [
        "nuevo_indice =  [10, 9, 8, 7, \"pepe\"]\n",
        "df = df.set_index(pd.Index(nuevo_indice))\n",
        "\n",
        "print(df)"
      ]
    },
    {
      "cell_type": "code",
      "execution_count": null,
      "id": "dd4b4491",
      "metadata": {
        "id": "dd4b4491"
      },
      "outputs": [],
      "source": []
    },
    {
      "cell_type": "code",
      "execution_count": null,
      "id": "728d6491",
      "metadata": {
        "id": "728d6491"
      },
      "outputs": [],
      "source": []
    },
    {
      "cell_type": "markdown",
      "id": "b00886a4",
      "metadata": {
        "id": "b00886a4"
      },
      "source": [
        "🐼 Resetear el indice para que vuelva a estar entre 0 y n"
      ]
    },
    {
      "cell_type": "code",
      "execution_count": 24,
      "id": "ace3450a",
      "metadata": {
        "id": "ace3450a",
        "colab": {
          "base_uri": "https://localhost:8080/"
        },
        "outputId": "d34846b4-c433-44d5-cfe9-acbfa049de57"
      },
      "outputs": [
        {
          "output_type": "stream",
          "name": "stdout",
          "text": [
            "   PRECIO  NCOMUNA  AMBIENTES\n",
            "0    2000        2          2\n",
            "1   12300        5          1\n",
            "2   43245        3          4\n",
            "3  325423        4          5\n",
            "4     200        5          6\n"
          ]
        }
      ],
      "source": [
        "df = df.reset_index(drop=True)\n",
        "print(df)"
      ]
    },
    {
      "cell_type": "code",
      "execution_count": null,
      "id": "94dbf5da",
      "metadata": {
        "id": "94dbf5da"
      },
      "outputs": [],
      "source": []
    },
    {
      "cell_type": "markdown",
      "id": "d19ba8af",
      "metadata": {
        "id": "d19ba8af"
      },
      "source": [
        "🐼 Importar un csv que tengamos en nuestro local o en una direccion web"
      ]
    },
    {
      "cell_type": "code",
      "execution_count": 25,
      "id": "ad4e381b",
      "metadata": {
        "id": "ad4e381b"
      },
      "outputs": [],
      "source": [
        "departamentos = pd.read_csv('https://raw.githubusercontent.com/ConroSatchmo/datasets/main/departamentos.csv')"
      ]
    },
    {
      "cell_type": "code",
      "execution_count": 26,
      "id": "2535e956",
      "metadata": {
        "id": "2535e956",
        "colab": {
          "base_uri": "https://localhost:8080/",
          "height": 424
        },
        "outputId": "7cfccae5-379d-4da2-ad6d-39677ab45dd7"
      },
      "outputs": [
        {
          "output_type": "execute_result",
          "data": {
            "text/plain": [
              "       M2  AMBIENTES  ANTIGUEDAD  BAÑOS    LATITUD   LONGITUD     COMUNA  \\\n",
              "0      81          3           4      1 -34.581078 -58.449433  COMUNA 13   \n",
              "1      69          3          20      1 -34.623129 -58.439338  COMUNA 06   \n",
              "2      75          3          20      1 -34.604972 -58.421278  COMUNA 05   \n",
              "3      42          2          40      1 -34.604725 -58.399524  COMUNA 03   \n",
              "4      90          3           1      1 -34.623390 -58.504401  COMUNA 10   \n",
              "...   ...        ...         ...    ...        ...        ...        ...   \n",
              "2227   88          4          20      2 -34.550152 -58.470136  COMUNA 13   \n",
              "2228   35          1          35      1 -34.602256 -58.429315  COMUNA 05   \n",
              "2229  117          3          10      2 -34.620314 -58.365451  COMUNA 01   \n",
              "2230   69          4          40      1 -34.628533 -58.427748  COMUNA 07   \n",
              "2231   73          4          50      2 -34.596659 -58.378396  COMUNA 01   \n",
              "\n",
              "      DOLARES  \n",
              "0      225000  \n",
              "1      140000  \n",
              "2      154000  \n",
              "3       75000  \n",
              "4      149900  \n",
              "...       ...  \n",
              "2227   165000  \n",
              "2228    79900  \n",
              "2229   520000  \n",
              "2230   132000  \n",
              "2231   179000  \n",
              "\n",
              "[2232 rows x 8 columns]"
            ],
            "text/html": [
              "\n",
              "  <div id=\"df-d09f7554-7d6c-402f-a179-28209bc6f231\" class=\"colab-df-container\">\n",
              "    <div>\n",
              "<style scoped>\n",
              "    .dataframe tbody tr th:only-of-type {\n",
              "        vertical-align: middle;\n",
              "    }\n",
              "\n",
              "    .dataframe tbody tr th {\n",
              "        vertical-align: top;\n",
              "    }\n",
              "\n",
              "    .dataframe thead th {\n",
              "        text-align: right;\n",
              "    }\n",
              "</style>\n",
              "<table border=\"1\" class=\"dataframe\">\n",
              "  <thead>\n",
              "    <tr style=\"text-align: right;\">\n",
              "      <th></th>\n",
              "      <th>M2</th>\n",
              "      <th>AMBIENTES</th>\n",
              "      <th>ANTIGUEDAD</th>\n",
              "      <th>BAÑOS</th>\n",
              "      <th>LATITUD</th>\n",
              "      <th>LONGITUD</th>\n",
              "      <th>COMUNA</th>\n",
              "      <th>DOLARES</th>\n",
              "    </tr>\n",
              "  </thead>\n",
              "  <tbody>\n",
              "    <tr>\n",
              "      <th>0</th>\n",
              "      <td>81</td>\n",
              "      <td>3</td>\n",
              "      <td>4</td>\n",
              "      <td>1</td>\n",
              "      <td>-34.581078</td>\n",
              "      <td>-58.449433</td>\n",
              "      <td>COMUNA 13</td>\n",
              "      <td>225000</td>\n",
              "    </tr>\n",
              "    <tr>\n",
              "      <th>1</th>\n",
              "      <td>69</td>\n",
              "      <td>3</td>\n",
              "      <td>20</td>\n",
              "      <td>1</td>\n",
              "      <td>-34.623129</td>\n",
              "      <td>-58.439338</td>\n",
              "      <td>COMUNA 06</td>\n",
              "      <td>140000</td>\n",
              "    </tr>\n",
              "    <tr>\n",
              "      <th>2</th>\n",
              "      <td>75</td>\n",
              "      <td>3</td>\n",
              "      <td>20</td>\n",
              "      <td>1</td>\n",
              "      <td>-34.604972</td>\n",
              "      <td>-58.421278</td>\n",
              "      <td>COMUNA 05</td>\n",
              "      <td>154000</td>\n",
              "    </tr>\n",
              "    <tr>\n",
              "      <th>3</th>\n",
              "      <td>42</td>\n",
              "      <td>2</td>\n",
              "      <td>40</td>\n",
              "      <td>1</td>\n",
              "      <td>-34.604725</td>\n",
              "      <td>-58.399524</td>\n",
              "      <td>COMUNA 03</td>\n",
              "      <td>75000</td>\n",
              "    </tr>\n",
              "    <tr>\n",
              "      <th>4</th>\n",
              "      <td>90</td>\n",
              "      <td>3</td>\n",
              "      <td>1</td>\n",
              "      <td>1</td>\n",
              "      <td>-34.623390</td>\n",
              "      <td>-58.504401</td>\n",
              "      <td>COMUNA 10</td>\n",
              "      <td>149900</td>\n",
              "    </tr>\n",
              "    <tr>\n",
              "      <th>...</th>\n",
              "      <td>...</td>\n",
              "      <td>...</td>\n",
              "      <td>...</td>\n",
              "      <td>...</td>\n",
              "      <td>...</td>\n",
              "      <td>...</td>\n",
              "      <td>...</td>\n",
              "      <td>...</td>\n",
              "    </tr>\n",
              "    <tr>\n",
              "      <th>2227</th>\n",
              "      <td>88</td>\n",
              "      <td>4</td>\n",
              "      <td>20</td>\n",
              "      <td>2</td>\n",
              "      <td>-34.550152</td>\n",
              "      <td>-58.470136</td>\n",
              "      <td>COMUNA 13</td>\n",
              "      <td>165000</td>\n",
              "    </tr>\n",
              "    <tr>\n",
              "      <th>2228</th>\n",
              "      <td>35</td>\n",
              "      <td>1</td>\n",
              "      <td>35</td>\n",
              "      <td>1</td>\n",
              "      <td>-34.602256</td>\n",
              "      <td>-58.429315</td>\n",
              "      <td>COMUNA 05</td>\n",
              "      <td>79900</td>\n",
              "    </tr>\n",
              "    <tr>\n",
              "      <th>2229</th>\n",
              "      <td>117</td>\n",
              "      <td>3</td>\n",
              "      <td>10</td>\n",
              "      <td>2</td>\n",
              "      <td>-34.620314</td>\n",
              "      <td>-58.365451</td>\n",
              "      <td>COMUNA 01</td>\n",
              "      <td>520000</td>\n",
              "    </tr>\n",
              "    <tr>\n",
              "      <th>2230</th>\n",
              "      <td>69</td>\n",
              "      <td>4</td>\n",
              "      <td>40</td>\n",
              "      <td>1</td>\n",
              "      <td>-34.628533</td>\n",
              "      <td>-58.427748</td>\n",
              "      <td>COMUNA 07</td>\n",
              "      <td>132000</td>\n",
              "    </tr>\n",
              "    <tr>\n",
              "      <th>2231</th>\n",
              "      <td>73</td>\n",
              "      <td>4</td>\n",
              "      <td>50</td>\n",
              "      <td>2</td>\n",
              "      <td>-34.596659</td>\n",
              "      <td>-58.378396</td>\n",
              "      <td>COMUNA 01</td>\n",
              "      <td>179000</td>\n",
              "    </tr>\n",
              "  </tbody>\n",
              "</table>\n",
              "<p>2232 rows × 8 columns</p>\n",
              "</div>\n",
              "    <div class=\"colab-df-buttons\">\n",
              "\n",
              "  <div class=\"colab-df-container\">\n",
              "    <button class=\"colab-df-convert\" onclick=\"convertToInteractive('df-d09f7554-7d6c-402f-a179-28209bc6f231')\"\n",
              "            title=\"Convert this dataframe to an interactive table.\"\n",
              "            style=\"display:none;\">\n",
              "\n",
              "  <svg xmlns=\"http://www.w3.org/2000/svg\" height=\"24px\" viewBox=\"0 -960 960 960\">\n",
              "    <path d=\"M120-120v-720h720v720H120Zm60-500h600v-160H180v160Zm220 220h160v-160H400v160Zm0 220h160v-160H400v160ZM180-400h160v-160H180v160Zm440 0h160v-160H620v160ZM180-180h160v-160H180v160Zm440 0h160v-160H620v160Z\"/>\n",
              "  </svg>\n",
              "    </button>\n",
              "\n",
              "  <style>\n",
              "    .colab-df-container {\n",
              "      display:flex;\n",
              "      gap: 12px;\n",
              "    }\n",
              "\n",
              "    .colab-df-convert {\n",
              "      background-color: #E8F0FE;\n",
              "      border: none;\n",
              "      border-radius: 50%;\n",
              "      cursor: pointer;\n",
              "      display: none;\n",
              "      fill: #1967D2;\n",
              "      height: 32px;\n",
              "      padding: 0 0 0 0;\n",
              "      width: 32px;\n",
              "    }\n",
              "\n",
              "    .colab-df-convert:hover {\n",
              "      background-color: #E2EBFA;\n",
              "      box-shadow: 0px 1px 2px rgba(60, 64, 67, 0.3), 0px 1px 3px 1px rgba(60, 64, 67, 0.15);\n",
              "      fill: #174EA6;\n",
              "    }\n",
              "\n",
              "    .colab-df-buttons div {\n",
              "      margin-bottom: 4px;\n",
              "    }\n",
              "\n",
              "    [theme=dark] .colab-df-convert {\n",
              "      background-color: #3B4455;\n",
              "      fill: #D2E3FC;\n",
              "    }\n",
              "\n",
              "    [theme=dark] .colab-df-convert:hover {\n",
              "      background-color: #434B5C;\n",
              "      box-shadow: 0px 1px 3px 1px rgba(0, 0, 0, 0.15);\n",
              "      filter: drop-shadow(0px 1px 2px rgba(0, 0, 0, 0.3));\n",
              "      fill: #FFFFFF;\n",
              "    }\n",
              "  </style>\n",
              "\n",
              "    <script>\n",
              "      const buttonEl =\n",
              "        document.querySelector('#df-d09f7554-7d6c-402f-a179-28209bc6f231 button.colab-df-convert');\n",
              "      buttonEl.style.display =\n",
              "        google.colab.kernel.accessAllowed ? 'block' : 'none';\n",
              "\n",
              "      async function convertToInteractive(key) {\n",
              "        const element = document.querySelector('#df-d09f7554-7d6c-402f-a179-28209bc6f231');\n",
              "        const dataTable =\n",
              "          await google.colab.kernel.invokeFunction('convertToInteractive',\n",
              "                                                    [key], {});\n",
              "        if (!dataTable) return;\n",
              "\n",
              "        const docLinkHtml = 'Like what you see? Visit the ' +\n",
              "          '<a target=\"_blank\" href=https://colab.research.google.com/notebooks/data_table.ipynb>data table notebook</a>'\n",
              "          + ' to learn more about interactive tables.';\n",
              "        element.innerHTML = '';\n",
              "        dataTable['output_type'] = 'display_data';\n",
              "        await google.colab.output.renderOutput(dataTable, element);\n",
              "        const docLink = document.createElement('div');\n",
              "        docLink.innerHTML = docLinkHtml;\n",
              "        element.appendChild(docLink);\n",
              "      }\n",
              "    </script>\n",
              "  </div>\n",
              "\n",
              "\n",
              "<div id=\"df-256a44ac-a8f9-4cf6-a337-de311f7d403b\">\n",
              "  <button class=\"colab-df-quickchart\" onclick=\"quickchart('df-256a44ac-a8f9-4cf6-a337-de311f7d403b')\"\n",
              "            title=\"Suggest charts\"\n",
              "            style=\"display:none;\">\n",
              "\n",
              "<svg xmlns=\"http://www.w3.org/2000/svg\" height=\"24px\"viewBox=\"0 0 24 24\"\n",
              "     width=\"24px\">\n",
              "    <g>\n",
              "        <path d=\"M19 3H5c-1.1 0-2 .9-2 2v14c0 1.1.9 2 2 2h14c1.1 0 2-.9 2-2V5c0-1.1-.9-2-2-2zM9 17H7v-7h2v7zm4 0h-2V7h2v10zm4 0h-2v-4h2v4z\"/>\n",
              "    </g>\n",
              "</svg>\n",
              "  </button>\n",
              "\n",
              "<style>\n",
              "  .colab-df-quickchart {\n",
              "      --bg-color: #E8F0FE;\n",
              "      --fill-color: #1967D2;\n",
              "      --hover-bg-color: #E2EBFA;\n",
              "      --hover-fill-color: #174EA6;\n",
              "      --disabled-fill-color: #AAA;\n",
              "      --disabled-bg-color: #DDD;\n",
              "  }\n",
              "\n",
              "  [theme=dark] .colab-df-quickchart {\n",
              "      --bg-color: #3B4455;\n",
              "      --fill-color: #D2E3FC;\n",
              "      --hover-bg-color: #434B5C;\n",
              "      --hover-fill-color: #FFFFFF;\n",
              "      --disabled-bg-color: #3B4455;\n",
              "      --disabled-fill-color: #666;\n",
              "  }\n",
              "\n",
              "  .colab-df-quickchart {\n",
              "    background-color: var(--bg-color);\n",
              "    border: none;\n",
              "    border-radius: 50%;\n",
              "    cursor: pointer;\n",
              "    display: none;\n",
              "    fill: var(--fill-color);\n",
              "    height: 32px;\n",
              "    padding: 0;\n",
              "    width: 32px;\n",
              "  }\n",
              "\n",
              "  .colab-df-quickchart:hover {\n",
              "    background-color: var(--hover-bg-color);\n",
              "    box-shadow: 0 1px 2px rgba(60, 64, 67, 0.3), 0 1px 3px 1px rgba(60, 64, 67, 0.15);\n",
              "    fill: var(--button-hover-fill-color);\n",
              "  }\n",
              "\n",
              "  .colab-df-quickchart-complete:disabled,\n",
              "  .colab-df-quickchart-complete:disabled:hover {\n",
              "    background-color: var(--disabled-bg-color);\n",
              "    fill: var(--disabled-fill-color);\n",
              "    box-shadow: none;\n",
              "  }\n",
              "\n",
              "  .colab-df-spinner {\n",
              "    border: 2px solid var(--fill-color);\n",
              "    border-color: transparent;\n",
              "    border-bottom-color: var(--fill-color);\n",
              "    animation:\n",
              "      spin 1s steps(1) infinite;\n",
              "  }\n",
              "\n",
              "  @keyframes spin {\n",
              "    0% {\n",
              "      border-color: transparent;\n",
              "      border-bottom-color: var(--fill-color);\n",
              "      border-left-color: var(--fill-color);\n",
              "    }\n",
              "    20% {\n",
              "      border-color: transparent;\n",
              "      border-left-color: var(--fill-color);\n",
              "      border-top-color: var(--fill-color);\n",
              "    }\n",
              "    30% {\n",
              "      border-color: transparent;\n",
              "      border-left-color: var(--fill-color);\n",
              "      border-top-color: var(--fill-color);\n",
              "      border-right-color: var(--fill-color);\n",
              "    }\n",
              "    40% {\n",
              "      border-color: transparent;\n",
              "      border-right-color: var(--fill-color);\n",
              "      border-top-color: var(--fill-color);\n",
              "    }\n",
              "    60% {\n",
              "      border-color: transparent;\n",
              "      border-right-color: var(--fill-color);\n",
              "    }\n",
              "    80% {\n",
              "      border-color: transparent;\n",
              "      border-right-color: var(--fill-color);\n",
              "      border-bottom-color: var(--fill-color);\n",
              "    }\n",
              "    90% {\n",
              "      border-color: transparent;\n",
              "      border-bottom-color: var(--fill-color);\n",
              "    }\n",
              "  }\n",
              "</style>\n",
              "\n",
              "  <script>\n",
              "    async function quickchart(key) {\n",
              "      const quickchartButtonEl =\n",
              "        document.querySelector('#' + key + ' button');\n",
              "      quickchartButtonEl.disabled = true;  // To prevent multiple clicks.\n",
              "      quickchartButtonEl.classList.add('colab-df-spinner');\n",
              "      try {\n",
              "        const charts = await google.colab.kernel.invokeFunction(\n",
              "            'suggestCharts', [key], {});\n",
              "      } catch (error) {\n",
              "        console.error('Error during call to suggestCharts:', error);\n",
              "      }\n",
              "      quickchartButtonEl.classList.remove('colab-df-spinner');\n",
              "      quickchartButtonEl.classList.add('colab-df-quickchart-complete');\n",
              "    }\n",
              "    (() => {\n",
              "      let quickchartButtonEl =\n",
              "        document.querySelector('#df-256a44ac-a8f9-4cf6-a337-de311f7d403b button');\n",
              "      quickchartButtonEl.style.display =\n",
              "        google.colab.kernel.accessAllowed ? 'block' : 'none';\n",
              "    })();\n",
              "  </script>\n",
              "</div>\n",
              "\n",
              "  <div id=\"id_3c7a0266-8435-4c62-84ae-e2b787ec49fd\">\n",
              "    <style>\n",
              "      .colab-df-generate {\n",
              "        background-color: #E8F0FE;\n",
              "        border: none;\n",
              "        border-radius: 50%;\n",
              "        cursor: pointer;\n",
              "        display: none;\n",
              "        fill: #1967D2;\n",
              "        height: 32px;\n",
              "        padding: 0 0 0 0;\n",
              "        width: 32px;\n",
              "      }\n",
              "\n",
              "      .colab-df-generate:hover {\n",
              "        background-color: #E2EBFA;\n",
              "        box-shadow: 0px 1px 2px rgba(60, 64, 67, 0.3), 0px 1px 3px 1px rgba(60, 64, 67, 0.15);\n",
              "        fill: #174EA6;\n",
              "      }\n",
              "\n",
              "      [theme=dark] .colab-df-generate {\n",
              "        background-color: #3B4455;\n",
              "        fill: #D2E3FC;\n",
              "      }\n",
              "\n",
              "      [theme=dark] .colab-df-generate:hover {\n",
              "        background-color: #434B5C;\n",
              "        box-shadow: 0px 1px 3px 1px rgba(0, 0, 0, 0.15);\n",
              "        filter: drop-shadow(0px 1px 2px rgba(0, 0, 0, 0.3));\n",
              "        fill: #FFFFFF;\n",
              "      }\n",
              "    </style>\n",
              "    <button class=\"colab-df-generate\" onclick=\"generateWithVariable('departamentos')\"\n",
              "            title=\"Generate code using this dataframe.\"\n",
              "            style=\"display:none;\">\n",
              "\n",
              "  <svg xmlns=\"http://www.w3.org/2000/svg\" height=\"24px\"viewBox=\"0 0 24 24\"\n",
              "       width=\"24px\">\n",
              "    <path d=\"M7,19H8.4L18.45,9,17,7.55,7,17.6ZM5,21V16.75L18.45,3.32a2,2,0,0,1,2.83,0l1.4,1.43a1.91,1.91,0,0,1,.58,1.4,1.91,1.91,0,0,1-.58,1.4L9.25,21ZM18.45,9,17,7.55Zm-12,3A5.31,5.31,0,0,0,4.9,8.1,5.31,5.31,0,0,0,1,6.5,5.31,5.31,0,0,0,4.9,4.9,5.31,5.31,0,0,0,6.5,1,5.31,5.31,0,0,0,8.1,4.9,5.31,5.31,0,0,0,12,6.5,5.46,5.46,0,0,0,6.5,12Z\"/>\n",
              "  </svg>\n",
              "    </button>\n",
              "    <script>\n",
              "      (() => {\n",
              "      const buttonEl =\n",
              "        document.querySelector('#id_3c7a0266-8435-4c62-84ae-e2b787ec49fd button.colab-df-generate');\n",
              "      buttonEl.style.display =\n",
              "        google.colab.kernel.accessAllowed ? 'block' : 'none';\n",
              "\n",
              "      buttonEl.onclick = () => {\n",
              "        google.colab.notebook.generateWithVariable('departamentos');\n",
              "      }\n",
              "      })();\n",
              "    </script>\n",
              "  </div>\n",
              "\n",
              "    </div>\n",
              "  </div>\n"
            ],
            "application/vnd.google.colaboratory.intrinsic+json": {
              "type": "dataframe",
              "variable_name": "departamentos",
              "summary": "{\n  \"name\": \"departamentos\",\n  \"rows\": 2232,\n  \"fields\": [\n    {\n      \"column\": \"M2\",\n      \"properties\": {\n        \"dtype\": \"number\",\n        \"std\": 58,\n        \"min\": 15,\n        \"max\": 730,\n        \"num_unique_values\": 221,\n        \"samples\": [\n          160,\n          126,\n          61\n        ],\n        \"semantic_type\": \"\",\n        \"description\": \"\"\n      }\n    },\n    {\n      \"column\": \"AMBIENTES\",\n      \"properties\": {\n        \"dtype\": \"number\",\n        \"std\": 1,\n        \"min\": 1,\n        \"max\": 10,\n        \"num_unique_values\": 9,\n        \"samples\": [\n          7,\n          2,\n          6\n        ],\n        \"semantic_type\": \"\",\n        \"description\": \"\"\n      }\n    },\n    {\n      \"column\": \"ANTIGUEDAD\",\n      \"properties\": {\n        \"dtype\": \"number\",\n        \"std\": 18,\n        \"min\": 1,\n        \"max\": 110,\n        \"num_unique_values\": 64,\n        \"samples\": [\n          29,\n          75,\n          4\n        ],\n        \"semantic_type\": \"\",\n        \"description\": \"\"\n      }\n    },\n    {\n      \"column\": \"BA\\u00d1OS\",\n      \"properties\": {\n        \"dtype\": \"number\",\n        \"std\": 0,\n        \"min\": 1,\n        \"max\": 6,\n        \"num_unique_values\": 6,\n        \"samples\": [\n          1,\n          2,\n          5\n        ],\n        \"semantic_type\": \"\",\n        \"description\": \"\"\n      }\n    },\n    {\n      \"column\": \"LATITUD\",\n      \"properties\": {\n        \"dtype\": \"number\",\n        \"std\": 0.022612748735094376,\n        \"min\": -34.68491929893829,\n        \"max\": -34.53730822008631,\n        \"num_unique_values\": 1374,\n        \"samples\": [\n          -34.62158984847588,\n          -34.56169943299393,\n          -34.618979145410826\n        ],\n        \"semantic_type\": \"\",\n        \"description\": \"\"\n      }\n    },\n    {\n      \"column\": \"LONGITUD\",\n      \"properties\": {\n        \"dtype\": \"number\",\n        \"std\": 0.034101726174456774,\n        \"min\": -58.52747608345872,\n        \"max\": -58.35381206090168,\n        \"num_unique_values\": 1374,\n        \"samples\": [\n          -58.42512074149378,\n          -58.451219390270175,\n          -58.39027952392485\n        ],\n        \"semantic_type\": \"\",\n        \"description\": \"\"\n      }\n    },\n    {\n      \"column\": \"COMUNA\",\n      \"properties\": {\n        \"dtype\": \"category\",\n        \"num_unique_values\": 15,\n        \"samples\": [\n          \"COMUNA 01\",\n          \"COMUNA 11\",\n          \"COMUNA 13\"\n        ],\n        \"semantic_type\": \"\",\n        \"description\": \"\"\n      }\n    },\n    {\n      \"column\": \"DOLARES\",\n      \"properties\": {\n        \"dtype\": \"number\",\n        \"std\": 186368,\n        \"min\": 7428,\n        \"max\": 1800000,\n        \"num_unique_values\": 402,\n        \"samples\": [\n          470000,\n          1050000,\n          980000\n        ],\n        \"semantic_type\": \"\",\n        \"description\": \"\"\n      }\n    }\n  ]\n}"
            }
          },
          "metadata": {},
          "execution_count": 26
        }
      ],
      "source": [
        "departamentos"
      ]
    },
    {
      "cell_type": "markdown",
      "id": "2588e9e4",
      "metadata": {
        "id": "2588e9e4"
      },
      "source": [
        "🐼 Supongamos que solo me interesa la columna dolares"
      ]
    },
    {
      "cell_type": "code",
      "execution_count": 27,
      "id": "910a3161",
      "metadata": {
        "id": "910a3161",
        "colab": {
          "base_uri": "https://localhost:8080/"
        },
        "outputId": "a254679d-29a6-49da-9e4c-9f33d3e07eed"
      },
      "outputs": [
        {
          "output_type": "execute_result",
          "data": {
            "text/plain": [
              "0       225000\n",
              "1       140000\n",
              "2       154000\n",
              "3        75000\n",
              "4       149900\n",
              "         ...  \n",
              "2227    165000\n",
              "2228     79900\n",
              "2229    520000\n",
              "2230    132000\n",
              "2231    179000\n",
              "Name: DOLARES, Length: 2232, dtype: int64"
            ]
          },
          "metadata": {},
          "execution_count": 27
        }
      ],
      "source": [
        "departamentos.DOLARES"
      ]
    },
    {
      "cell_type": "code",
      "execution_count": null,
      "id": "f3b5cd96",
      "metadata": {
        "id": "f3b5cd96"
      },
      "outputs": [],
      "source": []
    },
    {
      "cell_type": "markdown",
      "id": "6dce2237",
      "metadata": {
        "id": "6dce2237"
      },
      "source": [
        "Un objeto ``Series`` es un objeto unidimensional, **similar a una columna en una tabla**.\n",
        "\n",
        "Un objeto de tipo Series tiene dos componentes principales:\n",
        "\n",
        "- Un indice, que contiene valores unicos y se usa para acceder a los valores. Por defecto, cada elemento recibirá una etiqueta que va de 0 a N-1, donde N es la longitud/tamaño de la colección.\n",
        "- Los valores.\n",
        "\n",
        "**Un conjunto de Series forman un DataFrame**\n",
        "\n",
        "Como nos sentimos mas comodos con los DataFrame que con las Series, podemos pasar le obejeto ``Series`` a ``DataFrame``"
      ]
    },
    {
      "cell_type": "code",
      "execution_count": null,
      "id": "7148608b",
      "metadata": {
        "id": "7148608b"
      },
      "outputs": [],
      "source": []
    },
    {
      "cell_type": "code",
      "execution_count": null,
      "id": "c6bded5c",
      "metadata": {
        "id": "c6bded5c"
      },
      "outputs": [],
      "source": []
    },
    {
      "cell_type": "code",
      "execution_count": null,
      "id": "c10b4d1b",
      "metadata": {
        "id": "c10b4d1b"
      },
      "outputs": [],
      "source": []
    },
    {
      "cell_type": "markdown",
      "id": "84488ec8",
      "metadata": {
        "id": "84488ec8"
      },
      "source": [
        "##### 🐼 Imprimir los primeros 5 registros/filas"
      ]
    },
    {
      "cell_type": "code",
      "execution_count": 31,
      "id": "9a013894",
      "metadata": {
        "id": "9a013894",
        "colab": {
          "base_uri": "https://localhost:8080/",
          "height": 206
        },
        "outputId": "9b64da69-10f9-44ee-9470-9276dc0a1de6"
      },
      "outputs": [
        {
          "output_type": "execute_result",
          "data": {
            "text/plain": [
              "   M2  AMBIENTES  ANTIGUEDAD  BAÑOS    LATITUD   LONGITUD     COMUNA  DOLARES\n",
              "0  81          3           4      1 -34.581078 -58.449433  COMUNA 13   225000\n",
              "1  69          3          20      1 -34.623129 -58.439338  COMUNA 06   140000\n",
              "2  75          3          20      1 -34.604972 -58.421278  COMUNA 05   154000\n",
              "3  42          2          40      1 -34.604725 -58.399524  COMUNA 03    75000\n",
              "4  90          3           1      1 -34.623390 -58.504401  COMUNA 10   149900"
            ],
            "text/html": [
              "\n",
              "  <div id=\"df-9befde31-d299-4146-b102-1b95ebb3809d\" class=\"colab-df-container\">\n",
              "    <div>\n",
              "<style scoped>\n",
              "    .dataframe tbody tr th:only-of-type {\n",
              "        vertical-align: middle;\n",
              "    }\n",
              "\n",
              "    .dataframe tbody tr th {\n",
              "        vertical-align: top;\n",
              "    }\n",
              "\n",
              "    .dataframe thead th {\n",
              "        text-align: right;\n",
              "    }\n",
              "</style>\n",
              "<table border=\"1\" class=\"dataframe\">\n",
              "  <thead>\n",
              "    <tr style=\"text-align: right;\">\n",
              "      <th></th>\n",
              "      <th>M2</th>\n",
              "      <th>AMBIENTES</th>\n",
              "      <th>ANTIGUEDAD</th>\n",
              "      <th>BAÑOS</th>\n",
              "      <th>LATITUD</th>\n",
              "      <th>LONGITUD</th>\n",
              "      <th>COMUNA</th>\n",
              "      <th>DOLARES</th>\n",
              "    </tr>\n",
              "  </thead>\n",
              "  <tbody>\n",
              "    <tr>\n",
              "      <th>0</th>\n",
              "      <td>81</td>\n",
              "      <td>3</td>\n",
              "      <td>4</td>\n",
              "      <td>1</td>\n",
              "      <td>-34.581078</td>\n",
              "      <td>-58.449433</td>\n",
              "      <td>COMUNA 13</td>\n",
              "      <td>225000</td>\n",
              "    </tr>\n",
              "    <tr>\n",
              "      <th>1</th>\n",
              "      <td>69</td>\n",
              "      <td>3</td>\n",
              "      <td>20</td>\n",
              "      <td>1</td>\n",
              "      <td>-34.623129</td>\n",
              "      <td>-58.439338</td>\n",
              "      <td>COMUNA 06</td>\n",
              "      <td>140000</td>\n",
              "    </tr>\n",
              "    <tr>\n",
              "      <th>2</th>\n",
              "      <td>75</td>\n",
              "      <td>3</td>\n",
              "      <td>20</td>\n",
              "      <td>1</td>\n",
              "      <td>-34.604972</td>\n",
              "      <td>-58.421278</td>\n",
              "      <td>COMUNA 05</td>\n",
              "      <td>154000</td>\n",
              "    </tr>\n",
              "    <tr>\n",
              "      <th>3</th>\n",
              "      <td>42</td>\n",
              "      <td>2</td>\n",
              "      <td>40</td>\n",
              "      <td>1</td>\n",
              "      <td>-34.604725</td>\n",
              "      <td>-58.399524</td>\n",
              "      <td>COMUNA 03</td>\n",
              "      <td>75000</td>\n",
              "    </tr>\n",
              "    <tr>\n",
              "      <th>4</th>\n",
              "      <td>90</td>\n",
              "      <td>3</td>\n",
              "      <td>1</td>\n",
              "      <td>1</td>\n",
              "      <td>-34.623390</td>\n",
              "      <td>-58.504401</td>\n",
              "      <td>COMUNA 10</td>\n",
              "      <td>149900</td>\n",
              "    </tr>\n",
              "  </tbody>\n",
              "</table>\n",
              "</div>\n",
              "    <div class=\"colab-df-buttons\">\n",
              "\n",
              "  <div class=\"colab-df-container\">\n",
              "    <button class=\"colab-df-convert\" onclick=\"convertToInteractive('df-9befde31-d299-4146-b102-1b95ebb3809d')\"\n",
              "            title=\"Convert this dataframe to an interactive table.\"\n",
              "            style=\"display:none;\">\n",
              "\n",
              "  <svg xmlns=\"http://www.w3.org/2000/svg\" height=\"24px\" viewBox=\"0 -960 960 960\">\n",
              "    <path d=\"M120-120v-720h720v720H120Zm60-500h600v-160H180v160Zm220 220h160v-160H400v160Zm0 220h160v-160H400v160ZM180-400h160v-160H180v160Zm440 0h160v-160H620v160ZM180-180h160v-160H180v160Zm440 0h160v-160H620v160Z\"/>\n",
              "  </svg>\n",
              "    </button>\n",
              "\n",
              "  <style>\n",
              "    .colab-df-container {\n",
              "      display:flex;\n",
              "      gap: 12px;\n",
              "    }\n",
              "\n",
              "    .colab-df-convert {\n",
              "      background-color: #E8F0FE;\n",
              "      border: none;\n",
              "      border-radius: 50%;\n",
              "      cursor: pointer;\n",
              "      display: none;\n",
              "      fill: #1967D2;\n",
              "      height: 32px;\n",
              "      padding: 0 0 0 0;\n",
              "      width: 32px;\n",
              "    }\n",
              "\n",
              "    .colab-df-convert:hover {\n",
              "      background-color: #E2EBFA;\n",
              "      box-shadow: 0px 1px 2px rgba(60, 64, 67, 0.3), 0px 1px 3px 1px rgba(60, 64, 67, 0.15);\n",
              "      fill: #174EA6;\n",
              "    }\n",
              "\n",
              "    .colab-df-buttons div {\n",
              "      margin-bottom: 4px;\n",
              "    }\n",
              "\n",
              "    [theme=dark] .colab-df-convert {\n",
              "      background-color: #3B4455;\n",
              "      fill: #D2E3FC;\n",
              "    }\n",
              "\n",
              "    [theme=dark] .colab-df-convert:hover {\n",
              "      background-color: #434B5C;\n",
              "      box-shadow: 0px 1px 3px 1px rgba(0, 0, 0, 0.15);\n",
              "      filter: drop-shadow(0px 1px 2px rgba(0, 0, 0, 0.3));\n",
              "      fill: #FFFFFF;\n",
              "    }\n",
              "  </style>\n",
              "\n",
              "    <script>\n",
              "      const buttonEl =\n",
              "        document.querySelector('#df-9befde31-d299-4146-b102-1b95ebb3809d button.colab-df-convert');\n",
              "      buttonEl.style.display =\n",
              "        google.colab.kernel.accessAllowed ? 'block' : 'none';\n",
              "\n",
              "      async function convertToInteractive(key) {\n",
              "        const element = document.querySelector('#df-9befde31-d299-4146-b102-1b95ebb3809d');\n",
              "        const dataTable =\n",
              "          await google.colab.kernel.invokeFunction('convertToInteractive',\n",
              "                                                    [key], {});\n",
              "        if (!dataTable) return;\n",
              "\n",
              "        const docLinkHtml = 'Like what you see? Visit the ' +\n",
              "          '<a target=\"_blank\" href=https://colab.research.google.com/notebooks/data_table.ipynb>data table notebook</a>'\n",
              "          + ' to learn more about interactive tables.';\n",
              "        element.innerHTML = '';\n",
              "        dataTable['output_type'] = 'display_data';\n",
              "        await google.colab.output.renderOutput(dataTable, element);\n",
              "        const docLink = document.createElement('div');\n",
              "        docLink.innerHTML = docLinkHtml;\n",
              "        element.appendChild(docLink);\n",
              "      }\n",
              "    </script>\n",
              "  </div>\n",
              "\n",
              "\n",
              "<div id=\"df-b00dfa25-fab9-4cd8-aa94-a8cf7918403d\">\n",
              "  <button class=\"colab-df-quickchart\" onclick=\"quickchart('df-b00dfa25-fab9-4cd8-aa94-a8cf7918403d')\"\n",
              "            title=\"Suggest charts\"\n",
              "            style=\"display:none;\">\n",
              "\n",
              "<svg xmlns=\"http://www.w3.org/2000/svg\" height=\"24px\"viewBox=\"0 0 24 24\"\n",
              "     width=\"24px\">\n",
              "    <g>\n",
              "        <path d=\"M19 3H5c-1.1 0-2 .9-2 2v14c0 1.1.9 2 2 2h14c1.1 0 2-.9 2-2V5c0-1.1-.9-2-2-2zM9 17H7v-7h2v7zm4 0h-2V7h2v10zm4 0h-2v-4h2v4z\"/>\n",
              "    </g>\n",
              "</svg>\n",
              "  </button>\n",
              "\n",
              "<style>\n",
              "  .colab-df-quickchart {\n",
              "      --bg-color: #E8F0FE;\n",
              "      --fill-color: #1967D2;\n",
              "      --hover-bg-color: #E2EBFA;\n",
              "      --hover-fill-color: #174EA6;\n",
              "      --disabled-fill-color: #AAA;\n",
              "      --disabled-bg-color: #DDD;\n",
              "  }\n",
              "\n",
              "  [theme=dark] .colab-df-quickchart {\n",
              "      --bg-color: #3B4455;\n",
              "      --fill-color: #D2E3FC;\n",
              "      --hover-bg-color: #434B5C;\n",
              "      --hover-fill-color: #FFFFFF;\n",
              "      --disabled-bg-color: #3B4455;\n",
              "      --disabled-fill-color: #666;\n",
              "  }\n",
              "\n",
              "  .colab-df-quickchart {\n",
              "    background-color: var(--bg-color);\n",
              "    border: none;\n",
              "    border-radius: 50%;\n",
              "    cursor: pointer;\n",
              "    display: none;\n",
              "    fill: var(--fill-color);\n",
              "    height: 32px;\n",
              "    padding: 0;\n",
              "    width: 32px;\n",
              "  }\n",
              "\n",
              "  .colab-df-quickchart:hover {\n",
              "    background-color: var(--hover-bg-color);\n",
              "    box-shadow: 0 1px 2px rgba(60, 64, 67, 0.3), 0 1px 3px 1px rgba(60, 64, 67, 0.15);\n",
              "    fill: var(--button-hover-fill-color);\n",
              "  }\n",
              "\n",
              "  .colab-df-quickchart-complete:disabled,\n",
              "  .colab-df-quickchart-complete:disabled:hover {\n",
              "    background-color: var(--disabled-bg-color);\n",
              "    fill: var(--disabled-fill-color);\n",
              "    box-shadow: none;\n",
              "  }\n",
              "\n",
              "  .colab-df-spinner {\n",
              "    border: 2px solid var(--fill-color);\n",
              "    border-color: transparent;\n",
              "    border-bottom-color: var(--fill-color);\n",
              "    animation:\n",
              "      spin 1s steps(1) infinite;\n",
              "  }\n",
              "\n",
              "  @keyframes spin {\n",
              "    0% {\n",
              "      border-color: transparent;\n",
              "      border-bottom-color: var(--fill-color);\n",
              "      border-left-color: var(--fill-color);\n",
              "    }\n",
              "    20% {\n",
              "      border-color: transparent;\n",
              "      border-left-color: var(--fill-color);\n",
              "      border-top-color: var(--fill-color);\n",
              "    }\n",
              "    30% {\n",
              "      border-color: transparent;\n",
              "      border-left-color: var(--fill-color);\n",
              "      border-top-color: var(--fill-color);\n",
              "      border-right-color: var(--fill-color);\n",
              "    }\n",
              "    40% {\n",
              "      border-color: transparent;\n",
              "      border-right-color: var(--fill-color);\n",
              "      border-top-color: var(--fill-color);\n",
              "    }\n",
              "    60% {\n",
              "      border-color: transparent;\n",
              "      border-right-color: var(--fill-color);\n",
              "    }\n",
              "    80% {\n",
              "      border-color: transparent;\n",
              "      border-right-color: var(--fill-color);\n",
              "      border-bottom-color: var(--fill-color);\n",
              "    }\n",
              "    90% {\n",
              "      border-color: transparent;\n",
              "      border-bottom-color: var(--fill-color);\n",
              "    }\n",
              "  }\n",
              "</style>\n",
              "\n",
              "  <script>\n",
              "    async function quickchart(key) {\n",
              "      const quickchartButtonEl =\n",
              "        document.querySelector('#' + key + ' button');\n",
              "      quickchartButtonEl.disabled = true;  // To prevent multiple clicks.\n",
              "      quickchartButtonEl.classList.add('colab-df-spinner');\n",
              "      try {\n",
              "        const charts = await google.colab.kernel.invokeFunction(\n",
              "            'suggestCharts', [key], {});\n",
              "      } catch (error) {\n",
              "        console.error('Error during call to suggestCharts:', error);\n",
              "      }\n",
              "      quickchartButtonEl.classList.remove('colab-df-spinner');\n",
              "      quickchartButtonEl.classList.add('colab-df-quickchart-complete');\n",
              "    }\n",
              "    (() => {\n",
              "      let quickchartButtonEl =\n",
              "        document.querySelector('#df-b00dfa25-fab9-4cd8-aa94-a8cf7918403d button');\n",
              "      quickchartButtonEl.style.display =\n",
              "        google.colab.kernel.accessAllowed ? 'block' : 'none';\n",
              "    })();\n",
              "  </script>\n",
              "</div>\n",
              "\n",
              "  <div id=\"id_64c29864-c07d-4326-843c-2aad0ddc5386\">\n",
              "    <style>\n",
              "      .colab-df-generate {\n",
              "        background-color: #E8F0FE;\n",
              "        border: none;\n",
              "        border-radius: 50%;\n",
              "        cursor: pointer;\n",
              "        display: none;\n",
              "        fill: #1967D2;\n",
              "        height: 32px;\n",
              "        padding: 0 0 0 0;\n",
              "        width: 32px;\n",
              "      }\n",
              "\n",
              "      .colab-df-generate:hover {\n",
              "        background-color: #E2EBFA;\n",
              "        box-shadow: 0px 1px 2px rgba(60, 64, 67, 0.3), 0px 1px 3px 1px rgba(60, 64, 67, 0.15);\n",
              "        fill: #174EA6;\n",
              "      }\n",
              "\n",
              "      [theme=dark] .colab-df-generate {\n",
              "        background-color: #3B4455;\n",
              "        fill: #D2E3FC;\n",
              "      }\n",
              "\n",
              "      [theme=dark] .colab-df-generate:hover {\n",
              "        background-color: #434B5C;\n",
              "        box-shadow: 0px 1px 3px 1px rgba(0, 0, 0, 0.15);\n",
              "        filter: drop-shadow(0px 1px 2px rgba(0, 0, 0, 0.3));\n",
              "        fill: #FFFFFF;\n",
              "      }\n",
              "    </style>\n",
              "    <button class=\"colab-df-generate\" onclick=\"generateWithVariable('filtro_5')\"\n",
              "            title=\"Generate code using this dataframe.\"\n",
              "            style=\"display:none;\">\n",
              "\n",
              "  <svg xmlns=\"http://www.w3.org/2000/svg\" height=\"24px\"viewBox=\"0 0 24 24\"\n",
              "       width=\"24px\">\n",
              "    <path d=\"M7,19H8.4L18.45,9,17,7.55,7,17.6ZM5,21V16.75L18.45,3.32a2,2,0,0,1,2.83,0l1.4,1.43a1.91,1.91,0,0,1,.58,1.4,1.91,1.91,0,0,1-.58,1.4L9.25,21ZM18.45,9,17,7.55Zm-12,3A5.31,5.31,0,0,0,4.9,8.1,5.31,5.31,0,0,0,1,6.5,5.31,5.31,0,0,0,4.9,4.9,5.31,5.31,0,0,0,6.5,1,5.31,5.31,0,0,0,8.1,4.9,5.31,5.31,0,0,0,12,6.5,5.46,5.46,0,0,0,6.5,12Z\"/>\n",
              "  </svg>\n",
              "    </button>\n",
              "    <script>\n",
              "      (() => {\n",
              "      const buttonEl =\n",
              "        document.querySelector('#id_64c29864-c07d-4326-843c-2aad0ddc5386 button.colab-df-generate');\n",
              "      buttonEl.style.display =\n",
              "        google.colab.kernel.accessAllowed ? 'block' : 'none';\n",
              "\n",
              "      buttonEl.onclick = () => {\n",
              "        google.colab.notebook.generateWithVariable('filtro_5');\n",
              "      }\n",
              "      })();\n",
              "    </script>\n",
              "  </div>\n",
              "\n",
              "    </div>\n",
              "  </div>\n"
            ],
            "application/vnd.google.colaboratory.intrinsic+json": {
              "type": "dataframe",
              "variable_name": "filtro_5",
              "summary": "{\n  \"name\": \"filtro_5\",\n  \"rows\": 5,\n  \"fields\": [\n    {\n      \"column\": \"M2\",\n      \"properties\": {\n        \"dtype\": \"number\",\n        \"std\": 18,\n        \"min\": 42,\n        \"max\": 90,\n        \"num_unique_values\": 5,\n        \"samples\": [\n          69,\n          90,\n          75\n        ],\n        \"semantic_type\": \"\",\n        \"description\": \"\"\n      }\n    },\n    {\n      \"column\": \"AMBIENTES\",\n      \"properties\": {\n        \"dtype\": \"number\",\n        \"std\": 0,\n        \"min\": 2,\n        \"max\": 3,\n        \"num_unique_values\": 2,\n        \"samples\": [\n          2,\n          3\n        ],\n        \"semantic_type\": \"\",\n        \"description\": \"\"\n      }\n    },\n    {\n      \"column\": \"ANTIGUEDAD\",\n      \"properties\": {\n        \"dtype\": \"number\",\n        \"std\": 15,\n        \"min\": 1,\n        \"max\": 40,\n        \"num_unique_values\": 4,\n        \"samples\": [\n          20,\n          1\n        ],\n        \"semantic_type\": \"\",\n        \"description\": \"\"\n      }\n    },\n    {\n      \"column\": \"BA\\u00d1OS\",\n      \"properties\": {\n        \"dtype\": \"number\",\n        \"std\": 0,\n        \"min\": 1,\n        \"max\": 1,\n        \"num_unique_values\": 1,\n        \"samples\": [\n          1\n        ],\n        \"semantic_type\": \"\",\n        \"description\": \"\"\n      }\n    },\n    {\n      \"column\": \"LATITUD\",\n      \"properties\": {\n        \"dtype\": \"number\",\n        \"std\": 0.017385003287607306,\n        \"min\": -34.623390036970264,\n        \"max\": -34.581078051866186,\n        \"num_unique_values\": 5,\n        \"samples\": [\n          -34.62312877177625\n        ],\n        \"semantic_type\": \"\",\n        \"description\": \"\"\n      }\n    },\n    {\n      \"column\": \"LONGITUD\",\n      \"properties\": {\n        \"dtype\": \"number\",\n        \"std\": 0.039327968585552986,\n        \"min\": -58.504401294836605,\n        \"max\": -58.39952354016936,\n        \"num_unique_values\": 5,\n        \"samples\": [\n          -58.43933750841767\n        ],\n        \"semantic_type\": \"\",\n        \"description\": \"\"\n      }\n    },\n    {\n      \"column\": \"COMUNA\",\n      \"properties\": {\n        \"dtype\": \"string\",\n        \"num_unique_values\": 5,\n        \"samples\": [\n          \"COMUNA 06\"\n        ],\n        \"semantic_type\": \"\",\n        \"description\": \"\"\n      }\n    },\n    {\n      \"column\": \"DOLARES\",\n      \"properties\": {\n        \"dtype\": \"number\",\n        \"std\": 53288,\n        \"min\": 75000,\n        \"max\": 225000,\n        \"num_unique_values\": 5,\n        \"samples\": [\n          140000\n        ],\n        \"semantic_type\": \"\",\n        \"description\": \"\"\n      }\n    }\n  ]\n}"
            }
          },
          "metadata": {},
          "execution_count": 31
        }
      ],
      "source": [
        "filtro_5 = departamentos.iloc[:5]\n",
        "filtro_5"
      ]
    },
    {
      "cell_type": "code",
      "execution_count": 34,
      "id": "06fecb09",
      "metadata": {
        "id": "06fecb09",
        "colab": {
          "base_uri": "https://localhost:8080/",
          "height": 238
        },
        "outputId": "29b0a9e4-cdc3-419f-bb1b-67cc6e9b934b"
      },
      "outputs": [
        {
          "output_type": "execute_result",
          "data": {
            "text/plain": [
              "     M2  AMBIENTES  ANTIGUEDAD  BAÑOS    LATITUD   LONGITUD     COMUNA  \\\n",
              "5   120          3           2      2 -34.577774 -58.424300  COMUNA 14   \n",
              "6    35          1           5      1 -34.548911 -58.469872  COMUNA 12   \n",
              "7    82          3          70      2 -34.637083 -58.405029  COMUNA 04   \n",
              "8    38          1           8      1 -34.580970 -58.440528  COMUNA 14   \n",
              "9    17          2          40      1 -34.587077 -58.401069  COMUNA 02   \n",
              "10   45          2          10      1 -34.592452 -58.401854  COMUNA 02   \n",
              "\n",
              "    DOLARES  \n",
              "5    630000  \n",
              "6     92000  \n",
              "7    135000  \n",
              "8    110000  \n",
              "9     45000  \n",
              "10   145000  "
            ],
            "text/html": [
              "\n",
              "  <div id=\"df-e1522bbc-5a8e-4f56-bd11-256649151743\" class=\"colab-df-container\">\n",
              "    <div>\n",
              "<style scoped>\n",
              "    .dataframe tbody tr th:only-of-type {\n",
              "        vertical-align: middle;\n",
              "    }\n",
              "\n",
              "    .dataframe tbody tr th {\n",
              "        vertical-align: top;\n",
              "    }\n",
              "\n",
              "    .dataframe thead th {\n",
              "        text-align: right;\n",
              "    }\n",
              "</style>\n",
              "<table border=\"1\" class=\"dataframe\">\n",
              "  <thead>\n",
              "    <tr style=\"text-align: right;\">\n",
              "      <th></th>\n",
              "      <th>M2</th>\n",
              "      <th>AMBIENTES</th>\n",
              "      <th>ANTIGUEDAD</th>\n",
              "      <th>BAÑOS</th>\n",
              "      <th>LATITUD</th>\n",
              "      <th>LONGITUD</th>\n",
              "      <th>COMUNA</th>\n",
              "      <th>DOLARES</th>\n",
              "    </tr>\n",
              "  </thead>\n",
              "  <tbody>\n",
              "    <tr>\n",
              "      <th>5</th>\n",
              "      <td>120</td>\n",
              "      <td>3</td>\n",
              "      <td>2</td>\n",
              "      <td>2</td>\n",
              "      <td>-34.577774</td>\n",
              "      <td>-58.424300</td>\n",
              "      <td>COMUNA 14</td>\n",
              "      <td>630000</td>\n",
              "    </tr>\n",
              "    <tr>\n",
              "      <th>6</th>\n",
              "      <td>35</td>\n",
              "      <td>1</td>\n",
              "      <td>5</td>\n",
              "      <td>1</td>\n",
              "      <td>-34.548911</td>\n",
              "      <td>-58.469872</td>\n",
              "      <td>COMUNA 12</td>\n",
              "      <td>92000</td>\n",
              "    </tr>\n",
              "    <tr>\n",
              "      <th>7</th>\n",
              "      <td>82</td>\n",
              "      <td>3</td>\n",
              "      <td>70</td>\n",
              "      <td>2</td>\n",
              "      <td>-34.637083</td>\n",
              "      <td>-58.405029</td>\n",
              "      <td>COMUNA 04</td>\n",
              "      <td>135000</td>\n",
              "    </tr>\n",
              "    <tr>\n",
              "      <th>8</th>\n",
              "      <td>38</td>\n",
              "      <td>1</td>\n",
              "      <td>8</td>\n",
              "      <td>1</td>\n",
              "      <td>-34.580970</td>\n",
              "      <td>-58.440528</td>\n",
              "      <td>COMUNA 14</td>\n",
              "      <td>110000</td>\n",
              "    </tr>\n",
              "    <tr>\n",
              "      <th>9</th>\n",
              "      <td>17</td>\n",
              "      <td>2</td>\n",
              "      <td>40</td>\n",
              "      <td>1</td>\n",
              "      <td>-34.587077</td>\n",
              "      <td>-58.401069</td>\n",
              "      <td>COMUNA 02</td>\n",
              "      <td>45000</td>\n",
              "    </tr>\n",
              "    <tr>\n",
              "      <th>10</th>\n",
              "      <td>45</td>\n",
              "      <td>2</td>\n",
              "      <td>10</td>\n",
              "      <td>1</td>\n",
              "      <td>-34.592452</td>\n",
              "      <td>-58.401854</td>\n",
              "      <td>COMUNA 02</td>\n",
              "      <td>145000</td>\n",
              "    </tr>\n",
              "  </tbody>\n",
              "</table>\n",
              "</div>\n",
              "    <div class=\"colab-df-buttons\">\n",
              "\n",
              "  <div class=\"colab-df-container\">\n",
              "    <button class=\"colab-df-convert\" onclick=\"convertToInteractive('df-e1522bbc-5a8e-4f56-bd11-256649151743')\"\n",
              "            title=\"Convert this dataframe to an interactive table.\"\n",
              "            style=\"display:none;\">\n",
              "\n",
              "  <svg xmlns=\"http://www.w3.org/2000/svg\" height=\"24px\" viewBox=\"0 -960 960 960\">\n",
              "    <path d=\"M120-120v-720h720v720H120Zm60-500h600v-160H180v160Zm220 220h160v-160H400v160Zm0 220h160v-160H400v160ZM180-400h160v-160H180v160Zm440 0h160v-160H620v160ZM180-180h160v-160H180v160Zm440 0h160v-160H620v160Z\"/>\n",
              "  </svg>\n",
              "    </button>\n",
              "\n",
              "  <style>\n",
              "    .colab-df-container {\n",
              "      display:flex;\n",
              "      gap: 12px;\n",
              "    }\n",
              "\n",
              "    .colab-df-convert {\n",
              "      background-color: #E8F0FE;\n",
              "      border: none;\n",
              "      border-radius: 50%;\n",
              "      cursor: pointer;\n",
              "      display: none;\n",
              "      fill: #1967D2;\n",
              "      height: 32px;\n",
              "      padding: 0 0 0 0;\n",
              "      width: 32px;\n",
              "    }\n",
              "\n",
              "    .colab-df-convert:hover {\n",
              "      background-color: #E2EBFA;\n",
              "      box-shadow: 0px 1px 2px rgba(60, 64, 67, 0.3), 0px 1px 3px 1px rgba(60, 64, 67, 0.15);\n",
              "      fill: #174EA6;\n",
              "    }\n",
              "\n",
              "    .colab-df-buttons div {\n",
              "      margin-bottom: 4px;\n",
              "    }\n",
              "\n",
              "    [theme=dark] .colab-df-convert {\n",
              "      background-color: #3B4455;\n",
              "      fill: #D2E3FC;\n",
              "    }\n",
              "\n",
              "    [theme=dark] .colab-df-convert:hover {\n",
              "      background-color: #434B5C;\n",
              "      box-shadow: 0px 1px 3px 1px rgba(0, 0, 0, 0.15);\n",
              "      filter: drop-shadow(0px 1px 2px rgba(0, 0, 0, 0.3));\n",
              "      fill: #FFFFFF;\n",
              "    }\n",
              "  </style>\n",
              "\n",
              "    <script>\n",
              "      const buttonEl =\n",
              "        document.querySelector('#df-e1522bbc-5a8e-4f56-bd11-256649151743 button.colab-df-convert');\n",
              "      buttonEl.style.display =\n",
              "        google.colab.kernel.accessAllowed ? 'block' : 'none';\n",
              "\n",
              "      async function convertToInteractive(key) {\n",
              "        const element = document.querySelector('#df-e1522bbc-5a8e-4f56-bd11-256649151743');\n",
              "        const dataTable =\n",
              "          await google.colab.kernel.invokeFunction('convertToInteractive',\n",
              "                                                    [key], {});\n",
              "        if (!dataTable) return;\n",
              "\n",
              "        const docLinkHtml = 'Like what you see? Visit the ' +\n",
              "          '<a target=\"_blank\" href=https://colab.research.google.com/notebooks/data_table.ipynb>data table notebook</a>'\n",
              "          + ' to learn more about interactive tables.';\n",
              "        element.innerHTML = '';\n",
              "        dataTable['output_type'] = 'display_data';\n",
              "        await google.colab.output.renderOutput(dataTable, element);\n",
              "        const docLink = document.createElement('div');\n",
              "        docLink.innerHTML = docLinkHtml;\n",
              "        element.appendChild(docLink);\n",
              "      }\n",
              "    </script>\n",
              "  </div>\n",
              "\n",
              "\n",
              "<div id=\"df-4860f540-dc66-4b05-b012-a8876c6632fb\">\n",
              "  <button class=\"colab-df-quickchart\" onclick=\"quickchart('df-4860f540-dc66-4b05-b012-a8876c6632fb')\"\n",
              "            title=\"Suggest charts\"\n",
              "            style=\"display:none;\">\n",
              "\n",
              "<svg xmlns=\"http://www.w3.org/2000/svg\" height=\"24px\"viewBox=\"0 0 24 24\"\n",
              "     width=\"24px\">\n",
              "    <g>\n",
              "        <path d=\"M19 3H5c-1.1 0-2 .9-2 2v14c0 1.1.9 2 2 2h14c1.1 0 2-.9 2-2V5c0-1.1-.9-2-2-2zM9 17H7v-7h2v7zm4 0h-2V7h2v10zm4 0h-2v-4h2v4z\"/>\n",
              "    </g>\n",
              "</svg>\n",
              "  </button>\n",
              "\n",
              "<style>\n",
              "  .colab-df-quickchart {\n",
              "      --bg-color: #E8F0FE;\n",
              "      --fill-color: #1967D2;\n",
              "      --hover-bg-color: #E2EBFA;\n",
              "      --hover-fill-color: #174EA6;\n",
              "      --disabled-fill-color: #AAA;\n",
              "      --disabled-bg-color: #DDD;\n",
              "  }\n",
              "\n",
              "  [theme=dark] .colab-df-quickchart {\n",
              "      --bg-color: #3B4455;\n",
              "      --fill-color: #D2E3FC;\n",
              "      --hover-bg-color: #434B5C;\n",
              "      --hover-fill-color: #FFFFFF;\n",
              "      --disabled-bg-color: #3B4455;\n",
              "      --disabled-fill-color: #666;\n",
              "  }\n",
              "\n",
              "  .colab-df-quickchart {\n",
              "    background-color: var(--bg-color);\n",
              "    border: none;\n",
              "    border-radius: 50%;\n",
              "    cursor: pointer;\n",
              "    display: none;\n",
              "    fill: var(--fill-color);\n",
              "    height: 32px;\n",
              "    padding: 0;\n",
              "    width: 32px;\n",
              "  }\n",
              "\n",
              "  .colab-df-quickchart:hover {\n",
              "    background-color: var(--hover-bg-color);\n",
              "    box-shadow: 0 1px 2px rgba(60, 64, 67, 0.3), 0 1px 3px 1px rgba(60, 64, 67, 0.15);\n",
              "    fill: var(--button-hover-fill-color);\n",
              "  }\n",
              "\n",
              "  .colab-df-quickchart-complete:disabled,\n",
              "  .colab-df-quickchart-complete:disabled:hover {\n",
              "    background-color: var(--disabled-bg-color);\n",
              "    fill: var(--disabled-fill-color);\n",
              "    box-shadow: none;\n",
              "  }\n",
              "\n",
              "  .colab-df-spinner {\n",
              "    border: 2px solid var(--fill-color);\n",
              "    border-color: transparent;\n",
              "    border-bottom-color: var(--fill-color);\n",
              "    animation:\n",
              "      spin 1s steps(1) infinite;\n",
              "  }\n",
              "\n",
              "  @keyframes spin {\n",
              "    0% {\n",
              "      border-color: transparent;\n",
              "      border-bottom-color: var(--fill-color);\n",
              "      border-left-color: var(--fill-color);\n",
              "    }\n",
              "    20% {\n",
              "      border-color: transparent;\n",
              "      border-left-color: var(--fill-color);\n",
              "      border-top-color: var(--fill-color);\n",
              "    }\n",
              "    30% {\n",
              "      border-color: transparent;\n",
              "      border-left-color: var(--fill-color);\n",
              "      border-top-color: var(--fill-color);\n",
              "      border-right-color: var(--fill-color);\n",
              "    }\n",
              "    40% {\n",
              "      border-color: transparent;\n",
              "      border-right-color: var(--fill-color);\n",
              "      border-top-color: var(--fill-color);\n",
              "    }\n",
              "    60% {\n",
              "      border-color: transparent;\n",
              "      border-right-color: var(--fill-color);\n",
              "    }\n",
              "    80% {\n",
              "      border-color: transparent;\n",
              "      border-right-color: var(--fill-color);\n",
              "      border-bottom-color: var(--fill-color);\n",
              "    }\n",
              "    90% {\n",
              "      border-color: transparent;\n",
              "      border-bottom-color: var(--fill-color);\n",
              "    }\n",
              "  }\n",
              "</style>\n",
              "\n",
              "  <script>\n",
              "    async function quickchart(key) {\n",
              "      const quickchartButtonEl =\n",
              "        document.querySelector('#' + key + ' button');\n",
              "      quickchartButtonEl.disabled = true;  // To prevent multiple clicks.\n",
              "      quickchartButtonEl.classList.add('colab-df-spinner');\n",
              "      try {\n",
              "        const charts = await google.colab.kernel.invokeFunction(\n",
              "            'suggestCharts', [key], {});\n",
              "      } catch (error) {\n",
              "        console.error('Error during call to suggestCharts:', error);\n",
              "      }\n",
              "      quickchartButtonEl.classList.remove('colab-df-spinner');\n",
              "      quickchartButtonEl.classList.add('colab-df-quickchart-complete');\n",
              "    }\n",
              "    (() => {\n",
              "      let quickchartButtonEl =\n",
              "        document.querySelector('#df-4860f540-dc66-4b05-b012-a8876c6632fb button');\n",
              "      quickchartButtonEl.style.display =\n",
              "        google.colab.kernel.accessAllowed ? 'block' : 'none';\n",
              "    })();\n",
              "  </script>\n",
              "</div>\n",
              "\n",
              "  <div id=\"id_c449f7ac-45b1-4ec5-8120-b84eb96fecbf\">\n",
              "    <style>\n",
              "      .colab-df-generate {\n",
              "        background-color: #E8F0FE;\n",
              "        border: none;\n",
              "        border-radius: 50%;\n",
              "        cursor: pointer;\n",
              "        display: none;\n",
              "        fill: #1967D2;\n",
              "        height: 32px;\n",
              "        padding: 0 0 0 0;\n",
              "        width: 32px;\n",
              "      }\n",
              "\n",
              "      .colab-df-generate:hover {\n",
              "        background-color: #E2EBFA;\n",
              "        box-shadow: 0px 1px 2px rgba(60, 64, 67, 0.3), 0px 1px 3px 1px rgba(60, 64, 67, 0.15);\n",
              "        fill: #174EA6;\n",
              "      }\n",
              "\n",
              "      [theme=dark] .colab-df-generate {\n",
              "        background-color: #3B4455;\n",
              "        fill: #D2E3FC;\n",
              "      }\n",
              "\n",
              "      [theme=dark] .colab-df-generate:hover {\n",
              "        background-color: #434B5C;\n",
              "        box-shadow: 0px 1px 3px 1px rgba(0, 0, 0, 0.15);\n",
              "        filter: drop-shadow(0px 1px 2px rgba(0, 0, 0, 0.3));\n",
              "        fill: #FFFFFF;\n",
              "      }\n",
              "    </style>\n",
              "    <button class=\"colab-df-generate\" onclick=\"generateWithVariable('filtro_5a10')\"\n",
              "            title=\"Generate code using this dataframe.\"\n",
              "            style=\"display:none;\">\n",
              "\n",
              "  <svg xmlns=\"http://www.w3.org/2000/svg\" height=\"24px\"viewBox=\"0 0 24 24\"\n",
              "       width=\"24px\">\n",
              "    <path d=\"M7,19H8.4L18.45,9,17,7.55,7,17.6ZM5,21V16.75L18.45,3.32a2,2,0,0,1,2.83,0l1.4,1.43a1.91,1.91,0,0,1,.58,1.4,1.91,1.91,0,0,1-.58,1.4L9.25,21ZM18.45,9,17,7.55Zm-12,3A5.31,5.31,0,0,0,4.9,8.1,5.31,5.31,0,0,0,1,6.5,5.31,5.31,0,0,0,4.9,4.9,5.31,5.31,0,0,0,6.5,1,5.31,5.31,0,0,0,8.1,4.9,5.31,5.31,0,0,0,12,6.5,5.46,5.46,0,0,0,6.5,12Z\"/>\n",
              "  </svg>\n",
              "    </button>\n",
              "    <script>\n",
              "      (() => {\n",
              "      const buttonEl =\n",
              "        document.querySelector('#id_c449f7ac-45b1-4ec5-8120-b84eb96fecbf button.colab-df-generate');\n",
              "      buttonEl.style.display =\n",
              "        google.colab.kernel.accessAllowed ? 'block' : 'none';\n",
              "\n",
              "      buttonEl.onclick = () => {\n",
              "        google.colab.notebook.generateWithVariable('filtro_5a10');\n",
              "      }\n",
              "      })();\n",
              "    </script>\n",
              "  </div>\n",
              "\n",
              "    </div>\n",
              "  </div>\n"
            ],
            "application/vnd.google.colaboratory.intrinsic+json": {
              "type": "dataframe",
              "variable_name": "filtro_5a10",
              "summary": "{\n  \"name\": \"filtro_5a10\",\n  \"rows\": 6,\n  \"fields\": [\n    {\n      \"column\": \"M2\",\n      \"properties\": {\n        \"dtype\": \"number\",\n        \"std\": 37,\n        \"min\": 17,\n        \"max\": 120,\n        \"num_unique_values\": 6,\n        \"samples\": [\n          120,\n          35,\n          45\n        ],\n        \"semantic_type\": \"\",\n        \"description\": \"\"\n      }\n    },\n    {\n      \"column\": \"AMBIENTES\",\n      \"properties\": {\n        \"dtype\": \"number\",\n        \"std\": 0,\n        \"min\": 1,\n        \"max\": 3,\n        \"num_unique_values\": 3,\n        \"samples\": [\n          3,\n          1,\n          2\n        ],\n        \"semantic_type\": \"\",\n        \"description\": \"\"\n      }\n    },\n    {\n      \"column\": \"ANTIGUEDAD\",\n      \"properties\": {\n        \"dtype\": \"number\",\n        \"std\": 27,\n        \"min\": 2,\n        \"max\": 70,\n        \"num_unique_values\": 6,\n        \"samples\": [\n          2,\n          5,\n          10\n        ],\n        \"semantic_type\": \"\",\n        \"description\": \"\"\n      }\n    },\n    {\n      \"column\": \"BA\\u00d1OS\",\n      \"properties\": {\n        \"dtype\": \"number\",\n        \"std\": 0,\n        \"min\": 1,\n        \"max\": 2,\n        \"num_unique_values\": 2,\n        \"samples\": [\n          1,\n          2\n        ],\n        \"semantic_type\": \"\",\n        \"description\": \"\"\n      }\n    },\n    {\n      \"column\": \"LATITUD\",\n      \"properties\": {\n        \"dtype\": \"number\",\n        \"std\": 0.028668730571842705,\n        \"min\": -34.637083476377896,\n        \"max\": -34.548911050054585,\n        \"num_unique_values\": 6,\n        \"samples\": [\n          -34.57777424491495,\n          -34.548911050054585\n        ],\n        \"semantic_type\": \"\",\n        \"description\": \"\"\n      }\n    },\n    {\n      \"column\": \"LONGITUD\",\n      \"properties\": {\n        \"dtype\": \"number\",\n        \"std\": 0.02739826295072016,\n        \"min\": -58.46987165936478,\n        \"max\": -58.40106919297761,\n        \"num_unique_values\": 6,\n        \"samples\": [\n          -58.42429999128044,\n          -58.46987165936478\n        ],\n        \"semantic_type\": \"\",\n        \"description\": \"\"\n      }\n    },\n    {\n      \"column\": \"COMUNA\",\n      \"properties\": {\n        \"dtype\": \"string\",\n        \"num_unique_values\": 4,\n        \"samples\": [\n          \"COMUNA 12\",\n          \"COMUNA 02\"\n        ],\n        \"semantic_type\": \"\",\n        \"description\": \"\"\n      }\n    },\n    {\n      \"column\": \"DOLARES\",\n      \"properties\": {\n        \"dtype\": \"number\",\n        \"std\": 217085,\n        \"min\": 45000,\n        \"max\": 630000,\n        \"num_unique_values\": 6,\n        \"samples\": [\n          630000,\n          92000\n        ],\n        \"semantic_type\": \"\",\n        \"description\": \"\"\n      }\n    }\n  ]\n}"
            }
          },
          "metadata": {},
          "execution_count": 34
        }
      ],
      "source": [
        "filtro_5a10 = departamentos.iloc[5:11]\n",
        "filtro_5a10"
      ]
    },
    {
      "cell_type": "markdown",
      "id": "9e08613f",
      "metadata": {
        "id": "9e08613f"
      },
      "source": [
        "🐼 Imprimir en pantalla la cantidad de M2 que tiene el primer registro"
      ]
    },
    {
      "cell_type": "code",
      "execution_count": 36,
      "id": "eda5c778",
      "metadata": {
        "id": "eda5c778",
        "colab": {
          "base_uri": "https://localhost:8080/"
        },
        "outputId": "dd4153a9-7bad-4dbd-ac4a-34d649594ce9"
      },
      "outputs": [
        {
          "output_type": "execute_result",
          "data": {
            "text/plain": [
              "81"
            ]
          },
          "metadata": {},
          "execution_count": 36
        }
      ],
      "source": [
        "departamentos.M2.iloc[0]"
      ]
    },
    {
      "cell_type": "markdown",
      "id": "53f712e9",
      "metadata": {
        "id": "53f712e9"
      },
      "source": [
        "Le ponemos un poco de onda:"
      ]
    },
    {
      "cell_type": "code",
      "execution_count": null,
      "id": "844ea858",
      "metadata": {
        "id": "844ea858"
      },
      "outputs": [],
      "source": []
    },
    {
      "cell_type": "markdown",
      "id": "8bb0055a",
      "metadata": {
        "id": "8bb0055a"
      },
      "source": [
        "🐼 Imprimir los ultimos 5 registros"
      ]
    },
    {
      "cell_type": "code",
      "execution_count": 37,
      "id": "95fc0c66",
      "metadata": {
        "id": "95fc0c66",
        "colab": {
          "base_uri": "https://localhost:8080/",
          "height": 206
        },
        "outputId": "bec0b876-bf30-4936-ff6e-1271c848ebcb"
      },
      "outputs": [
        {
          "output_type": "execute_result",
          "data": {
            "text/plain": [
              "       M2  AMBIENTES  ANTIGUEDAD  BAÑOS    LATITUD   LONGITUD     COMUNA  \\\n",
              "2227   88          4          20      2 -34.550152 -58.470136  COMUNA 13   \n",
              "2228   35          1          35      1 -34.602256 -58.429315  COMUNA 05   \n",
              "2229  117          3          10      2 -34.620314 -58.365451  COMUNA 01   \n",
              "2230   69          4          40      1 -34.628533 -58.427748  COMUNA 07   \n",
              "2231   73          4          50      2 -34.596659 -58.378396  COMUNA 01   \n",
              "\n",
              "      DOLARES  \n",
              "2227   165000  \n",
              "2228    79900  \n",
              "2229   520000  \n",
              "2230   132000  \n",
              "2231   179000  "
            ],
            "text/html": [
              "\n",
              "  <div id=\"df-e8ae848e-fe7c-4c33-8e86-e9ee6aeef9f3\" class=\"colab-df-container\">\n",
              "    <div>\n",
              "<style scoped>\n",
              "    .dataframe tbody tr th:only-of-type {\n",
              "        vertical-align: middle;\n",
              "    }\n",
              "\n",
              "    .dataframe tbody tr th {\n",
              "        vertical-align: top;\n",
              "    }\n",
              "\n",
              "    .dataframe thead th {\n",
              "        text-align: right;\n",
              "    }\n",
              "</style>\n",
              "<table border=\"1\" class=\"dataframe\">\n",
              "  <thead>\n",
              "    <tr style=\"text-align: right;\">\n",
              "      <th></th>\n",
              "      <th>M2</th>\n",
              "      <th>AMBIENTES</th>\n",
              "      <th>ANTIGUEDAD</th>\n",
              "      <th>BAÑOS</th>\n",
              "      <th>LATITUD</th>\n",
              "      <th>LONGITUD</th>\n",
              "      <th>COMUNA</th>\n",
              "      <th>DOLARES</th>\n",
              "    </tr>\n",
              "  </thead>\n",
              "  <tbody>\n",
              "    <tr>\n",
              "      <th>2227</th>\n",
              "      <td>88</td>\n",
              "      <td>4</td>\n",
              "      <td>20</td>\n",
              "      <td>2</td>\n",
              "      <td>-34.550152</td>\n",
              "      <td>-58.470136</td>\n",
              "      <td>COMUNA 13</td>\n",
              "      <td>165000</td>\n",
              "    </tr>\n",
              "    <tr>\n",
              "      <th>2228</th>\n",
              "      <td>35</td>\n",
              "      <td>1</td>\n",
              "      <td>35</td>\n",
              "      <td>1</td>\n",
              "      <td>-34.602256</td>\n",
              "      <td>-58.429315</td>\n",
              "      <td>COMUNA 05</td>\n",
              "      <td>79900</td>\n",
              "    </tr>\n",
              "    <tr>\n",
              "      <th>2229</th>\n",
              "      <td>117</td>\n",
              "      <td>3</td>\n",
              "      <td>10</td>\n",
              "      <td>2</td>\n",
              "      <td>-34.620314</td>\n",
              "      <td>-58.365451</td>\n",
              "      <td>COMUNA 01</td>\n",
              "      <td>520000</td>\n",
              "    </tr>\n",
              "    <tr>\n",
              "      <th>2230</th>\n",
              "      <td>69</td>\n",
              "      <td>4</td>\n",
              "      <td>40</td>\n",
              "      <td>1</td>\n",
              "      <td>-34.628533</td>\n",
              "      <td>-58.427748</td>\n",
              "      <td>COMUNA 07</td>\n",
              "      <td>132000</td>\n",
              "    </tr>\n",
              "    <tr>\n",
              "      <th>2231</th>\n",
              "      <td>73</td>\n",
              "      <td>4</td>\n",
              "      <td>50</td>\n",
              "      <td>2</td>\n",
              "      <td>-34.596659</td>\n",
              "      <td>-58.378396</td>\n",
              "      <td>COMUNA 01</td>\n",
              "      <td>179000</td>\n",
              "    </tr>\n",
              "  </tbody>\n",
              "</table>\n",
              "</div>\n",
              "    <div class=\"colab-df-buttons\">\n",
              "\n",
              "  <div class=\"colab-df-container\">\n",
              "    <button class=\"colab-df-convert\" onclick=\"convertToInteractive('df-e8ae848e-fe7c-4c33-8e86-e9ee6aeef9f3')\"\n",
              "            title=\"Convert this dataframe to an interactive table.\"\n",
              "            style=\"display:none;\">\n",
              "\n",
              "  <svg xmlns=\"http://www.w3.org/2000/svg\" height=\"24px\" viewBox=\"0 -960 960 960\">\n",
              "    <path d=\"M120-120v-720h720v720H120Zm60-500h600v-160H180v160Zm220 220h160v-160H400v160Zm0 220h160v-160H400v160ZM180-400h160v-160H180v160Zm440 0h160v-160H620v160ZM180-180h160v-160H180v160Zm440 0h160v-160H620v160Z\"/>\n",
              "  </svg>\n",
              "    </button>\n",
              "\n",
              "  <style>\n",
              "    .colab-df-container {\n",
              "      display:flex;\n",
              "      gap: 12px;\n",
              "    }\n",
              "\n",
              "    .colab-df-convert {\n",
              "      background-color: #E8F0FE;\n",
              "      border: none;\n",
              "      border-radius: 50%;\n",
              "      cursor: pointer;\n",
              "      display: none;\n",
              "      fill: #1967D2;\n",
              "      height: 32px;\n",
              "      padding: 0 0 0 0;\n",
              "      width: 32px;\n",
              "    }\n",
              "\n",
              "    .colab-df-convert:hover {\n",
              "      background-color: #E2EBFA;\n",
              "      box-shadow: 0px 1px 2px rgba(60, 64, 67, 0.3), 0px 1px 3px 1px rgba(60, 64, 67, 0.15);\n",
              "      fill: #174EA6;\n",
              "    }\n",
              "\n",
              "    .colab-df-buttons div {\n",
              "      margin-bottom: 4px;\n",
              "    }\n",
              "\n",
              "    [theme=dark] .colab-df-convert {\n",
              "      background-color: #3B4455;\n",
              "      fill: #D2E3FC;\n",
              "    }\n",
              "\n",
              "    [theme=dark] .colab-df-convert:hover {\n",
              "      background-color: #434B5C;\n",
              "      box-shadow: 0px 1px 3px 1px rgba(0, 0, 0, 0.15);\n",
              "      filter: drop-shadow(0px 1px 2px rgba(0, 0, 0, 0.3));\n",
              "      fill: #FFFFFF;\n",
              "    }\n",
              "  </style>\n",
              "\n",
              "    <script>\n",
              "      const buttonEl =\n",
              "        document.querySelector('#df-e8ae848e-fe7c-4c33-8e86-e9ee6aeef9f3 button.colab-df-convert');\n",
              "      buttonEl.style.display =\n",
              "        google.colab.kernel.accessAllowed ? 'block' : 'none';\n",
              "\n",
              "      async function convertToInteractive(key) {\n",
              "        const element = document.querySelector('#df-e8ae848e-fe7c-4c33-8e86-e9ee6aeef9f3');\n",
              "        const dataTable =\n",
              "          await google.colab.kernel.invokeFunction('convertToInteractive',\n",
              "                                                    [key], {});\n",
              "        if (!dataTable) return;\n",
              "\n",
              "        const docLinkHtml = 'Like what you see? Visit the ' +\n",
              "          '<a target=\"_blank\" href=https://colab.research.google.com/notebooks/data_table.ipynb>data table notebook</a>'\n",
              "          + ' to learn more about interactive tables.';\n",
              "        element.innerHTML = '';\n",
              "        dataTable['output_type'] = 'display_data';\n",
              "        await google.colab.output.renderOutput(dataTable, element);\n",
              "        const docLink = document.createElement('div');\n",
              "        docLink.innerHTML = docLinkHtml;\n",
              "        element.appendChild(docLink);\n",
              "      }\n",
              "    </script>\n",
              "  </div>\n",
              "\n",
              "\n",
              "<div id=\"df-e4b85f89-5e61-498b-8ccb-9e2c88334ed6\">\n",
              "  <button class=\"colab-df-quickchart\" onclick=\"quickchart('df-e4b85f89-5e61-498b-8ccb-9e2c88334ed6')\"\n",
              "            title=\"Suggest charts\"\n",
              "            style=\"display:none;\">\n",
              "\n",
              "<svg xmlns=\"http://www.w3.org/2000/svg\" height=\"24px\"viewBox=\"0 0 24 24\"\n",
              "     width=\"24px\">\n",
              "    <g>\n",
              "        <path d=\"M19 3H5c-1.1 0-2 .9-2 2v14c0 1.1.9 2 2 2h14c1.1 0 2-.9 2-2V5c0-1.1-.9-2-2-2zM9 17H7v-7h2v7zm4 0h-2V7h2v10zm4 0h-2v-4h2v4z\"/>\n",
              "    </g>\n",
              "</svg>\n",
              "  </button>\n",
              "\n",
              "<style>\n",
              "  .colab-df-quickchart {\n",
              "      --bg-color: #E8F0FE;\n",
              "      --fill-color: #1967D2;\n",
              "      --hover-bg-color: #E2EBFA;\n",
              "      --hover-fill-color: #174EA6;\n",
              "      --disabled-fill-color: #AAA;\n",
              "      --disabled-bg-color: #DDD;\n",
              "  }\n",
              "\n",
              "  [theme=dark] .colab-df-quickchart {\n",
              "      --bg-color: #3B4455;\n",
              "      --fill-color: #D2E3FC;\n",
              "      --hover-bg-color: #434B5C;\n",
              "      --hover-fill-color: #FFFFFF;\n",
              "      --disabled-bg-color: #3B4455;\n",
              "      --disabled-fill-color: #666;\n",
              "  }\n",
              "\n",
              "  .colab-df-quickchart {\n",
              "    background-color: var(--bg-color);\n",
              "    border: none;\n",
              "    border-radius: 50%;\n",
              "    cursor: pointer;\n",
              "    display: none;\n",
              "    fill: var(--fill-color);\n",
              "    height: 32px;\n",
              "    padding: 0;\n",
              "    width: 32px;\n",
              "  }\n",
              "\n",
              "  .colab-df-quickchart:hover {\n",
              "    background-color: var(--hover-bg-color);\n",
              "    box-shadow: 0 1px 2px rgba(60, 64, 67, 0.3), 0 1px 3px 1px rgba(60, 64, 67, 0.15);\n",
              "    fill: var(--button-hover-fill-color);\n",
              "  }\n",
              "\n",
              "  .colab-df-quickchart-complete:disabled,\n",
              "  .colab-df-quickchart-complete:disabled:hover {\n",
              "    background-color: var(--disabled-bg-color);\n",
              "    fill: var(--disabled-fill-color);\n",
              "    box-shadow: none;\n",
              "  }\n",
              "\n",
              "  .colab-df-spinner {\n",
              "    border: 2px solid var(--fill-color);\n",
              "    border-color: transparent;\n",
              "    border-bottom-color: var(--fill-color);\n",
              "    animation:\n",
              "      spin 1s steps(1) infinite;\n",
              "  }\n",
              "\n",
              "  @keyframes spin {\n",
              "    0% {\n",
              "      border-color: transparent;\n",
              "      border-bottom-color: var(--fill-color);\n",
              "      border-left-color: var(--fill-color);\n",
              "    }\n",
              "    20% {\n",
              "      border-color: transparent;\n",
              "      border-left-color: var(--fill-color);\n",
              "      border-top-color: var(--fill-color);\n",
              "    }\n",
              "    30% {\n",
              "      border-color: transparent;\n",
              "      border-left-color: var(--fill-color);\n",
              "      border-top-color: var(--fill-color);\n",
              "      border-right-color: var(--fill-color);\n",
              "    }\n",
              "    40% {\n",
              "      border-color: transparent;\n",
              "      border-right-color: var(--fill-color);\n",
              "      border-top-color: var(--fill-color);\n",
              "    }\n",
              "    60% {\n",
              "      border-color: transparent;\n",
              "      border-right-color: var(--fill-color);\n",
              "    }\n",
              "    80% {\n",
              "      border-color: transparent;\n",
              "      border-right-color: var(--fill-color);\n",
              "      border-bottom-color: var(--fill-color);\n",
              "    }\n",
              "    90% {\n",
              "      border-color: transparent;\n",
              "      border-bottom-color: var(--fill-color);\n",
              "    }\n",
              "  }\n",
              "</style>\n",
              "\n",
              "  <script>\n",
              "    async function quickchart(key) {\n",
              "      const quickchartButtonEl =\n",
              "        document.querySelector('#' + key + ' button');\n",
              "      quickchartButtonEl.disabled = true;  // To prevent multiple clicks.\n",
              "      quickchartButtonEl.classList.add('colab-df-spinner');\n",
              "      try {\n",
              "        const charts = await google.colab.kernel.invokeFunction(\n",
              "            'suggestCharts', [key], {});\n",
              "      } catch (error) {\n",
              "        console.error('Error during call to suggestCharts:', error);\n",
              "      }\n",
              "      quickchartButtonEl.classList.remove('colab-df-spinner');\n",
              "      quickchartButtonEl.classList.add('colab-df-quickchart-complete');\n",
              "    }\n",
              "    (() => {\n",
              "      let quickchartButtonEl =\n",
              "        document.querySelector('#df-e4b85f89-5e61-498b-8ccb-9e2c88334ed6 button');\n",
              "      quickchartButtonEl.style.display =\n",
              "        google.colab.kernel.accessAllowed ? 'block' : 'none';\n",
              "    })();\n",
              "  </script>\n",
              "</div>\n",
              "\n",
              "  <div id=\"id_8b196327-1229-4b5d-843a-7cfdbe5e5832\">\n",
              "    <style>\n",
              "      .colab-df-generate {\n",
              "        background-color: #E8F0FE;\n",
              "        border: none;\n",
              "        border-radius: 50%;\n",
              "        cursor: pointer;\n",
              "        display: none;\n",
              "        fill: #1967D2;\n",
              "        height: 32px;\n",
              "        padding: 0 0 0 0;\n",
              "        width: 32px;\n",
              "      }\n",
              "\n",
              "      .colab-df-generate:hover {\n",
              "        background-color: #E2EBFA;\n",
              "        box-shadow: 0px 1px 2px rgba(60, 64, 67, 0.3), 0px 1px 3px 1px rgba(60, 64, 67, 0.15);\n",
              "        fill: #174EA6;\n",
              "      }\n",
              "\n",
              "      [theme=dark] .colab-df-generate {\n",
              "        background-color: #3B4455;\n",
              "        fill: #D2E3FC;\n",
              "      }\n",
              "\n",
              "      [theme=dark] .colab-df-generate:hover {\n",
              "        background-color: #434B5C;\n",
              "        box-shadow: 0px 1px 3px 1px rgba(0, 0, 0, 0.15);\n",
              "        filter: drop-shadow(0px 1px 2px rgba(0, 0, 0, 0.3));\n",
              "        fill: #FFFFFF;\n",
              "      }\n",
              "    </style>\n",
              "    <button class=\"colab-df-generate\" onclick=\"generateWithVariable('filtro_ult5')\"\n",
              "            title=\"Generate code using this dataframe.\"\n",
              "            style=\"display:none;\">\n",
              "\n",
              "  <svg xmlns=\"http://www.w3.org/2000/svg\" height=\"24px\"viewBox=\"0 0 24 24\"\n",
              "       width=\"24px\">\n",
              "    <path d=\"M7,19H8.4L18.45,9,17,7.55,7,17.6ZM5,21V16.75L18.45,3.32a2,2,0,0,1,2.83,0l1.4,1.43a1.91,1.91,0,0,1,.58,1.4,1.91,1.91,0,0,1-.58,1.4L9.25,21ZM18.45,9,17,7.55Zm-12,3A5.31,5.31,0,0,0,4.9,8.1,5.31,5.31,0,0,0,1,6.5,5.31,5.31,0,0,0,4.9,4.9,5.31,5.31,0,0,0,6.5,1,5.31,5.31,0,0,0,8.1,4.9,5.31,5.31,0,0,0,12,6.5,5.46,5.46,0,0,0,6.5,12Z\"/>\n",
              "  </svg>\n",
              "    </button>\n",
              "    <script>\n",
              "      (() => {\n",
              "      const buttonEl =\n",
              "        document.querySelector('#id_8b196327-1229-4b5d-843a-7cfdbe5e5832 button.colab-df-generate');\n",
              "      buttonEl.style.display =\n",
              "        google.colab.kernel.accessAllowed ? 'block' : 'none';\n",
              "\n",
              "      buttonEl.onclick = () => {\n",
              "        google.colab.notebook.generateWithVariable('filtro_ult5');\n",
              "      }\n",
              "      })();\n",
              "    </script>\n",
              "  </div>\n",
              "\n",
              "    </div>\n",
              "  </div>\n"
            ],
            "application/vnd.google.colaboratory.intrinsic+json": {
              "type": "dataframe",
              "variable_name": "filtro_ult5",
              "summary": "{\n  \"name\": \"filtro_ult5\",\n  \"rows\": 5,\n  \"fields\": [\n    {\n      \"column\": \"M2\",\n      \"properties\": {\n        \"dtype\": \"number\",\n        \"std\": 29,\n        \"min\": 35,\n        \"max\": 117,\n        \"num_unique_values\": 5,\n        \"samples\": [\n          35,\n          73,\n          117\n        ],\n        \"semantic_type\": \"\",\n        \"description\": \"\"\n      }\n    },\n    {\n      \"column\": \"AMBIENTES\",\n      \"properties\": {\n        \"dtype\": \"number\",\n        \"std\": 1,\n        \"min\": 1,\n        \"max\": 4,\n        \"num_unique_values\": 3,\n        \"samples\": [\n          4,\n          1,\n          3\n        ],\n        \"semantic_type\": \"\",\n        \"description\": \"\"\n      }\n    },\n    {\n      \"column\": \"ANTIGUEDAD\",\n      \"properties\": {\n        \"dtype\": \"number\",\n        \"std\": 15,\n        \"min\": 10,\n        \"max\": 50,\n        \"num_unique_values\": 5,\n        \"samples\": [\n          35,\n          50,\n          10\n        ],\n        \"semantic_type\": \"\",\n        \"description\": \"\"\n      }\n    },\n    {\n      \"column\": \"BA\\u00d1OS\",\n      \"properties\": {\n        \"dtype\": \"number\",\n        \"std\": 0,\n        \"min\": 1,\n        \"max\": 2,\n        \"num_unique_values\": 2,\n        \"samples\": [\n          1,\n          2\n        ],\n        \"semantic_type\": \"\",\n        \"description\": \"\"\n      }\n    },\n    {\n      \"column\": \"LATITUD\",\n      \"properties\": {\n        \"dtype\": \"number\",\n        \"std\": 0.030524885254550813,\n        \"min\": -34.62853334701753,\n        \"max\": -34.55015161752366,\n        \"num_unique_values\": 5,\n        \"samples\": [\n          -34.602256299682445,\n          -34.59665874328482\n        ],\n        \"semantic_type\": \"\",\n        \"description\": \"\"\n      }\n    },\n    {\n      \"column\": \"LONGITUD\",\n      \"properties\": {\n        \"dtype\": \"number\",\n        \"std\": 0.04242403287037301,\n        \"min\": -58.47013613571929,\n        \"max\": -58.36545144537693,\n        \"num_unique_values\": 5,\n        \"samples\": [\n          -58.42931540063272,\n          -58.37839640550602\n        ],\n        \"semantic_type\": \"\",\n        \"description\": \"\"\n      }\n    },\n    {\n      \"column\": \"COMUNA\",\n      \"properties\": {\n        \"dtype\": \"string\",\n        \"num_unique_values\": 4,\n        \"samples\": [\n          \"COMUNA 05\",\n          \"COMUNA 07\"\n        ],\n        \"semantic_type\": \"\",\n        \"description\": \"\"\n      }\n    },\n    {\n      \"column\": \"DOLARES\",\n      \"properties\": {\n        \"dtype\": \"number\",\n        \"std\": 174615,\n        \"min\": 79900,\n        \"max\": 520000,\n        \"num_unique_values\": 5,\n        \"samples\": [\n          79900,\n          179000\n        ],\n        \"semantic_type\": \"\",\n        \"description\": \"\"\n      }\n    }\n  ]\n}"
            }
          },
          "metadata": {},
          "execution_count": 37
        }
      ],
      "source": [
        "filtro_ult5 = departamentos.iloc[-5:]\n",
        "filtro_ult5"
      ]
    },
    {
      "cell_type": "markdown",
      "id": "315a4936",
      "metadata": {
        "id": "315a4936"
      },
      "source": [
        "🐼 Crear una nueva columna llamada PAIS y rellenarla con \"Argentina\""
      ]
    },
    {
      "cell_type": "code",
      "execution_count": 38,
      "id": "8264f632",
      "metadata": {
        "id": "8264f632",
        "colab": {
          "base_uri": "https://localhost:8080/",
          "height": 424
        },
        "outputId": "b73b008d-9e23-41da-d1dd-9251b3f4b21a"
      },
      "outputs": [
        {
          "output_type": "execute_result",
          "data": {
            "text/plain": [
              "       M2  AMBIENTES  ANTIGUEDAD  BAÑOS    LATITUD   LONGITUD     COMUNA  \\\n",
              "0      81          3           4      1 -34.581078 -58.449433  COMUNA 13   \n",
              "1      69          3          20      1 -34.623129 -58.439338  COMUNA 06   \n",
              "2      75          3          20      1 -34.604972 -58.421278  COMUNA 05   \n",
              "3      42          2          40      1 -34.604725 -58.399524  COMUNA 03   \n",
              "4      90          3           1      1 -34.623390 -58.504401  COMUNA 10   \n",
              "...   ...        ...         ...    ...        ...        ...        ...   \n",
              "2227   88          4          20      2 -34.550152 -58.470136  COMUNA 13   \n",
              "2228   35          1          35      1 -34.602256 -58.429315  COMUNA 05   \n",
              "2229  117          3          10      2 -34.620314 -58.365451  COMUNA 01   \n",
              "2230   69          4          40      1 -34.628533 -58.427748  COMUNA 07   \n",
              "2231   73          4          50      2 -34.596659 -58.378396  COMUNA 01   \n",
              "\n",
              "      DOLARES       PAIS  \n",
              "0      225000  Argentina  \n",
              "1      140000  Argentina  \n",
              "2      154000  Argentina  \n",
              "3       75000  Argentina  \n",
              "4      149900  Argentina  \n",
              "...       ...        ...  \n",
              "2227   165000  Argentina  \n",
              "2228    79900  Argentina  \n",
              "2229   520000  Argentina  \n",
              "2230   132000  Argentina  \n",
              "2231   179000  Argentina  \n",
              "\n",
              "[2232 rows x 9 columns]"
            ],
            "text/html": [
              "\n",
              "  <div id=\"df-94732987-4554-4379-b4d9-8a1e9d0a9cef\" class=\"colab-df-container\">\n",
              "    <div>\n",
              "<style scoped>\n",
              "    .dataframe tbody tr th:only-of-type {\n",
              "        vertical-align: middle;\n",
              "    }\n",
              "\n",
              "    .dataframe tbody tr th {\n",
              "        vertical-align: top;\n",
              "    }\n",
              "\n",
              "    .dataframe thead th {\n",
              "        text-align: right;\n",
              "    }\n",
              "</style>\n",
              "<table border=\"1\" class=\"dataframe\">\n",
              "  <thead>\n",
              "    <tr style=\"text-align: right;\">\n",
              "      <th></th>\n",
              "      <th>M2</th>\n",
              "      <th>AMBIENTES</th>\n",
              "      <th>ANTIGUEDAD</th>\n",
              "      <th>BAÑOS</th>\n",
              "      <th>LATITUD</th>\n",
              "      <th>LONGITUD</th>\n",
              "      <th>COMUNA</th>\n",
              "      <th>DOLARES</th>\n",
              "      <th>PAIS</th>\n",
              "    </tr>\n",
              "  </thead>\n",
              "  <tbody>\n",
              "    <tr>\n",
              "      <th>0</th>\n",
              "      <td>81</td>\n",
              "      <td>3</td>\n",
              "      <td>4</td>\n",
              "      <td>1</td>\n",
              "      <td>-34.581078</td>\n",
              "      <td>-58.449433</td>\n",
              "      <td>COMUNA 13</td>\n",
              "      <td>225000</td>\n",
              "      <td>Argentina</td>\n",
              "    </tr>\n",
              "    <tr>\n",
              "      <th>1</th>\n",
              "      <td>69</td>\n",
              "      <td>3</td>\n",
              "      <td>20</td>\n",
              "      <td>1</td>\n",
              "      <td>-34.623129</td>\n",
              "      <td>-58.439338</td>\n",
              "      <td>COMUNA 06</td>\n",
              "      <td>140000</td>\n",
              "      <td>Argentina</td>\n",
              "    </tr>\n",
              "    <tr>\n",
              "      <th>2</th>\n",
              "      <td>75</td>\n",
              "      <td>3</td>\n",
              "      <td>20</td>\n",
              "      <td>1</td>\n",
              "      <td>-34.604972</td>\n",
              "      <td>-58.421278</td>\n",
              "      <td>COMUNA 05</td>\n",
              "      <td>154000</td>\n",
              "      <td>Argentina</td>\n",
              "    </tr>\n",
              "    <tr>\n",
              "      <th>3</th>\n",
              "      <td>42</td>\n",
              "      <td>2</td>\n",
              "      <td>40</td>\n",
              "      <td>1</td>\n",
              "      <td>-34.604725</td>\n",
              "      <td>-58.399524</td>\n",
              "      <td>COMUNA 03</td>\n",
              "      <td>75000</td>\n",
              "      <td>Argentina</td>\n",
              "    </tr>\n",
              "    <tr>\n",
              "      <th>4</th>\n",
              "      <td>90</td>\n",
              "      <td>3</td>\n",
              "      <td>1</td>\n",
              "      <td>1</td>\n",
              "      <td>-34.623390</td>\n",
              "      <td>-58.504401</td>\n",
              "      <td>COMUNA 10</td>\n",
              "      <td>149900</td>\n",
              "      <td>Argentina</td>\n",
              "    </tr>\n",
              "    <tr>\n",
              "      <th>...</th>\n",
              "      <td>...</td>\n",
              "      <td>...</td>\n",
              "      <td>...</td>\n",
              "      <td>...</td>\n",
              "      <td>...</td>\n",
              "      <td>...</td>\n",
              "      <td>...</td>\n",
              "      <td>...</td>\n",
              "      <td>...</td>\n",
              "    </tr>\n",
              "    <tr>\n",
              "      <th>2227</th>\n",
              "      <td>88</td>\n",
              "      <td>4</td>\n",
              "      <td>20</td>\n",
              "      <td>2</td>\n",
              "      <td>-34.550152</td>\n",
              "      <td>-58.470136</td>\n",
              "      <td>COMUNA 13</td>\n",
              "      <td>165000</td>\n",
              "      <td>Argentina</td>\n",
              "    </tr>\n",
              "    <tr>\n",
              "      <th>2228</th>\n",
              "      <td>35</td>\n",
              "      <td>1</td>\n",
              "      <td>35</td>\n",
              "      <td>1</td>\n",
              "      <td>-34.602256</td>\n",
              "      <td>-58.429315</td>\n",
              "      <td>COMUNA 05</td>\n",
              "      <td>79900</td>\n",
              "      <td>Argentina</td>\n",
              "    </tr>\n",
              "    <tr>\n",
              "      <th>2229</th>\n",
              "      <td>117</td>\n",
              "      <td>3</td>\n",
              "      <td>10</td>\n",
              "      <td>2</td>\n",
              "      <td>-34.620314</td>\n",
              "      <td>-58.365451</td>\n",
              "      <td>COMUNA 01</td>\n",
              "      <td>520000</td>\n",
              "      <td>Argentina</td>\n",
              "    </tr>\n",
              "    <tr>\n",
              "      <th>2230</th>\n",
              "      <td>69</td>\n",
              "      <td>4</td>\n",
              "      <td>40</td>\n",
              "      <td>1</td>\n",
              "      <td>-34.628533</td>\n",
              "      <td>-58.427748</td>\n",
              "      <td>COMUNA 07</td>\n",
              "      <td>132000</td>\n",
              "      <td>Argentina</td>\n",
              "    </tr>\n",
              "    <tr>\n",
              "      <th>2231</th>\n",
              "      <td>73</td>\n",
              "      <td>4</td>\n",
              "      <td>50</td>\n",
              "      <td>2</td>\n",
              "      <td>-34.596659</td>\n",
              "      <td>-58.378396</td>\n",
              "      <td>COMUNA 01</td>\n",
              "      <td>179000</td>\n",
              "      <td>Argentina</td>\n",
              "    </tr>\n",
              "  </tbody>\n",
              "</table>\n",
              "<p>2232 rows × 9 columns</p>\n",
              "</div>\n",
              "    <div class=\"colab-df-buttons\">\n",
              "\n",
              "  <div class=\"colab-df-container\">\n",
              "    <button class=\"colab-df-convert\" onclick=\"convertToInteractive('df-94732987-4554-4379-b4d9-8a1e9d0a9cef')\"\n",
              "            title=\"Convert this dataframe to an interactive table.\"\n",
              "            style=\"display:none;\">\n",
              "\n",
              "  <svg xmlns=\"http://www.w3.org/2000/svg\" height=\"24px\" viewBox=\"0 -960 960 960\">\n",
              "    <path d=\"M120-120v-720h720v720H120Zm60-500h600v-160H180v160Zm220 220h160v-160H400v160Zm0 220h160v-160H400v160ZM180-400h160v-160H180v160Zm440 0h160v-160H620v160ZM180-180h160v-160H180v160Zm440 0h160v-160H620v160Z\"/>\n",
              "  </svg>\n",
              "    </button>\n",
              "\n",
              "  <style>\n",
              "    .colab-df-container {\n",
              "      display:flex;\n",
              "      gap: 12px;\n",
              "    }\n",
              "\n",
              "    .colab-df-convert {\n",
              "      background-color: #E8F0FE;\n",
              "      border: none;\n",
              "      border-radius: 50%;\n",
              "      cursor: pointer;\n",
              "      display: none;\n",
              "      fill: #1967D2;\n",
              "      height: 32px;\n",
              "      padding: 0 0 0 0;\n",
              "      width: 32px;\n",
              "    }\n",
              "\n",
              "    .colab-df-convert:hover {\n",
              "      background-color: #E2EBFA;\n",
              "      box-shadow: 0px 1px 2px rgba(60, 64, 67, 0.3), 0px 1px 3px 1px rgba(60, 64, 67, 0.15);\n",
              "      fill: #174EA6;\n",
              "    }\n",
              "\n",
              "    .colab-df-buttons div {\n",
              "      margin-bottom: 4px;\n",
              "    }\n",
              "\n",
              "    [theme=dark] .colab-df-convert {\n",
              "      background-color: #3B4455;\n",
              "      fill: #D2E3FC;\n",
              "    }\n",
              "\n",
              "    [theme=dark] .colab-df-convert:hover {\n",
              "      background-color: #434B5C;\n",
              "      box-shadow: 0px 1px 3px 1px rgba(0, 0, 0, 0.15);\n",
              "      filter: drop-shadow(0px 1px 2px rgba(0, 0, 0, 0.3));\n",
              "      fill: #FFFFFF;\n",
              "    }\n",
              "  </style>\n",
              "\n",
              "    <script>\n",
              "      const buttonEl =\n",
              "        document.querySelector('#df-94732987-4554-4379-b4d9-8a1e9d0a9cef button.colab-df-convert');\n",
              "      buttonEl.style.display =\n",
              "        google.colab.kernel.accessAllowed ? 'block' : 'none';\n",
              "\n",
              "      async function convertToInteractive(key) {\n",
              "        const element = document.querySelector('#df-94732987-4554-4379-b4d9-8a1e9d0a9cef');\n",
              "        const dataTable =\n",
              "          await google.colab.kernel.invokeFunction('convertToInteractive',\n",
              "                                                    [key], {});\n",
              "        if (!dataTable) return;\n",
              "\n",
              "        const docLinkHtml = 'Like what you see? Visit the ' +\n",
              "          '<a target=\"_blank\" href=https://colab.research.google.com/notebooks/data_table.ipynb>data table notebook</a>'\n",
              "          + ' to learn more about interactive tables.';\n",
              "        element.innerHTML = '';\n",
              "        dataTable['output_type'] = 'display_data';\n",
              "        await google.colab.output.renderOutput(dataTable, element);\n",
              "        const docLink = document.createElement('div');\n",
              "        docLink.innerHTML = docLinkHtml;\n",
              "        element.appendChild(docLink);\n",
              "      }\n",
              "    </script>\n",
              "  </div>\n",
              "\n",
              "\n",
              "<div id=\"df-56977ee3-d85a-409c-a9fd-584e2c764c68\">\n",
              "  <button class=\"colab-df-quickchart\" onclick=\"quickchart('df-56977ee3-d85a-409c-a9fd-584e2c764c68')\"\n",
              "            title=\"Suggest charts\"\n",
              "            style=\"display:none;\">\n",
              "\n",
              "<svg xmlns=\"http://www.w3.org/2000/svg\" height=\"24px\"viewBox=\"0 0 24 24\"\n",
              "     width=\"24px\">\n",
              "    <g>\n",
              "        <path d=\"M19 3H5c-1.1 0-2 .9-2 2v14c0 1.1.9 2 2 2h14c1.1 0 2-.9 2-2V5c0-1.1-.9-2-2-2zM9 17H7v-7h2v7zm4 0h-2V7h2v10zm4 0h-2v-4h2v4z\"/>\n",
              "    </g>\n",
              "</svg>\n",
              "  </button>\n",
              "\n",
              "<style>\n",
              "  .colab-df-quickchart {\n",
              "      --bg-color: #E8F0FE;\n",
              "      --fill-color: #1967D2;\n",
              "      --hover-bg-color: #E2EBFA;\n",
              "      --hover-fill-color: #174EA6;\n",
              "      --disabled-fill-color: #AAA;\n",
              "      --disabled-bg-color: #DDD;\n",
              "  }\n",
              "\n",
              "  [theme=dark] .colab-df-quickchart {\n",
              "      --bg-color: #3B4455;\n",
              "      --fill-color: #D2E3FC;\n",
              "      --hover-bg-color: #434B5C;\n",
              "      --hover-fill-color: #FFFFFF;\n",
              "      --disabled-bg-color: #3B4455;\n",
              "      --disabled-fill-color: #666;\n",
              "  }\n",
              "\n",
              "  .colab-df-quickchart {\n",
              "    background-color: var(--bg-color);\n",
              "    border: none;\n",
              "    border-radius: 50%;\n",
              "    cursor: pointer;\n",
              "    display: none;\n",
              "    fill: var(--fill-color);\n",
              "    height: 32px;\n",
              "    padding: 0;\n",
              "    width: 32px;\n",
              "  }\n",
              "\n",
              "  .colab-df-quickchart:hover {\n",
              "    background-color: var(--hover-bg-color);\n",
              "    box-shadow: 0 1px 2px rgba(60, 64, 67, 0.3), 0 1px 3px 1px rgba(60, 64, 67, 0.15);\n",
              "    fill: var(--button-hover-fill-color);\n",
              "  }\n",
              "\n",
              "  .colab-df-quickchart-complete:disabled,\n",
              "  .colab-df-quickchart-complete:disabled:hover {\n",
              "    background-color: var(--disabled-bg-color);\n",
              "    fill: var(--disabled-fill-color);\n",
              "    box-shadow: none;\n",
              "  }\n",
              "\n",
              "  .colab-df-spinner {\n",
              "    border: 2px solid var(--fill-color);\n",
              "    border-color: transparent;\n",
              "    border-bottom-color: var(--fill-color);\n",
              "    animation:\n",
              "      spin 1s steps(1) infinite;\n",
              "  }\n",
              "\n",
              "  @keyframes spin {\n",
              "    0% {\n",
              "      border-color: transparent;\n",
              "      border-bottom-color: var(--fill-color);\n",
              "      border-left-color: var(--fill-color);\n",
              "    }\n",
              "    20% {\n",
              "      border-color: transparent;\n",
              "      border-left-color: var(--fill-color);\n",
              "      border-top-color: var(--fill-color);\n",
              "    }\n",
              "    30% {\n",
              "      border-color: transparent;\n",
              "      border-left-color: var(--fill-color);\n",
              "      border-top-color: var(--fill-color);\n",
              "      border-right-color: var(--fill-color);\n",
              "    }\n",
              "    40% {\n",
              "      border-color: transparent;\n",
              "      border-right-color: var(--fill-color);\n",
              "      border-top-color: var(--fill-color);\n",
              "    }\n",
              "    60% {\n",
              "      border-color: transparent;\n",
              "      border-right-color: var(--fill-color);\n",
              "    }\n",
              "    80% {\n",
              "      border-color: transparent;\n",
              "      border-right-color: var(--fill-color);\n",
              "      border-bottom-color: var(--fill-color);\n",
              "    }\n",
              "    90% {\n",
              "      border-color: transparent;\n",
              "      border-bottom-color: var(--fill-color);\n",
              "    }\n",
              "  }\n",
              "</style>\n",
              "\n",
              "  <script>\n",
              "    async function quickchart(key) {\n",
              "      const quickchartButtonEl =\n",
              "        document.querySelector('#' + key + ' button');\n",
              "      quickchartButtonEl.disabled = true;  // To prevent multiple clicks.\n",
              "      quickchartButtonEl.classList.add('colab-df-spinner');\n",
              "      try {\n",
              "        const charts = await google.colab.kernel.invokeFunction(\n",
              "            'suggestCharts', [key], {});\n",
              "      } catch (error) {\n",
              "        console.error('Error during call to suggestCharts:', error);\n",
              "      }\n",
              "      quickchartButtonEl.classList.remove('colab-df-spinner');\n",
              "      quickchartButtonEl.classList.add('colab-df-quickchart-complete');\n",
              "    }\n",
              "    (() => {\n",
              "      let quickchartButtonEl =\n",
              "        document.querySelector('#df-56977ee3-d85a-409c-a9fd-584e2c764c68 button');\n",
              "      quickchartButtonEl.style.display =\n",
              "        google.colab.kernel.accessAllowed ? 'block' : 'none';\n",
              "    })();\n",
              "  </script>\n",
              "</div>\n",
              "\n",
              "  <div id=\"id_35f649d1-f5de-4ab9-be78-647d0709db37\">\n",
              "    <style>\n",
              "      .colab-df-generate {\n",
              "        background-color: #E8F0FE;\n",
              "        border: none;\n",
              "        border-radius: 50%;\n",
              "        cursor: pointer;\n",
              "        display: none;\n",
              "        fill: #1967D2;\n",
              "        height: 32px;\n",
              "        padding: 0 0 0 0;\n",
              "        width: 32px;\n",
              "      }\n",
              "\n",
              "      .colab-df-generate:hover {\n",
              "        background-color: #E2EBFA;\n",
              "        box-shadow: 0px 1px 2px rgba(60, 64, 67, 0.3), 0px 1px 3px 1px rgba(60, 64, 67, 0.15);\n",
              "        fill: #174EA6;\n",
              "      }\n",
              "\n",
              "      [theme=dark] .colab-df-generate {\n",
              "        background-color: #3B4455;\n",
              "        fill: #D2E3FC;\n",
              "      }\n",
              "\n",
              "      [theme=dark] .colab-df-generate:hover {\n",
              "        background-color: #434B5C;\n",
              "        box-shadow: 0px 1px 3px 1px rgba(0, 0, 0, 0.15);\n",
              "        filter: drop-shadow(0px 1px 2px rgba(0, 0, 0, 0.3));\n",
              "        fill: #FFFFFF;\n",
              "      }\n",
              "    </style>\n",
              "    <button class=\"colab-df-generate\" onclick=\"generateWithVariable('departamentos')\"\n",
              "            title=\"Generate code using this dataframe.\"\n",
              "            style=\"display:none;\">\n",
              "\n",
              "  <svg xmlns=\"http://www.w3.org/2000/svg\" height=\"24px\"viewBox=\"0 0 24 24\"\n",
              "       width=\"24px\">\n",
              "    <path d=\"M7,19H8.4L18.45,9,17,7.55,7,17.6ZM5,21V16.75L18.45,3.32a2,2,0,0,1,2.83,0l1.4,1.43a1.91,1.91,0,0,1,.58,1.4,1.91,1.91,0,0,1-.58,1.4L9.25,21ZM18.45,9,17,7.55Zm-12,3A5.31,5.31,0,0,0,4.9,8.1,5.31,5.31,0,0,0,1,6.5,5.31,5.31,0,0,0,4.9,4.9,5.31,5.31,0,0,0,6.5,1,5.31,5.31,0,0,0,8.1,4.9,5.31,5.31,0,0,0,12,6.5,5.46,5.46,0,0,0,6.5,12Z\"/>\n",
              "  </svg>\n",
              "    </button>\n",
              "    <script>\n",
              "      (() => {\n",
              "      const buttonEl =\n",
              "        document.querySelector('#id_35f649d1-f5de-4ab9-be78-647d0709db37 button.colab-df-generate');\n",
              "      buttonEl.style.display =\n",
              "        google.colab.kernel.accessAllowed ? 'block' : 'none';\n",
              "\n",
              "      buttonEl.onclick = () => {\n",
              "        google.colab.notebook.generateWithVariable('departamentos');\n",
              "      }\n",
              "      })();\n",
              "    </script>\n",
              "  </div>\n",
              "\n",
              "    </div>\n",
              "  </div>\n"
            ],
            "application/vnd.google.colaboratory.intrinsic+json": {
              "type": "dataframe",
              "variable_name": "departamentos",
              "summary": "{\n  \"name\": \"departamentos\",\n  \"rows\": 2232,\n  \"fields\": [\n    {\n      \"column\": \"M2\",\n      \"properties\": {\n        \"dtype\": \"number\",\n        \"std\": 58,\n        \"min\": 15,\n        \"max\": 730,\n        \"num_unique_values\": 221,\n        \"samples\": [\n          160,\n          126,\n          61\n        ],\n        \"semantic_type\": \"\",\n        \"description\": \"\"\n      }\n    },\n    {\n      \"column\": \"AMBIENTES\",\n      \"properties\": {\n        \"dtype\": \"number\",\n        \"std\": 1,\n        \"min\": 1,\n        \"max\": 10,\n        \"num_unique_values\": 9,\n        \"samples\": [\n          7,\n          2,\n          6\n        ],\n        \"semantic_type\": \"\",\n        \"description\": \"\"\n      }\n    },\n    {\n      \"column\": \"ANTIGUEDAD\",\n      \"properties\": {\n        \"dtype\": \"number\",\n        \"std\": 18,\n        \"min\": 1,\n        \"max\": 110,\n        \"num_unique_values\": 64,\n        \"samples\": [\n          29,\n          75,\n          4\n        ],\n        \"semantic_type\": \"\",\n        \"description\": \"\"\n      }\n    },\n    {\n      \"column\": \"BA\\u00d1OS\",\n      \"properties\": {\n        \"dtype\": \"number\",\n        \"std\": 0,\n        \"min\": 1,\n        \"max\": 6,\n        \"num_unique_values\": 6,\n        \"samples\": [\n          1,\n          2,\n          5\n        ],\n        \"semantic_type\": \"\",\n        \"description\": \"\"\n      }\n    },\n    {\n      \"column\": \"LATITUD\",\n      \"properties\": {\n        \"dtype\": \"number\",\n        \"std\": 0.022612748735094376,\n        \"min\": -34.68491929893829,\n        \"max\": -34.53730822008631,\n        \"num_unique_values\": 1374,\n        \"samples\": [\n          -34.62158984847588,\n          -34.56169943299393,\n          -34.618979145410826\n        ],\n        \"semantic_type\": \"\",\n        \"description\": \"\"\n      }\n    },\n    {\n      \"column\": \"LONGITUD\",\n      \"properties\": {\n        \"dtype\": \"number\",\n        \"std\": 0.034101726174456774,\n        \"min\": -58.52747608345872,\n        \"max\": -58.35381206090168,\n        \"num_unique_values\": 1374,\n        \"samples\": [\n          -58.42512074149378,\n          -58.451219390270175,\n          -58.39027952392485\n        ],\n        \"semantic_type\": \"\",\n        \"description\": \"\"\n      }\n    },\n    {\n      \"column\": \"COMUNA\",\n      \"properties\": {\n        \"dtype\": \"category\",\n        \"num_unique_values\": 15,\n        \"samples\": [\n          \"COMUNA 01\",\n          \"COMUNA 11\",\n          \"COMUNA 13\"\n        ],\n        \"semantic_type\": \"\",\n        \"description\": \"\"\n      }\n    },\n    {\n      \"column\": \"DOLARES\",\n      \"properties\": {\n        \"dtype\": \"number\",\n        \"std\": 186368,\n        \"min\": 7428,\n        \"max\": 1800000,\n        \"num_unique_values\": 402,\n        \"samples\": [\n          470000,\n          1050000,\n          980000\n        ],\n        \"semantic_type\": \"\",\n        \"description\": \"\"\n      }\n    },\n    {\n      \"column\": \"PAIS\",\n      \"properties\": {\n        \"dtype\": \"category\",\n        \"num_unique_values\": 1,\n        \"samples\": [\n          \"Argentina\"\n        ],\n        \"semantic_type\": \"\",\n        \"description\": \"\"\n      }\n    }\n  ]\n}"
            }
          },
          "metadata": {},
          "execution_count": 38
        }
      ],
      "source": [
        "departamentos['PAIS'] = 'Argentina'\n",
        "departamentos"
      ]
    },
    {
      "cell_type": "markdown",
      "id": "ce05f8a9",
      "metadata": {
        "id": "ce05f8a9"
      },
      "source": [
        "🐼 Utiliza .info() para tener informacion muy importante y util del dataframe"
      ]
    },
    {
      "cell_type": "code",
      "execution_count": 39,
      "id": "1e7c3b05",
      "metadata": {
        "id": "1e7c3b05",
        "colab": {
          "base_uri": "https://localhost:8080/"
        },
        "outputId": "aa9afe7f-ddb5-47c9-ab30-e270b6a19ad2"
      },
      "outputs": [
        {
          "output_type": "stream",
          "name": "stdout",
          "text": [
            "<class 'pandas.core.frame.DataFrame'>\n",
            "RangeIndex: 2232 entries, 0 to 2231\n",
            "Data columns (total 9 columns):\n",
            " #   Column      Non-Null Count  Dtype  \n",
            "---  ------      --------------  -----  \n",
            " 0   M2          2232 non-null   int64  \n",
            " 1   AMBIENTES   2232 non-null   int64  \n",
            " 2   ANTIGUEDAD  2232 non-null   int64  \n",
            " 3   BAÑOS       2232 non-null   int64  \n",
            " 4   LATITUD     2232 non-null   float64\n",
            " 5   LONGITUD    2232 non-null   float64\n",
            " 6   COMUNA      2232 non-null   object \n",
            " 7   DOLARES     2232 non-null   int64  \n",
            " 8   PAIS        2232 non-null   object \n",
            "dtypes: float64(2), int64(5), object(2)\n",
            "memory usage: 157.1+ KB\n"
          ]
        }
      ],
      "source": [
        "departamentos.info()"
      ]
    },
    {
      "cell_type": "markdown",
      "id": "e0f362bf",
      "metadata": {
        "id": "e0f362bf"
      },
      "source": [
        "🐼 Generar una columna que se llame PESOS cuyo valor sea DOLARES * 200"
      ]
    },
    {
      "cell_type": "code",
      "execution_count": 40,
      "id": "e37b77f4",
      "metadata": {
        "id": "e37b77f4",
        "colab": {
          "base_uri": "https://localhost:8080/",
          "height": 424
        },
        "outputId": "3855f6cd-45ca-45eb-91be-da774a014122"
      },
      "outputs": [
        {
          "output_type": "execute_result",
          "data": {
            "text/plain": [
              "       M2  AMBIENTES  ANTIGUEDAD  BAÑOS    LATITUD   LONGITUD     COMUNA  \\\n",
              "0      81          3           4      1 -34.581078 -58.449433  COMUNA 13   \n",
              "1      69          3          20      1 -34.623129 -58.439338  COMUNA 06   \n",
              "2      75          3          20      1 -34.604972 -58.421278  COMUNA 05   \n",
              "3      42          2          40      1 -34.604725 -58.399524  COMUNA 03   \n",
              "4      90          3           1      1 -34.623390 -58.504401  COMUNA 10   \n",
              "...   ...        ...         ...    ...        ...        ...        ...   \n",
              "2227   88          4          20      2 -34.550152 -58.470136  COMUNA 13   \n",
              "2228   35          1          35      1 -34.602256 -58.429315  COMUNA 05   \n",
              "2229  117          3          10      2 -34.620314 -58.365451  COMUNA 01   \n",
              "2230   69          4          40      1 -34.628533 -58.427748  COMUNA 07   \n",
              "2231   73          4          50      2 -34.596659 -58.378396  COMUNA 01   \n",
              "\n",
              "      DOLARES       PAIS      PESOS  \n",
              "0      225000  Argentina   45000000  \n",
              "1      140000  Argentina   28000000  \n",
              "2      154000  Argentina   30800000  \n",
              "3       75000  Argentina   15000000  \n",
              "4      149900  Argentina   29980000  \n",
              "...       ...        ...        ...  \n",
              "2227   165000  Argentina   33000000  \n",
              "2228    79900  Argentina   15980000  \n",
              "2229   520000  Argentina  104000000  \n",
              "2230   132000  Argentina   26400000  \n",
              "2231   179000  Argentina   35800000  \n",
              "\n",
              "[2232 rows x 10 columns]"
            ],
            "text/html": [
              "\n",
              "  <div id=\"df-6edfa63b-437a-4f7c-a238-0eb2d9b61dd2\" class=\"colab-df-container\">\n",
              "    <div>\n",
              "<style scoped>\n",
              "    .dataframe tbody tr th:only-of-type {\n",
              "        vertical-align: middle;\n",
              "    }\n",
              "\n",
              "    .dataframe tbody tr th {\n",
              "        vertical-align: top;\n",
              "    }\n",
              "\n",
              "    .dataframe thead th {\n",
              "        text-align: right;\n",
              "    }\n",
              "</style>\n",
              "<table border=\"1\" class=\"dataframe\">\n",
              "  <thead>\n",
              "    <tr style=\"text-align: right;\">\n",
              "      <th></th>\n",
              "      <th>M2</th>\n",
              "      <th>AMBIENTES</th>\n",
              "      <th>ANTIGUEDAD</th>\n",
              "      <th>BAÑOS</th>\n",
              "      <th>LATITUD</th>\n",
              "      <th>LONGITUD</th>\n",
              "      <th>COMUNA</th>\n",
              "      <th>DOLARES</th>\n",
              "      <th>PAIS</th>\n",
              "      <th>PESOS</th>\n",
              "    </tr>\n",
              "  </thead>\n",
              "  <tbody>\n",
              "    <tr>\n",
              "      <th>0</th>\n",
              "      <td>81</td>\n",
              "      <td>3</td>\n",
              "      <td>4</td>\n",
              "      <td>1</td>\n",
              "      <td>-34.581078</td>\n",
              "      <td>-58.449433</td>\n",
              "      <td>COMUNA 13</td>\n",
              "      <td>225000</td>\n",
              "      <td>Argentina</td>\n",
              "      <td>45000000</td>\n",
              "    </tr>\n",
              "    <tr>\n",
              "      <th>1</th>\n",
              "      <td>69</td>\n",
              "      <td>3</td>\n",
              "      <td>20</td>\n",
              "      <td>1</td>\n",
              "      <td>-34.623129</td>\n",
              "      <td>-58.439338</td>\n",
              "      <td>COMUNA 06</td>\n",
              "      <td>140000</td>\n",
              "      <td>Argentina</td>\n",
              "      <td>28000000</td>\n",
              "    </tr>\n",
              "    <tr>\n",
              "      <th>2</th>\n",
              "      <td>75</td>\n",
              "      <td>3</td>\n",
              "      <td>20</td>\n",
              "      <td>1</td>\n",
              "      <td>-34.604972</td>\n",
              "      <td>-58.421278</td>\n",
              "      <td>COMUNA 05</td>\n",
              "      <td>154000</td>\n",
              "      <td>Argentina</td>\n",
              "      <td>30800000</td>\n",
              "    </tr>\n",
              "    <tr>\n",
              "      <th>3</th>\n",
              "      <td>42</td>\n",
              "      <td>2</td>\n",
              "      <td>40</td>\n",
              "      <td>1</td>\n",
              "      <td>-34.604725</td>\n",
              "      <td>-58.399524</td>\n",
              "      <td>COMUNA 03</td>\n",
              "      <td>75000</td>\n",
              "      <td>Argentina</td>\n",
              "      <td>15000000</td>\n",
              "    </tr>\n",
              "    <tr>\n",
              "      <th>4</th>\n",
              "      <td>90</td>\n",
              "      <td>3</td>\n",
              "      <td>1</td>\n",
              "      <td>1</td>\n",
              "      <td>-34.623390</td>\n",
              "      <td>-58.504401</td>\n",
              "      <td>COMUNA 10</td>\n",
              "      <td>149900</td>\n",
              "      <td>Argentina</td>\n",
              "      <td>29980000</td>\n",
              "    </tr>\n",
              "    <tr>\n",
              "      <th>...</th>\n",
              "      <td>...</td>\n",
              "      <td>...</td>\n",
              "      <td>...</td>\n",
              "      <td>...</td>\n",
              "      <td>...</td>\n",
              "      <td>...</td>\n",
              "      <td>...</td>\n",
              "      <td>...</td>\n",
              "      <td>...</td>\n",
              "      <td>...</td>\n",
              "    </tr>\n",
              "    <tr>\n",
              "      <th>2227</th>\n",
              "      <td>88</td>\n",
              "      <td>4</td>\n",
              "      <td>20</td>\n",
              "      <td>2</td>\n",
              "      <td>-34.550152</td>\n",
              "      <td>-58.470136</td>\n",
              "      <td>COMUNA 13</td>\n",
              "      <td>165000</td>\n",
              "      <td>Argentina</td>\n",
              "      <td>33000000</td>\n",
              "    </tr>\n",
              "    <tr>\n",
              "      <th>2228</th>\n",
              "      <td>35</td>\n",
              "      <td>1</td>\n",
              "      <td>35</td>\n",
              "      <td>1</td>\n",
              "      <td>-34.602256</td>\n",
              "      <td>-58.429315</td>\n",
              "      <td>COMUNA 05</td>\n",
              "      <td>79900</td>\n",
              "      <td>Argentina</td>\n",
              "      <td>15980000</td>\n",
              "    </tr>\n",
              "    <tr>\n",
              "      <th>2229</th>\n",
              "      <td>117</td>\n",
              "      <td>3</td>\n",
              "      <td>10</td>\n",
              "      <td>2</td>\n",
              "      <td>-34.620314</td>\n",
              "      <td>-58.365451</td>\n",
              "      <td>COMUNA 01</td>\n",
              "      <td>520000</td>\n",
              "      <td>Argentina</td>\n",
              "      <td>104000000</td>\n",
              "    </tr>\n",
              "    <tr>\n",
              "      <th>2230</th>\n",
              "      <td>69</td>\n",
              "      <td>4</td>\n",
              "      <td>40</td>\n",
              "      <td>1</td>\n",
              "      <td>-34.628533</td>\n",
              "      <td>-58.427748</td>\n",
              "      <td>COMUNA 07</td>\n",
              "      <td>132000</td>\n",
              "      <td>Argentina</td>\n",
              "      <td>26400000</td>\n",
              "    </tr>\n",
              "    <tr>\n",
              "      <th>2231</th>\n",
              "      <td>73</td>\n",
              "      <td>4</td>\n",
              "      <td>50</td>\n",
              "      <td>2</td>\n",
              "      <td>-34.596659</td>\n",
              "      <td>-58.378396</td>\n",
              "      <td>COMUNA 01</td>\n",
              "      <td>179000</td>\n",
              "      <td>Argentina</td>\n",
              "      <td>35800000</td>\n",
              "    </tr>\n",
              "  </tbody>\n",
              "</table>\n",
              "<p>2232 rows × 10 columns</p>\n",
              "</div>\n",
              "    <div class=\"colab-df-buttons\">\n",
              "\n",
              "  <div class=\"colab-df-container\">\n",
              "    <button class=\"colab-df-convert\" onclick=\"convertToInteractive('df-6edfa63b-437a-4f7c-a238-0eb2d9b61dd2')\"\n",
              "            title=\"Convert this dataframe to an interactive table.\"\n",
              "            style=\"display:none;\">\n",
              "\n",
              "  <svg xmlns=\"http://www.w3.org/2000/svg\" height=\"24px\" viewBox=\"0 -960 960 960\">\n",
              "    <path d=\"M120-120v-720h720v720H120Zm60-500h600v-160H180v160Zm220 220h160v-160H400v160Zm0 220h160v-160H400v160ZM180-400h160v-160H180v160Zm440 0h160v-160H620v160ZM180-180h160v-160H180v160Zm440 0h160v-160H620v160Z\"/>\n",
              "  </svg>\n",
              "    </button>\n",
              "\n",
              "  <style>\n",
              "    .colab-df-container {\n",
              "      display:flex;\n",
              "      gap: 12px;\n",
              "    }\n",
              "\n",
              "    .colab-df-convert {\n",
              "      background-color: #E8F0FE;\n",
              "      border: none;\n",
              "      border-radius: 50%;\n",
              "      cursor: pointer;\n",
              "      display: none;\n",
              "      fill: #1967D2;\n",
              "      height: 32px;\n",
              "      padding: 0 0 0 0;\n",
              "      width: 32px;\n",
              "    }\n",
              "\n",
              "    .colab-df-convert:hover {\n",
              "      background-color: #E2EBFA;\n",
              "      box-shadow: 0px 1px 2px rgba(60, 64, 67, 0.3), 0px 1px 3px 1px rgba(60, 64, 67, 0.15);\n",
              "      fill: #174EA6;\n",
              "    }\n",
              "\n",
              "    .colab-df-buttons div {\n",
              "      margin-bottom: 4px;\n",
              "    }\n",
              "\n",
              "    [theme=dark] .colab-df-convert {\n",
              "      background-color: #3B4455;\n",
              "      fill: #D2E3FC;\n",
              "    }\n",
              "\n",
              "    [theme=dark] .colab-df-convert:hover {\n",
              "      background-color: #434B5C;\n",
              "      box-shadow: 0px 1px 3px 1px rgba(0, 0, 0, 0.15);\n",
              "      filter: drop-shadow(0px 1px 2px rgba(0, 0, 0, 0.3));\n",
              "      fill: #FFFFFF;\n",
              "    }\n",
              "  </style>\n",
              "\n",
              "    <script>\n",
              "      const buttonEl =\n",
              "        document.querySelector('#df-6edfa63b-437a-4f7c-a238-0eb2d9b61dd2 button.colab-df-convert');\n",
              "      buttonEl.style.display =\n",
              "        google.colab.kernel.accessAllowed ? 'block' : 'none';\n",
              "\n",
              "      async function convertToInteractive(key) {\n",
              "        const element = document.querySelector('#df-6edfa63b-437a-4f7c-a238-0eb2d9b61dd2');\n",
              "        const dataTable =\n",
              "          await google.colab.kernel.invokeFunction('convertToInteractive',\n",
              "                                                    [key], {});\n",
              "        if (!dataTable) return;\n",
              "\n",
              "        const docLinkHtml = 'Like what you see? Visit the ' +\n",
              "          '<a target=\"_blank\" href=https://colab.research.google.com/notebooks/data_table.ipynb>data table notebook</a>'\n",
              "          + ' to learn more about interactive tables.';\n",
              "        element.innerHTML = '';\n",
              "        dataTable['output_type'] = 'display_data';\n",
              "        await google.colab.output.renderOutput(dataTable, element);\n",
              "        const docLink = document.createElement('div');\n",
              "        docLink.innerHTML = docLinkHtml;\n",
              "        element.appendChild(docLink);\n",
              "      }\n",
              "    </script>\n",
              "  </div>\n",
              "\n",
              "\n",
              "<div id=\"df-06ce5218-2af9-418c-87de-71f76982dc5e\">\n",
              "  <button class=\"colab-df-quickchart\" onclick=\"quickchart('df-06ce5218-2af9-418c-87de-71f76982dc5e')\"\n",
              "            title=\"Suggest charts\"\n",
              "            style=\"display:none;\">\n",
              "\n",
              "<svg xmlns=\"http://www.w3.org/2000/svg\" height=\"24px\"viewBox=\"0 0 24 24\"\n",
              "     width=\"24px\">\n",
              "    <g>\n",
              "        <path d=\"M19 3H5c-1.1 0-2 .9-2 2v14c0 1.1.9 2 2 2h14c1.1 0 2-.9 2-2V5c0-1.1-.9-2-2-2zM9 17H7v-7h2v7zm4 0h-2V7h2v10zm4 0h-2v-4h2v4z\"/>\n",
              "    </g>\n",
              "</svg>\n",
              "  </button>\n",
              "\n",
              "<style>\n",
              "  .colab-df-quickchart {\n",
              "      --bg-color: #E8F0FE;\n",
              "      --fill-color: #1967D2;\n",
              "      --hover-bg-color: #E2EBFA;\n",
              "      --hover-fill-color: #174EA6;\n",
              "      --disabled-fill-color: #AAA;\n",
              "      --disabled-bg-color: #DDD;\n",
              "  }\n",
              "\n",
              "  [theme=dark] .colab-df-quickchart {\n",
              "      --bg-color: #3B4455;\n",
              "      --fill-color: #D2E3FC;\n",
              "      --hover-bg-color: #434B5C;\n",
              "      --hover-fill-color: #FFFFFF;\n",
              "      --disabled-bg-color: #3B4455;\n",
              "      --disabled-fill-color: #666;\n",
              "  }\n",
              "\n",
              "  .colab-df-quickchart {\n",
              "    background-color: var(--bg-color);\n",
              "    border: none;\n",
              "    border-radius: 50%;\n",
              "    cursor: pointer;\n",
              "    display: none;\n",
              "    fill: var(--fill-color);\n",
              "    height: 32px;\n",
              "    padding: 0;\n",
              "    width: 32px;\n",
              "  }\n",
              "\n",
              "  .colab-df-quickchart:hover {\n",
              "    background-color: var(--hover-bg-color);\n",
              "    box-shadow: 0 1px 2px rgba(60, 64, 67, 0.3), 0 1px 3px 1px rgba(60, 64, 67, 0.15);\n",
              "    fill: var(--button-hover-fill-color);\n",
              "  }\n",
              "\n",
              "  .colab-df-quickchart-complete:disabled,\n",
              "  .colab-df-quickchart-complete:disabled:hover {\n",
              "    background-color: var(--disabled-bg-color);\n",
              "    fill: var(--disabled-fill-color);\n",
              "    box-shadow: none;\n",
              "  }\n",
              "\n",
              "  .colab-df-spinner {\n",
              "    border: 2px solid var(--fill-color);\n",
              "    border-color: transparent;\n",
              "    border-bottom-color: var(--fill-color);\n",
              "    animation:\n",
              "      spin 1s steps(1) infinite;\n",
              "  }\n",
              "\n",
              "  @keyframes spin {\n",
              "    0% {\n",
              "      border-color: transparent;\n",
              "      border-bottom-color: var(--fill-color);\n",
              "      border-left-color: var(--fill-color);\n",
              "    }\n",
              "    20% {\n",
              "      border-color: transparent;\n",
              "      border-left-color: var(--fill-color);\n",
              "      border-top-color: var(--fill-color);\n",
              "    }\n",
              "    30% {\n",
              "      border-color: transparent;\n",
              "      border-left-color: var(--fill-color);\n",
              "      border-top-color: var(--fill-color);\n",
              "      border-right-color: var(--fill-color);\n",
              "    }\n",
              "    40% {\n",
              "      border-color: transparent;\n",
              "      border-right-color: var(--fill-color);\n",
              "      border-top-color: var(--fill-color);\n",
              "    }\n",
              "    60% {\n",
              "      border-color: transparent;\n",
              "      border-right-color: var(--fill-color);\n",
              "    }\n",
              "    80% {\n",
              "      border-color: transparent;\n",
              "      border-right-color: var(--fill-color);\n",
              "      border-bottom-color: var(--fill-color);\n",
              "    }\n",
              "    90% {\n",
              "      border-color: transparent;\n",
              "      border-bottom-color: var(--fill-color);\n",
              "    }\n",
              "  }\n",
              "</style>\n",
              "\n",
              "  <script>\n",
              "    async function quickchart(key) {\n",
              "      const quickchartButtonEl =\n",
              "        document.querySelector('#' + key + ' button');\n",
              "      quickchartButtonEl.disabled = true;  // To prevent multiple clicks.\n",
              "      quickchartButtonEl.classList.add('colab-df-spinner');\n",
              "      try {\n",
              "        const charts = await google.colab.kernel.invokeFunction(\n",
              "            'suggestCharts', [key], {});\n",
              "      } catch (error) {\n",
              "        console.error('Error during call to suggestCharts:', error);\n",
              "      }\n",
              "      quickchartButtonEl.classList.remove('colab-df-spinner');\n",
              "      quickchartButtonEl.classList.add('colab-df-quickchart-complete');\n",
              "    }\n",
              "    (() => {\n",
              "      let quickchartButtonEl =\n",
              "        document.querySelector('#df-06ce5218-2af9-418c-87de-71f76982dc5e button');\n",
              "      quickchartButtonEl.style.display =\n",
              "        google.colab.kernel.accessAllowed ? 'block' : 'none';\n",
              "    })();\n",
              "  </script>\n",
              "</div>\n",
              "\n",
              "  <div id=\"id_232c1d24-830f-4542-8b31-842b7413ece1\">\n",
              "    <style>\n",
              "      .colab-df-generate {\n",
              "        background-color: #E8F0FE;\n",
              "        border: none;\n",
              "        border-radius: 50%;\n",
              "        cursor: pointer;\n",
              "        display: none;\n",
              "        fill: #1967D2;\n",
              "        height: 32px;\n",
              "        padding: 0 0 0 0;\n",
              "        width: 32px;\n",
              "      }\n",
              "\n",
              "      .colab-df-generate:hover {\n",
              "        background-color: #E2EBFA;\n",
              "        box-shadow: 0px 1px 2px rgba(60, 64, 67, 0.3), 0px 1px 3px 1px rgba(60, 64, 67, 0.15);\n",
              "        fill: #174EA6;\n",
              "      }\n",
              "\n",
              "      [theme=dark] .colab-df-generate {\n",
              "        background-color: #3B4455;\n",
              "        fill: #D2E3FC;\n",
              "      }\n",
              "\n",
              "      [theme=dark] .colab-df-generate:hover {\n",
              "        background-color: #434B5C;\n",
              "        box-shadow: 0px 1px 3px 1px rgba(0, 0, 0, 0.15);\n",
              "        filter: drop-shadow(0px 1px 2px rgba(0, 0, 0, 0.3));\n",
              "        fill: #FFFFFF;\n",
              "      }\n",
              "    </style>\n",
              "    <button class=\"colab-df-generate\" onclick=\"generateWithVariable('departamentos')\"\n",
              "            title=\"Generate code using this dataframe.\"\n",
              "            style=\"display:none;\">\n",
              "\n",
              "  <svg xmlns=\"http://www.w3.org/2000/svg\" height=\"24px\"viewBox=\"0 0 24 24\"\n",
              "       width=\"24px\">\n",
              "    <path d=\"M7,19H8.4L18.45,9,17,7.55,7,17.6ZM5,21V16.75L18.45,3.32a2,2,0,0,1,2.83,0l1.4,1.43a1.91,1.91,0,0,1,.58,1.4,1.91,1.91,0,0,1-.58,1.4L9.25,21ZM18.45,9,17,7.55Zm-12,3A5.31,5.31,0,0,0,4.9,8.1,5.31,5.31,0,0,0,1,6.5,5.31,5.31,0,0,0,4.9,4.9,5.31,5.31,0,0,0,6.5,1,5.31,5.31,0,0,0,8.1,4.9,5.31,5.31,0,0,0,12,6.5,5.46,5.46,0,0,0,6.5,12Z\"/>\n",
              "  </svg>\n",
              "    </button>\n",
              "    <script>\n",
              "      (() => {\n",
              "      const buttonEl =\n",
              "        document.querySelector('#id_232c1d24-830f-4542-8b31-842b7413ece1 button.colab-df-generate');\n",
              "      buttonEl.style.display =\n",
              "        google.colab.kernel.accessAllowed ? 'block' : 'none';\n",
              "\n",
              "      buttonEl.onclick = () => {\n",
              "        google.colab.notebook.generateWithVariable('departamentos');\n",
              "      }\n",
              "      })();\n",
              "    </script>\n",
              "  </div>\n",
              "\n",
              "    </div>\n",
              "  </div>\n"
            ],
            "application/vnd.google.colaboratory.intrinsic+json": {
              "type": "dataframe",
              "variable_name": "departamentos",
              "summary": "{\n  \"name\": \"departamentos\",\n  \"rows\": 2232,\n  \"fields\": [\n    {\n      \"column\": \"M2\",\n      \"properties\": {\n        \"dtype\": \"number\",\n        \"std\": 58,\n        \"min\": 15,\n        \"max\": 730,\n        \"num_unique_values\": 221,\n        \"samples\": [\n          160,\n          126,\n          61\n        ],\n        \"semantic_type\": \"\",\n        \"description\": \"\"\n      }\n    },\n    {\n      \"column\": \"AMBIENTES\",\n      \"properties\": {\n        \"dtype\": \"number\",\n        \"std\": 1,\n        \"min\": 1,\n        \"max\": 10,\n        \"num_unique_values\": 9,\n        \"samples\": [\n          7,\n          2,\n          6\n        ],\n        \"semantic_type\": \"\",\n        \"description\": \"\"\n      }\n    },\n    {\n      \"column\": \"ANTIGUEDAD\",\n      \"properties\": {\n        \"dtype\": \"number\",\n        \"std\": 18,\n        \"min\": 1,\n        \"max\": 110,\n        \"num_unique_values\": 64,\n        \"samples\": [\n          29,\n          75,\n          4\n        ],\n        \"semantic_type\": \"\",\n        \"description\": \"\"\n      }\n    },\n    {\n      \"column\": \"BA\\u00d1OS\",\n      \"properties\": {\n        \"dtype\": \"number\",\n        \"std\": 0,\n        \"min\": 1,\n        \"max\": 6,\n        \"num_unique_values\": 6,\n        \"samples\": [\n          1,\n          2,\n          5\n        ],\n        \"semantic_type\": \"\",\n        \"description\": \"\"\n      }\n    },\n    {\n      \"column\": \"LATITUD\",\n      \"properties\": {\n        \"dtype\": \"number\",\n        \"std\": 0.022612748735094376,\n        \"min\": -34.68491929893829,\n        \"max\": -34.53730822008631,\n        \"num_unique_values\": 1374,\n        \"samples\": [\n          -34.62158984847588,\n          -34.56169943299393,\n          -34.618979145410826\n        ],\n        \"semantic_type\": \"\",\n        \"description\": \"\"\n      }\n    },\n    {\n      \"column\": \"LONGITUD\",\n      \"properties\": {\n        \"dtype\": \"number\",\n        \"std\": 0.034101726174456774,\n        \"min\": -58.52747608345872,\n        \"max\": -58.35381206090168,\n        \"num_unique_values\": 1374,\n        \"samples\": [\n          -58.42512074149378,\n          -58.451219390270175,\n          -58.39027952392485\n        ],\n        \"semantic_type\": \"\",\n        \"description\": \"\"\n      }\n    },\n    {\n      \"column\": \"COMUNA\",\n      \"properties\": {\n        \"dtype\": \"category\",\n        \"num_unique_values\": 15,\n        \"samples\": [\n          \"COMUNA 01\",\n          \"COMUNA 11\",\n          \"COMUNA 13\"\n        ],\n        \"semantic_type\": \"\",\n        \"description\": \"\"\n      }\n    },\n    {\n      \"column\": \"DOLARES\",\n      \"properties\": {\n        \"dtype\": \"number\",\n        \"std\": 186368,\n        \"min\": 7428,\n        \"max\": 1800000,\n        \"num_unique_values\": 402,\n        \"samples\": [\n          470000,\n          1050000,\n          980000\n        ],\n        \"semantic_type\": \"\",\n        \"description\": \"\"\n      }\n    },\n    {\n      \"column\": \"PAIS\",\n      \"properties\": {\n        \"dtype\": \"category\",\n        \"num_unique_values\": 1,\n        \"samples\": [\n          \"Argentina\"\n        ],\n        \"semantic_type\": \"\",\n        \"description\": \"\"\n      }\n    },\n    {\n      \"column\": \"PESOS\",\n      \"properties\": {\n        \"dtype\": \"number\",\n        \"std\": 37273660,\n        \"min\": 1485600,\n        \"max\": 360000000,\n        \"num_unique_values\": 402,\n        \"samples\": [\n          94000000\n        ],\n        \"semantic_type\": \"\",\n        \"description\": \"\"\n      }\n    }\n  ]\n}"
            }
          },
          "metadata": {},
          "execution_count": 40
        }
      ],
      "source": [
        "departamentos['PESOS'] = departamentos['DOLARES'] * 200\n",
        "departamentos"
      ]
    },
    {
      "cell_type": "markdown",
      "id": "bbe00b21",
      "metadata": {
        "id": "bbe00b21"
      },
      "source": [
        "🐼 Imprimi los datos estadisticos del dataframe"
      ]
    },
    {
      "cell_type": "code",
      "execution_count": 42,
      "id": "4b5652f4",
      "metadata": {
        "id": "4b5652f4",
        "colab": {
          "base_uri": "https://localhost:8080/"
        },
        "outputId": "8f305740-d822-4b76-d568-0baa7380a466"
      },
      "outputs": [
        {
          "output_type": "stream",
          "name": "stdout",
          "text": [
            "                M2    AMBIENTES   ANTIGUEDAD        BAÑOS      LATITUD  \\\n",
            "count  2232.000000  2232.000000  2232.000000  2232.000000  2232.000000   \n",
            "mean     79.396057     2.807796    24.633513     1.430108   -34.592671   \n",
            "std      58.977534     1.109541    18.408973     0.720170     0.022613   \n",
            "min      15.000000     1.000000     1.000000     1.000000   -34.684919   \n",
            "25%      44.000000     2.000000     9.000000     1.000000   -34.606372   \n",
            "50%      64.000000     3.000000    20.000000     1.000000   -34.592954   \n",
            "75%      90.000000     3.000000    40.000000     2.000000   -34.577447   \n",
            "max     730.000000    10.000000   110.000000     6.000000   -34.537308   \n",
            "\n",
            "          LONGITUD       DOLARES         PESOS  \n",
            "count  2232.000000  2.232000e+03  2.232000e+03  \n",
            "mean    -58.428680  2.060140e+05  4.120280e+07  \n",
            "std       0.034102  1.863683e+05  3.727366e+07  \n",
            "min     -58.527476  7.428000e+03  1.485600e+06  \n",
            "25%     -58.453970  9.837500e+04  1.967500e+07  \n",
            "50%     -58.424798  1.460000e+05  2.920000e+07  \n",
            "75%     -58.403250  2.357500e+05  4.715000e+07  \n",
            "max     -58.353812  1.800000e+06  3.600000e+08  \n"
          ]
        }
      ],
      "source": [
        "desc_est = departamentos.describe()\n",
        "print(desc_est)"
      ]
    },
    {
      "cell_type": "markdown",
      "id": "1038a406",
      "metadata": {
        "id": "1038a406"
      },
      "source": [
        "Podemos ver que la **media** de las posiciones esta en [-34.592671,\t-58.428680], es decir las propiedades de mi DataFrame \"orbitan\" sobre este punto.\n",
        "\n",
        "El **desvio estandar** es de [0.022613,\t0.034102]\n",
        "\n",
        "*El desvio estandar es una medida que se utiliza para cuantificar la dispersión de un conjunto de datos numéricos.*\n",
        "\n",
        "![](https://upload.wikimedia.org/wikipedia/commons/thumb/8/8c/Standard_deviation_diagram.svg/450px-Standard_deviation_diagram.svg.png)"
      ]
    },
    {
      "cell_type": "markdown",
      "id": "d9b8b969",
      "metadata": {
        "id": "d9b8b969"
      },
      "source": [
        "Vemos que la mayoria de registros pertenecen a CABA:"
      ]
    },
    {
      "cell_type": "code",
      "execution_count": null,
      "id": "c210495e",
      "metadata": {
        "id": "c210495e"
      },
      "outputs": [],
      "source": []
    },
    {
      "cell_type": "code",
      "execution_count": null,
      "id": "d5167e51",
      "metadata": {
        "id": "d5167e51"
      },
      "outputs": [],
      "source": []
    },
    {
      "cell_type": "code",
      "execution_count": null,
      "id": "a20fe364",
      "metadata": {
        "id": "a20fe364"
      },
      "outputs": [],
      "source": []
    },
    {
      "cell_type": "markdown",
      "id": "0c49bb93",
      "metadata": {
        "id": "0c49bb93"
      },
      "source": [
        "Verificar posibles valores nulos"
      ]
    },
    {
      "cell_type": "code",
      "execution_count": null,
      "id": "7c5e9392",
      "metadata": {
        "id": "7c5e9392"
      },
      "outputs": [],
      "source": []
    },
    {
      "cell_type": "markdown",
      "id": "4ef47562",
      "metadata": {
        "id": "4ef47562"
      },
      "source": [
        "🐼 Imprimir el valor que se encuentra en el indice 5 y en el indice 1 y columna M2"
      ]
    },
    {
      "cell_type": "code",
      "execution_count": 45,
      "id": "fb75e45e",
      "metadata": {
        "id": "fb75e45e",
        "colab": {
          "base_uri": "https://localhost:8080/"
        },
        "outputId": "12c7ccbd-e95f-487a-e952-7d97ea0b9dd7"
      },
      "outputs": [
        {
          "output_type": "stream",
          "name": "stdout",
          "text": [
            "120 69\n"
          ]
        }
      ],
      "source": [
        "valor_5=departamentos.M2.iloc[5]\n",
        "valor_1=departamentos.M2.iloc[1]\n",
        "\n",
        "print(valor_5, valor_1)"
      ]
    },
    {
      "cell_type": "markdown",
      "id": "e3171071",
      "metadata": {
        "id": "e3171071"
      },
      "source": [
        "🐼 Obtener los valores unicos que integran la columna ``COMUNA``"
      ]
    },
    {
      "cell_type": "code",
      "execution_count": 46,
      "id": "ba6b258b",
      "metadata": {
        "id": "ba6b258b",
        "colab": {
          "base_uri": "https://localhost:8080/"
        },
        "outputId": "3727befe-289a-4680-8deb-3131ce00fbdb"
      },
      "outputs": [
        {
          "output_type": "stream",
          "name": "stdout",
          "text": [
            "['COMUNA 13' 'COMUNA 06' 'COMUNA 05' 'COMUNA 03' 'COMUNA 10' 'COMUNA 14'\n",
            " 'COMUNA 12' 'COMUNA 04' 'COMUNA 02' 'COMUNA 01' 'COMUNA 07' 'COMUNA 11'\n",
            " 'COMUNA 15' 'COMUNA 08' 'COMUNA 09']\n"
          ]
        }
      ],
      "source": [
        "valores_unicos = departamentos['COMUNA'].unique()\n",
        "print(valores_unicos\n",
        "      )"
      ]
    },
    {
      "cell_type": "markdown",
      "id": "257c3644",
      "metadata": {
        "id": "257c3644"
      },
      "source": [
        "🐼 Imprimir las primeras 3 columnas y las primeras 4 filas"
      ]
    },
    {
      "cell_type": "code",
      "execution_count": 47,
      "id": "803248d7",
      "metadata": {
        "id": "803248d7",
        "colab": {
          "base_uri": "https://localhost:8080/"
        },
        "outputId": "d9f1c1ef-46ce-4603-fc07-25891486734f"
      },
      "outputs": [
        {
          "output_type": "stream",
          "name": "stdout",
          "text": [
            "   M2  AMBIENTES  ANTIGUEDAD\n",
            "0  81          3           4\n",
            "1  69          3          20\n",
            "2  75          3          20\n",
            "3  42          2          40\n"
          ]
        }
      ],
      "source": [
        "filtro = departamentos.iloc[:4,:3]\n",
        "print(filtro)"
      ]
    },
    {
      "cell_type": "markdown",
      "id": "0e4a1f5e",
      "metadata": {
        "id": "0e4a1f5e"
      },
      "source": [
        "🐼 Imprimir el valor de la columna 5 y fila 2"
      ]
    },
    {
      "cell_type": "code",
      "execution_count": 54,
      "id": "c2de547d",
      "metadata": {
        "id": "c2de547d",
        "colab": {
          "base_uri": "https://localhost:8080/"
        },
        "outputId": "6eac6182-a9fc-4076-92aa-8644fc9faf9a"
      },
      "outputs": [
        {
          "output_type": "stream",
          "name": "stdout",
          "text": [
            "-34.62312877177625\n"
          ]
        }
      ],
      "source": [
        "filtro1 = departamentos.iat[1,4]\n",
        "print(filtro1)"
      ]
    },
    {
      "cell_type": "markdown",
      "id": "0c74b0fa",
      "metadata": {
        "id": "0c74b0fa"
      },
      "source": [
        "🐼 Seleccionar todas las filas de las siguientes columnas: DOLARES y COMUNA"
      ]
    },
    {
      "cell_type": "code",
      "execution_count": 57,
      "id": "9c6a2c85",
      "metadata": {
        "id": "9c6a2c85",
        "colab": {
          "base_uri": "https://localhost:8080/"
        },
        "outputId": "46355d1c-a1e5-44ec-b49e-a3ae6c070ecf"
      },
      "outputs": [
        {
          "output_type": "stream",
          "name": "stdout",
          "text": [
            "      DOLARES     COMUNA\n",
            "0      225000  COMUNA 13\n",
            "1      140000  COMUNA 06\n",
            "2      154000  COMUNA 05\n",
            "3       75000  COMUNA 03\n",
            "4      149900  COMUNA 10\n",
            "...       ...        ...\n",
            "2227   165000  COMUNA 13\n",
            "2228    79900  COMUNA 05\n",
            "2229   520000  COMUNA 01\n",
            "2230   132000  COMUNA 07\n",
            "2231   179000  COMUNA 01\n",
            "\n",
            "[2232 rows x 2 columns]\n"
          ]
        }
      ],
      "source": [
        "print(departamentos[['DOLARES','COMUNA']])"
      ]
    },
    {
      "cell_type": "markdown",
      "id": "7e6f50ee",
      "metadata": {
        "id": "7e6f50ee"
      },
      "source": [
        "🐼 **Filtrado**: Seleccionar las filas que sean de la comuna 13"
      ]
    },
    {
      "cell_type": "code",
      "execution_count": 59,
      "id": "9b5da077",
      "metadata": {
        "id": "9b5da077",
        "colab": {
          "base_uri": "https://localhost:8080/"
        },
        "outputId": "8741cf28-b7f1-4fbd-94cf-958e6040227c"
      },
      "outputs": [
        {
          "output_type": "stream",
          "name": "stdout",
          "text": [
            "      M2  AMBIENTES  ANTIGUEDAD  BAÑOS    LATITUD   LONGITUD     COMUNA  \\\n",
            "0     81          3           4      1 -34.581078 -58.449433  COMUNA 13   \n",
            "21    34          1           5      1 -34.564887 -58.461323  COMUNA 13   \n",
            "26    42          2          10      1 -34.555101 -58.461095  COMUNA 13   \n",
            "27    33          1          20      1 -34.537308 -58.467448  COMUNA 13   \n",
            "40    68          3          20      1 -34.561799 -58.444212  COMUNA 13   \n",
            "...   ..        ...         ...    ...        ...        ...        ...   \n",
            "2183  88          4          20      2 -34.550152 -58.470136  COMUNA 13   \n",
            "2186  45          2           2      1 -34.567289 -58.456200  COMUNA 13   \n",
            "2197  45          2          15      1 -34.553523 -58.466288  COMUNA 13   \n",
            "2203  64          3          40      1 -34.544475 -58.469458  COMUNA 13   \n",
            "2227  88          4          20      2 -34.550152 -58.470136  COMUNA 13   \n",
            "\n",
            "      DOLARES       PAIS     PESOS  \n",
            "0      225000  Argentina  45000000  \n",
            "21     109000  Argentina  21800000  \n",
            "26     144000  Argentina  28800000  \n",
            "27      79800  Argentina  15960000  \n",
            "40     174000  Argentina  34800000  \n",
            "...       ...        ...       ...  \n",
            "2183   165000  Argentina  33000000  \n",
            "2186   129000  Argentina  25800000  \n",
            "2197   129000  Argentina  25800000  \n",
            "2203   165000  Argentina  33000000  \n",
            "2227   165000  Argentina  33000000  \n",
            "\n",
            "[320 rows x 10 columns]\n"
          ]
        }
      ],
      "source": [
        "filtro_comuna13 = departamentos[departamentos['COMUNA'] == 'COMUNA 13']\n",
        "print(filtro_comuna13)"
      ]
    },
    {
      "cell_type": "markdown",
      "id": "f5a3d7cb",
      "metadata": {
        "id": "f5a3d7cb"
      },
      "source": [
        "🐼 Selecccionar todas las filas de las columnas que empiezan con 'A'"
      ]
    },
    {
      "cell_type": "code",
      "execution_count": 63,
      "id": "c7fa85f4",
      "metadata": {
        "id": "c7fa85f4",
        "colab": {
          "base_uri": "https://localhost:8080/"
        },
        "outputId": "e88bd095-0372-4a27-c553-20b57e24fe50"
      },
      "outputs": [
        {
          "output_type": "stream",
          "name": "stdout",
          "text": [
            "      AMBIENTES  ANTIGUEDAD\n",
            "0             3           4\n",
            "1             3          20\n",
            "2             3          20\n",
            "3             2          40\n",
            "4             3           1\n",
            "...         ...         ...\n",
            "2227          4          20\n",
            "2228          1          35\n",
            "2229          3          10\n",
            "2230          4          40\n",
            "2231          4          50\n",
            "\n",
            "[2232 rows x 2 columns]\n"
          ]
        }
      ],
      "source": [
        "colum_filtro_A = departamentos.filter(regex='^A')\n",
        "\n",
        "filas_filtro_A = departamentos[colum_filtro_A.columns]\n",
        "\n",
        "print(filas_filtro_A)"
      ]
    },
    {
      "cell_type": "code",
      "execution_count": 75,
      "id": "0e069eef",
      "metadata": {
        "id": "0e069eef",
        "colab": {
          "base_uri": "https://localhost:8080/"
        },
        "outputId": "e272e7f4-7273-4e8b-c815-e53ba70dbb90"
      },
      "outputs": [
        {
          "output_type": "stream",
          "name": "stdout",
          "text": [
            "      M2  AMBIENTES  ANTIGUEDAD  BAÑOS   LATITUD   LONGITUD     COMUNA  \\\n",
            "1530  15          2          20      1 -34.55782 -58.477648  COMUNA 12   \n",
            "\n",
            "      DOLARES       PAIS    PESOS  \n",
            "1530    35000  Argentina  7000000  \n"
          ]
        }
      ],
      "source": []
    },
    {
      "cell_type": "markdown",
      "id": "cc227387",
      "metadata": {
        "id": "cc227387"
      },
      "source": [
        "🐼 Seleccionar los departamentos que valgan menos de $50000 **o** esten en *COMUNA 02*"
      ]
    },
    {
      "cell_type": "code",
      "execution_count": 76,
      "id": "d34b8e77",
      "metadata": {
        "id": "d34b8e77",
        "colab": {
          "base_uri": "https://localhost:8080/"
        },
        "outputId": "c789aee9-8b22-424a-a864-96935631f7c3"
      },
      "outputs": [
        {
          "output_type": "stream",
          "name": "stdout",
          "text": [
            "      M2  AMBIENTES  ANTIGUEDAD  BAÑOS   LATITUD   LONGITUD     COMUNA  \\\n",
            "1530  15          2          20      1 -34.55782 -58.477648  COMUNA 12   \n",
            "\n",
            "      DOLARES       PAIS    PESOS  \n",
            "1530    35000  Argentina  7000000  \n"
          ]
        }
      ],
      "source": [
        "condicion = (departamentos['DOLARES'] < 50000) & (departamentos['COMUNA'] == 'COMUNA 12')\n",
        "dptos = departamentos[condicion]\n",
        "print(dptos)"
      ]
    },
    {
      "cell_type": "markdown",
      "id": "bd966c55",
      "metadata": {
        "id": "bd966c55"
      },
      "source": [
        "🐼 Seleccionar los departamentos que tengan mas de 3 baños **y** cuya antiguedad sea menor a 5 años"
      ]
    },
    {
      "cell_type": "code",
      "execution_count": null,
      "id": "63d05fbd",
      "metadata": {
        "id": "63d05fbd"
      },
      "outputs": [],
      "source": []
    },
    {
      "cell_type": "markdown",
      "id": "7a6ab3a6",
      "metadata": {
        "id": "7a6ab3a6"
      },
      "source": [
        "🐼 Seleccionar los departamentos que **no** pertenezcan a la COMUNA 13"
      ]
    },
    {
      "cell_type": "code",
      "execution_count": null,
      "id": "45fe8242",
      "metadata": {
        "id": "45fe8242"
      },
      "outputs": [],
      "source": []
    },
    {
      "cell_type": "markdown",
      "id": "a7f6ba1d",
      "metadata": {
        "id": "a7f6ba1d"
      },
      "source": [
        "🐼 Seleccionar los departamentos cuyo valor se encuentre entre 50000 y 60000"
      ]
    },
    {
      "cell_type": "code",
      "execution_count": null,
      "id": "021d9b6d",
      "metadata": {
        "id": "021d9b6d"
      },
      "outputs": [],
      "source": []
    },
    {
      "cell_type": "markdown",
      "id": "a0531a03",
      "metadata": {
        "id": "a0531a03"
      },
      "source": [
        "🐼 Obtener el departamento con menor precio que pertenezca a alguna de las siguientes comunas: \"COMUNA 03\", \"COMUNA 07\", \"COMUNA 15\""
      ]
    },
    {
      "cell_type": "code",
      "execution_count": null,
      "id": "425b84e6",
      "metadata": {
        "id": "425b84e6"
      },
      "outputs": [],
      "source": []
    },
    {
      "cell_type": "code",
      "execution_count": null,
      "id": "bfe02f9a",
      "metadata": {
        "id": "bfe02f9a"
      },
      "outputs": [],
      "source": []
    },
    {
      "cell_type": "code",
      "execution_count": null,
      "id": "3305f04b",
      "metadata": {
        "id": "3305f04b"
      },
      "outputs": [],
      "source": []
    },
    {
      "cell_type": "code",
      "execution_count": null,
      "id": "c7c8eb0a",
      "metadata": {
        "id": "c7c8eb0a"
      },
      "outputs": [],
      "source": []
    },
    {
      "cell_type": "markdown",
      "id": "09bb6c00",
      "metadata": {
        "id": "09bb6c00"
      },
      "source": [
        "🐼 La verdadera potencia de pandas se demuestra cuando **encadenamos** operaciones"
      ]
    },
    {
      "cell_type": "code",
      "execution_count": null,
      "id": "c349e662",
      "metadata": {
        "id": "c349e662"
      },
      "outputs": [],
      "source": []
    },
    {
      "cell_type": "markdown",
      "id": "abbff36d",
      "metadata": {
        "id": "abbff36d"
      },
      "source": [
        "🐼 Contar la cantidad de departamentos que hay en cada comuna."
      ]
    },
    {
      "cell_type": "code",
      "execution_count": null,
      "id": "c833645e",
      "metadata": {
        "scrolled": true,
        "id": "c833645e"
      },
      "outputs": [],
      "source": []
    },
    {
      "cell_type": "markdown",
      "id": "a56056aa",
      "metadata": {
        "id": "a56056aa"
      },
      "source": [
        "🐼 Contar por ambientes los departamentos de la comuna 14"
      ]
    },
    {
      "cell_type": "code",
      "execution_count": null,
      "id": "6f54ce08",
      "metadata": {
        "id": "6f54ce08"
      },
      "outputs": [],
      "source": []
    },
    {
      "cell_type": "markdown",
      "id": "9081163b",
      "metadata": {
        "id": "9081163b"
      },
      "source": [
        "🐼Metodo para estadistica descriptiva\n",
        "\n",
        "- sum()\n",
        "- mean()\n",
        "- max()\n",
        "- min()"
      ]
    },
    {
      "cell_type": "code",
      "execution_count": null,
      "id": "4e9ee8f3",
      "metadata": {
        "id": "4e9ee8f3"
      },
      "outputs": [],
      "source": []
    },
    {
      "cell_type": "markdown",
      "id": "73d6690a",
      "metadata": {
        "id": "73d6690a"
      },
      "source": [
        "🐼 Un poco de visualización"
      ]
    },
    {
      "cell_type": "code",
      "execution_count": null,
      "id": "d9b2daa0",
      "metadata": {
        "id": "d9b2daa0"
      },
      "outputs": [],
      "source": []
    },
    {
      "cell_type": "markdown",
      "id": "b7d05731",
      "metadata": {
        "id": "b7d05731"
      },
      "source": [
        "📈 Grafico de puntos: nos demuestra relaciones entre las variables"
      ]
    },
    {
      "cell_type": "code",
      "execution_count": null,
      "id": "74e81205",
      "metadata": {
        "id": "74e81205"
      },
      "outputs": [],
      "source": []
    },
    {
      "cell_type": "markdown",
      "id": "fd432ece",
      "metadata": {
        "id": "fd432ece"
      },
      "source": [
        "📈 Grafico de distribución: En lugar de ver cómo se relaciona una variable con otra, a veces queremos ver cómo se organizan los puntos de datos en una dimensión particular."
      ]
    },
    {
      "cell_type": "code",
      "execution_count": null,
      "id": "bccc5136",
      "metadata": {
        "id": "bccc5136"
      },
      "outputs": [],
      "source": []
    },
    {
      "cell_type": "code",
      "execution_count": null,
      "id": "24fc4322",
      "metadata": {
        "id": "24fc4322"
      },
      "outputs": [],
      "source": []
    },
    {
      "cell_type": "code",
      "execution_count": null,
      "id": "1c33ff67",
      "metadata": {
        "id": "1c33ff67"
      },
      "outputs": [],
      "source": []
    },
    {
      "cell_type": "code",
      "execution_count": null,
      "id": "7ff350ae",
      "metadata": {
        "id": "7ff350ae"
      },
      "outputs": [],
      "source": []
    },
    {
      "cell_type": "code",
      "execution_count": null,
      "id": "6ce5edd0",
      "metadata": {
        "id": "6ce5edd0"
      },
      "outputs": [],
      "source": []
    },
    {
      "cell_type": "code",
      "execution_count": null,
      "id": "ddb23b22",
      "metadata": {
        "id": "ddb23b22"
      },
      "outputs": [],
      "source": []
    },
    {
      "cell_type": "code",
      "execution_count": null,
      "id": "2a609b94",
      "metadata": {
        "id": "2a609b94"
      },
      "outputs": [],
      "source": []
    }
  ],
  "metadata": {
    "kernelspec": {
      "display_name": "Python 3 (ipykernel)",
      "language": "python",
      "name": "python3"
    },
    "language_info": {
      "codemirror_mode": {
        "name": "ipython",
        "version": 3
      },
      "file_extension": ".py",
      "mimetype": "text/x-python",
      "name": "python",
      "nbconvert_exporter": "python",
      "pygments_lexer": "ipython3",
      "version": "3.11.9"
    },
    "colab": {
      "provenance": [],
      "include_colab_link": true
    }
  },
  "nbformat": 4,
  "nbformat_minor": 5
}