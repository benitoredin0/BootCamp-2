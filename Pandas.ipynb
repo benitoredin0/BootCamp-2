{
  "cells": [
    {
      "cell_type": "markdown",
      "metadata": {
        "id": "view-in-github",
        "colab_type": "text"
      },
      "source": [
        "<a href=\"https://colab.research.google.com/github/benitoredin0/BootCamp-2/blob/main/Pandas.ipynb\" target=\"_parent\"><img src=\"https://colab.research.google.com/assets/colab-badge.svg\" alt=\"Open In Colab\"/></a>"
      ]
    },
    {
      "cell_type": "markdown",
      "id": "b74e5a3e",
      "metadata": {
        "id": "b74e5a3e"
      },
      "source": [
        "<p style=\"text-align: center;\"> <font size=\"6\">💘🐼🙏🐼 PANDAS 🐼🙏🐼💘 </font> </p>"
      ]
    },
    {
      "cell_type": "markdown",
      "id": "d9cb160f",
      "metadata": {
        "id": "d9cb160f"
      },
      "source": [
        "\n",
        "![](https://img-9gag-fun.9cache.com/photo/a61Q85R_460s.jpg)\n",
        "\n"
      ]
    },
    {
      "cell_type": "markdown",
      "id": "bdf6577a-276b-4e26-b8bd-60a25f8fa536",
      "metadata": {
        "id": "bdf6577a-276b-4e26-b8bd-60a25f8fa536"
      },
      "source": [
        "https://pandas.pydata.org/docs/user_guide/index.html"
      ]
    },
    {
      "cell_type": "code",
      "execution_count": null,
      "id": "6d557ae0",
      "metadata": {
        "id": "6d557ae0"
      },
      "outputs": [],
      "source": [
        "#pip install pandas"
      ]
    },
    {
      "cell_type": "markdown",
      "id": "b7827e10",
      "metadata": {
        "id": "b7827e10"
      },
      "source": [
        "🐼 Para tener acceso a Pandas hay que importar el módulo pandas. Por convención, se importa con el nombre **pd**"
      ]
    },
    {
      "cell_type": "code",
      "execution_count": 2,
      "id": "d303da1f",
      "metadata": {
        "id": "d303da1f"
      },
      "outputs": [],
      "source": [
        "import pandas as pd"
      ]
    },
    {
      "cell_type": "markdown",
      "id": "f7b6df45",
      "metadata": {
        "id": "f7b6df45"
      },
      "source": [
        "🐼 Crear un dataframe"
      ]
    },
    {
      "cell_type": "code",
      "execution_count": null,
      "id": "8ed4a05d",
      "metadata": {
        "id": "8ed4a05d"
      },
      "outputs": [],
      "source": [
        "precio = [2000, 12300, 43245, 325423, 200]\n",
        "ncomuna = [2, 5, 3, 4, 5]\n",
        "ambientes = [2, 1, 4, 5, 6]"
      ]
    },
    {
      "cell_type": "code",
      "execution_count": null,
      "id": "ea8b8880",
      "metadata": {
        "id": "ea8b8880"
      },
      "outputs": [],
      "source": [
        "tabla = {\n",
        "    \"precio\":precio,\n",
        "    \"ncomuna\":ncomuna,\n",
        "    \"ambientes\":ambientes\n",
        "        }"
      ]
    },
    {
      "cell_type": "code",
      "execution_count": null,
      "id": "d8e730d8",
      "metadata": {
        "id": "d8e730d8",
        "outputId": "de81d199-c51d-41d5-fad8-42b40e24ad43",
        "colab": {
          "base_uri": "https://localhost:8080/"
        }
      },
      "outputs": [
        {
          "output_type": "stream",
          "name": "stdout",
          "text": [
            "   precio  ncomuna  ambientes\n",
            "0    2000        2          2\n",
            "1   12300        5          1\n",
            "2   43245        3          4\n",
            "3  325423        4          5\n",
            "4     200        5          6\n"
          ]
        }
      ],
      "source": [
        "df = pd.DataFrame(tabla)\n",
        "print(df)"
      ]
    },
    {
      "cell_type": "markdown",
      "id": "b76566c5",
      "metadata": {
        "id": "b76566c5"
      },
      "source": [
        "🐼 Con la instruccion anterior creamos un objeto llamado ``DataFrame`` en la variable ``df``. Este es el **núcleo** de Pandas y vamos a explorar muchas de las cosas que se puede hacer a lo largo de las clases."
      ]
    },
    {
      "cell_type": "markdown",
      "id": "9c650e38",
      "metadata": {
        "id": "9c650e38"
      },
      "source": [
        "🐼 Entonces, un DataFrame es una tabla de datos, tiene columnas y filas. En este caso particular, cada fila o registro del dataframe pertenece a una propiedad, teniendo como informacion:\n",
        "\n",
        "- Su precio\n",
        "- El numero de comuna a la que pertenece\n",
        "- El numero de ambientes que posee.\n",
        "\n",
        "🐼 Podemos ver que hay algunas partes clave de la salida:\n",
        "\n",
        "- En el lado izquierdo en negrita está el índice. Estos pueden considerarse como números de fila y como todo indice identifica a su fila de forma unica (no se repiten). En este caso simplemente el indice es un incremental.\n",
        "- En la parte superior están los nombres de las columnas. Cuando queramos referirnos a una columna en particular en nuestro DataFrame, usaremos estos nombres.\n",
        "- A continuación, los datos reales se organizan en el centro de la tabla. En su mayoría, estos son datos que nos importan."
      ]
    },
    {
      "cell_type": "markdown",
      "id": "04f65830",
      "metadata": {
        "id": "04f65830"
      },
      "source": [
        "🐼 Podemos imprimir la cantidad de filas y columnas que tiene el DataFrame"
      ]
    },
    {
      "cell_type": "code",
      "execution_count": null,
      "id": "a9cc6b18",
      "metadata": {
        "id": "a9cc6b18",
        "colab": {
          "base_uri": "https://localhost:8080/"
        },
        "outputId": "51fe99aa-9352-4875-ab7e-1081452c41bb"
      },
      "outputs": [
        {
          "output_type": "stream",
          "name": "stdout",
          "text": [
            "   precio  ncomuna  ambientes\n",
            "0    2000        2          2\n",
            "1   12300        5          1\n",
            "2   43245        3          4\n",
            "3  325423        4          5\n",
            "4     200        5          6\n"
          ]
        }
      ],
      "source": [
        "print(df)"
      ]
    },
    {
      "cell_type": "markdown",
      "id": "5d7219be",
      "metadata": {
        "id": "5d7219be"
      },
      "source": [
        "Ponele voluntad..."
      ]
    },
    {
      "cell_type": "markdown",
      "id": "5605d418",
      "metadata": {
        "id": "5605d418"
      },
      "source": [
        "🐼 Podemos imprimir el nombre de las columnas"
      ]
    },
    {
      "cell_type": "code",
      "execution_count": null,
      "id": "a18a50ef",
      "metadata": {
        "id": "a18a50ef",
        "colab": {
          "base_uri": "https://localhost:8080/"
        },
        "outputId": "7d1448c8-0c46-4bb0-a6c7-e9339feb3537"
      },
      "outputs": [
        {
          "output_type": "execute_result",
          "data": {
            "text/plain": [
              "Index(['precio', 'ncomuna', 'ambientes'], dtype='object')"
            ]
          },
          "metadata": {},
          "execution_count": 10
        }
      ],
      "source": [
        "df.columns"
      ]
    },
    {
      "cell_type": "markdown",
      "id": "4716bc56",
      "metadata": {
        "id": "4716bc56"
      },
      "source": [
        "🐼 Ejercicio: poner en mayusculas el nombre de todas las columnas"
      ]
    },
    {
      "cell_type": "code",
      "execution_count": null,
      "id": "701b3761",
      "metadata": {
        "id": "701b3761",
        "colab": {
          "base_uri": "https://localhost:8080/"
        },
        "outputId": "772b68da-cf00-4eae-8128-0a9ed4e38722"
      },
      "outputs": [
        {
          "output_type": "execute_result",
          "data": {
            "text/plain": [
              "Index(['PRECIO', 'NCOMUNA', 'AMBIENTES'], dtype='object')"
            ]
          },
          "metadata": {},
          "execution_count": 11
        }
      ],
      "source": [
        "df.columns = df.columns.str.upper()\n",
        "df.columns"
      ]
    },
    {
      "cell_type": "markdown",
      "id": "2376f768",
      "metadata": {
        "id": "2376f768"
      },
      "source": [
        "🐼 Ejercicio: Modificar el indice por esta lista los siguientes elementos: [10, 9, 8, 7, \"pepe\"]"
      ]
    },
    {
      "cell_type": "code",
      "execution_count": null,
      "id": "835508ef",
      "metadata": {
        "id": "835508ef",
        "colab": {
          "base_uri": "https://localhost:8080/"
        },
        "outputId": "7c2a6d0a-3152-43d9-a25b-bd8bd86ee28e"
      },
      "outputs": [
        {
          "output_type": "stream",
          "name": "stdout",
          "text": [
            "      PRECIO  NCOMUNA  AMBIENTES\n",
            "10      2000        2          2\n",
            "9      12300        5          1\n",
            "8      43245        3          4\n",
            "7     325423        4          5\n",
            "pepe     200        5          6\n"
          ]
        }
      ],
      "source": [
        "nuevo_indice =  [10, 9, 8, 7, \"pepe\"]\n",
        "df = df.set_index(pd.Index(nuevo_indice))\n",
        "\n",
        "print(df)"
      ]
    },
    {
      "cell_type": "markdown",
      "id": "b00886a4",
      "metadata": {
        "id": "b00886a4"
      },
      "source": [
        "🐼 Resetear el indice para que vuelva a estar entre 0 y n"
      ]
    },
    {
      "cell_type": "code",
      "execution_count": null,
      "id": "ace3450a",
      "metadata": {
        "id": "ace3450a",
        "colab": {
          "base_uri": "https://localhost:8080/"
        },
        "outputId": "7e744be1-f51d-43b6-a1a0-f7b3150cca1c"
      },
      "outputs": [
        {
          "output_type": "stream",
          "name": "stdout",
          "text": [
            "   PRECIO  NCOMUNA  AMBIENTES\n",
            "0    2000        2          2\n",
            "1   12300        5          1\n",
            "2   43245        3          4\n",
            "3  325423        4          5\n",
            "4     200        5          6\n"
          ]
        }
      ],
      "source": [
        "df = df.reset_index(drop=True)\n",
        "print(df)"
      ]
    },
    {
      "cell_type": "markdown",
      "id": "d19ba8af",
      "metadata": {
        "id": "d19ba8af"
      },
      "source": [
        "🐼 Importar un csv que tengamos en nuestro local o en una direccion web"
      ]
    },
    {
      "cell_type": "code",
      "execution_count": 3,
      "id": "ad4e381b",
      "metadata": {
        "id": "ad4e381b"
      },
      "outputs": [],
      "source": [
        "departamentos = pd.read_csv('https://raw.githubusercontent.com/ConroSatchmo/datasets/main/departamentos.csv')"
      ]
    },
    {
      "cell_type": "code",
      "execution_count": null,
      "id": "2535e956",
      "metadata": {
        "id": "2535e956",
        "colab": {
          "base_uri": "https://localhost:8080/",
          "height": 423
        },
        "outputId": "dfcc45d0-fd54-41ea-9da3-d862126779da"
      },
      "outputs": [
        {
          "output_type": "execute_result",
          "data": {
            "text/plain": [
              "       M2  AMBIENTES  ANTIGUEDAD  BAÑOS    LATITUD   LONGITUD     COMUNA  \\\n",
              "0      81          3           4      1 -34.581078 -58.449433  COMUNA 13   \n",
              "1      69          3          20      1 -34.623129 -58.439338  COMUNA 06   \n",
              "2      75          3          20      1 -34.604972 -58.421278  COMUNA 05   \n",
              "3      42          2          40      1 -34.604725 -58.399524  COMUNA 03   \n",
              "4      90          3           1      1 -34.623390 -58.504401  COMUNA 10   \n",
              "...   ...        ...         ...    ...        ...        ...        ...   \n",
              "2227   88          4          20      2 -34.550152 -58.470136  COMUNA 13   \n",
              "2228   35          1          35      1 -34.602256 -58.429315  COMUNA 05   \n",
              "2229  117          3          10      2 -34.620314 -58.365451  COMUNA 01   \n",
              "2230   69          4          40      1 -34.628533 -58.427748  COMUNA 07   \n",
              "2231   73          4          50      2 -34.596659 -58.378396  COMUNA 01   \n",
              "\n",
              "      DOLARES  \n",
              "0      225000  \n",
              "1      140000  \n",
              "2      154000  \n",
              "3       75000  \n",
              "4      149900  \n",
              "...       ...  \n",
              "2227   165000  \n",
              "2228    79900  \n",
              "2229   520000  \n",
              "2230   132000  \n",
              "2231   179000  \n",
              "\n",
              "[2232 rows x 8 columns]"
            ],
            "text/html": [
              "\n",
              "  <div id=\"df-2a53214f-7b6c-4954-a028-080063d0de96\" class=\"colab-df-container\">\n",
              "    <div>\n",
              "<style scoped>\n",
              "    .dataframe tbody tr th:only-of-type {\n",
              "        vertical-align: middle;\n",
              "    }\n",
              "\n",
              "    .dataframe tbody tr th {\n",
              "        vertical-align: top;\n",
              "    }\n",
              "\n",
              "    .dataframe thead th {\n",
              "        text-align: right;\n",
              "    }\n",
              "</style>\n",
              "<table border=\"1\" class=\"dataframe\">\n",
              "  <thead>\n",
              "    <tr style=\"text-align: right;\">\n",
              "      <th></th>\n",
              "      <th>M2</th>\n",
              "      <th>AMBIENTES</th>\n",
              "      <th>ANTIGUEDAD</th>\n",
              "      <th>BAÑOS</th>\n",
              "      <th>LATITUD</th>\n",
              "      <th>LONGITUD</th>\n",
              "      <th>COMUNA</th>\n",
              "      <th>DOLARES</th>\n",
              "    </tr>\n",
              "  </thead>\n",
              "  <tbody>\n",
              "    <tr>\n",
              "      <th>0</th>\n",
              "      <td>81</td>\n",
              "      <td>3</td>\n",
              "      <td>4</td>\n",
              "      <td>1</td>\n",
              "      <td>-34.581078</td>\n",
              "      <td>-58.449433</td>\n",
              "      <td>COMUNA 13</td>\n",
              "      <td>225000</td>\n",
              "    </tr>\n",
              "    <tr>\n",
              "      <th>1</th>\n",
              "      <td>69</td>\n",
              "      <td>3</td>\n",
              "      <td>20</td>\n",
              "      <td>1</td>\n",
              "      <td>-34.623129</td>\n",
              "      <td>-58.439338</td>\n",
              "      <td>COMUNA 06</td>\n",
              "      <td>140000</td>\n",
              "    </tr>\n",
              "    <tr>\n",
              "      <th>2</th>\n",
              "      <td>75</td>\n",
              "      <td>3</td>\n",
              "      <td>20</td>\n",
              "      <td>1</td>\n",
              "      <td>-34.604972</td>\n",
              "      <td>-58.421278</td>\n",
              "      <td>COMUNA 05</td>\n",
              "      <td>154000</td>\n",
              "    </tr>\n",
              "    <tr>\n",
              "      <th>3</th>\n",
              "      <td>42</td>\n",
              "      <td>2</td>\n",
              "      <td>40</td>\n",
              "      <td>1</td>\n",
              "      <td>-34.604725</td>\n",
              "      <td>-58.399524</td>\n",
              "      <td>COMUNA 03</td>\n",
              "      <td>75000</td>\n",
              "    </tr>\n",
              "    <tr>\n",
              "      <th>4</th>\n",
              "      <td>90</td>\n",
              "      <td>3</td>\n",
              "      <td>1</td>\n",
              "      <td>1</td>\n",
              "      <td>-34.623390</td>\n",
              "      <td>-58.504401</td>\n",
              "      <td>COMUNA 10</td>\n",
              "      <td>149900</td>\n",
              "    </tr>\n",
              "    <tr>\n",
              "      <th>...</th>\n",
              "      <td>...</td>\n",
              "      <td>...</td>\n",
              "      <td>...</td>\n",
              "      <td>...</td>\n",
              "      <td>...</td>\n",
              "      <td>...</td>\n",
              "      <td>...</td>\n",
              "      <td>...</td>\n",
              "    </tr>\n",
              "    <tr>\n",
              "      <th>2227</th>\n",
              "      <td>88</td>\n",
              "      <td>4</td>\n",
              "      <td>20</td>\n",
              "      <td>2</td>\n",
              "      <td>-34.550152</td>\n",
              "      <td>-58.470136</td>\n",
              "      <td>COMUNA 13</td>\n",
              "      <td>165000</td>\n",
              "    </tr>\n",
              "    <tr>\n",
              "      <th>2228</th>\n",
              "      <td>35</td>\n",
              "      <td>1</td>\n",
              "      <td>35</td>\n",
              "      <td>1</td>\n",
              "      <td>-34.602256</td>\n",
              "      <td>-58.429315</td>\n",
              "      <td>COMUNA 05</td>\n",
              "      <td>79900</td>\n",
              "    </tr>\n",
              "    <tr>\n",
              "      <th>2229</th>\n",
              "      <td>117</td>\n",
              "      <td>3</td>\n",
              "      <td>10</td>\n",
              "      <td>2</td>\n",
              "      <td>-34.620314</td>\n",
              "      <td>-58.365451</td>\n",
              "      <td>COMUNA 01</td>\n",
              "      <td>520000</td>\n",
              "    </tr>\n",
              "    <tr>\n",
              "      <th>2230</th>\n",
              "      <td>69</td>\n",
              "      <td>4</td>\n",
              "      <td>40</td>\n",
              "      <td>1</td>\n",
              "      <td>-34.628533</td>\n",
              "      <td>-58.427748</td>\n",
              "      <td>COMUNA 07</td>\n",
              "      <td>132000</td>\n",
              "    </tr>\n",
              "    <tr>\n",
              "      <th>2231</th>\n",
              "      <td>73</td>\n",
              "      <td>4</td>\n",
              "      <td>50</td>\n",
              "      <td>2</td>\n",
              "      <td>-34.596659</td>\n",
              "      <td>-58.378396</td>\n",
              "      <td>COMUNA 01</td>\n",
              "      <td>179000</td>\n",
              "    </tr>\n",
              "  </tbody>\n",
              "</table>\n",
              "<p>2232 rows × 8 columns</p>\n",
              "</div>\n",
              "    <div class=\"colab-df-buttons\">\n",
              "\n",
              "  <div class=\"colab-df-container\">\n",
              "    <button class=\"colab-df-convert\" onclick=\"convertToInteractive('df-2a53214f-7b6c-4954-a028-080063d0de96')\"\n",
              "            title=\"Convert this dataframe to an interactive table.\"\n",
              "            style=\"display:none;\">\n",
              "\n",
              "  <svg xmlns=\"http://www.w3.org/2000/svg\" height=\"24px\" viewBox=\"0 -960 960 960\">\n",
              "    <path d=\"M120-120v-720h720v720H120Zm60-500h600v-160H180v160Zm220 220h160v-160H400v160Zm0 220h160v-160H400v160ZM180-400h160v-160H180v160Zm440 0h160v-160H620v160ZM180-180h160v-160H180v160Zm440 0h160v-160H620v160Z\"/>\n",
              "  </svg>\n",
              "    </button>\n",
              "\n",
              "  <style>\n",
              "    .colab-df-container {\n",
              "      display:flex;\n",
              "      gap: 12px;\n",
              "    }\n",
              "\n",
              "    .colab-df-convert {\n",
              "      background-color: #E8F0FE;\n",
              "      border: none;\n",
              "      border-radius: 50%;\n",
              "      cursor: pointer;\n",
              "      display: none;\n",
              "      fill: #1967D2;\n",
              "      height: 32px;\n",
              "      padding: 0 0 0 0;\n",
              "      width: 32px;\n",
              "    }\n",
              "\n",
              "    .colab-df-convert:hover {\n",
              "      background-color: #E2EBFA;\n",
              "      box-shadow: 0px 1px 2px rgba(60, 64, 67, 0.3), 0px 1px 3px 1px rgba(60, 64, 67, 0.15);\n",
              "      fill: #174EA6;\n",
              "    }\n",
              "\n",
              "    .colab-df-buttons div {\n",
              "      margin-bottom: 4px;\n",
              "    }\n",
              "\n",
              "    [theme=dark] .colab-df-convert {\n",
              "      background-color: #3B4455;\n",
              "      fill: #D2E3FC;\n",
              "    }\n",
              "\n",
              "    [theme=dark] .colab-df-convert:hover {\n",
              "      background-color: #434B5C;\n",
              "      box-shadow: 0px 1px 3px 1px rgba(0, 0, 0, 0.15);\n",
              "      filter: drop-shadow(0px 1px 2px rgba(0, 0, 0, 0.3));\n",
              "      fill: #FFFFFF;\n",
              "    }\n",
              "  </style>\n",
              "\n",
              "    <script>\n",
              "      const buttonEl =\n",
              "        document.querySelector('#df-2a53214f-7b6c-4954-a028-080063d0de96 button.colab-df-convert');\n",
              "      buttonEl.style.display =\n",
              "        google.colab.kernel.accessAllowed ? 'block' : 'none';\n",
              "\n",
              "      async function convertToInteractive(key) {\n",
              "        const element = document.querySelector('#df-2a53214f-7b6c-4954-a028-080063d0de96');\n",
              "        const dataTable =\n",
              "          await google.colab.kernel.invokeFunction('convertToInteractive',\n",
              "                                                    [key], {});\n",
              "        if (!dataTable) return;\n",
              "\n",
              "        const docLinkHtml = 'Like what you see? Visit the ' +\n",
              "          '<a target=\"_blank\" href=https://colab.research.google.com/notebooks/data_table.ipynb>data table notebook</a>'\n",
              "          + ' to learn more about interactive tables.';\n",
              "        element.innerHTML = '';\n",
              "        dataTable['output_type'] = 'display_data';\n",
              "        await google.colab.output.renderOutput(dataTable, element);\n",
              "        const docLink = document.createElement('div');\n",
              "        docLink.innerHTML = docLinkHtml;\n",
              "        element.appendChild(docLink);\n",
              "      }\n",
              "    </script>\n",
              "  </div>\n",
              "\n",
              "\n",
              "<div id=\"df-ee666e83-a870-44f1-905c-2806b0e4e43d\">\n",
              "  <button class=\"colab-df-quickchart\" onclick=\"quickchart('df-ee666e83-a870-44f1-905c-2806b0e4e43d')\"\n",
              "            title=\"Suggest charts\"\n",
              "            style=\"display:none;\">\n",
              "\n",
              "<svg xmlns=\"http://www.w3.org/2000/svg\" height=\"24px\"viewBox=\"0 0 24 24\"\n",
              "     width=\"24px\">\n",
              "    <g>\n",
              "        <path d=\"M19 3H5c-1.1 0-2 .9-2 2v14c0 1.1.9 2 2 2h14c1.1 0 2-.9 2-2V5c0-1.1-.9-2-2-2zM9 17H7v-7h2v7zm4 0h-2V7h2v10zm4 0h-2v-4h2v4z\"/>\n",
              "    </g>\n",
              "</svg>\n",
              "  </button>\n",
              "\n",
              "<style>\n",
              "  .colab-df-quickchart {\n",
              "      --bg-color: #E8F0FE;\n",
              "      --fill-color: #1967D2;\n",
              "      --hover-bg-color: #E2EBFA;\n",
              "      --hover-fill-color: #174EA6;\n",
              "      --disabled-fill-color: #AAA;\n",
              "      --disabled-bg-color: #DDD;\n",
              "  }\n",
              "\n",
              "  [theme=dark] .colab-df-quickchart {\n",
              "      --bg-color: #3B4455;\n",
              "      --fill-color: #D2E3FC;\n",
              "      --hover-bg-color: #434B5C;\n",
              "      --hover-fill-color: #FFFFFF;\n",
              "      --disabled-bg-color: #3B4455;\n",
              "      --disabled-fill-color: #666;\n",
              "  }\n",
              "\n",
              "  .colab-df-quickchart {\n",
              "    background-color: var(--bg-color);\n",
              "    border: none;\n",
              "    border-radius: 50%;\n",
              "    cursor: pointer;\n",
              "    display: none;\n",
              "    fill: var(--fill-color);\n",
              "    height: 32px;\n",
              "    padding: 0;\n",
              "    width: 32px;\n",
              "  }\n",
              "\n",
              "  .colab-df-quickchart:hover {\n",
              "    background-color: var(--hover-bg-color);\n",
              "    box-shadow: 0 1px 2px rgba(60, 64, 67, 0.3), 0 1px 3px 1px rgba(60, 64, 67, 0.15);\n",
              "    fill: var(--button-hover-fill-color);\n",
              "  }\n",
              "\n",
              "  .colab-df-quickchart-complete:disabled,\n",
              "  .colab-df-quickchart-complete:disabled:hover {\n",
              "    background-color: var(--disabled-bg-color);\n",
              "    fill: var(--disabled-fill-color);\n",
              "    box-shadow: none;\n",
              "  }\n",
              "\n",
              "  .colab-df-spinner {\n",
              "    border: 2px solid var(--fill-color);\n",
              "    border-color: transparent;\n",
              "    border-bottom-color: var(--fill-color);\n",
              "    animation:\n",
              "      spin 1s steps(1) infinite;\n",
              "  }\n",
              "\n",
              "  @keyframes spin {\n",
              "    0% {\n",
              "      border-color: transparent;\n",
              "      border-bottom-color: var(--fill-color);\n",
              "      border-left-color: var(--fill-color);\n",
              "    }\n",
              "    20% {\n",
              "      border-color: transparent;\n",
              "      border-left-color: var(--fill-color);\n",
              "      border-top-color: var(--fill-color);\n",
              "    }\n",
              "    30% {\n",
              "      border-color: transparent;\n",
              "      border-left-color: var(--fill-color);\n",
              "      border-top-color: var(--fill-color);\n",
              "      border-right-color: var(--fill-color);\n",
              "    }\n",
              "    40% {\n",
              "      border-color: transparent;\n",
              "      border-right-color: var(--fill-color);\n",
              "      border-top-color: var(--fill-color);\n",
              "    }\n",
              "    60% {\n",
              "      border-color: transparent;\n",
              "      border-right-color: var(--fill-color);\n",
              "    }\n",
              "    80% {\n",
              "      border-color: transparent;\n",
              "      border-right-color: var(--fill-color);\n",
              "      border-bottom-color: var(--fill-color);\n",
              "    }\n",
              "    90% {\n",
              "      border-color: transparent;\n",
              "      border-bottom-color: var(--fill-color);\n",
              "    }\n",
              "  }\n",
              "</style>\n",
              "\n",
              "  <script>\n",
              "    async function quickchart(key) {\n",
              "      const quickchartButtonEl =\n",
              "        document.querySelector('#' + key + ' button');\n",
              "      quickchartButtonEl.disabled = true;  // To prevent multiple clicks.\n",
              "      quickchartButtonEl.classList.add('colab-df-spinner');\n",
              "      try {\n",
              "        const charts = await google.colab.kernel.invokeFunction(\n",
              "            'suggestCharts', [key], {});\n",
              "      } catch (error) {\n",
              "        console.error('Error during call to suggestCharts:', error);\n",
              "      }\n",
              "      quickchartButtonEl.classList.remove('colab-df-spinner');\n",
              "      quickchartButtonEl.classList.add('colab-df-quickchart-complete');\n",
              "    }\n",
              "    (() => {\n",
              "      let quickchartButtonEl =\n",
              "        document.querySelector('#df-ee666e83-a870-44f1-905c-2806b0e4e43d button');\n",
              "      quickchartButtonEl.style.display =\n",
              "        google.colab.kernel.accessAllowed ? 'block' : 'none';\n",
              "    })();\n",
              "  </script>\n",
              "</div>\n",
              "\n",
              "  <div id=\"id_73fab72a-5178-4fe2-8f6e-decca0a29a79\">\n",
              "    <style>\n",
              "      .colab-df-generate {\n",
              "        background-color: #E8F0FE;\n",
              "        border: none;\n",
              "        border-radius: 50%;\n",
              "        cursor: pointer;\n",
              "        display: none;\n",
              "        fill: #1967D2;\n",
              "        height: 32px;\n",
              "        padding: 0 0 0 0;\n",
              "        width: 32px;\n",
              "      }\n",
              "\n",
              "      .colab-df-generate:hover {\n",
              "        background-color: #E2EBFA;\n",
              "        box-shadow: 0px 1px 2px rgba(60, 64, 67, 0.3), 0px 1px 3px 1px rgba(60, 64, 67, 0.15);\n",
              "        fill: #174EA6;\n",
              "      }\n",
              "\n",
              "      [theme=dark] .colab-df-generate {\n",
              "        background-color: #3B4455;\n",
              "        fill: #D2E3FC;\n",
              "      }\n",
              "\n",
              "      [theme=dark] .colab-df-generate:hover {\n",
              "        background-color: #434B5C;\n",
              "        box-shadow: 0px 1px 3px 1px rgba(0, 0, 0, 0.15);\n",
              "        filter: drop-shadow(0px 1px 2px rgba(0, 0, 0, 0.3));\n",
              "        fill: #FFFFFF;\n",
              "      }\n",
              "    </style>\n",
              "    <button class=\"colab-df-generate\" onclick=\"generateWithVariable('departamentos')\"\n",
              "            title=\"Generate code using this dataframe.\"\n",
              "            style=\"display:none;\">\n",
              "\n",
              "  <svg xmlns=\"http://www.w3.org/2000/svg\" height=\"24px\"viewBox=\"0 0 24 24\"\n",
              "       width=\"24px\">\n",
              "    <path d=\"M7,19H8.4L18.45,9,17,7.55,7,17.6ZM5,21V16.75L18.45,3.32a2,2,0,0,1,2.83,0l1.4,1.43a1.91,1.91,0,0,1,.58,1.4,1.91,1.91,0,0,1-.58,1.4L9.25,21ZM18.45,9,17,7.55Zm-12,3A5.31,5.31,0,0,0,4.9,8.1,5.31,5.31,0,0,0,1,6.5,5.31,5.31,0,0,0,4.9,4.9,5.31,5.31,0,0,0,6.5,1,5.31,5.31,0,0,0,8.1,4.9,5.31,5.31,0,0,0,12,6.5,5.46,5.46,0,0,0,6.5,12Z\"/>\n",
              "  </svg>\n",
              "    </button>\n",
              "    <script>\n",
              "      (() => {\n",
              "      const buttonEl =\n",
              "        document.querySelector('#id_73fab72a-5178-4fe2-8f6e-decca0a29a79 button.colab-df-generate');\n",
              "      buttonEl.style.display =\n",
              "        google.colab.kernel.accessAllowed ? 'block' : 'none';\n",
              "\n",
              "      buttonEl.onclick = () => {\n",
              "        google.colab.notebook.generateWithVariable('departamentos');\n",
              "      }\n",
              "      })();\n",
              "    </script>\n",
              "  </div>\n",
              "\n",
              "    </div>\n",
              "  </div>\n"
            ],
            "application/vnd.google.colaboratory.intrinsic+json": {
              "type": "dataframe",
              "variable_name": "departamentos",
              "summary": "{\n  \"name\": \"departamentos\",\n  \"rows\": 2232,\n  \"fields\": [\n    {\n      \"column\": \"M2\",\n      \"properties\": {\n        \"dtype\": \"number\",\n        \"std\": 58,\n        \"min\": 15,\n        \"max\": 730,\n        \"num_unique_values\": 221,\n        \"samples\": [\n          160,\n          126,\n          61\n        ],\n        \"semantic_type\": \"\",\n        \"description\": \"\"\n      }\n    },\n    {\n      \"column\": \"AMBIENTES\",\n      \"properties\": {\n        \"dtype\": \"number\",\n        \"std\": 1,\n        \"min\": 1,\n        \"max\": 10,\n        \"num_unique_values\": 9,\n        \"samples\": [\n          7,\n          2,\n          6\n        ],\n        \"semantic_type\": \"\",\n        \"description\": \"\"\n      }\n    },\n    {\n      \"column\": \"ANTIGUEDAD\",\n      \"properties\": {\n        \"dtype\": \"number\",\n        \"std\": 18,\n        \"min\": 1,\n        \"max\": 110,\n        \"num_unique_values\": 64,\n        \"samples\": [\n          29,\n          75,\n          4\n        ],\n        \"semantic_type\": \"\",\n        \"description\": \"\"\n      }\n    },\n    {\n      \"column\": \"BA\\u00d1OS\",\n      \"properties\": {\n        \"dtype\": \"number\",\n        \"std\": 0,\n        \"min\": 1,\n        \"max\": 6,\n        \"num_unique_values\": 6,\n        \"samples\": [\n          1,\n          2,\n          5\n        ],\n        \"semantic_type\": \"\",\n        \"description\": \"\"\n      }\n    },\n    {\n      \"column\": \"LATITUD\",\n      \"properties\": {\n        \"dtype\": \"number\",\n        \"std\": 0.022612748735094376,\n        \"min\": -34.68491929893829,\n        \"max\": -34.53730822008631,\n        \"num_unique_values\": 1374,\n        \"samples\": [\n          -34.62158984847588,\n          -34.56169943299393,\n          -34.618979145410826\n        ],\n        \"semantic_type\": \"\",\n        \"description\": \"\"\n      }\n    },\n    {\n      \"column\": \"LONGITUD\",\n      \"properties\": {\n        \"dtype\": \"number\",\n        \"std\": 0.034101726174456774,\n        \"min\": -58.52747608345872,\n        \"max\": -58.35381206090168,\n        \"num_unique_values\": 1374,\n        \"samples\": [\n          -58.42512074149378,\n          -58.451219390270175,\n          -58.39027952392485\n        ],\n        \"semantic_type\": \"\",\n        \"description\": \"\"\n      }\n    },\n    {\n      \"column\": \"COMUNA\",\n      \"properties\": {\n        \"dtype\": \"category\",\n        \"num_unique_values\": 15,\n        \"samples\": [\n          \"COMUNA 01\",\n          \"COMUNA 11\",\n          \"COMUNA 13\"\n        ],\n        \"semantic_type\": \"\",\n        \"description\": \"\"\n      }\n    },\n    {\n      \"column\": \"DOLARES\",\n      \"properties\": {\n        \"dtype\": \"number\",\n        \"std\": 186368,\n        \"min\": 7428,\n        \"max\": 1800000,\n        \"num_unique_values\": 402,\n        \"samples\": [\n          470000,\n          1050000,\n          980000\n        ],\n        \"semantic_type\": \"\",\n        \"description\": \"\"\n      }\n    }\n  ]\n}"
            }
          },
          "metadata": {},
          "execution_count": 15
        }
      ],
      "source": [
        "departamentos"
      ]
    },
    {
      "cell_type": "markdown",
      "id": "2588e9e4",
      "metadata": {
        "id": "2588e9e4"
      },
      "source": [
        "🐼 Supongamos que solo me interesa la columna dolares"
      ]
    },
    {
      "cell_type": "code",
      "execution_count": null,
      "id": "910a3161",
      "metadata": {
        "id": "910a3161",
        "colab": {
          "base_uri": "https://localhost:8080/"
        },
        "outputId": "6628ef85-05f2-442d-9e5f-780ec9f449e7"
      },
      "outputs": [
        {
          "output_type": "execute_result",
          "data": {
            "text/plain": [
              "0       225000\n",
              "1       140000\n",
              "2       154000\n",
              "3        75000\n",
              "4       149900\n",
              "         ...  \n",
              "2227    165000\n",
              "2228     79900\n",
              "2229    520000\n",
              "2230    132000\n",
              "2231    179000\n",
              "Name: DOLARES, Length: 2232, dtype: int64"
            ]
          },
          "metadata": {},
          "execution_count": 16
        }
      ],
      "source": [
        "departamentos.DOLARES"
      ]
    },
    {
      "cell_type": "markdown",
      "id": "6dce2237",
      "metadata": {
        "id": "6dce2237"
      },
      "source": [
        "Un objeto ``Series`` es un objeto unidimensional, **similar a una columna en una tabla**.\n",
        "\n",
        "Un objeto de tipo Series tiene dos componentes principales:\n",
        "\n",
        "- Un indice, que contiene valores unicos y se usa para acceder a los valores. Por defecto, cada elemento recibirá una etiqueta que va de 0 a N-1, donde N es la longitud/tamaño de la colección.\n",
        "- Los valores.\n",
        "\n",
        "**Un conjunto de Series forman un DataFrame**\n",
        "\n",
        "Como nos sentimos mas comodos con los DataFrame que con las Series, podemos pasar le obejeto ``Series`` a ``DataFrame``"
      ]
    },
    {
      "cell_type": "markdown",
      "id": "84488ec8",
      "metadata": {
        "id": "84488ec8"
      },
      "source": [
        "##### 🐼 Imprimir los primeros 5 registros/filas"
      ]
    },
    {
      "cell_type": "code",
      "execution_count": null,
      "id": "9a013894",
      "metadata": {
        "id": "9a013894",
        "colab": {
          "base_uri": "https://localhost:8080/",
          "height": 206
        },
        "outputId": "2eb25764-1ece-4a9d-a4a0-ade88b362827"
      },
      "outputs": [
        {
          "output_type": "execute_result",
          "data": {
            "text/plain": [
              "   M2  AMBIENTES  ANTIGUEDAD  BAÑOS    LATITUD   LONGITUD     COMUNA  DOLARES\n",
              "0  81          3           4      1 -34.581078 -58.449433  COMUNA 13   225000\n",
              "1  69          3          20      1 -34.623129 -58.439338  COMUNA 06   140000\n",
              "2  75          3          20      1 -34.604972 -58.421278  COMUNA 05   154000\n",
              "3  42          2          40      1 -34.604725 -58.399524  COMUNA 03    75000\n",
              "4  90          3           1      1 -34.623390 -58.504401  COMUNA 10   149900"
            ],
            "text/html": [
              "\n",
              "  <div id=\"df-b50052a6-e670-463f-b63e-fcb18f3c86e6\" class=\"colab-df-container\">\n",
              "    <div>\n",
              "<style scoped>\n",
              "    .dataframe tbody tr th:only-of-type {\n",
              "        vertical-align: middle;\n",
              "    }\n",
              "\n",
              "    .dataframe tbody tr th {\n",
              "        vertical-align: top;\n",
              "    }\n",
              "\n",
              "    .dataframe thead th {\n",
              "        text-align: right;\n",
              "    }\n",
              "</style>\n",
              "<table border=\"1\" class=\"dataframe\">\n",
              "  <thead>\n",
              "    <tr style=\"text-align: right;\">\n",
              "      <th></th>\n",
              "      <th>M2</th>\n",
              "      <th>AMBIENTES</th>\n",
              "      <th>ANTIGUEDAD</th>\n",
              "      <th>BAÑOS</th>\n",
              "      <th>LATITUD</th>\n",
              "      <th>LONGITUD</th>\n",
              "      <th>COMUNA</th>\n",
              "      <th>DOLARES</th>\n",
              "    </tr>\n",
              "  </thead>\n",
              "  <tbody>\n",
              "    <tr>\n",
              "      <th>0</th>\n",
              "      <td>81</td>\n",
              "      <td>3</td>\n",
              "      <td>4</td>\n",
              "      <td>1</td>\n",
              "      <td>-34.581078</td>\n",
              "      <td>-58.449433</td>\n",
              "      <td>COMUNA 13</td>\n",
              "      <td>225000</td>\n",
              "    </tr>\n",
              "    <tr>\n",
              "      <th>1</th>\n",
              "      <td>69</td>\n",
              "      <td>3</td>\n",
              "      <td>20</td>\n",
              "      <td>1</td>\n",
              "      <td>-34.623129</td>\n",
              "      <td>-58.439338</td>\n",
              "      <td>COMUNA 06</td>\n",
              "      <td>140000</td>\n",
              "    </tr>\n",
              "    <tr>\n",
              "      <th>2</th>\n",
              "      <td>75</td>\n",
              "      <td>3</td>\n",
              "      <td>20</td>\n",
              "      <td>1</td>\n",
              "      <td>-34.604972</td>\n",
              "      <td>-58.421278</td>\n",
              "      <td>COMUNA 05</td>\n",
              "      <td>154000</td>\n",
              "    </tr>\n",
              "    <tr>\n",
              "      <th>3</th>\n",
              "      <td>42</td>\n",
              "      <td>2</td>\n",
              "      <td>40</td>\n",
              "      <td>1</td>\n",
              "      <td>-34.604725</td>\n",
              "      <td>-58.399524</td>\n",
              "      <td>COMUNA 03</td>\n",
              "      <td>75000</td>\n",
              "    </tr>\n",
              "    <tr>\n",
              "      <th>4</th>\n",
              "      <td>90</td>\n",
              "      <td>3</td>\n",
              "      <td>1</td>\n",
              "      <td>1</td>\n",
              "      <td>-34.623390</td>\n",
              "      <td>-58.504401</td>\n",
              "      <td>COMUNA 10</td>\n",
              "      <td>149900</td>\n",
              "    </tr>\n",
              "  </tbody>\n",
              "</table>\n",
              "</div>\n",
              "    <div class=\"colab-df-buttons\">\n",
              "\n",
              "  <div class=\"colab-df-container\">\n",
              "    <button class=\"colab-df-convert\" onclick=\"convertToInteractive('df-b50052a6-e670-463f-b63e-fcb18f3c86e6')\"\n",
              "            title=\"Convert this dataframe to an interactive table.\"\n",
              "            style=\"display:none;\">\n",
              "\n",
              "  <svg xmlns=\"http://www.w3.org/2000/svg\" height=\"24px\" viewBox=\"0 -960 960 960\">\n",
              "    <path d=\"M120-120v-720h720v720H120Zm60-500h600v-160H180v160Zm220 220h160v-160H400v160Zm0 220h160v-160H400v160ZM180-400h160v-160H180v160Zm440 0h160v-160H620v160ZM180-180h160v-160H180v160Zm440 0h160v-160H620v160Z\"/>\n",
              "  </svg>\n",
              "    </button>\n",
              "\n",
              "  <style>\n",
              "    .colab-df-container {\n",
              "      display:flex;\n",
              "      gap: 12px;\n",
              "    }\n",
              "\n",
              "    .colab-df-convert {\n",
              "      background-color: #E8F0FE;\n",
              "      border: none;\n",
              "      border-radius: 50%;\n",
              "      cursor: pointer;\n",
              "      display: none;\n",
              "      fill: #1967D2;\n",
              "      height: 32px;\n",
              "      padding: 0 0 0 0;\n",
              "      width: 32px;\n",
              "    }\n",
              "\n",
              "    .colab-df-convert:hover {\n",
              "      background-color: #E2EBFA;\n",
              "      box-shadow: 0px 1px 2px rgba(60, 64, 67, 0.3), 0px 1px 3px 1px rgba(60, 64, 67, 0.15);\n",
              "      fill: #174EA6;\n",
              "    }\n",
              "\n",
              "    .colab-df-buttons div {\n",
              "      margin-bottom: 4px;\n",
              "    }\n",
              "\n",
              "    [theme=dark] .colab-df-convert {\n",
              "      background-color: #3B4455;\n",
              "      fill: #D2E3FC;\n",
              "    }\n",
              "\n",
              "    [theme=dark] .colab-df-convert:hover {\n",
              "      background-color: #434B5C;\n",
              "      box-shadow: 0px 1px 3px 1px rgba(0, 0, 0, 0.15);\n",
              "      filter: drop-shadow(0px 1px 2px rgba(0, 0, 0, 0.3));\n",
              "      fill: #FFFFFF;\n",
              "    }\n",
              "  </style>\n",
              "\n",
              "    <script>\n",
              "      const buttonEl =\n",
              "        document.querySelector('#df-b50052a6-e670-463f-b63e-fcb18f3c86e6 button.colab-df-convert');\n",
              "      buttonEl.style.display =\n",
              "        google.colab.kernel.accessAllowed ? 'block' : 'none';\n",
              "\n",
              "      async function convertToInteractive(key) {\n",
              "        const element = document.querySelector('#df-b50052a6-e670-463f-b63e-fcb18f3c86e6');\n",
              "        const dataTable =\n",
              "          await google.colab.kernel.invokeFunction('convertToInteractive',\n",
              "                                                    [key], {});\n",
              "        if (!dataTable) return;\n",
              "\n",
              "        const docLinkHtml = 'Like what you see? Visit the ' +\n",
              "          '<a target=\"_blank\" href=https://colab.research.google.com/notebooks/data_table.ipynb>data table notebook</a>'\n",
              "          + ' to learn more about interactive tables.';\n",
              "        element.innerHTML = '';\n",
              "        dataTable['output_type'] = 'display_data';\n",
              "        await google.colab.output.renderOutput(dataTable, element);\n",
              "        const docLink = document.createElement('div');\n",
              "        docLink.innerHTML = docLinkHtml;\n",
              "        element.appendChild(docLink);\n",
              "      }\n",
              "    </script>\n",
              "  </div>\n",
              "\n",
              "\n",
              "<div id=\"df-ec31eb5b-1111-4a75-a69b-25d48cde606b\">\n",
              "  <button class=\"colab-df-quickchart\" onclick=\"quickchart('df-ec31eb5b-1111-4a75-a69b-25d48cde606b')\"\n",
              "            title=\"Suggest charts\"\n",
              "            style=\"display:none;\">\n",
              "\n",
              "<svg xmlns=\"http://www.w3.org/2000/svg\" height=\"24px\"viewBox=\"0 0 24 24\"\n",
              "     width=\"24px\">\n",
              "    <g>\n",
              "        <path d=\"M19 3H5c-1.1 0-2 .9-2 2v14c0 1.1.9 2 2 2h14c1.1 0 2-.9 2-2V5c0-1.1-.9-2-2-2zM9 17H7v-7h2v7zm4 0h-2V7h2v10zm4 0h-2v-4h2v4z\"/>\n",
              "    </g>\n",
              "</svg>\n",
              "  </button>\n",
              "\n",
              "<style>\n",
              "  .colab-df-quickchart {\n",
              "      --bg-color: #E8F0FE;\n",
              "      --fill-color: #1967D2;\n",
              "      --hover-bg-color: #E2EBFA;\n",
              "      --hover-fill-color: #174EA6;\n",
              "      --disabled-fill-color: #AAA;\n",
              "      --disabled-bg-color: #DDD;\n",
              "  }\n",
              "\n",
              "  [theme=dark] .colab-df-quickchart {\n",
              "      --bg-color: #3B4455;\n",
              "      --fill-color: #D2E3FC;\n",
              "      --hover-bg-color: #434B5C;\n",
              "      --hover-fill-color: #FFFFFF;\n",
              "      --disabled-bg-color: #3B4455;\n",
              "      --disabled-fill-color: #666;\n",
              "  }\n",
              "\n",
              "  .colab-df-quickchart {\n",
              "    background-color: var(--bg-color);\n",
              "    border: none;\n",
              "    border-radius: 50%;\n",
              "    cursor: pointer;\n",
              "    display: none;\n",
              "    fill: var(--fill-color);\n",
              "    height: 32px;\n",
              "    padding: 0;\n",
              "    width: 32px;\n",
              "  }\n",
              "\n",
              "  .colab-df-quickchart:hover {\n",
              "    background-color: var(--hover-bg-color);\n",
              "    box-shadow: 0 1px 2px rgba(60, 64, 67, 0.3), 0 1px 3px 1px rgba(60, 64, 67, 0.15);\n",
              "    fill: var(--button-hover-fill-color);\n",
              "  }\n",
              "\n",
              "  .colab-df-quickchart-complete:disabled,\n",
              "  .colab-df-quickchart-complete:disabled:hover {\n",
              "    background-color: var(--disabled-bg-color);\n",
              "    fill: var(--disabled-fill-color);\n",
              "    box-shadow: none;\n",
              "  }\n",
              "\n",
              "  .colab-df-spinner {\n",
              "    border: 2px solid var(--fill-color);\n",
              "    border-color: transparent;\n",
              "    border-bottom-color: var(--fill-color);\n",
              "    animation:\n",
              "      spin 1s steps(1) infinite;\n",
              "  }\n",
              "\n",
              "  @keyframes spin {\n",
              "    0% {\n",
              "      border-color: transparent;\n",
              "      border-bottom-color: var(--fill-color);\n",
              "      border-left-color: var(--fill-color);\n",
              "    }\n",
              "    20% {\n",
              "      border-color: transparent;\n",
              "      border-left-color: var(--fill-color);\n",
              "      border-top-color: var(--fill-color);\n",
              "    }\n",
              "    30% {\n",
              "      border-color: transparent;\n",
              "      border-left-color: var(--fill-color);\n",
              "      border-top-color: var(--fill-color);\n",
              "      border-right-color: var(--fill-color);\n",
              "    }\n",
              "    40% {\n",
              "      border-color: transparent;\n",
              "      border-right-color: var(--fill-color);\n",
              "      border-top-color: var(--fill-color);\n",
              "    }\n",
              "    60% {\n",
              "      border-color: transparent;\n",
              "      border-right-color: var(--fill-color);\n",
              "    }\n",
              "    80% {\n",
              "      border-color: transparent;\n",
              "      border-right-color: var(--fill-color);\n",
              "      border-bottom-color: var(--fill-color);\n",
              "    }\n",
              "    90% {\n",
              "      border-color: transparent;\n",
              "      border-bottom-color: var(--fill-color);\n",
              "    }\n",
              "  }\n",
              "</style>\n",
              "\n",
              "  <script>\n",
              "    async function quickchart(key) {\n",
              "      const quickchartButtonEl =\n",
              "        document.querySelector('#' + key + ' button');\n",
              "      quickchartButtonEl.disabled = true;  // To prevent multiple clicks.\n",
              "      quickchartButtonEl.classList.add('colab-df-spinner');\n",
              "      try {\n",
              "        const charts = await google.colab.kernel.invokeFunction(\n",
              "            'suggestCharts', [key], {});\n",
              "      } catch (error) {\n",
              "        console.error('Error during call to suggestCharts:', error);\n",
              "      }\n",
              "      quickchartButtonEl.classList.remove('colab-df-spinner');\n",
              "      quickchartButtonEl.classList.add('colab-df-quickchart-complete');\n",
              "    }\n",
              "    (() => {\n",
              "      let quickchartButtonEl =\n",
              "        document.querySelector('#df-ec31eb5b-1111-4a75-a69b-25d48cde606b button');\n",
              "      quickchartButtonEl.style.display =\n",
              "        google.colab.kernel.accessAllowed ? 'block' : 'none';\n",
              "    })();\n",
              "  </script>\n",
              "</div>\n",
              "\n",
              "  <div id=\"id_81533cd5-d39a-463c-bb3a-9f9e38743d64\">\n",
              "    <style>\n",
              "      .colab-df-generate {\n",
              "        background-color: #E8F0FE;\n",
              "        border: none;\n",
              "        border-radius: 50%;\n",
              "        cursor: pointer;\n",
              "        display: none;\n",
              "        fill: #1967D2;\n",
              "        height: 32px;\n",
              "        padding: 0 0 0 0;\n",
              "        width: 32px;\n",
              "      }\n",
              "\n",
              "      .colab-df-generate:hover {\n",
              "        background-color: #E2EBFA;\n",
              "        box-shadow: 0px 1px 2px rgba(60, 64, 67, 0.3), 0px 1px 3px 1px rgba(60, 64, 67, 0.15);\n",
              "        fill: #174EA6;\n",
              "      }\n",
              "\n",
              "      [theme=dark] .colab-df-generate {\n",
              "        background-color: #3B4455;\n",
              "        fill: #D2E3FC;\n",
              "      }\n",
              "\n",
              "      [theme=dark] .colab-df-generate:hover {\n",
              "        background-color: #434B5C;\n",
              "        box-shadow: 0px 1px 3px 1px rgba(0, 0, 0, 0.15);\n",
              "        filter: drop-shadow(0px 1px 2px rgba(0, 0, 0, 0.3));\n",
              "        fill: #FFFFFF;\n",
              "      }\n",
              "    </style>\n",
              "    <button class=\"colab-df-generate\" onclick=\"generateWithVariable('filtro_5')\"\n",
              "            title=\"Generate code using this dataframe.\"\n",
              "            style=\"display:none;\">\n",
              "\n",
              "  <svg xmlns=\"http://www.w3.org/2000/svg\" height=\"24px\"viewBox=\"0 0 24 24\"\n",
              "       width=\"24px\">\n",
              "    <path d=\"M7,19H8.4L18.45,9,17,7.55,7,17.6ZM5,21V16.75L18.45,3.32a2,2,0,0,1,2.83,0l1.4,1.43a1.91,1.91,0,0,1,.58,1.4,1.91,1.91,0,0,1-.58,1.4L9.25,21ZM18.45,9,17,7.55Zm-12,3A5.31,5.31,0,0,0,4.9,8.1,5.31,5.31,0,0,0,1,6.5,5.31,5.31,0,0,0,4.9,4.9,5.31,5.31,0,0,0,6.5,1,5.31,5.31,0,0,0,8.1,4.9,5.31,5.31,0,0,0,12,6.5,5.46,5.46,0,0,0,6.5,12Z\"/>\n",
              "  </svg>\n",
              "    </button>\n",
              "    <script>\n",
              "      (() => {\n",
              "      const buttonEl =\n",
              "        document.querySelector('#id_81533cd5-d39a-463c-bb3a-9f9e38743d64 button.colab-df-generate');\n",
              "      buttonEl.style.display =\n",
              "        google.colab.kernel.accessAllowed ? 'block' : 'none';\n",
              "\n",
              "      buttonEl.onclick = () => {\n",
              "        google.colab.notebook.generateWithVariable('filtro_5');\n",
              "      }\n",
              "      })();\n",
              "    </script>\n",
              "  </div>\n",
              "\n",
              "    </div>\n",
              "  </div>\n"
            ],
            "application/vnd.google.colaboratory.intrinsic+json": {
              "type": "dataframe",
              "variable_name": "filtro_5",
              "summary": "{\n  \"name\": \"filtro_5\",\n  \"rows\": 5,\n  \"fields\": [\n    {\n      \"column\": \"M2\",\n      \"properties\": {\n        \"dtype\": \"number\",\n        \"std\": 18,\n        \"min\": 42,\n        \"max\": 90,\n        \"num_unique_values\": 5,\n        \"samples\": [\n          69,\n          90,\n          75\n        ],\n        \"semantic_type\": \"\",\n        \"description\": \"\"\n      }\n    },\n    {\n      \"column\": \"AMBIENTES\",\n      \"properties\": {\n        \"dtype\": \"number\",\n        \"std\": 0,\n        \"min\": 2,\n        \"max\": 3,\n        \"num_unique_values\": 2,\n        \"samples\": [\n          2,\n          3\n        ],\n        \"semantic_type\": \"\",\n        \"description\": \"\"\n      }\n    },\n    {\n      \"column\": \"ANTIGUEDAD\",\n      \"properties\": {\n        \"dtype\": \"number\",\n        \"std\": 15,\n        \"min\": 1,\n        \"max\": 40,\n        \"num_unique_values\": 4,\n        \"samples\": [\n          20,\n          1\n        ],\n        \"semantic_type\": \"\",\n        \"description\": \"\"\n      }\n    },\n    {\n      \"column\": \"BA\\u00d1OS\",\n      \"properties\": {\n        \"dtype\": \"number\",\n        \"std\": 0,\n        \"min\": 1,\n        \"max\": 1,\n        \"num_unique_values\": 1,\n        \"samples\": [\n          1\n        ],\n        \"semantic_type\": \"\",\n        \"description\": \"\"\n      }\n    },\n    {\n      \"column\": \"LATITUD\",\n      \"properties\": {\n        \"dtype\": \"number\",\n        \"std\": 0.017385003287607306,\n        \"min\": -34.623390036970264,\n        \"max\": -34.581078051866186,\n        \"num_unique_values\": 5,\n        \"samples\": [\n          -34.62312877177625\n        ],\n        \"semantic_type\": \"\",\n        \"description\": \"\"\n      }\n    },\n    {\n      \"column\": \"LONGITUD\",\n      \"properties\": {\n        \"dtype\": \"number\",\n        \"std\": 0.039327968585552986,\n        \"min\": -58.504401294836605,\n        \"max\": -58.39952354016936,\n        \"num_unique_values\": 5,\n        \"samples\": [\n          -58.43933750841767\n        ],\n        \"semantic_type\": \"\",\n        \"description\": \"\"\n      }\n    },\n    {\n      \"column\": \"COMUNA\",\n      \"properties\": {\n        \"dtype\": \"string\",\n        \"num_unique_values\": 5,\n        \"samples\": [\n          \"COMUNA 06\"\n        ],\n        \"semantic_type\": \"\",\n        \"description\": \"\"\n      }\n    },\n    {\n      \"column\": \"DOLARES\",\n      \"properties\": {\n        \"dtype\": \"number\",\n        \"std\": 53288,\n        \"min\": 75000,\n        \"max\": 225000,\n        \"num_unique_values\": 5,\n        \"samples\": [\n          140000\n        ],\n        \"semantic_type\": \"\",\n        \"description\": \"\"\n      }\n    }\n  ]\n}"
            }
          },
          "metadata": {},
          "execution_count": 17
        }
      ],
      "source": [
        "filtro_5 = departamentos.iloc[:5]\n",
        "filtro_5"
      ]
    },
    {
      "cell_type": "code",
      "execution_count": null,
      "id": "06fecb09",
      "metadata": {
        "id": "06fecb09",
        "colab": {
          "base_uri": "https://localhost:8080/",
          "height": 237
        },
        "outputId": "9c43e90b-3620-468d-f8a6-766093d886da"
      },
      "outputs": [
        {
          "output_type": "execute_result",
          "data": {
            "text/plain": [
              "     M2  AMBIENTES  ANTIGUEDAD  BAÑOS    LATITUD   LONGITUD     COMUNA  \\\n",
              "5   120          3           2      2 -34.577774 -58.424300  COMUNA 14   \n",
              "6    35          1           5      1 -34.548911 -58.469872  COMUNA 12   \n",
              "7    82          3          70      2 -34.637083 -58.405029  COMUNA 04   \n",
              "8    38          1           8      1 -34.580970 -58.440528  COMUNA 14   \n",
              "9    17          2          40      1 -34.587077 -58.401069  COMUNA 02   \n",
              "10   45          2          10      1 -34.592452 -58.401854  COMUNA 02   \n",
              "\n",
              "    DOLARES  \n",
              "5    630000  \n",
              "6     92000  \n",
              "7    135000  \n",
              "8    110000  \n",
              "9     45000  \n",
              "10   145000  "
            ],
            "text/html": [
              "\n",
              "  <div id=\"df-1fc2c336-03c8-4df0-b3f6-615733af5ec2\" class=\"colab-df-container\">\n",
              "    <div>\n",
              "<style scoped>\n",
              "    .dataframe tbody tr th:only-of-type {\n",
              "        vertical-align: middle;\n",
              "    }\n",
              "\n",
              "    .dataframe tbody tr th {\n",
              "        vertical-align: top;\n",
              "    }\n",
              "\n",
              "    .dataframe thead th {\n",
              "        text-align: right;\n",
              "    }\n",
              "</style>\n",
              "<table border=\"1\" class=\"dataframe\">\n",
              "  <thead>\n",
              "    <tr style=\"text-align: right;\">\n",
              "      <th></th>\n",
              "      <th>M2</th>\n",
              "      <th>AMBIENTES</th>\n",
              "      <th>ANTIGUEDAD</th>\n",
              "      <th>BAÑOS</th>\n",
              "      <th>LATITUD</th>\n",
              "      <th>LONGITUD</th>\n",
              "      <th>COMUNA</th>\n",
              "      <th>DOLARES</th>\n",
              "    </tr>\n",
              "  </thead>\n",
              "  <tbody>\n",
              "    <tr>\n",
              "      <th>5</th>\n",
              "      <td>120</td>\n",
              "      <td>3</td>\n",
              "      <td>2</td>\n",
              "      <td>2</td>\n",
              "      <td>-34.577774</td>\n",
              "      <td>-58.424300</td>\n",
              "      <td>COMUNA 14</td>\n",
              "      <td>630000</td>\n",
              "    </tr>\n",
              "    <tr>\n",
              "      <th>6</th>\n",
              "      <td>35</td>\n",
              "      <td>1</td>\n",
              "      <td>5</td>\n",
              "      <td>1</td>\n",
              "      <td>-34.548911</td>\n",
              "      <td>-58.469872</td>\n",
              "      <td>COMUNA 12</td>\n",
              "      <td>92000</td>\n",
              "    </tr>\n",
              "    <tr>\n",
              "      <th>7</th>\n",
              "      <td>82</td>\n",
              "      <td>3</td>\n",
              "      <td>70</td>\n",
              "      <td>2</td>\n",
              "      <td>-34.637083</td>\n",
              "      <td>-58.405029</td>\n",
              "      <td>COMUNA 04</td>\n",
              "      <td>135000</td>\n",
              "    </tr>\n",
              "    <tr>\n",
              "      <th>8</th>\n",
              "      <td>38</td>\n",
              "      <td>1</td>\n",
              "      <td>8</td>\n",
              "      <td>1</td>\n",
              "      <td>-34.580970</td>\n",
              "      <td>-58.440528</td>\n",
              "      <td>COMUNA 14</td>\n",
              "      <td>110000</td>\n",
              "    </tr>\n",
              "    <tr>\n",
              "      <th>9</th>\n",
              "      <td>17</td>\n",
              "      <td>2</td>\n",
              "      <td>40</td>\n",
              "      <td>1</td>\n",
              "      <td>-34.587077</td>\n",
              "      <td>-58.401069</td>\n",
              "      <td>COMUNA 02</td>\n",
              "      <td>45000</td>\n",
              "    </tr>\n",
              "    <tr>\n",
              "      <th>10</th>\n",
              "      <td>45</td>\n",
              "      <td>2</td>\n",
              "      <td>10</td>\n",
              "      <td>1</td>\n",
              "      <td>-34.592452</td>\n",
              "      <td>-58.401854</td>\n",
              "      <td>COMUNA 02</td>\n",
              "      <td>145000</td>\n",
              "    </tr>\n",
              "  </tbody>\n",
              "</table>\n",
              "</div>\n",
              "    <div class=\"colab-df-buttons\">\n",
              "\n",
              "  <div class=\"colab-df-container\">\n",
              "    <button class=\"colab-df-convert\" onclick=\"convertToInteractive('df-1fc2c336-03c8-4df0-b3f6-615733af5ec2')\"\n",
              "            title=\"Convert this dataframe to an interactive table.\"\n",
              "            style=\"display:none;\">\n",
              "\n",
              "  <svg xmlns=\"http://www.w3.org/2000/svg\" height=\"24px\" viewBox=\"0 -960 960 960\">\n",
              "    <path d=\"M120-120v-720h720v720H120Zm60-500h600v-160H180v160Zm220 220h160v-160H400v160Zm0 220h160v-160H400v160ZM180-400h160v-160H180v160Zm440 0h160v-160H620v160ZM180-180h160v-160H180v160Zm440 0h160v-160H620v160Z\"/>\n",
              "  </svg>\n",
              "    </button>\n",
              "\n",
              "  <style>\n",
              "    .colab-df-container {\n",
              "      display:flex;\n",
              "      gap: 12px;\n",
              "    }\n",
              "\n",
              "    .colab-df-convert {\n",
              "      background-color: #E8F0FE;\n",
              "      border: none;\n",
              "      border-radius: 50%;\n",
              "      cursor: pointer;\n",
              "      display: none;\n",
              "      fill: #1967D2;\n",
              "      height: 32px;\n",
              "      padding: 0 0 0 0;\n",
              "      width: 32px;\n",
              "    }\n",
              "\n",
              "    .colab-df-convert:hover {\n",
              "      background-color: #E2EBFA;\n",
              "      box-shadow: 0px 1px 2px rgba(60, 64, 67, 0.3), 0px 1px 3px 1px rgba(60, 64, 67, 0.15);\n",
              "      fill: #174EA6;\n",
              "    }\n",
              "\n",
              "    .colab-df-buttons div {\n",
              "      margin-bottom: 4px;\n",
              "    }\n",
              "\n",
              "    [theme=dark] .colab-df-convert {\n",
              "      background-color: #3B4455;\n",
              "      fill: #D2E3FC;\n",
              "    }\n",
              "\n",
              "    [theme=dark] .colab-df-convert:hover {\n",
              "      background-color: #434B5C;\n",
              "      box-shadow: 0px 1px 3px 1px rgba(0, 0, 0, 0.15);\n",
              "      filter: drop-shadow(0px 1px 2px rgba(0, 0, 0, 0.3));\n",
              "      fill: #FFFFFF;\n",
              "    }\n",
              "  </style>\n",
              "\n",
              "    <script>\n",
              "      const buttonEl =\n",
              "        document.querySelector('#df-1fc2c336-03c8-4df0-b3f6-615733af5ec2 button.colab-df-convert');\n",
              "      buttonEl.style.display =\n",
              "        google.colab.kernel.accessAllowed ? 'block' : 'none';\n",
              "\n",
              "      async function convertToInteractive(key) {\n",
              "        const element = document.querySelector('#df-1fc2c336-03c8-4df0-b3f6-615733af5ec2');\n",
              "        const dataTable =\n",
              "          await google.colab.kernel.invokeFunction('convertToInteractive',\n",
              "                                                    [key], {});\n",
              "        if (!dataTable) return;\n",
              "\n",
              "        const docLinkHtml = 'Like what you see? Visit the ' +\n",
              "          '<a target=\"_blank\" href=https://colab.research.google.com/notebooks/data_table.ipynb>data table notebook</a>'\n",
              "          + ' to learn more about interactive tables.';\n",
              "        element.innerHTML = '';\n",
              "        dataTable['output_type'] = 'display_data';\n",
              "        await google.colab.output.renderOutput(dataTable, element);\n",
              "        const docLink = document.createElement('div');\n",
              "        docLink.innerHTML = docLinkHtml;\n",
              "        element.appendChild(docLink);\n",
              "      }\n",
              "    </script>\n",
              "  </div>\n",
              "\n",
              "\n",
              "<div id=\"df-8f31b940-ff92-4ba2-94e8-37fd2ac896d6\">\n",
              "  <button class=\"colab-df-quickchart\" onclick=\"quickchart('df-8f31b940-ff92-4ba2-94e8-37fd2ac896d6')\"\n",
              "            title=\"Suggest charts\"\n",
              "            style=\"display:none;\">\n",
              "\n",
              "<svg xmlns=\"http://www.w3.org/2000/svg\" height=\"24px\"viewBox=\"0 0 24 24\"\n",
              "     width=\"24px\">\n",
              "    <g>\n",
              "        <path d=\"M19 3H5c-1.1 0-2 .9-2 2v14c0 1.1.9 2 2 2h14c1.1 0 2-.9 2-2V5c0-1.1-.9-2-2-2zM9 17H7v-7h2v7zm4 0h-2V7h2v10zm4 0h-2v-4h2v4z\"/>\n",
              "    </g>\n",
              "</svg>\n",
              "  </button>\n",
              "\n",
              "<style>\n",
              "  .colab-df-quickchart {\n",
              "      --bg-color: #E8F0FE;\n",
              "      --fill-color: #1967D2;\n",
              "      --hover-bg-color: #E2EBFA;\n",
              "      --hover-fill-color: #174EA6;\n",
              "      --disabled-fill-color: #AAA;\n",
              "      --disabled-bg-color: #DDD;\n",
              "  }\n",
              "\n",
              "  [theme=dark] .colab-df-quickchart {\n",
              "      --bg-color: #3B4455;\n",
              "      --fill-color: #D2E3FC;\n",
              "      --hover-bg-color: #434B5C;\n",
              "      --hover-fill-color: #FFFFFF;\n",
              "      --disabled-bg-color: #3B4455;\n",
              "      --disabled-fill-color: #666;\n",
              "  }\n",
              "\n",
              "  .colab-df-quickchart {\n",
              "    background-color: var(--bg-color);\n",
              "    border: none;\n",
              "    border-radius: 50%;\n",
              "    cursor: pointer;\n",
              "    display: none;\n",
              "    fill: var(--fill-color);\n",
              "    height: 32px;\n",
              "    padding: 0;\n",
              "    width: 32px;\n",
              "  }\n",
              "\n",
              "  .colab-df-quickchart:hover {\n",
              "    background-color: var(--hover-bg-color);\n",
              "    box-shadow: 0 1px 2px rgba(60, 64, 67, 0.3), 0 1px 3px 1px rgba(60, 64, 67, 0.15);\n",
              "    fill: var(--button-hover-fill-color);\n",
              "  }\n",
              "\n",
              "  .colab-df-quickchart-complete:disabled,\n",
              "  .colab-df-quickchart-complete:disabled:hover {\n",
              "    background-color: var(--disabled-bg-color);\n",
              "    fill: var(--disabled-fill-color);\n",
              "    box-shadow: none;\n",
              "  }\n",
              "\n",
              "  .colab-df-spinner {\n",
              "    border: 2px solid var(--fill-color);\n",
              "    border-color: transparent;\n",
              "    border-bottom-color: var(--fill-color);\n",
              "    animation:\n",
              "      spin 1s steps(1) infinite;\n",
              "  }\n",
              "\n",
              "  @keyframes spin {\n",
              "    0% {\n",
              "      border-color: transparent;\n",
              "      border-bottom-color: var(--fill-color);\n",
              "      border-left-color: var(--fill-color);\n",
              "    }\n",
              "    20% {\n",
              "      border-color: transparent;\n",
              "      border-left-color: var(--fill-color);\n",
              "      border-top-color: var(--fill-color);\n",
              "    }\n",
              "    30% {\n",
              "      border-color: transparent;\n",
              "      border-left-color: var(--fill-color);\n",
              "      border-top-color: var(--fill-color);\n",
              "      border-right-color: var(--fill-color);\n",
              "    }\n",
              "    40% {\n",
              "      border-color: transparent;\n",
              "      border-right-color: var(--fill-color);\n",
              "      border-top-color: var(--fill-color);\n",
              "    }\n",
              "    60% {\n",
              "      border-color: transparent;\n",
              "      border-right-color: var(--fill-color);\n",
              "    }\n",
              "    80% {\n",
              "      border-color: transparent;\n",
              "      border-right-color: var(--fill-color);\n",
              "      border-bottom-color: var(--fill-color);\n",
              "    }\n",
              "    90% {\n",
              "      border-color: transparent;\n",
              "      border-bottom-color: var(--fill-color);\n",
              "    }\n",
              "  }\n",
              "</style>\n",
              "\n",
              "  <script>\n",
              "    async function quickchart(key) {\n",
              "      const quickchartButtonEl =\n",
              "        document.querySelector('#' + key + ' button');\n",
              "      quickchartButtonEl.disabled = true;  // To prevent multiple clicks.\n",
              "      quickchartButtonEl.classList.add('colab-df-spinner');\n",
              "      try {\n",
              "        const charts = await google.colab.kernel.invokeFunction(\n",
              "            'suggestCharts', [key], {});\n",
              "      } catch (error) {\n",
              "        console.error('Error during call to suggestCharts:', error);\n",
              "      }\n",
              "      quickchartButtonEl.classList.remove('colab-df-spinner');\n",
              "      quickchartButtonEl.classList.add('colab-df-quickchart-complete');\n",
              "    }\n",
              "    (() => {\n",
              "      let quickchartButtonEl =\n",
              "        document.querySelector('#df-8f31b940-ff92-4ba2-94e8-37fd2ac896d6 button');\n",
              "      quickchartButtonEl.style.display =\n",
              "        google.colab.kernel.accessAllowed ? 'block' : 'none';\n",
              "    })();\n",
              "  </script>\n",
              "</div>\n",
              "\n",
              "  <div id=\"id_55baca08-0f16-4496-b15c-08e349cc5fe8\">\n",
              "    <style>\n",
              "      .colab-df-generate {\n",
              "        background-color: #E8F0FE;\n",
              "        border: none;\n",
              "        border-radius: 50%;\n",
              "        cursor: pointer;\n",
              "        display: none;\n",
              "        fill: #1967D2;\n",
              "        height: 32px;\n",
              "        padding: 0 0 0 0;\n",
              "        width: 32px;\n",
              "      }\n",
              "\n",
              "      .colab-df-generate:hover {\n",
              "        background-color: #E2EBFA;\n",
              "        box-shadow: 0px 1px 2px rgba(60, 64, 67, 0.3), 0px 1px 3px 1px rgba(60, 64, 67, 0.15);\n",
              "        fill: #174EA6;\n",
              "      }\n",
              "\n",
              "      [theme=dark] .colab-df-generate {\n",
              "        background-color: #3B4455;\n",
              "        fill: #D2E3FC;\n",
              "      }\n",
              "\n",
              "      [theme=dark] .colab-df-generate:hover {\n",
              "        background-color: #434B5C;\n",
              "        box-shadow: 0px 1px 3px 1px rgba(0, 0, 0, 0.15);\n",
              "        filter: drop-shadow(0px 1px 2px rgba(0, 0, 0, 0.3));\n",
              "        fill: #FFFFFF;\n",
              "      }\n",
              "    </style>\n",
              "    <button class=\"colab-df-generate\" onclick=\"generateWithVariable('filtro_5a10')\"\n",
              "            title=\"Generate code using this dataframe.\"\n",
              "            style=\"display:none;\">\n",
              "\n",
              "  <svg xmlns=\"http://www.w3.org/2000/svg\" height=\"24px\"viewBox=\"0 0 24 24\"\n",
              "       width=\"24px\">\n",
              "    <path d=\"M7,19H8.4L18.45,9,17,7.55,7,17.6ZM5,21V16.75L18.45,3.32a2,2,0,0,1,2.83,0l1.4,1.43a1.91,1.91,0,0,1,.58,1.4,1.91,1.91,0,0,1-.58,1.4L9.25,21ZM18.45,9,17,7.55Zm-12,3A5.31,5.31,0,0,0,4.9,8.1,5.31,5.31,0,0,0,1,6.5,5.31,5.31,0,0,0,4.9,4.9,5.31,5.31,0,0,0,6.5,1,5.31,5.31,0,0,0,8.1,4.9,5.31,5.31,0,0,0,12,6.5,5.46,5.46,0,0,0,6.5,12Z\"/>\n",
              "  </svg>\n",
              "    </button>\n",
              "    <script>\n",
              "      (() => {\n",
              "      const buttonEl =\n",
              "        document.querySelector('#id_55baca08-0f16-4496-b15c-08e349cc5fe8 button.colab-df-generate');\n",
              "      buttonEl.style.display =\n",
              "        google.colab.kernel.accessAllowed ? 'block' : 'none';\n",
              "\n",
              "      buttonEl.onclick = () => {\n",
              "        google.colab.notebook.generateWithVariable('filtro_5a10');\n",
              "      }\n",
              "      })();\n",
              "    </script>\n",
              "  </div>\n",
              "\n",
              "    </div>\n",
              "  </div>\n"
            ],
            "application/vnd.google.colaboratory.intrinsic+json": {
              "type": "dataframe",
              "variable_name": "filtro_5a10",
              "summary": "{\n  \"name\": \"filtro_5a10\",\n  \"rows\": 6,\n  \"fields\": [\n    {\n      \"column\": \"M2\",\n      \"properties\": {\n        \"dtype\": \"number\",\n        \"std\": 37,\n        \"min\": 17,\n        \"max\": 120,\n        \"num_unique_values\": 6,\n        \"samples\": [\n          120,\n          35,\n          45\n        ],\n        \"semantic_type\": \"\",\n        \"description\": \"\"\n      }\n    },\n    {\n      \"column\": \"AMBIENTES\",\n      \"properties\": {\n        \"dtype\": \"number\",\n        \"std\": 0,\n        \"min\": 1,\n        \"max\": 3,\n        \"num_unique_values\": 3,\n        \"samples\": [\n          3,\n          1,\n          2\n        ],\n        \"semantic_type\": \"\",\n        \"description\": \"\"\n      }\n    },\n    {\n      \"column\": \"ANTIGUEDAD\",\n      \"properties\": {\n        \"dtype\": \"number\",\n        \"std\": 27,\n        \"min\": 2,\n        \"max\": 70,\n        \"num_unique_values\": 6,\n        \"samples\": [\n          2,\n          5,\n          10\n        ],\n        \"semantic_type\": \"\",\n        \"description\": \"\"\n      }\n    },\n    {\n      \"column\": \"BA\\u00d1OS\",\n      \"properties\": {\n        \"dtype\": \"number\",\n        \"std\": 0,\n        \"min\": 1,\n        \"max\": 2,\n        \"num_unique_values\": 2,\n        \"samples\": [\n          1,\n          2\n        ],\n        \"semantic_type\": \"\",\n        \"description\": \"\"\n      }\n    },\n    {\n      \"column\": \"LATITUD\",\n      \"properties\": {\n        \"dtype\": \"number\",\n        \"std\": 0.028668730571842705,\n        \"min\": -34.637083476377896,\n        \"max\": -34.548911050054585,\n        \"num_unique_values\": 6,\n        \"samples\": [\n          -34.57777424491495,\n          -34.548911050054585\n        ],\n        \"semantic_type\": \"\",\n        \"description\": \"\"\n      }\n    },\n    {\n      \"column\": \"LONGITUD\",\n      \"properties\": {\n        \"dtype\": \"number\",\n        \"std\": 0.02739826295072016,\n        \"min\": -58.46987165936478,\n        \"max\": -58.40106919297761,\n        \"num_unique_values\": 6,\n        \"samples\": [\n          -58.42429999128044,\n          -58.46987165936478\n        ],\n        \"semantic_type\": \"\",\n        \"description\": \"\"\n      }\n    },\n    {\n      \"column\": \"COMUNA\",\n      \"properties\": {\n        \"dtype\": \"string\",\n        \"num_unique_values\": 4,\n        \"samples\": [\n          \"COMUNA 12\",\n          \"COMUNA 02\"\n        ],\n        \"semantic_type\": \"\",\n        \"description\": \"\"\n      }\n    },\n    {\n      \"column\": \"DOLARES\",\n      \"properties\": {\n        \"dtype\": \"number\",\n        \"std\": 217085,\n        \"min\": 45000,\n        \"max\": 630000,\n        \"num_unique_values\": 6,\n        \"samples\": [\n          630000,\n          92000\n        ],\n        \"semantic_type\": \"\",\n        \"description\": \"\"\n      }\n    }\n  ]\n}"
            }
          },
          "metadata": {},
          "execution_count": 18
        }
      ],
      "source": [
        "filtro_5a10 = departamentos.iloc[5:11]\n",
        "filtro_5a10"
      ]
    },
    {
      "cell_type": "markdown",
      "id": "9e08613f",
      "metadata": {
        "id": "9e08613f"
      },
      "source": [
        "🐼 Imprimir en pantalla la cantidad de M2 que tiene el primer registro"
      ]
    },
    {
      "cell_type": "code",
      "execution_count": null,
      "id": "eda5c778",
      "metadata": {
        "id": "eda5c778",
        "colab": {
          "base_uri": "https://localhost:8080/"
        },
        "outputId": "bd7cd465-3730-4458-96f4-681913a99706"
      },
      "outputs": [
        {
          "output_type": "execute_result",
          "data": {
            "text/plain": [
              "81"
            ]
          },
          "metadata": {},
          "execution_count": 19
        }
      ],
      "source": [
        "departamentos.M2.iloc[0]"
      ]
    },
    {
      "cell_type": "markdown",
      "id": "53f712e9",
      "metadata": {
        "id": "53f712e9"
      },
      "source": [
        "Le ponemos un poco de onda:"
      ]
    },
    {
      "cell_type": "code",
      "source": [
        "print(f'El primer departamento tiene {departamentos.M2.iloc[0]} m2')"
      ],
      "metadata": {
        "colab": {
          "base_uri": "https://localhost:8080/"
        },
        "id": "mo_GYgYX0Mxv",
        "outputId": "6d1f78d9-5042-4801-8820-4b2e17535622"
      },
      "id": "mo_GYgYX0Mxv",
      "execution_count": null,
      "outputs": [
        {
          "output_type": "stream",
          "name": "stdout",
          "text": [
            "El primer departamento tiene 81 m2\n"
          ]
        }
      ]
    },
    {
      "cell_type": "markdown",
      "id": "8bb0055a",
      "metadata": {
        "id": "8bb0055a"
      },
      "source": [
        "🐼 Imprimir los ultimos 5 registros"
      ]
    },
    {
      "cell_type": "code",
      "execution_count": null,
      "id": "95fc0c66",
      "metadata": {
        "id": "95fc0c66",
        "colab": {
          "base_uri": "https://localhost:8080/",
          "height": 206
        },
        "outputId": "aa3fb019-a77d-4521-8719-e5914045df92"
      },
      "outputs": [
        {
          "output_type": "execute_result",
          "data": {
            "text/plain": [
              "       M2  AMBIENTES  ANTIGUEDAD  BAÑOS    LATITUD   LONGITUD     COMUNA  \\\n",
              "2227   88          4          20      2 -34.550152 -58.470136  COMUNA 13   \n",
              "2228   35          1          35      1 -34.602256 -58.429315  COMUNA 05   \n",
              "2229  117          3          10      2 -34.620314 -58.365451  COMUNA 01   \n",
              "2230   69          4          40      1 -34.628533 -58.427748  COMUNA 07   \n",
              "2231   73          4          50      2 -34.596659 -58.378396  COMUNA 01   \n",
              "\n",
              "      DOLARES  \n",
              "2227   165000  \n",
              "2228    79900  \n",
              "2229   520000  \n",
              "2230   132000  \n",
              "2231   179000  "
            ],
            "text/html": [
              "\n",
              "  <div id=\"df-07b6e80f-487e-4d85-a087-55d8a9290f12\" class=\"colab-df-container\">\n",
              "    <div>\n",
              "<style scoped>\n",
              "    .dataframe tbody tr th:only-of-type {\n",
              "        vertical-align: middle;\n",
              "    }\n",
              "\n",
              "    .dataframe tbody tr th {\n",
              "        vertical-align: top;\n",
              "    }\n",
              "\n",
              "    .dataframe thead th {\n",
              "        text-align: right;\n",
              "    }\n",
              "</style>\n",
              "<table border=\"1\" class=\"dataframe\">\n",
              "  <thead>\n",
              "    <tr style=\"text-align: right;\">\n",
              "      <th></th>\n",
              "      <th>M2</th>\n",
              "      <th>AMBIENTES</th>\n",
              "      <th>ANTIGUEDAD</th>\n",
              "      <th>BAÑOS</th>\n",
              "      <th>LATITUD</th>\n",
              "      <th>LONGITUD</th>\n",
              "      <th>COMUNA</th>\n",
              "      <th>DOLARES</th>\n",
              "    </tr>\n",
              "  </thead>\n",
              "  <tbody>\n",
              "    <tr>\n",
              "      <th>2227</th>\n",
              "      <td>88</td>\n",
              "      <td>4</td>\n",
              "      <td>20</td>\n",
              "      <td>2</td>\n",
              "      <td>-34.550152</td>\n",
              "      <td>-58.470136</td>\n",
              "      <td>COMUNA 13</td>\n",
              "      <td>165000</td>\n",
              "    </tr>\n",
              "    <tr>\n",
              "      <th>2228</th>\n",
              "      <td>35</td>\n",
              "      <td>1</td>\n",
              "      <td>35</td>\n",
              "      <td>1</td>\n",
              "      <td>-34.602256</td>\n",
              "      <td>-58.429315</td>\n",
              "      <td>COMUNA 05</td>\n",
              "      <td>79900</td>\n",
              "    </tr>\n",
              "    <tr>\n",
              "      <th>2229</th>\n",
              "      <td>117</td>\n",
              "      <td>3</td>\n",
              "      <td>10</td>\n",
              "      <td>2</td>\n",
              "      <td>-34.620314</td>\n",
              "      <td>-58.365451</td>\n",
              "      <td>COMUNA 01</td>\n",
              "      <td>520000</td>\n",
              "    </tr>\n",
              "    <tr>\n",
              "      <th>2230</th>\n",
              "      <td>69</td>\n",
              "      <td>4</td>\n",
              "      <td>40</td>\n",
              "      <td>1</td>\n",
              "      <td>-34.628533</td>\n",
              "      <td>-58.427748</td>\n",
              "      <td>COMUNA 07</td>\n",
              "      <td>132000</td>\n",
              "    </tr>\n",
              "    <tr>\n",
              "      <th>2231</th>\n",
              "      <td>73</td>\n",
              "      <td>4</td>\n",
              "      <td>50</td>\n",
              "      <td>2</td>\n",
              "      <td>-34.596659</td>\n",
              "      <td>-58.378396</td>\n",
              "      <td>COMUNA 01</td>\n",
              "      <td>179000</td>\n",
              "    </tr>\n",
              "  </tbody>\n",
              "</table>\n",
              "</div>\n",
              "    <div class=\"colab-df-buttons\">\n",
              "\n",
              "  <div class=\"colab-df-container\">\n",
              "    <button class=\"colab-df-convert\" onclick=\"convertToInteractive('df-07b6e80f-487e-4d85-a087-55d8a9290f12')\"\n",
              "            title=\"Convert this dataframe to an interactive table.\"\n",
              "            style=\"display:none;\">\n",
              "\n",
              "  <svg xmlns=\"http://www.w3.org/2000/svg\" height=\"24px\" viewBox=\"0 -960 960 960\">\n",
              "    <path d=\"M120-120v-720h720v720H120Zm60-500h600v-160H180v160Zm220 220h160v-160H400v160Zm0 220h160v-160H400v160ZM180-400h160v-160H180v160Zm440 0h160v-160H620v160ZM180-180h160v-160H180v160Zm440 0h160v-160H620v160Z\"/>\n",
              "  </svg>\n",
              "    </button>\n",
              "\n",
              "  <style>\n",
              "    .colab-df-container {\n",
              "      display:flex;\n",
              "      gap: 12px;\n",
              "    }\n",
              "\n",
              "    .colab-df-convert {\n",
              "      background-color: #E8F0FE;\n",
              "      border: none;\n",
              "      border-radius: 50%;\n",
              "      cursor: pointer;\n",
              "      display: none;\n",
              "      fill: #1967D2;\n",
              "      height: 32px;\n",
              "      padding: 0 0 0 0;\n",
              "      width: 32px;\n",
              "    }\n",
              "\n",
              "    .colab-df-convert:hover {\n",
              "      background-color: #E2EBFA;\n",
              "      box-shadow: 0px 1px 2px rgba(60, 64, 67, 0.3), 0px 1px 3px 1px rgba(60, 64, 67, 0.15);\n",
              "      fill: #174EA6;\n",
              "    }\n",
              "\n",
              "    .colab-df-buttons div {\n",
              "      margin-bottom: 4px;\n",
              "    }\n",
              "\n",
              "    [theme=dark] .colab-df-convert {\n",
              "      background-color: #3B4455;\n",
              "      fill: #D2E3FC;\n",
              "    }\n",
              "\n",
              "    [theme=dark] .colab-df-convert:hover {\n",
              "      background-color: #434B5C;\n",
              "      box-shadow: 0px 1px 3px 1px rgba(0, 0, 0, 0.15);\n",
              "      filter: drop-shadow(0px 1px 2px rgba(0, 0, 0, 0.3));\n",
              "      fill: #FFFFFF;\n",
              "    }\n",
              "  </style>\n",
              "\n",
              "    <script>\n",
              "      const buttonEl =\n",
              "        document.querySelector('#df-07b6e80f-487e-4d85-a087-55d8a9290f12 button.colab-df-convert');\n",
              "      buttonEl.style.display =\n",
              "        google.colab.kernel.accessAllowed ? 'block' : 'none';\n",
              "\n",
              "      async function convertToInteractive(key) {\n",
              "        const element = document.querySelector('#df-07b6e80f-487e-4d85-a087-55d8a9290f12');\n",
              "        const dataTable =\n",
              "          await google.colab.kernel.invokeFunction('convertToInteractive',\n",
              "                                                    [key], {});\n",
              "        if (!dataTable) return;\n",
              "\n",
              "        const docLinkHtml = 'Like what you see? Visit the ' +\n",
              "          '<a target=\"_blank\" href=https://colab.research.google.com/notebooks/data_table.ipynb>data table notebook</a>'\n",
              "          + ' to learn more about interactive tables.';\n",
              "        element.innerHTML = '';\n",
              "        dataTable['output_type'] = 'display_data';\n",
              "        await google.colab.output.renderOutput(dataTable, element);\n",
              "        const docLink = document.createElement('div');\n",
              "        docLink.innerHTML = docLinkHtml;\n",
              "        element.appendChild(docLink);\n",
              "      }\n",
              "    </script>\n",
              "  </div>\n",
              "\n",
              "\n",
              "<div id=\"df-d54151b6-f7a0-4362-a128-d779747e8121\">\n",
              "  <button class=\"colab-df-quickchart\" onclick=\"quickchart('df-d54151b6-f7a0-4362-a128-d779747e8121')\"\n",
              "            title=\"Suggest charts\"\n",
              "            style=\"display:none;\">\n",
              "\n",
              "<svg xmlns=\"http://www.w3.org/2000/svg\" height=\"24px\"viewBox=\"0 0 24 24\"\n",
              "     width=\"24px\">\n",
              "    <g>\n",
              "        <path d=\"M19 3H5c-1.1 0-2 .9-2 2v14c0 1.1.9 2 2 2h14c1.1 0 2-.9 2-2V5c0-1.1-.9-2-2-2zM9 17H7v-7h2v7zm4 0h-2V7h2v10zm4 0h-2v-4h2v4z\"/>\n",
              "    </g>\n",
              "</svg>\n",
              "  </button>\n",
              "\n",
              "<style>\n",
              "  .colab-df-quickchart {\n",
              "      --bg-color: #E8F0FE;\n",
              "      --fill-color: #1967D2;\n",
              "      --hover-bg-color: #E2EBFA;\n",
              "      --hover-fill-color: #174EA6;\n",
              "      --disabled-fill-color: #AAA;\n",
              "      --disabled-bg-color: #DDD;\n",
              "  }\n",
              "\n",
              "  [theme=dark] .colab-df-quickchart {\n",
              "      --bg-color: #3B4455;\n",
              "      --fill-color: #D2E3FC;\n",
              "      --hover-bg-color: #434B5C;\n",
              "      --hover-fill-color: #FFFFFF;\n",
              "      --disabled-bg-color: #3B4455;\n",
              "      --disabled-fill-color: #666;\n",
              "  }\n",
              "\n",
              "  .colab-df-quickchart {\n",
              "    background-color: var(--bg-color);\n",
              "    border: none;\n",
              "    border-radius: 50%;\n",
              "    cursor: pointer;\n",
              "    display: none;\n",
              "    fill: var(--fill-color);\n",
              "    height: 32px;\n",
              "    padding: 0;\n",
              "    width: 32px;\n",
              "  }\n",
              "\n",
              "  .colab-df-quickchart:hover {\n",
              "    background-color: var(--hover-bg-color);\n",
              "    box-shadow: 0 1px 2px rgba(60, 64, 67, 0.3), 0 1px 3px 1px rgba(60, 64, 67, 0.15);\n",
              "    fill: var(--button-hover-fill-color);\n",
              "  }\n",
              "\n",
              "  .colab-df-quickchart-complete:disabled,\n",
              "  .colab-df-quickchart-complete:disabled:hover {\n",
              "    background-color: var(--disabled-bg-color);\n",
              "    fill: var(--disabled-fill-color);\n",
              "    box-shadow: none;\n",
              "  }\n",
              "\n",
              "  .colab-df-spinner {\n",
              "    border: 2px solid var(--fill-color);\n",
              "    border-color: transparent;\n",
              "    border-bottom-color: var(--fill-color);\n",
              "    animation:\n",
              "      spin 1s steps(1) infinite;\n",
              "  }\n",
              "\n",
              "  @keyframes spin {\n",
              "    0% {\n",
              "      border-color: transparent;\n",
              "      border-bottom-color: var(--fill-color);\n",
              "      border-left-color: var(--fill-color);\n",
              "    }\n",
              "    20% {\n",
              "      border-color: transparent;\n",
              "      border-left-color: var(--fill-color);\n",
              "      border-top-color: var(--fill-color);\n",
              "    }\n",
              "    30% {\n",
              "      border-color: transparent;\n",
              "      border-left-color: var(--fill-color);\n",
              "      border-top-color: var(--fill-color);\n",
              "      border-right-color: var(--fill-color);\n",
              "    }\n",
              "    40% {\n",
              "      border-color: transparent;\n",
              "      border-right-color: var(--fill-color);\n",
              "      border-top-color: var(--fill-color);\n",
              "    }\n",
              "    60% {\n",
              "      border-color: transparent;\n",
              "      border-right-color: var(--fill-color);\n",
              "    }\n",
              "    80% {\n",
              "      border-color: transparent;\n",
              "      border-right-color: var(--fill-color);\n",
              "      border-bottom-color: var(--fill-color);\n",
              "    }\n",
              "    90% {\n",
              "      border-color: transparent;\n",
              "      border-bottom-color: var(--fill-color);\n",
              "    }\n",
              "  }\n",
              "</style>\n",
              "\n",
              "  <script>\n",
              "    async function quickchart(key) {\n",
              "      const quickchartButtonEl =\n",
              "        document.querySelector('#' + key + ' button');\n",
              "      quickchartButtonEl.disabled = true;  // To prevent multiple clicks.\n",
              "      quickchartButtonEl.classList.add('colab-df-spinner');\n",
              "      try {\n",
              "        const charts = await google.colab.kernel.invokeFunction(\n",
              "            'suggestCharts', [key], {});\n",
              "      } catch (error) {\n",
              "        console.error('Error during call to suggestCharts:', error);\n",
              "      }\n",
              "      quickchartButtonEl.classList.remove('colab-df-spinner');\n",
              "      quickchartButtonEl.classList.add('colab-df-quickchart-complete');\n",
              "    }\n",
              "    (() => {\n",
              "      let quickchartButtonEl =\n",
              "        document.querySelector('#df-d54151b6-f7a0-4362-a128-d779747e8121 button');\n",
              "      quickchartButtonEl.style.display =\n",
              "        google.colab.kernel.accessAllowed ? 'block' : 'none';\n",
              "    })();\n",
              "  </script>\n",
              "</div>\n",
              "\n",
              "  <div id=\"id_b6c563e2-c9eb-4798-9fc8-018dfb3b812a\">\n",
              "    <style>\n",
              "      .colab-df-generate {\n",
              "        background-color: #E8F0FE;\n",
              "        border: none;\n",
              "        border-radius: 50%;\n",
              "        cursor: pointer;\n",
              "        display: none;\n",
              "        fill: #1967D2;\n",
              "        height: 32px;\n",
              "        padding: 0 0 0 0;\n",
              "        width: 32px;\n",
              "      }\n",
              "\n",
              "      .colab-df-generate:hover {\n",
              "        background-color: #E2EBFA;\n",
              "        box-shadow: 0px 1px 2px rgba(60, 64, 67, 0.3), 0px 1px 3px 1px rgba(60, 64, 67, 0.15);\n",
              "        fill: #174EA6;\n",
              "      }\n",
              "\n",
              "      [theme=dark] .colab-df-generate {\n",
              "        background-color: #3B4455;\n",
              "        fill: #D2E3FC;\n",
              "      }\n",
              "\n",
              "      [theme=dark] .colab-df-generate:hover {\n",
              "        background-color: #434B5C;\n",
              "        box-shadow: 0px 1px 3px 1px rgba(0, 0, 0, 0.15);\n",
              "        filter: drop-shadow(0px 1px 2px rgba(0, 0, 0, 0.3));\n",
              "        fill: #FFFFFF;\n",
              "      }\n",
              "    </style>\n",
              "    <button class=\"colab-df-generate\" onclick=\"generateWithVariable('filtro_ult5')\"\n",
              "            title=\"Generate code using this dataframe.\"\n",
              "            style=\"display:none;\">\n",
              "\n",
              "  <svg xmlns=\"http://www.w3.org/2000/svg\" height=\"24px\"viewBox=\"0 0 24 24\"\n",
              "       width=\"24px\">\n",
              "    <path d=\"M7,19H8.4L18.45,9,17,7.55,7,17.6ZM5,21V16.75L18.45,3.32a2,2,0,0,1,2.83,0l1.4,1.43a1.91,1.91,0,0,1,.58,1.4,1.91,1.91,0,0,1-.58,1.4L9.25,21ZM18.45,9,17,7.55Zm-12,3A5.31,5.31,0,0,0,4.9,8.1,5.31,5.31,0,0,0,1,6.5,5.31,5.31,0,0,0,4.9,4.9,5.31,5.31,0,0,0,6.5,1,5.31,5.31,0,0,0,8.1,4.9,5.31,5.31,0,0,0,12,6.5,5.46,5.46,0,0,0,6.5,12Z\"/>\n",
              "  </svg>\n",
              "    </button>\n",
              "    <script>\n",
              "      (() => {\n",
              "      const buttonEl =\n",
              "        document.querySelector('#id_b6c563e2-c9eb-4798-9fc8-018dfb3b812a button.colab-df-generate');\n",
              "      buttonEl.style.display =\n",
              "        google.colab.kernel.accessAllowed ? 'block' : 'none';\n",
              "\n",
              "      buttonEl.onclick = () => {\n",
              "        google.colab.notebook.generateWithVariable('filtro_ult5');\n",
              "      }\n",
              "      })();\n",
              "    </script>\n",
              "  </div>\n",
              "\n",
              "    </div>\n",
              "  </div>\n"
            ],
            "application/vnd.google.colaboratory.intrinsic+json": {
              "type": "dataframe",
              "variable_name": "filtro_ult5",
              "summary": "{\n  \"name\": \"filtro_ult5\",\n  \"rows\": 5,\n  \"fields\": [\n    {\n      \"column\": \"M2\",\n      \"properties\": {\n        \"dtype\": \"number\",\n        \"std\": 29,\n        \"min\": 35,\n        \"max\": 117,\n        \"num_unique_values\": 5,\n        \"samples\": [\n          35,\n          73,\n          117\n        ],\n        \"semantic_type\": \"\",\n        \"description\": \"\"\n      }\n    },\n    {\n      \"column\": \"AMBIENTES\",\n      \"properties\": {\n        \"dtype\": \"number\",\n        \"std\": 1,\n        \"min\": 1,\n        \"max\": 4,\n        \"num_unique_values\": 3,\n        \"samples\": [\n          4,\n          1,\n          3\n        ],\n        \"semantic_type\": \"\",\n        \"description\": \"\"\n      }\n    },\n    {\n      \"column\": \"ANTIGUEDAD\",\n      \"properties\": {\n        \"dtype\": \"number\",\n        \"std\": 15,\n        \"min\": 10,\n        \"max\": 50,\n        \"num_unique_values\": 5,\n        \"samples\": [\n          35,\n          50,\n          10\n        ],\n        \"semantic_type\": \"\",\n        \"description\": \"\"\n      }\n    },\n    {\n      \"column\": \"BA\\u00d1OS\",\n      \"properties\": {\n        \"dtype\": \"number\",\n        \"std\": 0,\n        \"min\": 1,\n        \"max\": 2,\n        \"num_unique_values\": 2,\n        \"samples\": [\n          1,\n          2\n        ],\n        \"semantic_type\": \"\",\n        \"description\": \"\"\n      }\n    },\n    {\n      \"column\": \"LATITUD\",\n      \"properties\": {\n        \"dtype\": \"number\",\n        \"std\": 0.030524885254550813,\n        \"min\": -34.62853334701753,\n        \"max\": -34.55015161752366,\n        \"num_unique_values\": 5,\n        \"samples\": [\n          -34.602256299682445,\n          -34.59665874328482\n        ],\n        \"semantic_type\": \"\",\n        \"description\": \"\"\n      }\n    },\n    {\n      \"column\": \"LONGITUD\",\n      \"properties\": {\n        \"dtype\": \"number\",\n        \"std\": 0.04242403287037301,\n        \"min\": -58.47013613571929,\n        \"max\": -58.36545144537693,\n        \"num_unique_values\": 5,\n        \"samples\": [\n          -58.42931540063272,\n          -58.37839640550602\n        ],\n        \"semantic_type\": \"\",\n        \"description\": \"\"\n      }\n    },\n    {\n      \"column\": \"COMUNA\",\n      \"properties\": {\n        \"dtype\": \"string\",\n        \"num_unique_values\": 4,\n        \"samples\": [\n          \"COMUNA 05\",\n          \"COMUNA 07\"\n        ],\n        \"semantic_type\": \"\",\n        \"description\": \"\"\n      }\n    },\n    {\n      \"column\": \"DOLARES\",\n      \"properties\": {\n        \"dtype\": \"number\",\n        \"std\": 174615,\n        \"min\": 79900,\n        \"max\": 520000,\n        \"num_unique_values\": 5,\n        \"samples\": [\n          79900,\n          179000\n        ],\n        \"semantic_type\": \"\",\n        \"description\": \"\"\n      }\n    }\n  ]\n}"
            }
          },
          "metadata": {},
          "execution_count": 21
        }
      ],
      "source": [
        "filtro_ult5 = departamentos.iloc[-5:]\n",
        "filtro_ult5"
      ]
    },
    {
      "cell_type": "markdown",
      "id": "315a4936",
      "metadata": {
        "id": "315a4936"
      },
      "source": [
        "🐼 Crear una nueva columna llamada PAIS y rellenarla con \"Argentina\""
      ]
    },
    {
      "cell_type": "code",
      "execution_count": null,
      "id": "8264f632",
      "metadata": {
        "id": "8264f632",
        "colab": {
          "base_uri": "https://localhost:8080/",
          "height": 423
        },
        "outputId": "6cea9459-9e9d-4e69-ad7a-e780c280b292"
      },
      "outputs": [
        {
          "output_type": "execute_result",
          "data": {
            "text/plain": [
              "       M2  AMBIENTES  ANTIGUEDAD  BAÑOS    LATITUD   LONGITUD     COMUNA  \\\n",
              "0      81          3           4      1 -34.581078 -58.449433  COMUNA 13   \n",
              "1      69          3          20      1 -34.623129 -58.439338  COMUNA 06   \n",
              "2      75          3          20      1 -34.604972 -58.421278  COMUNA 05   \n",
              "3      42          2          40      1 -34.604725 -58.399524  COMUNA 03   \n",
              "4      90          3           1      1 -34.623390 -58.504401  COMUNA 10   \n",
              "...   ...        ...         ...    ...        ...        ...        ...   \n",
              "2227   88          4          20      2 -34.550152 -58.470136  COMUNA 13   \n",
              "2228   35          1          35      1 -34.602256 -58.429315  COMUNA 05   \n",
              "2229  117          3          10      2 -34.620314 -58.365451  COMUNA 01   \n",
              "2230   69          4          40      1 -34.628533 -58.427748  COMUNA 07   \n",
              "2231   73          4          50      2 -34.596659 -58.378396  COMUNA 01   \n",
              "\n",
              "      DOLARES       PAIS  \n",
              "0      225000  Argentina  \n",
              "1      140000  Argentina  \n",
              "2      154000  Argentina  \n",
              "3       75000  Argentina  \n",
              "4      149900  Argentina  \n",
              "...       ...        ...  \n",
              "2227   165000  Argentina  \n",
              "2228    79900  Argentina  \n",
              "2229   520000  Argentina  \n",
              "2230   132000  Argentina  \n",
              "2231   179000  Argentina  \n",
              "\n",
              "[2232 rows x 9 columns]"
            ],
            "text/html": [
              "\n",
              "  <div id=\"df-99938c9d-dc34-4c59-8e38-6518704366eb\" class=\"colab-df-container\">\n",
              "    <div>\n",
              "<style scoped>\n",
              "    .dataframe tbody tr th:only-of-type {\n",
              "        vertical-align: middle;\n",
              "    }\n",
              "\n",
              "    .dataframe tbody tr th {\n",
              "        vertical-align: top;\n",
              "    }\n",
              "\n",
              "    .dataframe thead th {\n",
              "        text-align: right;\n",
              "    }\n",
              "</style>\n",
              "<table border=\"1\" class=\"dataframe\">\n",
              "  <thead>\n",
              "    <tr style=\"text-align: right;\">\n",
              "      <th></th>\n",
              "      <th>M2</th>\n",
              "      <th>AMBIENTES</th>\n",
              "      <th>ANTIGUEDAD</th>\n",
              "      <th>BAÑOS</th>\n",
              "      <th>LATITUD</th>\n",
              "      <th>LONGITUD</th>\n",
              "      <th>COMUNA</th>\n",
              "      <th>DOLARES</th>\n",
              "      <th>PAIS</th>\n",
              "    </tr>\n",
              "  </thead>\n",
              "  <tbody>\n",
              "    <tr>\n",
              "      <th>0</th>\n",
              "      <td>81</td>\n",
              "      <td>3</td>\n",
              "      <td>4</td>\n",
              "      <td>1</td>\n",
              "      <td>-34.581078</td>\n",
              "      <td>-58.449433</td>\n",
              "      <td>COMUNA 13</td>\n",
              "      <td>225000</td>\n",
              "      <td>Argentina</td>\n",
              "    </tr>\n",
              "    <tr>\n",
              "      <th>1</th>\n",
              "      <td>69</td>\n",
              "      <td>3</td>\n",
              "      <td>20</td>\n",
              "      <td>1</td>\n",
              "      <td>-34.623129</td>\n",
              "      <td>-58.439338</td>\n",
              "      <td>COMUNA 06</td>\n",
              "      <td>140000</td>\n",
              "      <td>Argentina</td>\n",
              "    </tr>\n",
              "    <tr>\n",
              "      <th>2</th>\n",
              "      <td>75</td>\n",
              "      <td>3</td>\n",
              "      <td>20</td>\n",
              "      <td>1</td>\n",
              "      <td>-34.604972</td>\n",
              "      <td>-58.421278</td>\n",
              "      <td>COMUNA 05</td>\n",
              "      <td>154000</td>\n",
              "      <td>Argentina</td>\n",
              "    </tr>\n",
              "    <tr>\n",
              "      <th>3</th>\n",
              "      <td>42</td>\n",
              "      <td>2</td>\n",
              "      <td>40</td>\n",
              "      <td>1</td>\n",
              "      <td>-34.604725</td>\n",
              "      <td>-58.399524</td>\n",
              "      <td>COMUNA 03</td>\n",
              "      <td>75000</td>\n",
              "      <td>Argentina</td>\n",
              "    </tr>\n",
              "    <tr>\n",
              "      <th>4</th>\n",
              "      <td>90</td>\n",
              "      <td>3</td>\n",
              "      <td>1</td>\n",
              "      <td>1</td>\n",
              "      <td>-34.623390</td>\n",
              "      <td>-58.504401</td>\n",
              "      <td>COMUNA 10</td>\n",
              "      <td>149900</td>\n",
              "      <td>Argentina</td>\n",
              "    </tr>\n",
              "    <tr>\n",
              "      <th>...</th>\n",
              "      <td>...</td>\n",
              "      <td>...</td>\n",
              "      <td>...</td>\n",
              "      <td>...</td>\n",
              "      <td>...</td>\n",
              "      <td>...</td>\n",
              "      <td>...</td>\n",
              "      <td>...</td>\n",
              "      <td>...</td>\n",
              "    </tr>\n",
              "    <tr>\n",
              "      <th>2227</th>\n",
              "      <td>88</td>\n",
              "      <td>4</td>\n",
              "      <td>20</td>\n",
              "      <td>2</td>\n",
              "      <td>-34.550152</td>\n",
              "      <td>-58.470136</td>\n",
              "      <td>COMUNA 13</td>\n",
              "      <td>165000</td>\n",
              "      <td>Argentina</td>\n",
              "    </tr>\n",
              "    <tr>\n",
              "      <th>2228</th>\n",
              "      <td>35</td>\n",
              "      <td>1</td>\n",
              "      <td>35</td>\n",
              "      <td>1</td>\n",
              "      <td>-34.602256</td>\n",
              "      <td>-58.429315</td>\n",
              "      <td>COMUNA 05</td>\n",
              "      <td>79900</td>\n",
              "      <td>Argentina</td>\n",
              "    </tr>\n",
              "    <tr>\n",
              "      <th>2229</th>\n",
              "      <td>117</td>\n",
              "      <td>3</td>\n",
              "      <td>10</td>\n",
              "      <td>2</td>\n",
              "      <td>-34.620314</td>\n",
              "      <td>-58.365451</td>\n",
              "      <td>COMUNA 01</td>\n",
              "      <td>520000</td>\n",
              "      <td>Argentina</td>\n",
              "    </tr>\n",
              "    <tr>\n",
              "      <th>2230</th>\n",
              "      <td>69</td>\n",
              "      <td>4</td>\n",
              "      <td>40</td>\n",
              "      <td>1</td>\n",
              "      <td>-34.628533</td>\n",
              "      <td>-58.427748</td>\n",
              "      <td>COMUNA 07</td>\n",
              "      <td>132000</td>\n",
              "      <td>Argentina</td>\n",
              "    </tr>\n",
              "    <tr>\n",
              "      <th>2231</th>\n",
              "      <td>73</td>\n",
              "      <td>4</td>\n",
              "      <td>50</td>\n",
              "      <td>2</td>\n",
              "      <td>-34.596659</td>\n",
              "      <td>-58.378396</td>\n",
              "      <td>COMUNA 01</td>\n",
              "      <td>179000</td>\n",
              "      <td>Argentina</td>\n",
              "    </tr>\n",
              "  </tbody>\n",
              "</table>\n",
              "<p>2232 rows × 9 columns</p>\n",
              "</div>\n",
              "    <div class=\"colab-df-buttons\">\n",
              "\n",
              "  <div class=\"colab-df-container\">\n",
              "    <button class=\"colab-df-convert\" onclick=\"convertToInteractive('df-99938c9d-dc34-4c59-8e38-6518704366eb')\"\n",
              "            title=\"Convert this dataframe to an interactive table.\"\n",
              "            style=\"display:none;\">\n",
              "\n",
              "  <svg xmlns=\"http://www.w3.org/2000/svg\" height=\"24px\" viewBox=\"0 -960 960 960\">\n",
              "    <path d=\"M120-120v-720h720v720H120Zm60-500h600v-160H180v160Zm220 220h160v-160H400v160Zm0 220h160v-160H400v160ZM180-400h160v-160H180v160Zm440 0h160v-160H620v160ZM180-180h160v-160H180v160Zm440 0h160v-160H620v160Z\"/>\n",
              "  </svg>\n",
              "    </button>\n",
              "\n",
              "  <style>\n",
              "    .colab-df-container {\n",
              "      display:flex;\n",
              "      gap: 12px;\n",
              "    }\n",
              "\n",
              "    .colab-df-convert {\n",
              "      background-color: #E8F0FE;\n",
              "      border: none;\n",
              "      border-radius: 50%;\n",
              "      cursor: pointer;\n",
              "      display: none;\n",
              "      fill: #1967D2;\n",
              "      height: 32px;\n",
              "      padding: 0 0 0 0;\n",
              "      width: 32px;\n",
              "    }\n",
              "\n",
              "    .colab-df-convert:hover {\n",
              "      background-color: #E2EBFA;\n",
              "      box-shadow: 0px 1px 2px rgba(60, 64, 67, 0.3), 0px 1px 3px 1px rgba(60, 64, 67, 0.15);\n",
              "      fill: #174EA6;\n",
              "    }\n",
              "\n",
              "    .colab-df-buttons div {\n",
              "      margin-bottom: 4px;\n",
              "    }\n",
              "\n",
              "    [theme=dark] .colab-df-convert {\n",
              "      background-color: #3B4455;\n",
              "      fill: #D2E3FC;\n",
              "    }\n",
              "\n",
              "    [theme=dark] .colab-df-convert:hover {\n",
              "      background-color: #434B5C;\n",
              "      box-shadow: 0px 1px 3px 1px rgba(0, 0, 0, 0.15);\n",
              "      filter: drop-shadow(0px 1px 2px rgba(0, 0, 0, 0.3));\n",
              "      fill: #FFFFFF;\n",
              "    }\n",
              "  </style>\n",
              "\n",
              "    <script>\n",
              "      const buttonEl =\n",
              "        document.querySelector('#df-99938c9d-dc34-4c59-8e38-6518704366eb button.colab-df-convert');\n",
              "      buttonEl.style.display =\n",
              "        google.colab.kernel.accessAllowed ? 'block' : 'none';\n",
              "\n",
              "      async function convertToInteractive(key) {\n",
              "        const element = document.querySelector('#df-99938c9d-dc34-4c59-8e38-6518704366eb');\n",
              "        const dataTable =\n",
              "          await google.colab.kernel.invokeFunction('convertToInteractive',\n",
              "                                                    [key], {});\n",
              "        if (!dataTable) return;\n",
              "\n",
              "        const docLinkHtml = 'Like what you see? Visit the ' +\n",
              "          '<a target=\"_blank\" href=https://colab.research.google.com/notebooks/data_table.ipynb>data table notebook</a>'\n",
              "          + ' to learn more about interactive tables.';\n",
              "        element.innerHTML = '';\n",
              "        dataTable['output_type'] = 'display_data';\n",
              "        await google.colab.output.renderOutput(dataTable, element);\n",
              "        const docLink = document.createElement('div');\n",
              "        docLink.innerHTML = docLinkHtml;\n",
              "        element.appendChild(docLink);\n",
              "      }\n",
              "    </script>\n",
              "  </div>\n",
              "\n",
              "\n",
              "<div id=\"df-bdaa79a1-aaac-41d5-9187-2766af5bf830\">\n",
              "  <button class=\"colab-df-quickchart\" onclick=\"quickchart('df-bdaa79a1-aaac-41d5-9187-2766af5bf830')\"\n",
              "            title=\"Suggest charts\"\n",
              "            style=\"display:none;\">\n",
              "\n",
              "<svg xmlns=\"http://www.w3.org/2000/svg\" height=\"24px\"viewBox=\"0 0 24 24\"\n",
              "     width=\"24px\">\n",
              "    <g>\n",
              "        <path d=\"M19 3H5c-1.1 0-2 .9-2 2v14c0 1.1.9 2 2 2h14c1.1 0 2-.9 2-2V5c0-1.1-.9-2-2-2zM9 17H7v-7h2v7zm4 0h-2V7h2v10zm4 0h-2v-4h2v4z\"/>\n",
              "    </g>\n",
              "</svg>\n",
              "  </button>\n",
              "\n",
              "<style>\n",
              "  .colab-df-quickchart {\n",
              "      --bg-color: #E8F0FE;\n",
              "      --fill-color: #1967D2;\n",
              "      --hover-bg-color: #E2EBFA;\n",
              "      --hover-fill-color: #174EA6;\n",
              "      --disabled-fill-color: #AAA;\n",
              "      --disabled-bg-color: #DDD;\n",
              "  }\n",
              "\n",
              "  [theme=dark] .colab-df-quickchart {\n",
              "      --bg-color: #3B4455;\n",
              "      --fill-color: #D2E3FC;\n",
              "      --hover-bg-color: #434B5C;\n",
              "      --hover-fill-color: #FFFFFF;\n",
              "      --disabled-bg-color: #3B4455;\n",
              "      --disabled-fill-color: #666;\n",
              "  }\n",
              "\n",
              "  .colab-df-quickchart {\n",
              "    background-color: var(--bg-color);\n",
              "    border: none;\n",
              "    border-radius: 50%;\n",
              "    cursor: pointer;\n",
              "    display: none;\n",
              "    fill: var(--fill-color);\n",
              "    height: 32px;\n",
              "    padding: 0;\n",
              "    width: 32px;\n",
              "  }\n",
              "\n",
              "  .colab-df-quickchart:hover {\n",
              "    background-color: var(--hover-bg-color);\n",
              "    box-shadow: 0 1px 2px rgba(60, 64, 67, 0.3), 0 1px 3px 1px rgba(60, 64, 67, 0.15);\n",
              "    fill: var(--button-hover-fill-color);\n",
              "  }\n",
              "\n",
              "  .colab-df-quickchart-complete:disabled,\n",
              "  .colab-df-quickchart-complete:disabled:hover {\n",
              "    background-color: var(--disabled-bg-color);\n",
              "    fill: var(--disabled-fill-color);\n",
              "    box-shadow: none;\n",
              "  }\n",
              "\n",
              "  .colab-df-spinner {\n",
              "    border: 2px solid var(--fill-color);\n",
              "    border-color: transparent;\n",
              "    border-bottom-color: var(--fill-color);\n",
              "    animation:\n",
              "      spin 1s steps(1) infinite;\n",
              "  }\n",
              "\n",
              "  @keyframes spin {\n",
              "    0% {\n",
              "      border-color: transparent;\n",
              "      border-bottom-color: var(--fill-color);\n",
              "      border-left-color: var(--fill-color);\n",
              "    }\n",
              "    20% {\n",
              "      border-color: transparent;\n",
              "      border-left-color: var(--fill-color);\n",
              "      border-top-color: var(--fill-color);\n",
              "    }\n",
              "    30% {\n",
              "      border-color: transparent;\n",
              "      border-left-color: var(--fill-color);\n",
              "      border-top-color: var(--fill-color);\n",
              "      border-right-color: var(--fill-color);\n",
              "    }\n",
              "    40% {\n",
              "      border-color: transparent;\n",
              "      border-right-color: var(--fill-color);\n",
              "      border-top-color: var(--fill-color);\n",
              "    }\n",
              "    60% {\n",
              "      border-color: transparent;\n",
              "      border-right-color: var(--fill-color);\n",
              "    }\n",
              "    80% {\n",
              "      border-color: transparent;\n",
              "      border-right-color: var(--fill-color);\n",
              "      border-bottom-color: var(--fill-color);\n",
              "    }\n",
              "    90% {\n",
              "      border-color: transparent;\n",
              "      border-bottom-color: var(--fill-color);\n",
              "    }\n",
              "  }\n",
              "</style>\n",
              "\n",
              "  <script>\n",
              "    async function quickchart(key) {\n",
              "      const quickchartButtonEl =\n",
              "        document.querySelector('#' + key + ' button');\n",
              "      quickchartButtonEl.disabled = true;  // To prevent multiple clicks.\n",
              "      quickchartButtonEl.classList.add('colab-df-spinner');\n",
              "      try {\n",
              "        const charts = await google.colab.kernel.invokeFunction(\n",
              "            'suggestCharts', [key], {});\n",
              "      } catch (error) {\n",
              "        console.error('Error during call to suggestCharts:', error);\n",
              "      }\n",
              "      quickchartButtonEl.classList.remove('colab-df-spinner');\n",
              "      quickchartButtonEl.classList.add('colab-df-quickchart-complete');\n",
              "    }\n",
              "    (() => {\n",
              "      let quickchartButtonEl =\n",
              "        document.querySelector('#df-bdaa79a1-aaac-41d5-9187-2766af5bf830 button');\n",
              "      quickchartButtonEl.style.display =\n",
              "        google.colab.kernel.accessAllowed ? 'block' : 'none';\n",
              "    })();\n",
              "  </script>\n",
              "</div>\n",
              "\n",
              "  <div id=\"id_9e7279cd-dfd7-4989-9984-5df4a9589acd\">\n",
              "    <style>\n",
              "      .colab-df-generate {\n",
              "        background-color: #E8F0FE;\n",
              "        border: none;\n",
              "        border-radius: 50%;\n",
              "        cursor: pointer;\n",
              "        display: none;\n",
              "        fill: #1967D2;\n",
              "        height: 32px;\n",
              "        padding: 0 0 0 0;\n",
              "        width: 32px;\n",
              "      }\n",
              "\n",
              "      .colab-df-generate:hover {\n",
              "        background-color: #E2EBFA;\n",
              "        box-shadow: 0px 1px 2px rgba(60, 64, 67, 0.3), 0px 1px 3px 1px rgba(60, 64, 67, 0.15);\n",
              "        fill: #174EA6;\n",
              "      }\n",
              "\n",
              "      [theme=dark] .colab-df-generate {\n",
              "        background-color: #3B4455;\n",
              "        fill: #D2E3FC;\n",
              "      }\n",
              "\n",
              "      [theme=dark] .colab-df-generate:hover {\n",
              "        background-color: #434B5C;\n",
              "        box-shadow: 0px 1px 3px 1px rgba(0, 0, 0, 0.15);\n",
              "        filter: drop-shadow(0px 1px 2px rgba(0, 0, 0, 0.3));\n",
              "        fill: #FFFFFF;\n",
              "      }\n",
              "    </style>\n",
              "    <button class=\"colab-df-generate\" onclick=\"generateWithVariable('departamentos')\"\n",
              "            title=\"Generate code using this dataframe.\"\n",
              "            style=\"display:none;\">\n",
              "\n",
              "  <svg xmlns=\"http://www.w3.org/2000/svg\" height=\"24px\"viewBox=\"0 0 24 24\"\n",
              "       width=\"24px\">\n",
              "    <path d=\"M7,19H8.4L18.45,9,17,7.55,7,17.6ZM5,21V16.75L18.45,3.32a2,2,0,0,1,2.83,0l1.4,1.43a1.91,1.91,0,0,1,.58,1.4,1.91,1.91,0,0,1-.58,1.4L9.25,21ZM18.45,9,17,7.55Zm-12,3A5.31,5.31,0,0,0,4.9,8.1,5.31,5.31,0,0,0,1,6.5,5.31,5.31,0,0,0,4.9,4.9,5.31,5.31,0,0,0,6.5,1,5.31,5.31,0,0,0,8.1,4.9,5.31,5.31,0,0,0,12,6.5,5.46,5.46,0,0,0,6.5,12Z\"/>\n",
              "  </svg>\n",
              "    </button>\n",
              "    <script>\n",
              "      (() => {\n",
              "      const buttonEl =\n",
              "        document.querySelector('#id_9e7279cd-dfd7-4989-9984-5df4a9589acd button.colab-df-generate');\n",
              "      buttonEl.style.display =\n",
              "        google.colab.kernel.accessAllowed ? 'block' : 'none';\n",
              "\n",
              "      buttonEl.onclick = () => {\n",
              "        google.colab.notebook.generateWithVariable('departamentos');\n",
              "      }\n",
              "      })();\n",
              "    </script>\n",
              "  </div>\n",
              "\n",
              "    </div>\n",
              "  </div>\n"
            ],
            "application/vnd.google.colaboratory.intrinsic+json": {
              "type": "dataframe",
              "variable_name": "departamentos",
              "summary": "{\n  \"name\": \"departamentos\",\n  \"rows\": 2232,\n  \"fields\": [\n    {\n      \"column\": \"M2\",\n      \"properties\": {\n        \"dtype\": \"number\",\n        \"std\": 58,\n        \"min\": 15,\n        \"max\": 730,\n        \"num_unique_values\": 221,\n        \"samples\": [\n          160,\n          126,\n          61\n        ],\n        \"semantic_type\": \"\",\n        \"description\": \"\"\n      }\n    },\n    {\n      \"column\": \"AMBIENTES\",\n      \"properties\": {\n        \"dtype\": \"number\",\n        \"std\": 1,\n        \"min\": 1,\n        \"max\": 10,\n        \"num_unique_values\": 9,\n        \"samples\": [\n          7,\n          2,\n          6\n        ],\n        \"semantic_type\": \"\",\n        \"description\": \"\"\n      }\n    },\n    {\n      \"column\": \"ANTIGUEDAD\",\n      \"properties\": {\n        \"dtype\": \"number\",\n        \"std\": 18,\n        \"min\": 1,\n        \"max\": 110,\n        \"num_unique_values\": 64,\n        \"samples\": [\n          29,\n          75,\n          4\n        ],\n        \"semantic_type\": \"\",\n        \"description\": \"\"\n      }\n    },\n    {\n      \"column\": \"BA\\u00d1OS\",\n      \"properties\": {\n        \"dtype\": \"number\",\n        \"std\": 0,\n        \"min\": 1,\n        \"max\": 6,\n        \"num_unique_values\": 6,\n        \"samples\": [\n          1,\n          2,\n          5\n        ],\n        \"semantic_type\": \"\",\n        \"description\": \"\"\n      }\n    },\n    {\n      \"column\": \"LATITUD\",\n      \"properties\": {\n        \"dtype\": \"number\",\n        \"std\": 0.022612748735094376,\n        \"min\": -34.68491929893829,\n        \"max\": -34.53730822008631,\n        \"num_unique_values\": 1374,\n        \"samples\": [\n          -34.62158984847588,\n          -34.56169943299393,\n          -34.618979145410826\n        ],\n        \"semantic_type\": \"\",\n        \"description\": \"\"\n      }\n    },\n    {\n      \"column\": \"LONGITUD\",\n      \"properties\": {\n        \"dtype\": \"number\",\n        \"std\": 0.034101726174456774,\n        \"min\": -58.52747608345872,\n        \"max\": -58.35381206090168,\n        \"num_unique_values\": 1374,\n        \"samples\": [\n          -58.42512074149378,\n          -58.451219390270175,\n          -58.39027952392485\n        ],\n        \"semantic_type\": \"\",\n        \"description\": \"\"\n      }\n    },\n    {\n      \"column\": \"COMUNA\",\n      \"properties\": {\n        \"dtype\": \"category\",\n        \"num_unique_values\": 15,\n        \"samples\": [\n          \"COMUNA 01\",\n          \"COMUNA 11\",\n          \"COMUNA 13\"\n        ],\n        \"semantic_type\": \"\",\n        \"description\": \"\"\n      }\n    },\n    {\n      \"column\": \"DOLARES\",\n      \"properties\": {\n        \"dtype\": \"number\",\n        \"std\": 186368,\n        \"min\": 7428,\n        \"max\": 1800000,\n        \"num_unique_values\": 402,\n        \"samples\": [\n          470000,\n          1050000,\n          980000\n        ],\n        \"semantic_type\": \"\",\n        \"description\": \"\"\n      }\n    },\n    {\n      \"column\": \"PAIS\",\n      \"properties\": {\n        \"dtype\": \"category\",\n        \"num_unique_values\": 1,\n        \"samples\": [\n          \"Argentina\"\n        ],\n        \"semantic_type\": \"\",\n        \"description\": \"\"\n      }\n    }\n  ]\n}"
            }
          },
          "metadata": {},
          "execution_count": 22
        }
      ],
      "source": [
        "departamentos['PAIS'] = 'Argentina'\n",
        "departamentos"
      ]
    },
    {
      "cell_type": "markdown",
      "id": "ce05f8a9",
      "metadata": {
        "id": "ce05f8a9"
      },
      "source": [
        "🐼 Utiliza .info() para tener informacion muy importante y util del dataframe"
      ]
    },
    {
      "cell_type": "code",
      "execution_count": null,
      "id": "1e7c3b05",
      "metadata": {
        "id": "1e7c3b05",
        "colab": {
          "base_uri": "https://localhost:8080/"
        },
        "outputId": "58fa4593-5626-41f8-a6ae-6ab61372e462"
      },
      "outputs": [
        {
          "output_type": "stream",
          "name": "stdout",
          "text": [
            "<class 'pandas.core.frame.DataFrame'>\n",
            "RangeIndex: 2232 entries, 0 to 2231\n",
            "Data columns (total 9 columns):\n",
            " #   Column      Non-Null Count  Dtype  \n",
            "---  ------      --------------  -----  \n",
            " 0   M2          2232 non-null   int64  \n",
            " 1   AMBIENTES   2232 non-null   int64  \n",
            " 2   ANTIGUEDAD  2232 non-null   int64  \n",
            " 3   BAÑOS       2232 non-null   int64  \n",
            " 4   LATITUD     2232 non-null   float64\n",
            " 5   LONGITUD    2232 non-null   float64\n",
            " 6   COMUNA      2232 non-null   object \n",
            " 7   DOLARES     2232 non-null   int64  \n",
            " 8   PAIS        2232 non-null   object \n",
            "dtypes: float64(2), int64(5), object(2)\n",
            "memory usage: 157.1+ KB\n"
          ]
        }
      ],
      "source": [
        "departamentos.info()"
      ]
    },
    {
      "cell_type": "markdown",
      "id": "e0f362bf",
      "metadata": {
        "id": "e0f362bf"
      },
      "source": [
        "🐼 Generar una columna que se llame PESOS cuyo valor sea DOLARES * 200"
      ]
    },
    {
      "cell_type": "code",
      "execution_count": 4,
      "id": "e37b77f4",
      "metadata": {
        "id": "e37b77f4",
        "colab": {
          "base_uri": "https://localhost:8080/",
          "height": 423
        },
        "outputId": "5ace9454-6be0-4b4e-e8d0-6c8fe94fac55"
      },
      "outputs": [
        {
          "output_type": "execute_result",
          "data": {
            "text/plain": [
              "       M2  AMBIENTES  ANTIGUEDAD  BAÑOS    LATITUD   LONGITUD     COMUNA  \\\n",
              "0      81          3           4      1 -34.581078 -58.449433  COMUNA 13   \n",
              "1      69          3          20      1 -34.623129 -58.439338  COMUNA 06   \n",
              "2      75          3          20      1 -34.604972 -58.421278  COMUNA 05   \n",
              "3      42          2          40      1 -34.604725 -58.399524  COMUNA 03   \n",
              "4      90          3           1      1 -34.623390 -58.504401  COMUNA 10   \n",
              "...   ...        ...         ...    ...        ...        ...        ...   \n",
              "2227   88          4          20      2 -34.550152 -58.470136  COMUNA 13   \n",
              "2228   35          1          35      1 -34.602256 -58.429315  COMUNA 05   \n",
              "2229  117          3          10      2 -34.620314 -58.365451  COMUNA 01   \n",
              "2230   69          4          40      1 -34.628533 -58.427748  COMUNA 07   \n",
              "2231   73          4          50      2 -34.596659 -58.378396  COMUNA 01   \n",
              "\n",
              "      DOLARES      PESOS  \n",
              "0      225000   45000000  \n",
              "1      140000   28000000  \n",
              "2      154000   30800000  \n",
              "3       75000   15000000  \n",
              "4      149900   29980000  \n",
              "...       ...        ...  \n",
              "2227   165000   33000000  \n",
              "2228    79900   15980000  \n",
              "2229   520000  104000000  \n",
              "2230   132000   26400000  \n",
              "2231   179000   35800000  \n",
              "\n",
              "[2232 rows x 9 columns]"
            ],
            "text/html": [
              "\n",
              "  <div id=\"df-d5814755-5d38-4971-a896-5241d6beecb5\" class=\"colab-df-container\">\n",
              "    <div>\n",
              "<style scoped>\n",
              "    .dataframe tbody tr th:only-of-type {\n",
              "        vertical-align: middle;\n",
              "    }\n",
              "\n",
              "    .dataframe tbody tr th {\n",
              "        vertical-align: top;\n",
              "    }\n",
              "\n",
              "    .dataframe thead th {\n",
              "        text-align: right;\n",
              "    }\n",
              "</style>\n",
              "<table border=\"1\" class=\"dataframe\">\n",
              "  <thead>\n",
              "    <tr style=\"text-align: right;\">\n",
              "      <th></th>\n",
              "      <th>M2</th>\n",
              "      <th>AMBIENTES</th>\n",
              "      <th>ANTIGUEDAD</th>\n",
              "      <th>BAÑOS</th>\n",
              "      <th>LATITUD</th>\n",
              "      <th>LONGITUD</th>\n",
              "      <th>COMUNA</th>\n",
              "      <th>DOLARES</th>\n",
              "      <th>PESOS</th>\n",
              "    </tr>\n",
              "  </thead>\n",
              "  <tbody>\n",
              "    <tr>\n",
              "      <th>0</th>\n",
              "      <td>81</td>\n",
              "      <td>3</td>\n",
              "      <td>4</td>\n",
              "      <td>1</td>\n",
              "      <td>-34.581078</td>\n",
              "      <td>-58.449433</td>\n",
              "      <td>COMUNA 13</td>\n",
              "      <td>225000</td>\n",
              "      <td>45000000</td>\n",
              "    </tr>\n",
              "    <tr>\n",
              "      <th>1</th>\n",
              "      <td>69</td>\n",
              "      <td>3</td>\n",
              "      <td>20</td>\n",
              "      <td>1</td>\n",
              "      <td>-34.623129</td>\n",
              "      <td>-58.439338</td>\n",
              "      <td>COMUNA 06</td>\n",
              "      <td>140000</td>\n",
              "      <td>28000000</td>\n",
              "    </tr>\n",
              "    <tr>\n",
              "      <th>2</th>\n",
              "      <td>75</td>\n",
              "      <td>3</td>\n",
              "      <td>20</td>\n",
              "      <td>1</td>\n",
              "      <td>-34.604972</td>\n",
              "      <td>-58.421278</td>\n",
              "      <td>COMUNA 05</td>\n",
              "      <td>154000</td>\n",
              "      <td>30800000</td>\n",
              "    </tr>\n",
              "    <tr>\n",
              "      <th>3</th>\n",
              "      <td>42</td>\n",
              "      <td>2</td>\n",
              "      <td>40</td>\n",
              "      <td>1</td>\n",
              "      <td>-34.604725</td>\n",
              "      <td>-58.399524</td>\n",
              "      <td>COMUNA 03</td>\n",
              "      <td>75000</td>\n",
              "      <td>15000000</td>\n",
              "    </tr>\n",
              "    <tr>\n",
              "      <th>4</th>\n",
              "      <td>90</td>\n",
              "      <td>3</td>\n",
              "      <td>1</td>\n",
              "      <td>1</td>\n",
              "      <td>-34.623390</td>\n",
              "      <td>-58.504401</td>\n",
              "      <td>COMUNA 10</td>\n",
              "      <td>149900</td>\n",
              "      <td>29980000</td>\n",
              "    </tr>\n",
              "    <tr>\n",
              "      <th>...</th>\n",
              "      <td>...</td>\n",
              "      <td>...</td>\n",
              "      <td>...</td>\n",
              "      <td>...</td>\n",
              "      <td>...</td>\n",
              "      <td>...</td>\n",
              "      <td>...</td>\n",
              "      <td>...</td>\n",
              "      <td>...</td>\n",
              "    </tr>\n",
              "    <tr>\n",
              "      <th>2227</th>\n",
              "      <td>88</td>\n",
              "      <td>4</td>\n",
              "      <td>20</td>\n",
              "      <td>2</td>\n",
              "      <td>-34.550152</td>\n",
              "      <td>-58.470136</td>\n",
              "      <td>COMUNA 13</td>\n",
              "      <td>165000</td>\n",
              "      <td>33000000</td>\n",
              "    </tr>\n",
              "    <tr>\n",
              "      <th>2228</th>\n",
              "      <td>35</td>\n",
              "      <td>1</td>\n",
              "      <td>35</td>\n",
              "      <td>1</td>\n",
              "      <td>-34.602256</td>\n",
              "      <td>-58.429315</td>\n",
              "      <td>COMUNA 05</td>\n",
              "      <td>79900</td>\n",
              "      <td>15980000</td>\n",
              "    </tr>\n",
              "    <tr>\n",
              "      <th>2229</th>\n",
              "      <td>117</td>\n",
              "      <td>3</td>\n",
              "      <td>10</td>\n",
              "      <td>2</td>\n",
              "      <td>-34.620314</td>\n",
              "      <td>-58.365451</td>\n",
              "      <td>COMUNA 01</td>\n",
              "      <td>520000</td>\n",
              "      <td>104000000</td>\n",
              "    </tr>\n",
              "    <tr>\n",
              "      <th>2230</th>\n",
              "      <td>69</td>\n",
              "      <td>4</td>\n",
              "      <td>40</td>\n",
              "      <td>1</td>\n",
              "      <td>-34.628533</td>\n",
              "      <td>-58.427748</td>\n",
              "      <td>COMUNA 07</td>\n",
              "      <td>132000</td>\n",
              "      <td>26400000</td>\n",
              "    </tr>\n",
              "    <tr>\n",
              "      <th>2231</th>\n",
              "      <td>73</td>\n",
              "      <td>4</td>\n",
              "      <td>50</td>\n",
              "      <td>2</td>\n",
              "      <td>-34.596659</td>\n",
              "      <td>-58.378396</td>\n",
              "      <td>COMUNA 01</td>\n",
              "      <td>179000</td>\n",
              "      <td>35800000</td>\n",
              "    </tr>\n",
              "  </tbody>\n",
              "</table>\n",
              "<p>2232 rows × 9 columns</p>\n",
              "</div>\n",
              "    <div class=\"colab-df-buttons\">\n",
              "\n",
              "  <div class=\"colab-df-container\">\n",
              "    <button class=\"colab-df-convert\" onclick=\"convertToInteractive('df-d5814755-5d38-4971-a896-5241d6beecb5')\"\n",
              "            title=\"Convert this dataframe to an interactive table.\"\n",
              "            style=\"display:none;\">\n",
              "\n",
              "  <svg xmlns=\"http://www.w3.org/2000/svg\" height=\"24px\" viewBox=\"0 -960 960 960\">\n",
              "    <path d=\"M120-120v-720h720v720H120Zm60-500h600v-160H180v160Zm220 220h160v-160H400v160Zm0 220h160v-160H400v160ZM180-400h160v-160H180v160Zm440 0h160v-160H620v160ZM180-180h160v-160H180v160Zm440 0h160v-160H620v160Z\"/>\n",
              "  </svg>\n",
              "    </button>\n",
              "\n",
              "  <style>\n",
              "    .colab-df-container {\n",
              "      display:flex;\n",
              "      gap: 12px;\n",
              "    }\n",
              "\n",
              "    .colab-df-convert {\n",
              "      background-color: #E8F0FE;\n",
              "      border: none;\n",
              "      border-radius: 50%;\n",
              "      cursor: pointer;\n",
              "      display: none;\n",
              "      fill: #1967D2;\n",
              "      height: 32px;\n",
              "      padding: 0 0 0 0;\n",
              "      width: 32px;\n",
              "    }\n",
              "\n",
              "    .colab-df-convert:hover {\n",
              "      background-color: #E2EBFA;\n",
              "      box-shadow: 0px 1px 2px rgba(60, 64, 67, 0.3), 0px 1px 3px 1px rgba(60, 64, 67, 0.15);\n",
              "      fill: #174EA6;\n",
              "    }\n",
              "\n",
              "    .colab-df-buttons div {\n",
              "      margin-bottom: 4px;\n",
              "    }\n",
              "\n",
              "    [theme=dark] .colab-df-convert {\n",
              "      background-color: #3B4455;\n",
              "      fill: #D2E3FC;\n",
              "    }\n",
              "\n",
              "    [theme=dark] .colab-df-convert:hover {\n",
              "      background-color: #434B5C;\n",
              "      box-shadow: 0px 1px 3px 1px rgba(0, 0, 0, 0.15);\n",
              "      filter: drop-shadow(0px 1px 2px rgba(0, 0, 0, 0.3));\n",
              "      fill: #FFFFFF;\n",
              "    }\n",
              "  </style>\n",
              "\n",
              "    <script>\n",
              "      const buttonEl =\n",
              "        document.querySelector('#df-d5814755-5d38-4971-a896-5241d6beecb5 button.colab-df-convert');\n",
              "      buttonEl.style.display =\n",
              "        google.colab.kernel.accessAllowed ? 'block' : 'none';\n",
              "\n",
              "      async function convertToInteractive(key) {\n",
              "        const element = document.querySelector('#df-d5814755-5d38-4971-a896-5241d6beecb5');\n",
              "        const dataTable =\n",
              "          await google.colab.kernel.invokeFunction('convertToInteractive',\n",
              "                                                    [key], {});\n",
              "        if (!dataTable) return;\n",
              "\n",
              "        const docLinkHtml = 'Like what you see? Visit the ' +\n",
              "          '<a target=\"_blank\" href=https://colab.research.google.com/notebooks/data_table.ipynb>data table notebook</a>'\n",
              "          + ' to learn more about interactive tables.';\n",
              "        element.innerHTML = '';\n",
              "        dataTable['output_type'] = 'display_data';\n",
              "        await google.colab.output.renderOutput(dataTable, element);\n",
              "        const docLink = document.createElement('div');\n",
              "        docLink.innerHTML = docLinkHtml;\n",
              "        element.appendChild(docLink);\n",
              "      }\n",
              "    </script>\n",
              "  </div>\n",
              "\n",
              "\n",
              "<div id=\"df-02007eb7-4f35-41c5-9bc7-28ea7bd81bdb\">\n",
              "  <button class=\"colab-df-quickchart\" onclick=\"quickchart('df-02007eb7-4f35-41c5-9bc7-28ea7bd81bdb')\"\n",
              "            title=\"Suggest charts\"\n",
              "            style=\"display:none;\">\n",
              "\n",
              "<svg xmlns=\"http://www.w3.org/2000/svg\" height=\"24px\"viewBox=\"0 0 24 24\"\n",
              "     width=\"24px\">\n",
              "    <g>\n",
              "        <path d=\"M19 3H5c-1.1 0-2 .9-2 2v14c0 1.1.9 2 2 2h14c1.1 0 2-.9 2-2V5c0-1.1-.9-2-2-2zM9 17H7v-7h2v7zm4 0h-2V7h2v10zm4 0h-2v-4h2v4z\"/>\n",
              "    </g>\n",
              "</svg>\n",
              "  </button>\n",
              "\n",
              "<style>\n",
              "  .colab-df-quickchart {\n",
              "      --bg-color: #E8F0FE;\n",
              "      --fill-color: #1967D2;\n",
              "      --hover-bg-color: #E2EBFA;\n",
              "      --hover-fill-color: #174EA6;\n",
              "      --disabled-fill-color: #AAA;\n",
              "      --disabled-bg-color: #DDD;\n",
              "  }\n",
              "\n",
              "  [theme=dark] .colab-df-quickchart {\n",
              "      --bg-color: #3B4455;\n",
              "      --fill-color: #D2E3FC;\n",
              "      --hover-bg-color: #434B5C;\n",
              "      --hover-fill-color: #FFFFFF;\n",
              "      --disabled-bg-color: #3B4455;\n",
              "      --disabled-fill-color: #666;\n",
              "  }\n",
              "\n",
              "  .colab-df-quickchart {\n",
              "    background-color: var(--bg-color);\n",
              "    border: none;\n",
              "    border-radius: 50%;\n",
              "    cursor: pointer;\n",
              "    display: none;\n",
              "    fill: var(--fill-color);\n",
              "    height: 32px;\n",
              "    padding: 0;\n",
              "    width: 32px;\n",
              "  }\n",
              "\n",
              "  .colab-df-quickchart:hover {\n",
              "    background-color: var(--hover-bg-color);\n",
              "    box-shadow: 0 1px 2px rgba(60, 64, 67, 0.3), 0 1px 3px 1px rgba(60, 64, 67, 0.15);\n",
              "    fill: var(--button-hover-fill-color);\n",
              "  }\n",
              "\n",
              "  .colab-df-quickchart-complete:disabled,\n",
              "  .colab-df-quickchart-complete:disabled:hover {\n",
              "    background-color: var(--disabled-bg-color);\n",
              "    fill: var(--disabled-fill-color);\n",
              "    box-shadow: none;\n",
              "  }\n",
              "\n",
              "  .colab-df-spinner {\n",
              "    border: 2px solid var(--fill-color);\n",
              "    border-color: transparent;\n",
              "    border-bottom-color: var(--fill-color);\n",
              "    animation:\n",
              "      spin 1s steps(1) infinite;\n",
              "  }\n",
              "\n",
              "  @keyframes spin {\n",
              "    0% {\n",
              "      border-color: transparent;\n",
              "      border-bottom-color: var(--fill-color);\n",
              "      border-left-color: var(--fill-color);\n",
              "    }\n",
              "    20% {\n",
              "      border-color: transparent;\n",
              "      border-left-color: var(--fill-color);\n",
              "      border-top-color: var(--fill-color);\n",
              "    }\n",
              "    30% {\n",
              "      border-color: transparent;\n",
              "      border-left-color: var(--fill-color);\n",
              "      border-top-color: var(--fill-color);\n",
              "      border-right-color: var(--fill-color);\n",
              "    }\n",
              "    40% {\n",
              "      border-color: transparent;\n",
              "      border-right-color: var(--fill-color);\n",
              "      border-top-color: var(--fill-color);\n",
              "    }\n",
              "    60% {\n",
              "      border-color: transparent;\n",
              "      border-right-color: var(--fill-color);\n",
              "    }\n",
              "    80% {\n",
              "      border-color: transparent;\n",
              "      border-right-color: var(--fill-color);\n",
              "      border-bottom-color: var(--fill-color);\n",
              "    }\n",
              "    90% {\n",
              "      border-color: transparent;\n",
              "      border-bottom-color: var(--fill-color);\n",
              "    }\n",
              "  }\n",
              "</style>\n",
              "\n",
              "  <script>\n",
              "    async function quickchart(key) {\n",
              "      const quickchartButtonEl =\n",
              "        document.querySelector('#' + key + ' button');\n",
              "      quickchartButtonEl.disabled = true;  // To prevent multiple clicks.\n",
              "      quickchartButtonEl.classList.add('colab-df-spinner');\n",
              "      try {\n",
              "        const charts = await google.colab.kernel.invokeFunction(\n",
              "            'suggestCharts', [key], {});\n",
              "      } catch (error) {\n",
              "        console.error('Error during call to suggestCharts:', error);\n",
              "      }\n",
              "      quickchartButtonEl.classList.remove('colab-df-spinner');\n",
              "      quickchartButtonEl.classList.add('colab-df-quickchart-complete');\n",
              "    }\n",
              "    (() => {\n",
              "      let quickchartButtonEl =\n",
              "        document.querySelector('#df-02007eb7-4f35-41c5-9bc7-28ea7bd81bdb button');\n",
              "      quickchartButtonEl.style.display =\n",
              "        google.colab.kernel.accessAllowed ? 'block' : 'none';\n",
              "    })();\n",
              "  </script>\n",
              "</div>\n",
              "\n",
              "  <div id=\"id_95fff89e-6bdf-47cc-acdd-b92aeff3386a\">\n",
              "    <style>\n",
              "      .colab-df-generate {\n",
              "        background-color: #E8F0FE;\n",
              "        border: none;\n",
              "        border-radius: 50%;\n",
              "        cursor: pointer;\n",
              "        display: none;\n",
              "        fill: #1967D2;\n",
              "        height: 32px;\n",
              "        padding: 0 0 0 0;\n",
              "        width: 32px;\n",
              "      }\n",
              "\n",
              "      .colab-df-generate:hover {\n",
              "        background-color: #E2EBFA;\n",
              "        box-shadow: 0px 1px 2px rgba(60, 64, 67, 0.3), 0px 1px 3px 1px rgba(60, 64, 67, 0.15);\n",
              "        fill: #174EA6;\n",
              "      }\n",
              "\n",
              "      [theme=dark] .colab-df-generate {\n",
              "        background-color: #3B4455;\n",
              "        fill: #D2E3FC;\n",
              "      }\n",
              "\n",
              "      [theme=dark] .colab-df-generate:hover {\n",
              "        background-color: #434B5C;\n",
              "        box-shadow: 0px 1px 3px 1px rgba(0, 0, 0, 0.15);\n",
              "        filter: drop-shadow(0px 1px 2px rgba(0, 0, 0, 0.3));\n",
              "        fill: #FFFFFF;\n",
              "      }\n",
              "    </style>\n",
              "    <button class=\"colab-df-generate\" onclick=\"generateWithVariable('departamentos')\"\n",
              "            title=\"Generate code using this dataframe.\"\n",
              "            style=\"display:none;\">\n",
              "\n",
              "  <svg xmlns=\"http://www.w3.org/2000/svg\" height=\"24px\"viewBox=\"0 0 24 24\"\n",
              "       width=\"24px\">\n",
              "    <path d=\"M7,19H8.4L18.45,9,17,7.55,7,17.6ZM5,21V16.75L18.45,3.32a2,2,0,0,1,2.83,0l1.4,1.43a1.91,1.91,0,0,1,.58,1.4,1.91,1.91,0,0,1-.58,1.4L9.25,21ZM18.45,9,17,7.55Zm-12,3A5.31,5.31,0,0,0,4.9,8.1,5.31,5.31,0,0,0,1,6.5,5.31,5.31,0,0,0,4.9,4.9,5.31,5.31,0,0,0,6.5,1,5.31,5.31,0,0,0,8.1,4.9,5.31,5.31,0,0,0,12,6.5,5.46,5.46,0,0,0,6.5,12Z\"/>\n",
              "  </svg>\n",
              "    </button>\n",
              "    <script>\n",
              "      (() => {\n",
              "      const buttonEl =\n",
              "        document.querySelector('#id_95fff89e-6bdf-47cc-acdd-b92aeff3386a button.colab-df-generate');\n",
              "      buttonEl.style.display =\n",
              "        google.colab.kernel.accessAllowed ? 'block' : 'none';\n",
              "\n",
              "      buttonEl.onclick = () => {\n",
              "        google.colab.notebook.generateWithVariable('departamentos');\n",
              "      }\n",
              "      })();\n",
              "    </script>\n",
              "  </div>\n",
              "\n",
              "    </div>\n",
              "  </div>\n"
            ],
            "application/vnd.google.colaboratory.intrinsic+json": {
              "type": "dataframe",
              "variable_name": "departamentos",
              "summary": "{\n  \"name\": \"departamentos\",\n  \"rows\": 2232,\n  \"fields\": [\n    {\n      \"column\": \"M2\",\n      \"properties\": {\n        \"dtype\": \"number\",\n        \"std\": 58,\n        \"min\": 15,\n        \"max\": 730,\n        \"num_unique_values\": 221,\n        \"samples\": [\n          160,\n          126,\n          61\n        ],\n        \"semantic_type\": \"\",\n        \"description\": \"\"\n      }\n    },\n    {\n      \"column\": \"AMBIENTES\",\n      \"properties\": {\n        \"dtype\": \"number\",\n        \"std\": 1,\n        \"min\": 1,\n        \"max\": 10,\n        \"num_unique_values\": 9,\n        \"samples\": [\n          7,\n          2,\n          6\n        ],\n        \"semantic_type\": \"\",\n        \"description\": \"\"\n      }\n    },\n    {\n      \"column\": \"ANTIGUEDAD\",\n      \"properties\": {\n        \"dtype\": \"number\",\n        \"std\": 18,\n        \"min\": 1,\n        \"max\": 110,\n        \"num_unique_values\": 64,\n        \"samples\": [\n          29,\n          75,\n          4\n        ],\n        \"semantic_type\": \"\",\n        \"description\": \"\"\n      }\n    },\n    {\n      \"column\": \"BA\\u00d1OS\",\n      \"properties\": {\n        \"dtype\": \"number\",\n        \"std\": 0,\n        \"min\": 1,\n        \"max\": 6,\n        \"num_unique_values\": 6,\n        \"samples\": [\n          1,\n          2,\n          5\n        ],\n        \"semantic_type\": \"\",\n        \"description\": \"\"\n      }\n    },\n    {\n      \"column\": \"LATITUD\",\n      \"properties\": {\n        \"dtype\": \"number\",\n        \"std\": 0.022612748735094376,\n        \"min\": -34.68491929893829,\n        \"max\": -34.53730822008631,\n        \"num_unique_values\": 1374,\n        \"samples\": [\n          -34.62158984847588,\n          -34.56169943299393,\n          -34.618979145410826\n        ],\n        \"semantic_type\": \"\",\n        \"description\": \"\"\n      }\n    },\n    {\n      \"column\": \"LONGITUD\",\n      \"properties\": {\n        \"dtype\": \"number\",\n        \"std\": 0.034101726174456774,\n        \"min\": -58.52747608345872,\n        \"max\": -58.35381206090168,\n        \"num_unique_values\": 1374,\n        \"samples\": [\n          -58.42512074149378,\n          -58.451219390270175,\n          -58.39027952392485\n        ],\n        \"semantic_type\": \"\",\n        \"description\": \"\"\n      }\n    },\n    {\n      \"column\": \"COMUNA\",\n      \"properties\": {\n        \"dtype\": \"category\",\n        \"num_unique_values\": 15,\n        \"samples\": [\n          \"COMUNA 01\",\n          \"COMUNA 11\",\n          \"COMUNA 13\"\n        ],\n        \"semantic_type\": \"\",\n        \"description\": \"\"\n      }\n    },\n    {\n      \"column\": \"DOLARES\",\n      \"properties\": {\n        \"dtype\": \"number\",\n        \"std\": 186368,\n        \"min\": 7428,\n        \"max\": 1800000,\n        \"num_unique_values\": 402,\n        \"samples\": [\n          470000,\n          1050000,\n          980000\n        ],\n        \"semantic_type\": \"\",\n        \"description\": \"\"\n      }\n    },\n    {\n      \"column\": \"PESOS\",\n      \"properties\": {\n        \"dtype\": \"number\",\n        \"std\": 37273660,\n        \"min\": 1485600,\n        \"max\": 360000000,\n        \"num_unique_values\": 402,\n        \"samples\": [\n          94000000,\n          210000000,\n          196000000\n        ],\n        \"semantic_type\": \"\",\n        \"description\": \"\"\n      }\n    }\n  ]\n}"
            }
          },
          "metadata": {},
          "execution_count": 4
        }
      ],
      "source": [
        "departamentos['PESOS'] = departamentos['DOLARES'] * 200\n",
        "departamentos"
      ]
    },
    {
      "cell_type": "markdown",
      "id": "bbe00b21",
      "metadata": {
        "id": "bbe00b21"
      },
      "source": [
        "🐼 Imprimi los datos estadisticos del dataframe"
      ]
    },
    {
      "cell_type": "code",
      "execution_count": null,
      "id": "4b5652f4",
      "metadata": {
        "id": "4b5652f4",
        "colab": {
          "base_uri": "https://localhost:8080/"
        },
        "outputId": "f4414cb6-ba2b-4592-a193-ece91af95b7b"
      },
      "outputs": [
        {
          "output_type": "stream",
          "name": "stdout",
          "text": [
            "                M2    AMBIENTES   ANTIGUEDAD        BAÑOS      LATITUD  \\\n",
            "count  2232.000000  2232.000000  2232.000000  2232.000000  2232.000000   \n",
            "mean     79.396057     2.807796    24.633513     1.430108   -34.592671   \n",
            "std      58.977534     1.109541    18.408973     0.720170     0.022613   \n",
            "min      15.000000     1.000000     1.000000     1.000000   -34.684919   \n",
            "25%      44.000000     2.000000     9.000000     1.000000   -34.606372   \n",
            "50%      64.000000     3.000000    20.000000     1.000000   -34.592954   \n",
            "75%      90.000000     3.000000    40.000000     2.000000   -34.577447   \n",
            "max     730.000000    10.000000   110.000000     6.000000   -34.537308   \n",
            "\n",
            "          LONGITUD       DOLARES         PESOS  \n",
            "count  2232.000000  2.232000e+03  2.232000e+03  \n",
            "mean    -58.428680  2.060140e+05  4.120280e+07  \n",
            "std       0.034102  1.863683e+05  3.727366e+07  \n",
            "min     -58.527476  7.428000e+03  1.485600e+06  \n",
            "25%     -58.453970  9.837500e+04  1.967500e+07  \n",
            "50%     -58.424798  1.460000e+05  2.920000e+07  \n",
            "75%     -58.403250  2.357500e+05  4.715000e+07  \n",
            "max     -58.353812  1.800000e+06  3.600000e+08  \n"
          ]
        }
      ],
      "source": [
        "desc_est = departamentos.describe()\n",
        "print(desc_est)"
      ]
    },
    {
      "cell_type": "markdown",
      "id": "1038a406",
      "metadata": {
        "id": "1038a406"
      },
      "source": [
        "Podemos ver que la **media** de las posiciones esta en [-34.592671,\t-58.428680], es decir las propiedades de mi DataFrame \"orbitan\" sobre este punto.\n",
        "\n",
        "El **desvio estandar** es de [0.022613,\t0.034102]\n",
        "\n",
        "*El desvio estandar es una medida que se utiliza para cuantificar la dispersión de un conjunto de datos numéricos.*\n",
        "\n",
        "![](https://upload.wikimedia.org/wikipedia/commons/thumb/8/8c/Standard_deviation_diagram.svg/450px-Standard_deviation_diagram.svg.png)"
      ]
    },
    {
      "cell_type": "markdown",
      "id": "d9b8b969",
      "metadata": {
        "id": "d9b8b969"
      },
      "source": [
        "Vemos que la mayoria de registros pertenecen a CABA:"
      ]
    },
    {
      "cell_type": "markdown",
      "id": "0c49bb93",
      "metadata": {
        "id": "0c49bb93"
      },
      "source": [
        "Verificar posibles valores nulos"
      ]
    },
    {
      "cell_type": "code",
      "execution_count": null,
      "id": "7c5e9392",
      "metadata": {
        "id": "7c5e9392",
        "colab": {
          "base_uri": "https://localhost:8080/"
        },
        "outputId": "da32be47-067b-4368-8645-2aff027692e1"
      },
      "outputs": [
        {
          "output_type": "execute_result",
          "data": {
            "text/plain": [
              "M2            False\n",
              "AMBIENTES     False\n",
              "ANTIGUEDAD    False\n",
              "BAÑOS         False\n",
              "LATITUD       False\n",
              "LONGITUD      False\n",
              "COMUNA        False\n",
              "DOLARES       False\n",
              "PAIS          False\n",
              "PESOS         False\n",
              "dtype: bool"
            ]
          },
          "metadata": {},
          "execution_count": 29
        }
      ],
      "source": [
        "departamentos.isnull().any()"
      ]
    },
    {
      "cell_type": "markdown",
      "id": "4ef47562",
      "metadata": {
        "id": "4ef47562"
      },
      "source": [
        "🐼 Imprimir el valor que se encuentra en el indice 5 y en el indice 1 y columna M2"
      ]
    },
    {
      "cell_type": "code",
      "execution_count": null,
      "id": "fb75e45e",
      "metadata": {
        "id": "fb75e45e",
        "colab": {
          "base_uri": "https://localhost:8080/"
        },
        "outputId": "de1c213e-1144-4e55-cf4d-d3e0c41a39d9"
      },
      "outputs": [
        {
          "output_type": "stream",
          "name": "stdout",
          "text": [
            "120 69\n"
          ]
        }
      ],
      "source": [
        "valor_5=departamentos.M2.iloc[5]\n",
        "valor_1=departamentos.M2.iloc[1]\n",
        "\n",
        "print(valor_5, valor_1)"
      ]
    },
    {
      "cell_type": "markdown",
      "id": "e3171071",
      "metadata": {
        "id": "e3171071"
      },
      "source": [
        "🐼 Obtener los valores unicos que integran la columna ``COMUNA``"
      ]
    },
    {
      "cell_type": "code",
      "execution_count": null,
      "id": "ba6b258b",
      "metadata": {
        "id": "ba6b258b",
        "colab": {
          "base_uri": "https://localhost:8080/"
        },
        "outputId": "14e68962-a77d-4f71-a99b-982a179d3f6d"
      },
      "outputs": [
        {
          "output_type": "stream",
          "name": "stdout",
          "text": [
            "['COMUNA 13' 'COMUNA 06' 'COMUNA 05' 'COMUNA 03' 'COMUNA 10' 'COMUNA 14'\n",
            " 'COMUNA 12' 'COMUNA 04' 'COMUNA 02' 'COMUNA 01' 'COMUNA 07' 'COMUNA 11'\n",
            " 'COMUNA 15' 'COMUNA 08' 'COMUNA 09']\n"
          ]
        }
      ],
      "source": [
        "valores_unicos = departamentos['COMUNA'].unique()\n",
        "print(valores_unicos\n",
        "      )"
      ]
    },
    {
      "cell_type": "markdown",
      "id": "257c3644",
      "metadata": {
        "id": "257c3644"
      },
      "source": [
        "🐼 Imprimir las primeras 3 columnas y las primeras 4 filas"
      ]
    },
    {
      "cell_type": "code",
      "execution_count": null,
      "id": "803248d7",
      "metadata": {
        "id": "803248d7",
        "colab": {
          "base_uri": "https://localhost:8080/"
        },
        "outputId": "544da867-cb85-4599-ae54-24257164efa2"
      },
      "outputs": [
        {
          "output_type": "stream",
          "name": "stdout",
          "text": [
            "   M2  AMBIENTES  ANTIGUEDAD\n",
            "0  81          3           4\n",
            "1  69          3          20\n",
            "2  75          3          20\n",
            "3  42          2          40\n"
          ]
        }
      ],
      "source": [
        "filtro = departamentos.iloc[:4,:3]\n",
        "print(filtro)"
      ]
    },
    {
      "cell_type": "markdown",
      "id": "0e4a1f5e",
      "metadata": {
        "id": "0e4a1f5e"
      },
      "source": [
        "🐼 Imprimir el valor de la columna 5 y fila 2"
      ]
    },
    {
      "cell_type": "code",
      "execution_count": null,
      "id": "c2de547d",
      "metadata": {
        "id": "c2de547d",
        "colab": {
          "base_uri": "https://localhost:8080/"
        },
        "outputId": "d481a1ab-41ca-49e9-de5f-1cd7eeda8beb"
      },
      "outputs": [
        {
          "output_type": "stream",
          "name": "stdout",
          "text": [
            "-34.62312877177625\n"
          ]
        }
      ],
      "source": [
        "filtro1 = departamentos.iat[1,4]\n",
        "print(filtro1)"
      ]
    },
    {
      "cell_type": "markdown",
      "id": "0c74b0fa",
      "metadata": {
        "id": "0c74b0fa"
      },
      "source": [
        "🐼 Seleccionar todas las filas de las siguientes columnas: DOLARES y COMUNA"
      ]
    },
    {
      "cell_type": "code",
      "execution_count": null,
      "id": "9c6a2c85",
      "metadata": {
        "id": "9c6a2c85",
        "colab": {
          "base_uri": "https://localhost:8080/"
        },
        "outputId": "6d803d40-4b31-4c8e-a0e7-bb9a1e27fe90"
      },
      "outputs": [
        {
          "output_type": "stream",
          "name": "stdout",
          "text": [
            "      DOLARES     COMUNA\n",
            "0      225000  COMUNA 13\n",
            "1      140000  COMUNA 06\n",
            "2      154000  COMUNA 05\n",
            "3       75000  COMUNA 03\n",
            "4      149900  COMUNA 10\n",
            "...       ...        ...\n",
            "2227   165000  COMUNA 13\n",
            "2228    79900  COMUNA 05\n",
            "2229   520000  COMUNA 01\n",
            "2230   132000  COMUNA 07\n",
            "2231   179000  COMUNA 01\n",
            "\n",
            "[2232 rows x 2 columns]\n"
          ]
        }
      ],
      "source": [
        "print(departamentos[['DOLARES','COMUNA']])"
      ]
    },
    {
      "cell_type": "markdown",
      "id": "7e6f50ee",
      "metadata": {
        "id": "7e6f50ee"
      },
      "source": [
        "🐼 **Filtrado**: Seleccionar las filas que sean de la comuna 13"
      ]
    },
    {
      "cell_type": "code",
      "execution_count": null,
      "id": "9b5da077",
      "metadata": {
        "id": "9b5da077",
        "colab": {
          "base_uri": "https://localhost:8080/"
        },
        "outputId": "83b6ab8b-3b2d-4b6f-eefa-344e36c6c54f"
      },
      "outputs": [
        {
          "output_type": "stream",
          "name": "stdout",
          "text": [
            "      M2  AMBIENTES  ANTIGUEDAD  BAÑOS    LATITUD   LONGITUD     COMUNA  \\\n",
            "0     81          3           4      1 -34.581078 -58.449433  COMUNA 13   \n",
            "21    34          1           5      1 -34.564887 -58.461323  COMUNA 13   \n",
            "26    42          2          10      1 -34.555101 -58.461095  COMUNA 13   \n",
            "27    33          1          20      1 -34.537308 -58.467448  COMUNA 13   \n",
            "40    68          3          20      1 -34.561799 -58.444212  COMUNA 13   \n",
            "...   ..        ...         ...    ...        ...        ...        ...   \n",
            "2183  88          4          20      2 -34.550152 -58.470136  COMUNA 13   \n",
            "2186  45          2           2      1 -34.567289 -58.456200  COMUNA 13   \n",
            "2197  45          2          15      1 -34.553523 -58.466288  COMUNA 13   \n",
            "2203  64          3          40      1 -34.544475 -58.469458  COMUNA 13   \n",
            "2227  88          4          20      2 -34.550152 -58.470136  COMUNA 13   \n",
            "\n",
            "      DOLARES       PAIS     PESOS  \n",
            "0      225000  Argentina  45000000  \n",
            "21     109000  Argentina  21800000  \n",
            "26     144000  Argentina  28800000  \n",
            "27      79800  Argentina  15960000  \n",
            "40     174000  Argentina  34800000  \n",
            "...       ...        ...       ...  \n",
            "2183   165000  Argentina  33000000  \n",
            "2186   129000  Argentina  25800000  \n",
            "2197   129000  Argentina  25800000  \n",
            "2203   165000  Argentina  33000000  \n",
            "2227   165000  Argentina  33000000  \n",
            "\n",
            "[320 rows x 10 columns]\n"
          ]
        }
      ],
      "source": [
        "filtro_comuna13 = departamentos[departamentos['COMUNA'] == 'COMUNA 13']\n",
        "print(filtro_comuna13)"
      ]
    },
    {
      "cell_type": "markdown",
      "id": "f5a3d7cb",
      "metadata": {
        "id": "f5a3d7cb"
      },
      "source": [
        "🐼 Selecccionar todas las filas de las columnas que empiezan con 'A'"
      ]
    },
    {
      "cell_type": "code",
      "execution_count": null,
      "id": "c7fa85f4",
      "metadata": {
        "id": "c7fa85f4",
        "colab": {
          "base_uri": "https://localhost:8080/"
        },
        "outputId": "32105071-99ae-4c20-8a92-a45b0b87a03e"
      },
      "outputs": [
        {
          "output_type": "stream",
          "name": "stdout",
          "text": [
            "      AMBIENTES  ANTIGUEDAD\n",
            "0             3           4\n",
            "1             3          20\n",
            "2             3          20\n",
            "3             2          40\n",
            "4             3           1\n",
            "...         ...         ...\n",
            "2227          4          20\n",
            "2228          1          35\n",
            "2229          3          10\n",
            "2230          4          40\n",
            "2231          4          50\n",
            "\n",
            "[2232 rows x 2 columns]\n"
          ]
        }
      ],
      "source": [
        "colum_filtro_A = departamentos.filter(regex='^A')\n",
        "\n",
        "filas_filtro_A = departamentos[colum_filtro_A.columns]\n",
        "\n",
        "print(filas_filtro_A)"
      ]
    },
    {
      "cell_type": "markdown",
      "id": "cc227387",
      "metadata": {
        "id": "cc227387"
      },
      "source": [
        "🐼 Seleccionar los departamentos que valgan menos de $50000 **o** esten en *COMUNA 02*"
      ]
    },
    {
      "cell_type": "code",
      "execution_count": null,
      "id": "d34b8e77",
      "metadata": {
        "id": "d34b8e77",
        "colab": {
          "base_uri": "https://localhost:8080/"
        },
        "outputId": "bada446c-43c5-4f7f-d7a9-7295e9809cf9"
      },
      "outputs": [
        {
          "output_type": "stream",
          "name": "stdout",
          "text": [
            "      M2  AMBIENTES  ANTIGUEDAD  BAÑOS   LATITUD   LONGITUD     COMUNA  \\\n",
            "1530  15          2          20      1 -34.55782 -58.477648  COMUNA 12   \n",
            "\n",
            "      DOLARES       PAIS    PESOS  \n",
            "1530    35000  Argentina  7000000  \n"
          ]
        }
      ],
      "source": [
        "condicion = (departamentos['DOLARES'] < 50000) & (departamentos['COMUNA'] == 'COMUNA 12')\n",
        "dptos = departamentos[condicion]\n",
        "print(dptos)"
      ]
    },
    {
      "cell_type": "markdown",
      "id": "bd966c55",
      "metadata": {
        "id": "bd966c55"
      },
      "source": [
        "🐼 Seleccionar los departamentos que tengan mas de 3 baños **y** cuya antiguedad sea menor a 5 años"
      ]
    },
    {
      "cell_type": "code",
      "execution_count": null,
      "id": "63d05fbd",
      "metadata": {
        "id": "63d05fbd",
        "colab": {
          "base_uri": "https://localhost:8080/"
        },
        "outputId": "9499be3d-8c15-406b-d7e3-6a554561886a"
      },
      "outputs": [
        {
          "output_type": "stream",
          "name": "stdout",
          "text": [
            "       M2  AMBIENTES  ANTIGUEDAD  BAÑOS    LATITUD   LONGITUD     COMUNA  \\\n",
            "1134  125          4           2      4 -34.621884 -58.457699  COMUNA 07   \n",
            "1877  219          5           2      4 -34.575610 -58.422215  COMUNA 14   \n",
            "\n",
            "      DOLARES       PAIS      PESOS  \n",
            "1134   385000  Argentina   77000000  \n",
            "1877  1350000  Argentina  270000000  \n"
          ]
        }
      ],
      "source": [
        "condicion = (departamentos['BAÑOS'] > 3) & (departamentos['ANTIGUEDAD'] < 5)\n",
        "dptos = departamentos[condicion]\n",
        "print(dptos)"
      ]
    },
    {
      "cell_type": "markdown",
      "id": "7a6ab3a6",
      "metadata": {
        "id": "7a6ab3a6"
      },
      "source": [
        "🐼 Seleccionar los departamentos que **no** pertenezcan a la COMUNA 13"
      ]
    },
    {
      "cell_type": "code",
      "execution_count": null,
      "id": "45fe8242",
      "metadata": {
        "id": "45fe8242",
        "colab": {
          "base_uri": "https://localhost:8080/"
        },
        "outputId": "32a70f74-93b6-47c0-efd9-8ad80c74b78c"
      },
      "outputs": [
        {
          "output_type": "stream",
          "name": "stdout",
          "text": [
            "       M2  AMBIENTES  ANTIGUEDAD  BAÑOS    LATITUD   LONGITUD     COMUNA  \\\n",
            "1      69          3          20      1 -34.623129 -58.439338  COMUNA 06   \n",
            "2      75          3          20      1 -34.604972 -58.421278  COMUNA 05   \n",
            "3      42          2          40      1 -34.604725 -58.399524  COMUNA 03   \n",
            "4      90          3           1      1 -34.623390 -58.504401  COMUNA 10   \n",
            "5     120          3           2      2 -34.577774 -58.424300  COMUNA 14   \n",
            "...   ...        ...         ...    ...        ...        ...        ...   \n",
            "2226   60          3          20      1 -34.637868 -58.360094  COMUNA 04   \n",
            "2228   35          1          35      1 -34.602256 -58.429315  COMUNA 05   \n",
            "2229  117          3          10      2 -34.620314 -58.365451  COMUNA 01   \n",
            "2230   69          4          40      1 -34.628533 -58.427748  COMUNA 07   \n",
            "2231   73          4          50      2 -34.596659 -58.378396  COMUNA 01   \n",
            "\n",
            "      DOLARES       PAIS      PESOS  \n",
            "1      140000  Argentina   28000000  \n",
            "2      154000  Argentina   30800000  \n",
            "3       75000  Argentina   15000000  \n",
            "4      149900  Argentina   29980000  \n",
            "5      630000  Argentina  126000000  \n",
            "...       ...        ...        ...  \n",
            "2226    83000  Argentina   16600000  \n",
            "2228    79900  Argentina   15980000  \n",
            "2229   520000  Argentina  104000000  \n",
            "2230   132000  Argentina   26400000  \n",
            "2231   179000  Argentina   35800000  \n",
            "\n",
            "[1912 rows x 10 columns]\n"
          ]
        }
      ],
      "source": [
        "print(departamentos[departamentos['COMUNA'] != 'COMUNA 13'])"
      ]
    },
    {
      "cell_type": "markdown",
      "id": "a7f6ba1d",
      "metadata": {
        "id": "a7f6ba1d"
      },
      "source": [
        "🐼 Seleccionar los departamentos cuyo valor se encuentre entre 50000 y 60000"
      ]
    },
    {
      "cell_type": "code",
      "execution_count": null,
      "id": "021d9b6d",
      "metadata": {
        "id": "021d9b6d",
        "colab": {
          "base_uri": "https://localhost:8080/"
        },
        "outputId": "a08fdf87-a5ef-4f8b-fb26-a7655e1e5343"
      },
      "outputs": [
        {
          "output_type": "stream",
          "name": "stdout",
          "text": [
            "      M2  AMBIENTES  ANTIGUEDAD  BAÑOS    LATITUD   LONGITUD     COMUNA  \\\n",
            "13    25          1          20      1 -34.597746 -58.379727  COMUNA 01   \n",
            "165   26          1          45      1 -34.612752 -58.377558  COMUNA 01   \n",
            "334   38          1          20      1 -34.616319 -58.404506  COMUNA 03   \n",
            "366   35          2          10      1 -34.589900 -58.449504  COMUNA 15   \n",
            "367   35          2          10      1 -34.589900 -58.449504  COMUNA 15   \n",
            "368   35          2          10      1 -34.589900 -58.449504  COMUNA 15   \n",
            "419   46          2          45      1 -34.627032 -58.382731  COMUNA 01   \n",
            "467   26          2          45      1 -34.624981 -58.459007  COMUNA 07   \n",
            "470   30          1           3      1 -34.582300 -58.489800  COMUNA 12   \n",
            "497   24          2          20      1 -34.591835 -58.394008  COMUNA 02   \n",
            "675   45          2          20      1 -34.626354 -58.471267  COMUNA 07   \n",
            "682   23          1          50      1 -34.600098 -58.378101  COMUNA 01   \n",
            "737   30          2          20      1 -34.600616 -58.386595  COMUNA 01   \n",
            "748   31          1           5      1 -34.648005 -58.378002  COMUNA 04   \n",
            "749   31          1           5      1 -34.648005 -58.378002  COMUNA 04   \n",
            "795   38          2          50      1 -34.611505 -58.393261  COMUNA 03   \n",
            "801   35          2          40      1 -34.626190 -58.460869  COMUNA 07   \n",
            "805   56          3          20      1 -34.653432 -58.388941  COMUNA 04   \n",
            "817   34          2          20      1 -34.591202 -58.398732  COMUNA 02   \n",
            "995   22          1          55      1 -34.603101 -58.389504  COMUNA 01   \n",
            "1035  23          2          20      1 -34.624408 -58.417742  COMUNA 05   \n",
            "1080  23          1          50      1 -34.600098 -58.378101  COMUNA 01   \n",
            "1171  36          2          26      1 -34.626354 -58.471267  COMUNA 07   \n",
            "1208  24          1          20      1 -34.561563 -58.461327  COMUNA 13   \n",
            "1396  44          2          30      1 -34.644207 -58.497737  COMUNA 09   \n",
            "1554  46          2          45      1 -34.627032 -58.382731  COMUNA 01   \n",
            "1570  23          1          20      1 -34.610934 -58.400236  COMUNA 03   \n",
            "1572  23          1          20      1 -34.610934 -58.400236  COMUNA 03   \n",
            "1621  30          1          20      1 -34.598153 -58.408104  COMUNA 03   \n",
            "1701  34          2          20      1 -34.617287 -58.467788  COMUNA 07   \n",
            "1767  26          1          40      1 -34.622444 -58.385388  COMUNA 01   \n",
            "1872  18          1          40      1 -34.594537 -58.396155  COMUNA 02   \n",
            "2005  33          2          50      1 -34.620904 -58.378527  COMUNA 01   \n",
            "2096  31          1          40      1 -34.631823 -58.470831  COMUNA 07   \n",
            "2141  26          2          35      1 -34.600282 -58.425188  COMUNA 05   \n",
            "2148  26          1          40      1 -34.612712 -58.419131  COMUNA 05   \n",
            "2176  26          1          40      1 -34.612712 -58.419131  COMUNA 05   \n",
            "2198  20          1          30      1 -34.597322 -58.395407  COMUNA 02   \n",
            "\n",
            "      DOLARES       PAIS     PESOS  \n",
            "13      54000  Argentina  10800000  \n",
            "165     58000  Argentina  11600000  \n",
            "334     55000  Argentina  11000000  \n",
            "366     52500  Argentina  10500000  \n",
            "367     52500  Argentina  10500000  \n",
            "368     52500  Argentina  10500000  \n",
            "419     57000  Argentina  11400000  \n",
            "467     59500  Argentina  11900000  \n",
            "470     53000  Argentina  10600000  \n",
            "497     55000  Argentina  11000000  \n",
            "675     59000  Argentina  11800000  \n",
            "682     50500  Argentina  10100000  \n",
            "737     59000  Argentina  11800000  \n",
            "748     59900  Argentina  11980000  \n",
            "749     59900  Argentina  11980000  \n",
            "795     55000  Argentina  11000000  \n",
            "801     56000  Argentina  11200000  \n",
            "805     58000  Argentina  11600000  \n",
            "817     59500  Argentina  11900000  \n",
            "995     52500  Argentina  10500000  \n",
            "1035    55000  Argentina  11000000  \n",
            "1080    50500  Argentina  10100000  \n",
            "1171    59000  Argentina  11800000  \n",
            "1208    55000  Argentina  11000000  \n",
            "1396    59500  Argentina  11900000  \n",
            "1554    57000  Argentina  11400000  \n",
            "1570    52000  Argentina  10400000  \n",
            "1572    52000  Argentina  10400000  \n",
            "1621    59900  Argentina  11980000  \n",
            "1701    59000  Argentina  11800000  \n",
            "1767    53000  Argentina  10600000  \n",
            "1872    51000  Argentina  10200000  \n",
            "2005    59600  Argentina  11920000  \n",
            "2096    55000  Argentina  11000000  \n",
            "2141    52000  Argentina  10400000  \n",
            "2148    57000  Argentina  11400000  \n",
            "2176    57000  Argentina  11400000  \n",
            "2198    57500  Argentina  11500000  \n"
          ]
        }
      ],
      "source": [
        "condicion = (departamentos['DOLARES'] > 50000) & (departamentos['DOLARES'] < 60000)\n",
        "dptos = departamentos[condicion]\n",
        "print(dptos)"
      ]
    },
    {
      "cell_type": "markdown",
      "id": "a0531a03",
      "metadata": {
        "id": "a0531a03"
      },
      "source": [
        "🐼 Obtener el departamento con menor precio que pertenezca a alguna de las siguientes comunas: \"COMUNA 03\", \"COMUNA 07\", \"COMUNA 15\""
      ]
    },
    {
      "cell_type": "code",
      "execution_count": null,
      "id": "425b84e6",
      "metadata": {
        "id": "425b84e6",
        "colab": {
          "base_uri": "https://localhost:8080/"
        },
        "outputId": "1994d72e-e2e4-443b-c94e-64b21055853e"
      },
      "outputs": [
        {
          "output_type": "stream",
          "name": "stdout",
          "text": [
            "El departamento más barato entre las comunas 3,7 y 15 vale 36000\n"
          ]
        }
      ],
      "source": [
        "depto = departamentos[departamentos['COMUNA'].isin([\"COMUNA 03\", \"COMUNA 07\", \"COMUNA 15\"])]\n",
        "print(\"El departamento más barato entre las comunas 3,7 y 15 vale\", depto.DOLARES.min())"
      ]
    },
    {
      "cell_type": "markdown",
      "id": "09bb6c00",
      "metadata": {
        "id": "09bb6c00"
      },
      "source": [
        "🐼 La verdadera potencia de pandas se demuestra cuando **encadenamos** operaciones"
      ]
    },
    {
      "cell_type": "markdown",
      "id": "abbff36d",
      "metadata": {
        "id": "abbff36d"
      },
      "source": [
        "🐼 Contar la cantidad de departamentos que hay en cada comuna."
      ]
    },
    {
      "cell_type": "code",
      "execution_count": null,
      "id": "c833645e",
      "metadata": {
        "scrolled": true,
        "id": "c833645e",
        "colab": {
          "base_uri": "https://localhost:8080/"
        },
        "outputId": "1b4e9426-80c0-4330-aacb-d11ba13ebc8b"
      },
      "outputs": [
        {
          "output_type": "execute_result",
          "data": {
            "text/plain": [
              "COMUNA\n",
              "COMUNA 14    375\n",
              "COMUNA 13    320\n",
              "COMUNA 02    305\n",
              "COMUNA 01    239\n",
              "COMUNA 05    191\n",
              "COMUNA 03    161\n",
              "COMUNA 06    138\n",
              "COMUNA 12    138\n",
              "COMUNA 15    126\n",
              "COMUNA 07     77\n",
              "COMUNA 11     61\n",
              "COMUNA 04     54\n",
              "COMUNA 10     31\n",
              "COMUNA 09     12\n",
              "COMUNA 08      4\n",
              "Name: count, dtype: int64"
            ]
          },
          "metadata": {},
          "execution_count": 46
        }
      ],
      "source": [
        "departamentos['COMUNA'].value_counts()"
      ]
    },
    {
      "cell_type": "markdown",
      "id": "a56056aa",
      "metadata": {
        "id": "a56056aa"
      },
      "source": [
        "🐼 Contar por ambientes los departamentos de la comuna 14"
      ]
    },
    {
      "cell_type": "code",
      "execution_count": null,
      "id": "6f54ce08",
      "metadata": {
        "id": "6f54ce08",
        "colab": {
          "base_uri": "https://localhost:8080/"
        },
        "outputId": "bb591c2f-150b-44f0-ab17-50348fe2c41f"
      },
      "outputs": [
        {
          "output_type": "stream",
          "name": "stdout",
          "text": [
            "AMBIENTES\n",
            "2            130\n",
            "3            106\n",
            "4             65\n",
            "5             38\n",
            "1             32\n",
            "6              4\n",
            "Name: count, dtype: int64\n"
          ]
        }
      ],
      "source": [
        "print(departamentos[departamentos['COMUNA'] == 'COMUNA 14'][['AMBIENTES']].value_counts())"
      ]
    },
    {
      "cell_type": "markdown",
      "id": "9081163b",
      "metadata": {
        "id": "9081163b"
      },
      "source": [
        "🐼Metodo para estadistica descriptiva\n",
        "\n",
        "- sum()\n",
        "- mean()\n",
        "- max()\n",
        "- min()"
      ]
    },
    {
      "cell_type": "code",
      "execution_count": 45,
      "id": "4e9ee8f3",
      "metadata": {
        "id": "4e9ee8f3",
        "colab": {
          "base_uri": "https://localhost:8080/"
        },
        "outputId": "b4d24a50-a586-4b65-d4ee-7b5b1aaea1ce"
      },
      "outputs": [
        {
          "output_type": "execute_result",
          "data": {
            "text/plain": [
              "206014.01209677418"
            ]
          },
          "metadata": {},
          "execution_count": 45
        }
      ],
      "source": [
        "departamentos.sum()\n",
        "\n",
        "departamentos['DOLARES'].mean()\n",
        "\n",
        "departamentos.max()\n",
        "\n",
        "departamentos.min()\n"
      ]
    },
    {
      "cell_type": "markdown",
      "id": "73d6690a",
      "metadata": {
        "id": "73d6690a"
      },
      "source": [
        "🐼 Un poco de visualización"
      ]
    },
    {
      "cell_type": "markdown",
      "id": "b7d05731",
      "metadata": {
        "id": "b7d05731"
      },
      "source": [
        "📈 Grafico de puntos: nos demuestra relaciones entre las variables"
      ]
    },
    {
      "cell_type": "code",
      "execution_count": 11,
      "id": "74e81205",
      "metadata": {
        "id": "74e81205",
        "colab": {
          "base_uri": "https://localhost:8080/",
          "height": 622
        },
        "outputId": "8ed3d206-9b8d-45ed-a321-0b2c08215f00"
      },
      "outputs": [
        {
          "output_type": "execute_result",
          "data": {
            "text/plain": [
              "<function matplotlib.pyplot.show(close=None, block=None)>"
            ],
            "text/html": [
              "<div style=\"max-width:800px; border: 1px solid var(--colab-border-color);\"><style>\n",
              "      pre.function-repr-contents {\n",
              "        overflow-x: auto;\n",
              "        padding: 8px 12px;\n",
              "        max-height: 500px;\n",
              "      }\n",
              "\n",
              "      pre.function-repr-contents.function-repr-contents-collapsed {\n",
              "        cursor: pointer;\n",
              "        max-height: 100px;\n",
              "      }\n",
              "    </style>\n",
              "    <pre style=\"white-space: initial; background:\n",
              "         var(--colab-secondary-surface-color); padding: 8px 12px;\n",
              "         border-bottom: 1px solid var(--colab-border-color);\"><b>matplotlib.pyplot.show</b><br/>def show(*args, **kwargs)</pre><pre class=\"function-repr-contents function-repr-contents-collapsed\" style=\"\"><a class=\"filepath\" style=\"display:none\" href=\"#\">/usr/local/lib/python3.10/dist-packages/matplotlib/pyplot.py</a>Display all open figures.\n",
              "\n",
              "Parameters\n",
              "----------\n",
              "block : bool, optional\n",
              "    Whether to wait for all figures to be closed before returning.\n",
              "\n",
              "    If `True` block and run the GUI main loop until all figure windows\n",
              "    are closed.\n",
              "\n",
              "    If `False` ensure that all figure windows are displayed and return\n",
              "    immediately.  In this case, you are responsible for ensuring\n",
              "    that the event loop is running to have responsive figures.\n",
              "\n",
              "    Defaults to True in non-interactive mode and to False in interactive\n",
              "    mode (see `.pyplot.isinteractive`).\n",
              "\n",
              "See Also\n",
              "--------\n",
              "ion : Enable interactive mode, which shows / updates the figure after\n",
              "      every plotting command, so that calling ``show()`` is not necessary.\n",
              "ioff : Disable interactive mode.\n",
              "savefig : Save the figure to an image file instead of showing it on screen.\n",
              "\n",
              "Notes\n",
              "-----\n",
              "**Saving figures to file and showing a window at the same time**\n",
              "\n",
              "If you want an image file as well as a user interface window, use\n",
              "`.pyplot.savefig` before `.pyplot.show`. At the end of (a blocking)\n",
              "``show()`` the figure is closed and thus unregistered from pyplot. Calling\n",
              "`.pyplot.savefig` afterwards would save a new and thus empty figure. This\n",
              "limitation of command order does not apply if the show is non-blocking or\n",
              "if you keep a reference to the figure and use `.Figure.savefig`.\n",
              "\n",
              "**Auto-show in jupyter notebooks**\n",
              "\n",
              "The jupyter backends (activated via ``%matplotlib inline``,\n",
              "``%matplotlib notebook``, or ``%matplotlib widget``), call ``show()`` at\n",
              "the end of every cell by default. Thus, you usually don&#x27;t have to call it\n",
              "explicitly there.</pre>\n",
              "      <script>\n",
              "      if (google.colab.kernel.accessAllowed && google.colab.files && google.colab.files.view) {\n",
              "        for (const element of document.querySelectorAll('.filepath')) {\n",
              "          element.style.display = 'block'\n",
              "          element.onclick = (event) => {\n",
              "            event.preventDefault();\n",
              "            event.stopPropagation();\n",
              "            google.colab.files.view(element.textContent, 401);\n",
              "          };\n",
              "        }\n",
              "      }\n",
              "      for (const element of document.querySelectorAll('.function-repr-contents')) {\n",
              "        element.onclick = (event) => {\n",
              "          event.preventDefault();\n",
              "          event.stopPropagation();\n",
              "          element.classList.toggle('function-repr-contents-collapsed');\n",
              "        };\n",
              "      }\n",
              "      </script>\n",
              "      </div>"
            ]
          },
          "metadata": {},
          "execution_count": 11
        },
        {
          "output_type": "display_data",
          "data": {
            "text/plain": [
              "<Figure size 640x480 with 1 Axes>"
            ],
            "image/png": "[encoded data removed]"
          },
          "metadata": {}
        }
      ],
      "source": [
        "import matplotlib.pyplot as plt\n",
        "plt.scatter(departamentos['COMUNA'],departamentos['DOLARES'])\n",
        "plt.title('Gráfico de puntos')\n",
        "\n",
        "plt.show"
      ]
    },
    {
      "cell_type": "markdown",
      "id": "fd432ece",
      "metadata": {
        "id": "fd432ece"
      },
      "source": [
        "📈 Grafico de distribución: En lugar de ver cómo se relaciona una variable con otra, a veces queremos ver cómo se organizan los puntos de datos en una dimensión particular."
      ]
    },
    {
      "cell_type": "code",
      "source": [
        "\n",
        "plt.hist(departamentos['COMUNA'], bins=10)\n",
        "plt.title('Histograma de la comuna')\n",
        "plt.show()\n"
      ],
      "metadata": {
        "colab": {
          "base_uri": "https://localhost:8080/",
          "height": 452
        },
        "id": "iBO8gicvaEjl",
        "outputId": "081be2b8-6f01-42c4-c37c-287d57c970cd"
      },
      "id": "iBO8gicvaEjl",
      "execution_count": 24,
      "outputs": [
        {
          "output_type": "display_data",
          "data": {
            "text/plain": [
              "<Figure size 640x480 with 1 Axes>"
            ],
            "image/png": "[encoded data removed]"
          },
          "metadata": {}
        }
      ]
    }
  ],
  "metadata": {
    "kernelspec": {
      "display_name": "Python 3 (ipykernel)",
      "language": "python",
      "name": "python3"
    },
    "language_info": {
      "codemirror_mode": {
        "name": "ipython",
        "version": 3
      },
      "file_extension": ".py",
      "mimetype": "text/x-python",
      "name": "python",
      "nbconvert_exporter": "python",
      "pygments_lexer": "ipython3",
      "version": "3.11.9"
    },
    "colab": {
      "provenance": [],
      "include_colab_link": true
    }
  },
  "nbformat": 4,
  "nbformat_minor": 5
}